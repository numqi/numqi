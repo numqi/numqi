{
 "cells": [
  {
   "cell_type": "markdown",
   "metadata": {},
   "source": [
    "# Optimal POVM\n",
    "\n",
    "<a target=\"_blank\" href=\"https://colab.research.google.com/github/numqi/numqi/blob/main/docs/application/tomography/optimal_povm.ipynb\">\n",
    "  <img src=\"https://colab.research.google.com/assets/colab-badge.svg\" alt=\"Open In Colab\"/>\n",
    "</a>\n",
    "\n",
    "Adapted from [QGopt/docs/optimal-povm](https://qgopt.readthedocs.io/en/latest/optimal_povm.html)"
   ]
  },
  {
   "cell_type": "code",
   "execution_count": null,
   "metadata": {},
   "outputs": [],
   "source": [
    "import numpy as np\n",
    "import torch\n",
    "\n",
    "try:\n",
    "    import numqi\n",
    "except ImportError:\n",
    "    %pip install numqi\n",
    "    import numqi\n"
   ]
  },
  {
   "cell_type": "code",
   "execution_count": null,
   "metadata": {},
   "outputs": [],
   "source": [
    "class OptimalPOVMModel(torch.nn.Module):\n",
    "    def __init__(self):\n",
    "        super().__init__()\n",
    "        self.manifold = numqi.manifold.QuantumChannel(dim_in=2, dim_out=2, choi_rank=4, dtype=torch.complex128, return_kind='kraus')\n",
    "        self.rho_list_T = []\n",
    "\n",
    "    def set_rho_list(self, rho_list):\n",
    "        assert (rho_list.ndim==3) and (rho_list.shape[1]==2) and (rho_list.shape[2]==2)\n",
    "        self.rho_list_T = torch.tensor(rho_list.transpose(0,2,1).reshape(-1,4), dtype=torch.complex128)\n",
    "\n",
    "    def get_povm(self, return_numpy=True):\n",
    "        tmp1 = self.manifold()\n",
    "        ret = torch.einsum(tmp1, [0,1,2], tmp1.conj(), [0,1,3], [0,2,3])\n",
    "        if return_numpy:\n",
    "            ret = ret.detach().numpy()\n",
    "        return ret\n",
    "\n",
    "    def forward(self):\n",
    "        povm = self.get_povm(return_numpy=False)\n",
    "        tmp0 = torch.linalg.inv(povm.reshape(4,4))\n",
    "        T = torch.stack([tmp0[0].real, tmp0[3].real, tmp0[2].real, tmp0[2].imag])\n",
    "        prob = torch.einsum(self.rho_list_T, [0,1], povm.reshape(4,4), [2,1], [0,2]).real\n",
    "        tmp0 = torch.einsum(prob, [0,1], prob, [0,2], [0,1,2])\n",
    "        tmp1 = (torch.diag_embed(prob, dim1=1, dim2=2) - tmp0).mean(axis=0)\n",
    "        covariance = torch.einsum(T, [0,1], tmp1, [1,2], T, [3,2], [0,3])\n",
    "        EVL = torch.linalg.eigvalsh(covariance)\n",
    "        loss = torch.log(EVL[1:]).sum()\n",
    "        return loss\n"
   ]
  },
  {
   "cell_type": "markdown",
   "metadata": {},
   "source": [
    "Generate random density matrix from Bloch sphere."
   ]
  },
  {
   "cell_type": "code",
   "execution_count": null,
   "metadata": {},
   "outputs": [],
   "source": [
    "num_sample = 10000\n",
    "tmp0 = numqi.random.rand_n_ball(3, size=num_sample).T.reshape(3,-1,1,1)/2\n",
    "rho_list = numqi.gate.I/2 + numqi.gate.X*tmp0[0] + numqi.gate.Y*tmp0[1] + numqi.gate.Z*tmp0[2]\n"
   ]
  },
  {
   "cell_type": "markdown",
   "metadata": {},
   "source": [
    "Build model for optimal POVM."
   ]
  },
  {
   "cell_type": "code",
   "execution_count": null,
   "metadata": {},
   "outputs": [],
   "source": [
    "model = OptimalPOVMModel()\n",
    "model.set_rho_list(rho_list)\n",
    "theta_optim = numqi.optimize.minimize(model, theta0='uniform', num_repeat=1, tol=1e-7)\n"
   ]
  },
  {
   "cell_type": "markdown",
   "metadata": {},
   "source": [
    "Theoretically, the optimal POVM gives\n",
    "\n",
    "$$ \\mathrm{Tr}[M_iM_j]=\\frac{2\\delta_{ij}+1}{12} $$"
   ]
  },
  {
   "cell_type": "code",
   "execution_count": null,
   "metadata": {},
   "outputs": [],
   "source": [
    "povm = model.get_povm()\n",
    "cross = np.einsum(povm, [0,1,2], povm, [3,2,1], [0,3], optimize=True).real\n",
    "print(f'Founded POVM: Tr[Mi Mj]=\\n{np.around(cross, 5)}\\n')\n",
    "\n",
    "cross_analytical = 1/12 + 1/6 * np.eye(4)\n",
    "print(f'Optimal POVM (theoretical): Tr[Mi Mj]=\\n{np.around(cross_analytical, 5)}')\n"
   ]
  }
 ],
 "metadata": {
  "kernelspec": {
   "display_name": "Python 3",
   "language": "python",
   "name": "python3"
  },
  "language_info": {
   "codemirror_mode": {
    "name": "ipython",
    "version": 3
   },
   "file_extension": ".py",
   "mimetype": "text/x-python",
   "name": "python",
   "nbconvert_exporter": "python",
   "pygments_lexer": "ipython3",
   "version": "3.11.4"
  }
 },
 "nbformat": 4,
 "nbformat_minor": 2
}
