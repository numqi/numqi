{
 "cells": [
  {
   "cell_type": "markdown",
   "metadata": {},
   "source": [
    "# advanced 00\n",
    "\n",
    "<a target=\"_blank\" href=\"https://colab.research.google.com/github/numqi/numqi/blob/main/docs/application/tomography/advanced00.ipynb\">\n",
    "  <img src=\"https://colab.research.google.com/assets/colab-badge.svg\" alt=\"Open In Colab\"/>\n",
    "</a>"
   ]
  },
  {
   "cell_type": "code",
   "execution_count": null,
   "metadata": {},
   "outputs": [],
   "source": [
    "import numpy as np\n",
    "import collections\n",
    "\n",
    "try:\n",
    "    import numqi\n",
    "except ImportError:\n",
    "    %pip install numqi\n",
    "    import numqi"
   ]
  },
  {
   "cell_type": "markdown",
   "metadata": {},
   "source": [
    "## Optimal Pauli UD\n",
    "\n",
    "In previous notebook, we shows how to certificate the unique determinedness of a Pauli measurement. In this notebook, we will show how to find the optimal Pauli UD.\n",
    "\n",
    "TODO explain hyperparameter"
   ]
  },
  {
   "cell_type": "code",
   "execution_count": null,
   "metadata": {},
   "outputs": [],
   "source": [
    "seed = 233 #seed=233 can find the optimal UD for 3-qubit (size=31), you can try other seed\n",
    "num_qubit = 3\n",
    "num_repeat = {2:10, 3:10, 4:80, 5:80}[num_qubit]\n",
    "num_init_sample = {2:0, 3:10, 4:80, 5:400}[num_qubit]\n",
    "matrix_subspace = numqi.gate.get_pauli_group(num_qubit, use_sparse=True)\n",
    "# index=0 is for the identity matrix\n",
    "kwargs = {'num_repeat':num_repeat,  'num_init_sample':num_init_sample, 'indexF':[0], 'tag_print':True, 'seed':seed}\n",
    "ud_pauli_index_list = numqi.unique_determine.find_optimal_UD('udp', num_round=2, mat_list=matrix_subspace, **kwargs)\n",
    "# ud_pauli_index_list = numqi.unique_determine.load_pauli_ud_example(num_qubit) #load the UD stored in numqi package\n",
    "print('founded UD optimal')\n",
    "for ind0,pauli_index in enumerate(ud_pauli_index_list):\n",
    "    pauli_str = ' '.join([numqi.gate.pauli_index_to_str(x, num_qubit) for x in pauli_index])\n",
    "    print(f'[round-{ind0}][size={len(pauli_index)}]', pauli_str)"
   ]
  },
  {
   "cell_type": "markdown",
   "metadata": {},
   "source": [
    "Numerically, we find that, for Pauli measurements, UDP implies UDA. As you can see above, we search for the optimal UDP Pauli measurements. Below, let's verify that the optimal UDP Pauli measurements are also UDA."
   ]
  },
  {
   "cell_type": "code",
   "execution_count": null,
   "metadata": {},
   "outputs": [],
   "source": [
    "mat_list = [numqi.unique_determine.get_matrix_list_indexing(matrix_subspace, x) for x in ud_pauli_index_list]\n",
    "is_uda_list = numqi.unique_determine.check_UD('uda', mat_list, num_repeat=num_repeat*5)\n",
    "for ind0, (pauli_index, (tag, loss)) in enumerate(zip(ud_pauli_index_list, is_uda_list)):\n",
    "    print(f'[round-{ind0}][size={len(pauli_index)}] UDA={tag}, loss={loss:.5f}')\n"
   ]
  },
  {
   "cell_type": "markdown",
   "metadata": {},
   "source": [
    "## Clifford equivalence\n",
    "\n",
    "Let $A$ be a UDA or UDP measurement scheme, then applying a unitary transform $A'=UAU^\\dagger$ remains a UDA or UDP measurement scheme.\n",
    "\n",
    "Clifford operators are unitary operators that map Pauli operators to Pauli operators. Therefore, we can apply a Clifford operator to a UD Pauli measurement to obtain another UD Pauli measurement."
   ]
  },
  {
   "cell_type": "code",
   "execution_count": null,
   "metadata": {},
   "outputs": [],
   "source": [
    "num_qubit = 2\n",
    "size = 11\n",
    "ud_pauli_index = numqi.unique_determine.load_pauli_ud_example(num_qubit, tag_group_by_size=True)[size][0]\n",
    "equivalent_list = numqi.gate.get_pauli_subset_equivalent(ud_pauli_index, num_qubit)\n",
    "\n",
    "ud_pauli_str = ' '.join(numqi.gate.pauli_index_to_str(np.array(ud_pauli_index), num_qubit))\n",
    "equivalent_str_list = [' '.join(numqi.gate.pauli_index_to_str(np.array(x), num_qubit)) for x in equivalent_list]\n",
    "print(f'UD: {ud_pauli_str}')\n",
    "for ind0, x in enumerate(equivalent_str_list):\n",
    "    print(f'equivalent-{ind0}: {x}')"
   ]
  },
  {
   "cell_type": "markdown",
   "metadata": {},
   "source": [
    "For 3-qubits optimal UD Pauli measurements with 31 operators, we can find `30240` Clifford equivalent schemes in about 4 minutes."
   ]
  },
  {
   "cell_type": "code",
   "execution_count": null,
   "metadata": {},
   "outputs": [],
   "source": [
    "## skip in generating documentation website\n",
    "\n",
    "# num_qubit = 3\n",
    "# size = 31\n",
    "# ud_pauli_index = numqi.unique_determine.load_pauli_ud_example(num_qubit, tag_group_by_size=True)[size][0]\n",
    "# equivalent_list = numqi.gate.get_pauli_subset_equivalent(ud_pauli_index, num_qubit, use_tqdm=True)\n",
    "# print('len(equivalent_list):', len(equivalent_list))"
   ]
  },
  {
   "cell_type": "markdown",
   "metadata": {},
   "source": [
    "We can also list all UD Pauli subsets and check their Clifford equivalence relation.\n",
    "\n",
    "This calculation should only be done for 2-qubits. 3-qubits is already too large."
   ]
  },
  {
   "cell_type": "code",
   "execution_count": null,
   "metadata": {},
   "outputs": [],
   "source": [
    "all_equivalent_set = numqi.gate.get_pauli_all_subset_equivalent(num_qubit=2)\n",
    "\n",
    "z0 = {'withI':dict(), 'noI':dict()}\n",
    "tmp0 = dict()\n",
    "for key,value in all_equivalent_set.items():\n",
    "    z0['withI'][key] = [x for x in value if (0 in sorted(x)[0])]\n",
    "for key,value in all_equivalent_set.items():\n",
    "    z0['noI'][key] = [x for x in value if (0 not in sorted(x)[0])]\n",
    "\n",
    "for key,value in z0.items():\n",
    "    print(key)\n",
    "    for subset_order,z0 in value.items():\n",
    "        tmp0 = collections.Counter([len(x) for x in z0])\n",
    "        tmp0 = sorted(tmp0.items(),key=lambda x:x[0])\n",
    "        tmp0 = '+'.join([f'{v}x{k}' for k,v in tmp0])\n",
    "        print(f'#[len={subset_order}]={len(z0)}, {tmp0}')\n",
    "    print()"
   ]
  },
  {
   "cell_type": "markdown",
   "metadata": {},
   "source": [
    "## UD in other Hermitian matrix subspace\n",
    "\n",
    "Our numerical algorithm can also find the optimal in any Hermitian matrix subspace. Usually, UDP is not equivalent to UDA in other Hermitian matrix subspace.\n",
    "\n",
    "For example, UD Gell-Mann measurements."
   ]
  },
  {
   "cell_type": "code",
   "execution_count": null,
   "metadata": {},
   "outputs": [],
   "source": [
    "num_qudit = 2\n",
    "dim_qudit = 3\n",
    "num_repeat = {(2,3):80, (1,3):10}[(num_qudit,dim_qudit)]\n",
    "num_init_sample = {(2,3):10, (1,3):0}[(num_qudit,dim_qudit)]\n",
    "\n",
    "gellmann_basis = numqi.gellmann.all_gellmann_matrix(num_qudit, tensor_n=dim_qudit, with_I=True)\n",
    "# last item is identity, so put it in indexF (fixed index)\n",
    "z0 = numqi.unique_determine.find_optimal_UD('udp', num_round=1, mat_list=gellmann_basis,\n",
    "            indexF=[len(gellmann_basis)-1], num_repeat=num_repeat, num_init_sample=num_init_sample, tag_print=True)\n",
    "# all_index = numqi.unique_determine.save_index_to_file('gellmann-UD.json', key=f'{num_qudit},{dim_qudit},udp', index=z0)\n",
    "matB_list = [gellmann_basis[x] for x in z0]\n",
    "numqi.unique_determine.check_UD('udp', matB_list, num_repeat, early_stop_threshold=1e-4, converge_tol=1e-7, dtype='float64', num_worker=19)\n"
   ]
  },
  {
   "cell_type": "markdown",
   "metadata": {},
   "source": [
    "For example, UD in qutrit projector"
   ]
  },
  {
   "cell_type": "code",
   "execution_count": null,
   "metadata": {},
   "outputs": [],
   "source": [
    "## 2 qutrit, projector\n",
    "matrix_subspace = numqi.unique_determine.get_qutrit_projector_basis(num_qutrit=2)\n",
    "z0 = numqi.unique_determine.find_optimal_UD('udp', num_round=1, mat_list=matrix_subspace, indexF=[0],\n",
    "        early_stop_threshold=0.001, num_repeat=80, num_init_sample=150, converge_tol=1e-6, tag_print=True)"
   ]
  }
 ],
 "metadata": {
  "kernelspec": {
   "display_name": "Python 3",
   "language": "python",
   "name": "python3"
  },
  "language_info": {
   "codemirror_mode": {
    "name": "ipython",
    "version": 3
   },
   "file_extension": ".py",
   "mimetype": "text/x-python",
   "name": "python",
   "nbconvert_exporter": "python",
   "pygments_lexer": "ipython3",
   "version": "3.11.4"
  }
 },
 "nbformat": 4,
 "nbformat_minor": 2
}
