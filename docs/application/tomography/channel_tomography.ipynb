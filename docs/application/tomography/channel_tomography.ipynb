{
 "cells": [
  {
   "cell_type": "markdown",
   "metadata": {},
   "source": [
    "## Quantum Channel Tomography\n",
    "\n",
    "<a target=\"_blank\" href=\"https://colab.research.google.com/github/numqi/numqi/blob/main/docs/application/tomography/channel_tomography.ipynb\">\n",
    "  <img src=\"https://colab.research.google.com/assets/colab-badge.svg\" alt=\"Open In Colab\"/>\n",
    "</a>\n",
    "\n",
    "Adapted from [QGopt/docs/channel-tomography](https://qgopt.readthedocs.io/en/latest/channel_tomography.html)"
   ]
  },
  {
   "cell_type": "code",
   "execution_count": null,
   "metadata": {},
   "outputs": [],
   "source": [
    "# https://qgopt.readthedocs.io/en/latest/channel_tomography.html\n",
    "import numpy as np\n",
    "import torch\n",
    "import scipy.optimize\n",
    "import matplotlib.pyplot as plt\n",
    "import opt_einsum\n",
    "\n",
    "try:\n",
    "    import numqi\n",
    "except ImportError:\n",
    "    %pip install numqi\n",
    "    import numqi\n",
    "\n",
    "np_rng = np.random.default_rng()\n",
    "\n",
    "hf_trace_distance = lambda x,y: np.abs(np.linalg.eigvalsh(x-y)).sum()\n",
    "# https://en.wikipedia.org/wiki/Trace_distance\n"
   ]
  },
  {
   "cell_type": "code",
   "execution_count": null,
   "metadata": {},
   "outputs": [],
   "source": [
    "num_qubit = 2\n",
    "dim_in = 2**num_qubit\n",
    "dim_out = 2**num_qubit\n",
    "choi_rank = 2\n",
    "\n",
    "target_choi = numqi.random.rand_choi_op(dim_in, dim_out, choi_rank)\n"
   ]
  },
  {
   "cell_type": "code",
   "execution_count": null,
   "metadata": {},
   "outputs": [],
   "source": [
    "num_measure = 600000\n",
    "tmp0 = np_rng.normal(size=(num_measure,dim_in*2)).astype(np.float64).view(np.complex128)\n",
    "pure_state_list = tmp0 / np.linalg.norm(tmp0, axis=1, keepdims=True)\n",
    "rho_in = np.einsum(pure_state_list, [0,1], pure_state_list.conj(), [0,2], [0,1,2], optimize=True)\n",
    "rho_out = np.einsum(target_choi.reshape(dim_in,dim_out,dim_in,dim_out), [0,1,2,3], rho_in, [4,0,2], [4,1,3], optimize=True)\n"
   ]
  },
  {
   "cell_type": "code",
   "execution_count": null,
   "metadata": {},
   "outputs": [],
   "source": [
    "povm = numqi.utils.get_tetrahedron_POVM(num_qubit)\n",
    "real_prob = np.einsum(povm, [0,1,2], rho_out, [3,2,1], [3,0], optimize=True).real\n",
    "# Gumbel trick\n",
    "tmp0 = -np.log(-np.log(np_rng.uniform(0, 1, size=real_prob.shape)))\n",
    "index_measure = np.argmax(tmp0 + np.log(real_prob), axis=-1)\n"
   ]
  },
  {
   "cell_type": "code",
   "execution_count": null,
   "metadata": {},
   "outputs": [],
   "source": [
    "class ChannelTomographyModel(torch.nn.Module):\n",
    "    def __init__(self, dim_in:int, dim_out:int, choi_rank:int):\n",
    "        super().__init__()\n",
    "        self.manifold = numqi.manifold.QuantumChannel(dim_in, dim_out, method='sqrtm')\n",
    "        self.rho_in = None\n",
    "        self.measure_result_T = None\n",
    "        self.channel_contract = None\n",
    "\n",
    "    def set_data(self, rho_in, measure_result):\n",
    "        dim_in = self.manifold.dim_in\n",
    "        assert (rho_in.ndim==3) and (rho_in.shape[1]==rho_in.shape[2]) and (rho_in.shape[1]==dim_in)\n",
    "        assert (measure_result.ndim==3) and (measure_result.shape[1]==measure_result.shape[2]) and (measure_result.shape[1]==dim_out)\n",
    "        assert rho_in.shape[0]==measure_result.shape[0]\n",
    "        N0 = rho_in.shape[0]\n",
    "        self.rho_in = torch.tensor(rho_in, dtype=torch.complex128)\n",
    "        self.measure_result_T = torch.tensor(measure_result.transpose(0,2,1).reshape(N0,-1), dtype=torch.complex128)\n",
    "        tmp0 = [self.manifold.choi_rank, self.manifold.dim_out, dim_in]\n",
    "        self.channel_contract = opt_einsum.contract_expression(tmp0, [0,1,2], tmp0, [0,3,4], [N0,dim_in,dim_in], [5,2,4], [5,1,3])\n",
    "\n",
    "    def forward(self):\n",
    "        # TODO time issue\n",
    "        kraus_op = self.manifold()\n",
    "        rho_out = self.channel_contract(kraus_op, kraus_op.conj(), self.rho_in)\n",
    "        probability = opt_einsum.contract(rho_out.reshape(rho_out.shape[0],-1), [0,1], self.measure_result_T, [0,1], [0]).real\n",
    "        loss = -torch.mean(torch.log(probability))\n",
    "        return loss\n",
    "\n",
    "    def get_choi_op(self):\n",
    "        with torch.no_grad():\n",
    "            kraus_op = self.manifold()\n",
    "            choi_op = numqi.channel.kraus_op_to_choi_op(kraus_op.numpy())\n",
    "        return choi_op\n"
   ]
  },
  {
   "cell_type": "code",
   "execution_count": null,
   "metadata": {},
   "outputs": [],
   "source": [
    "model = ChannelTomographyModel(dim_in, dim_out, choi_rank)\n",
    "model.set_data(rho_in, povm[index_measure])\n",
    "theta_optim = numqi.optimize.minimize(model, theta0='uniform', num_repeat=1, tol=1e-7, print_freq=1)\n",
    "# theta_optim = numqi.optimize.minimize_adam(model, num_step=100, theta0='uniform', optim_args=('adam',0.03,0.01), tqdm_update_freq=1)\n",
    "\n",
    "choi_restored = model.get_choi_op()\n",
    "# also known as J-distance https://doi.org/10.1103/PhysRevA.98.062336\n",
    "print('trace distance of Choi operator:', hf_trace_distance(target_choi, choi_restored))\n"
   ]
  },
  {
   "cell_type": "code",
   "execution_count": null,
   "metadata": {},
   "outputs": [],
   "source": [
    "def hf_callback_wrapper(hf_model, model, target_choi, info_dict):\n",
    "    info_dict['loss'] = []\n",
    "    info_dict['trace-distance'] = []\n",
    "    def hf0(theta):\n",
    "        loss = hf_model(theta, tag_grad=False) #set parameter at this step\n",
    "        print('[{}] loss={:.7f}'.format(len(info_dict['loss']), loss))\n",
    "        info_dict['loss'].append(loss)\n",
    "        choi_op = model.get_choi_op()\n",
    "        info_dict['trace-distance'].append(hf_trace_distance(target_choi, choi_op))\n",
    "    return hf0\n",
    "hf_model = numqi.optimize.hf_model_wrapper(model)\n",
    "info_dict = dict()\n",
    "hf_callback = hf_callback_wrapper(hf_model, model, target_choi, info_dict)\n",
    "theta0 = np_rng.uniform(-0.1, 0.1, size=numqi.optimize.get_model_flat_parameter(model).size)\n",
    "theta_optim = scipy.optimize.minimize(hf_model, theta0, jac=True, method='L-BFGS-B', tol=1e-7, callback=hf_callback)\n"
   ]
  },
  {
   "cell_type": "code",
   "execution_count": null,
   "metadata": {},
   "outputs": [],
   "source": [
    "fig,(ax0,ax1) = plt.subplots(1, 2, figsize=(8,4))\n",
    "ax0.plot(info_dict['loss'])\n",
    "ax0.set_xlabel('step')\n",
    "ax0.set_ylabel('loss')\n",
    "ax1.plot(info_dict['trace-distance'])\n",
    "ax1.set_xlabel('step')\n",
    "ax1.set_ylabel(r'$|| C_{\\mathrm{true}}-C_{\\mathrm{restore}} ||_{tr}$')\n",
    "ax1.set_yscale('log')\n",
    "fig.tight_layout()\n"
   ]
  }
 ],
 "metadata": {
  "kernelspec": {
   "display_name": "Python 3",
   "language": "python",
   "name": "python3"
  },
  "language_info": {
   "codemirror_mode": {
    "name": "ipython",
    "version": 3
   },
   "file_extension": ".py",
   "mimetype": "text/x-python",
   "name": "python",
   "nbconvert_exporter": "python",
   "pygments_lexer": "ipython3",
   "version": "3.11.4"
  }
 },
 "nbformat": 4,
 "nbformat_minor": 2
}
