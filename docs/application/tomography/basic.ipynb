{
 "cells": [
  {
   "cell_type": "markdown",
   "metadata": {},
   "source": [
    "# basic\n",
    "\n",
    "<a target=\"_blank\" href=\"https://colab.research.google.com/github/numqi/numqi/blob/main/docs/application/tomography/basic.ipynb\">\n",
    "  <img src=\"https://colab.research.google.com/assets/colab-badge.svg\" alt=\"Open In Colab\"/>\n",
    "</a>\n",
    "\n",
    "references:\n",
    "\n",
    "1. [doi-link](https://doi.org/10.1103/PhysRevA.93.032140) Pure-state tomography with the expectation value of Pauli operators\n",
    "2. [arxiv-link](https://arxiv.org/abs/2305.10811) A Variational Approach to Unique Determinedness in Pure-state Tomography\n",
    "\n",
    "Measurement scheme $A$ for quantum state tomography is a collection of Hermitian operators\n",
    "\n",
    "$$A=\\{A_0=I,A_1,\\cdots, A_{n-1}\\}\\subset\\mathrm{Herm}^d$$\n",
    "\n",
    "where $\\mathrm{Herm}^d$ denotes the set of d-by-d Hermitian operators. We fix the first measurement operator $A_0=I$ to be the identity operator. The measurement vector for a density matrix $\\rho$ is given by trace operation\n",
    "\n",
    "$$M_A(\\rho)=\\left(\\mathrm{Tr}(A_0\\rho)=1, \\mathrm{Tr}(A_1\\rho),\\cdots,\\mathrm{Tr}(A_{n-1}\\rho)\\right)\\in\\mathbb{R}^n.$$\n",
    "\n",
    "Two kinds of unique determinedness (UD) are considered in this tutorial:\n",
    "\n",
    "**UDA**: A measurement scheme $A$ is said to be UDA if, for any pure state $|\\psi\\rangle$, the measurement vector $M_A(|\\psi\\rangle\\langle\\psi|)$ uniquely determines the state $|\\psi\\rangle$ among *all density matrices*.\n",
    "\n",
    "**UDP**: A measurement scheme $A$ is said to be UDA if, for any pure state $|\\psi\\rangle$, the measurement vector $M_A(|\\psi\\rangle\\langle\\psi|)$ uniquely determines the state $|\\psi\\rangle$ among *all pure states*.\n",
    "\n",
    "Apparently, \n",
    "\n",
    "1. if measurement scheme $A$ is UDA, then it's UDP. \n",
    "2. if measurement scheme $A$ is UD, then appending any Hermitian operator to $A$, e.g. $A\\cup \\{O\\}$ , will still be UD.\n",
    "3. Pauli measurement $A=\\{X,Y,Z\\}$ is UDA for qubit state tomography.\n",
    "\n",
    "In this tutorial, we will show how to check UDA and UDP for a given measurement scheme $A$."
   ]
  },
  {
   "cell_type": "code",
   "execution_count": null,
   "metadata": {},
   "outputs": [],
   "source": [
    "import numpy as np\n",
    "\n",
    "try:\n",
    "    import numqi\n",
    "except ImportError:\n",
    "    %pip install numqi\n",
    "    import numqi"
   ]
  },
  {
   "cell_type": "markdown",
   "metadata": {},
   "source": [
    "## 2-qubits UD with Pauli measurements\n",
    "\n",
    "For 2-qubits, the following measurement scheme is UDA:\n",
    "\n",
    "$$ A=\\{II, IX, IY, IZ, XI, YX, YY, YZ, ZX, ZY, ZZ\\}. $$\n",
    "\n",
    "We can generate some random pure states and check if the measurement vector $M_A(|\\psi\\rangle\\langle\\psi|)$ uniquely determines the state $|\\psi\\rangle$ among all density matrices."
   ]
  },
  {
   "cell_type": "code",
   "execution_count": null,
   "metadata": {},
   "outputs": [],
   "source": [
    "pauli_str = 'II IX IY IZ XI YX YY YZ ZX ZY ZZ'.split(' ')\n",
    "pauli_matrix = np.stack([numqi.gate.PauliOperator.from_str(x).full_matrix for x in pauli_str])\n",
    "\n",
    "random_psi = numqi.random.rand_haar_state(dim=4)\n",
    "measurement_vector = ((pauli_matrix @ random_psi) @ random_psi.conj()).real"
   ]
  },
  {
   "cell_type": "markdown",
   "metadata": {},
   "source": [
    "to recover the state from the measurement vector $b=M_A(|\\psi\\rangle\\langle\\psi|)$, we can use the following optimization problem:\n",
    "\n",
    "$$\\begin{align*}\\min_{\\rho}&\\left\\Vert M_{A}(\\rho)-b\\right\\Vert _{2}^{2}\\\\s.t.&\\begin{cases}\n",
    "\\rho\\succeq0\\\\\n",
    "\\mathrm{Tr}(\\rho)=1\n",
    "\\end{cases}\\end{align*}$$\n",
    "\n",
    "The above cone optimization problem can be solved by `cvxpy` package."
   ]
  },
  {
   "cell_type": "code",
   "execution_count": null,
   "metadata": {},
   "outputs": [],
   "source": [
    "dm_restore,error = numqi.unique_determine.density_matrix_recovery_SDP(pauli_matrix, measurement_vector)\n",
    "EVL,EVC = np.linalg.eigh(dm_restore)\n",
    "psi_restore = EVC[:,-1]\n",
    "fidelity = np.abs(np.vdot(psi_restore,random_psi))**2\n",
    "\n",
    "print('recovery error:', error)\n",
    "print('eigenvalue:', EVL) #should be [0,0,0,1], which means it's a pure state\n",
    "print('Fidelity:', fidelity)"
   ]
  },
  {
   "cell_type": "markdown",
   "metadata": {},
   "source": [
    "As we can see, the restored state is pure and close to the original state. As UDA implies UDP, we can also recover the state pretending it's a UDP measurement scheme by solving the following optimization problem.\n",
    "\n",
    "$$\\begin{align*}\\min_{|\\phi\\rangle}&\\left\\Vert M_{A}(|\\phi\\rangle\\langle\\phi|)-b\\right\\Vert _{2}^{2}\\\\s.t.&\\left\\Vert |\\phi\\rangle\\right\\Vert _{2}=1\\end{align*}$$\n",
    "\n",
    "As it's not convex optimization, we use gradient descent from `scipy.optimize.minimize` with `'L-BFGS-B'` optimizer."
   ]
  },
  {
   "cell_type": "code",
   "execution_count": null,
   "metadata": {},
   "outputs": [],
   "source": [
    "model = numqi.unique_determine.FindStateWithOpModel(pauli_matrix, use_dm=False)\n",
    "model.set_expectation(measurement_vector)\n",
    "theta_optim = numqi.optimize.minimize(model, num_repeat=3, tol=1e-10)\n",
    "psi_restore = model.state.numpy().copy()\n",
    "fidelity = np.abs(np.vdot(psi_restore,random_psi))**2\n",
    "\n",
    "print('error:', theta_optim.fun)\n",
    "print('Fidelity:', fidelity)"
   ]
  },
  {
   "cell_type": "markdown",
   "metadata": {},
   "source": [
    "As we can see, the restored state has almost perfect fidelity with the original state.\n",
    "\n",
    "Usually, the number of operators needed for full tomography is more than UDA, and more than UDP. UD measurement scheme with less operators is more efficient for state tomography."
   ]
  },
  {
   "cell_type": "markdown",
   "metadata": {},
   "source": [
    "## n-qubits UD with Pauli measurements\n",
    "\n",
    "The optimal number of UD with Pauli measurements for 3-qubits is 31. `numqi` package stores some UD schemes for `2/3/4/5`-qubits."
   ]
  },
  {
   "cell_type": "code",
   "execution_count": null,
   "metadata": {},
   "outputs": [],
   "source": [
    "num_qubit = 3\n",
    "size_to_pauli_index = numqi.unique_determine.load_pauli_ud_example(num_qubit, tag_group_by_size=True)\n",
    "size_list = list(size_to_pauli_index.keys())\n",
    "print('size:', size_list)\n",
    "\n",
    "pauli_str = ' '.join([numqi.gate.pauli_index_to_str(x, num_qubit) for x in size_to_pauli_index[size_list[0]][0]])\n",
    "print(f'[size={size_list[0]}]:', pauli_str)"
   ]
  },
  {
   "cell_type": "markdown",
   "metadata": {},
   "source": [
    "## Check UDA and UDP\n",
    "\n",
    "(TODO)\n",
    "\n",
    "eigenvalue structures for UDA: 1 negative eigenvalue, `d-1` positive eigenvalues\n",
    "\n",
    "eigenvalue structures for UDP: 1 negative eigenvalue, `d-1` positive eigenvalues\n",
    "\n",
    "Example: for optimal UDA measurements scheme, removing any operator will make it not UDA."
   ]
  },
  {
   "cell_type": "code",
   "execution_count": null,
   "metadata": {},
   "outputs": [],
   "source": [
    "num_qubit = 2\n",
    "pauli_index = numqi.unique_determine.load_pauli_ud_example(num_qubit, tag_group_by_size=True)[11][0]\n",
    "UDA_matrix = np.stack([numqi.gate.PauliOperator.from_index(x, num_qubit).full_matrix for x in pauli_index])\n",
    "\n",
    "np_rng = np.random.default_rng()\n",
    "tmp0 = set(pauli_index)-{pauli_index[np_rng.integers(len(pauli_index))]}\n",
    "non_UDA_matrix = np.stack([numqi.gate.PauliOperator.from_index(x, num_qubit).full_matrix for x in tmp0])\n",
    "\n",
    "kwargs = dict(num_repeat=10, converge_tol=1e-10, early_stop_threshold=0.01, dtype='float64')\n",
    "tag_is_uda0,loss0 = numqi.unique_determine.check_UD('uda', UDA_matrix, **kwargs)\n",
    "tag_is_uda1,loss1 = numqi.unique_determine.check_UD('uda', non_UDA_matrix, **kwargs)\n",
    "\n",
    "print('optimal UDA Pauli:                   ', tag_is_uda0, loss0)\n",
    "print('optimal UDA Pauli drops one operator:', tag_is_uda1, loss1)"
   ]
  },
  {
   "cell_type": "markdown",
   "metadata": {},
   "source": [
    "Example: 4PBs scheme is UDP, but 3PBs scheme is not UDP."
   ]
  },
  {
   "cell_type": "code",
   "execution_count": null,
   "metadata": {},
   "outputs": [],
   "source": [
    "dim = 4\n",
    "alpha = np.pi/dim\n",
    "\n",
    "mat_3pb = numqi.unique_determine.get_chebshev_orthonormal(dim, alpha, with_computational_basis=False)[:(-dim)]\n",
    "mat_4pb = numqi.unique_determine.get_chebshev_orthonormal(dim, alpha, with_computational_basis=False)\n",
    "\n",
    "kwargs = dict(num_repeat=5, early_stop_threshold=1e-10, converge_tol=1e-12, dtype='float64')\n",
    "tag_is_udp0,loss0 = numqi.unique_determine.check_UD('udp', mat_3pb, **kwargs)\n",
    "tag_is_udp1,loss1 = numqi.unique_determine.check_UD('udp', mat_4pb, **kwargs)\n",
    "\n",
    "print('3PB:', tag_is_udp0, loss0)\n",
    "print('4PB:', tag_is_udp1, loss1)"
   ]
  }
 ],
 "metadata": {
  "kernelspec": {
   "display_name": "Python 3",
   "language": "python",
   "name": "python3"
  },
  "language_info": {
   "codemirror_mode": {
    "name": "ipython",
    "version": 3
   },
   "file_extension": ".py",
   "mimetype": "text/x-python",
   "name": "python",
   "nbconvert_exporter": "python",
   "pygments_lexer": "ipython3",
   "version": "3.11.4"
  }
 },
 "nbformat": 4,
 "nbformat_minor": 2
}
