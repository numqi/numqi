{
 "cells": [
  {
   "cell_type": "markdown",
   "metadata": {},
   "source": [
    "# Quantum State Tomography\n",
    "\n",
    "<a target=\"_blank\" href=\"https://colab.research.google.com/github/numqi/numqi/blob/main/docs/application/tomography/state_tomography.ipynb\">\n",
    "  <img src=\"https://colab.research.google.com/assets/colab-badge.svg\" alt=\"Open In Colab\"/>\n",
    "</a>\n",
    "\n",
    "Adapted from [QGopt/docs/state-tomography](https://qgopt.readthedocs.io/en/latest/state_tomography.html)"
   ]
  },
  {
   "cell_type": "code",
   "execution_count": null,
   "metadata": {},
   "outputs": [],
   "source": [
    "import numpy as np\n",
    "import collections\n",
    "import torch\n",
    "import scipy.optimize\n",
    "import matplotlib.pyplot as plt\n",
    "\n",
    "try:\n",
    "    import numqi\n",
    "except ImportError:\n",
    "    %pip install numqi\n",
    "    import numqi\n",
    "\n",
    "np_rng = np.random.default_rng()\n",
    "\n",
    "hf_trace_distance = lambda x,y: np.abs(np.linalg.eigvalsh(x-y)).sum()\n",
    "# https://en.wikipedia.org/wiki/Trace_distance\n"
   ]
  },
  {
   "cell_type": "markdown",
   "metadata": {},
   "source": [
    "see [wiki-link](https://en.wikipedia.org/wiki/SIC-POVM) for tetrahedron POVM"
   ]
  },
  {
   "cell_type": "code",
   "execution_count": null,
   "metadata": {},
   "outputs": [],
   "source": [
    "num_qubit = 2\n",
    "povm_list = numqi.utils.get_tetrahedron_POVM(num_qubit)\n",
    "\n",
    "target_rho = numqi.random.rand_density_matrix(2**num_qubit)\n",
    "\n",
    "real_prob = np.trace(povm_list @ target_rho, axis1=1, axis2=2).real\n",
    "print(f'real probability:\\n{np.around(real_prob,3).tolist()}')\n"
   ]
  },
  {
   "cell_type": "code",
   "execution_count": null,
   "metadata": {},
   "outputs": [],
   "source": [
    "# Gumbel trick in the original tutorial is interesting, but it's not used here for simplicity\n",
    "# https://qgopt.readthedocs.io/en/latest/state_tomography.html\n",
    "num_measurement = 600000\n",
    "index_measure = np_rng.choice(len(real_prob), size=num_measurement, p=real_prob)\n",
    "tmp0 = collections.Counter(index_measure.tolist())\n",
    "measure_prob = np.array([tmp0[i] for i in range(len(real_prob))])/num_measurement\n",
    "print(f'measured probability:\\n{np.around(measure_prob,3).tolist()}')\n"
   ]
  },
  {
   "cell_type": "code",
   "execution_count": null,
   "metadata": {},
   "outputs": [],
   "source": [
    "class StateTomographyModel(torch.nn.Module):\n",
    "    def __init__(self, povm_list):\n",
    "        super().__init__()\n",
    "        assert (povm_list.ndim==3) and (povm_list.shape[1]==povm_list.shape[2])\n",
    "        dim = povm_list.shape[1]\n",
    "        assert np.abs(povm_list.sum(axis=0) - np.eye(dim)).max() < 1e-10\n",
    "        assert np.linalg.eigvalsh(povm_list)[:,0].min() > -1e-10\n",
    "        self.manifold = numqi.manifold.Trace1PSD(dim, dim, dtype=torch.complex128)\n",
    "        self.povm_T = torch.tensor(povm_list.transpose(0,2,1).reshape(-1,dim*dim).copy(), dtype=torch.complex128)\n",
    "        self.target_prob = None\n",
    "\n",
    "    def set_probability(self, np0):\n",
    "        assert np0.shape==(self.povm_T.shape[0],)\n",
    "        assert (np0.min() >= 0) and (abs(np0.sum()-1) < 1e-10)\n",
    "        self.target_prob = torch.tensor(np0, dtype=torch.float64)\n",
    "\n",
    "    def get_rho_and_probability(self, return_numpy=True):\n",
    "        rho = self.manifold()\n",
    "        prob = (self.povm_T @ rho.reshape(-1)).real\n",
    "        ret = rho,prob\n",
    "        if return_numpy:\n",
    "            ret = ret[0].detach().numpy(), ret[1].detach().numpy()\n",
    "        return ret\n",
    "\n",
    "    def forward(self):\n",
    "        _, prob = self.get_rho_and_probability(return_numpy=False)\n",
    "        # loss = torch.sum((prob - self.target_prob)**2)\n",
    "        loss = -torch.dot(self.target_prob, torch.log(prob)) # K-L divergence\n",
    "        return loss\n"
   ]
  },
  {
   "cell_type": "code",
   "execution_count": null,
   "metadata": {},
   "outputs": [],
   "source": [
    "model = StateTomographyModel(povm_list)\n",
    "model.set_probability(measure_prob)\n",
    "theta_optim = numqi.optimize.minimize(model, theta0='uniform', num_repeat=1, tol=1e-7, print_freq=10)\n",
    "rho_restore, prob_restore = model.get_rho_and_probability()\n",
    "print('trace distance:', hf_trace_distance(rho_restore, target_rho))\n"
   ]
  },
  {
   "cell_type": "markdown",
   "metadata": {},
   "source": [
    "In case one want to check the information at each training step, the following code retrieves the loss value and trace distance at each step."
   ]
  },
  {
   "cell_type": "code",
   "execution_count": null,
   "metadata": {},
   "outputs": [],
   "source": [
    "def hf_callback_wrapper(hf_model, model, target_rho, info_dict):\n",
    "    info_dict['loss'] = []\n",
    "    info_dict['trace-distance'] = []\n",
    "    def hf0(theta):\n",
    "        info_dict['loss'].append(hf_model(theta, tag_grad=False)) #set parameter at this step\n",
    "        rho,_ = model.get_rho_and_probability()\n",
    "        info_dict['trace-distance'].append(hf_trace_distance(target_rho, rho))\n",
    "    return hf0\n",
    "\n",
    "hf_model = numqi.optimize.hf_model_wrapper(model)\n",
    "info_dict = dict()\n",
    "hf_callback = hf_callback_wrapper(hf_model, model, target_rho, info_dict)\n",
    "num_parameter = len(numqi.optimize.get_model_flat_parameter(model))\n",
    "theta0 = np_rng.uniform(-0.1, 0.1, size=num_parameter)\n",
    "theta_optim = scipy.optimize.minimize(hf_model, theta0, jac=True, method='L-BFGS-B', tol=1e-7, callback=hf_callback)\n"
   ]
  },
  {
   "cell_type": "code",
   "execution_count": null,
   "metadata": {},
   "outputs": [],
   "source": [
    "fig,(ax0,ax1) = plt.subplots(1, 2, figsize=(8,4))\n",
    "ax0.plot(info_dict['loss'])\n",
    "ax0.set_xlabel('step')\n",
    "ax0.set_ylabel('loss')\n",
    "ax1.plot(info_dict['trace-distance'])\n",
    "ax1.set_xlabel('step')\n",
    "ax1.set_ylabel('trace-distance')\n",
    "fig.tight_layout()\n"
   ]
  }
 ],
 "metadata": {
  "kernelspec": {
   "display_name": "Python 3",
   "language": "python",
   "name": "python3"
  },
  "language_info": {
   "codemirror_mode": {
    "name": "ipython",
    "version": 3
   },
   "file_extension": ".py",
   "mimetype": "text/x-python",
   "name": "python",
   "nbconvert_exporter": "python",
   "pygments_lexer": "ipython3",
   "version": "3.11.4"
  }
 },
 "nbformat": 4,
 "nbformat_minor": 2
}
