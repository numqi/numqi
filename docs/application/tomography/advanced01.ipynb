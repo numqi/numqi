{
 "cells": [
  {
   "cell_type": "markdown",
   "metadata": {},
   "source": [
    "# advanced 01\n",
    "\n",
    "<a target=\"_blank\" href=\"https://colab.research.google.com/github/numqi/numqi/blob/main/docs/application/tomography/advanced01.ipynb\">\n",
    "  <img src=\"https://colab.research.google.com/assets/colab-badge.svg\" alt=\"Open In Colab\"/>\n",
    "</a>\n",
    "\n",
    "Stability coefficient"
   ]
  },
  {
   "cell_type": "code",
   "execution_count": null,
   "metadata": {},
   "outputs": [],
   "source": [
    "import numpy as np\n",
    "import matplotlib.pyplot as plt\n",
    "from tqdm.auto import tqdm\n",
    "\n",
    "try:\n",
    "    import numqi\n",
    "except ImportError:\n",
    "    %pip install numqi\n",
    "    import numqi\n",
    "\n",
    "np_rng = np.random.default_rng()\n",
    "cp_tableau = ['#006BA4', '#FF800E', '#ABABAB', '#595959', '#5F9ED1', '#C85200', '#898989', '#A2C8EC', '#FFBC79', '#CFCFCF']"
   ]
  },
  {
   "cell_type": "markdown",
   "metadata": {},
   "source": [
    "## 3PB, 4PB, 5PB"
   ]
  },
  {
   "cell_type": "code",
   "execution_count": null,
   "metadata": {},
   "outputs": [],
   "source": [
    "dim_list = list(range(3, 9))\n",
    "kwargs = dict(num_repeat=5, early_stop_threshold=1e-10, converge_tol=1e-12, dtype='float64')\n",
    "# ~3 min (num_repeat=5)\n",
    "\n",
    "udp_3pb_loss_list = []\n",
    "uda_4pb_loss_list = []\n",
    "uda_5pb_loss_list = []\n",
    "udp_4pb_loss_list = []\n",
    "udp_5pb_loss_list = []\n",
    "for dim in dim_list:\n",
    "    print(f'd={dim}')\n",
    "    alpha = np.pi/dim\n",
    "\n",
    "    matB = numqi.unique_determine.get_chebshev_orthonormal(dim, alpha, with_computational_basis=False)[:(-dim)]\n",
    "    # matB = numqi.matrix_space.get_matrix_orthogonal_basis(matB, field='real')[0]\n",
    "    udp_3pb_loss_list.append(numqi.unique_determine.check_UD('udp', matB, **kwargs)[1])\n",
    "\n",
    "    matB = numqi.unique_determine.get_chebshev_orthonormal(dim, alpha, with_computational_basis=False)\n",
    "    udp_4pb_loss_list.append(numqi.unique_determine.check_UD('udp', matB, **kwargs)[1])\n",
    "    uda_4pb_loss_list.append(numqi.unique_determine.check_UD('uda', matB, **kwargs)[1])\n",
    "\n",
    "    matB = numqi.unique_determine.get_chebshev_orthonormal(dim, alpha, with_computational_basis=True)\n",
    "    udp_5pb_loss_list.append(numqi.unique_determine.check_UD('udp', matB, **kwargs)[1])\n",
    "    uda_5pb_loss_list.append(numqi.unique_determine.check_UD('uda', matB, **kwargs)[1])\n"
   ]
  },
  {
   "cell_type": "code",
   "execution_count": null,
   "metadata": {},
   "outputs": [],
   "source": [
    "fig,(ax0,ax1) = plt.subplots(1,2,figsize=(8,4))\n",
    "ax0.plot(dim_list, udp_4pb_loss_list, label='4PBs', marker='.')\n",
    "ax0.plot(dim_list, udp_3pb_loss_list, label='3PBs', marker='x')\n",
    "ax1.plot(dim_list, uda_5pb_loss_list, label='5PBs', marker='.')\n",
    "ax1.plot(dim_list, uda_4pb_loss_list, label='4PBs', marker='x')\n",
    "for ax in [ax0,ax1]:\n",
    "    ax.set_xlabel('qudit $d$')\n",
    "    ax.legend()\n",
    "    ax.set_yscale('log')\n",
    "    ax.grid()\n",
    "    ax.set_ylim(3e-14, 0.4)\n",
    "ax0.set_ylabel(r'UDP loss')\n",
    "ax1.set_ylabel(r'UDA loss')\n",
    "ax1.yaxis.tick_right()\n",
    "ax1.yaxis.set_label_position('right')\n",
    "fig.tight_layout()\n"
   ]
  },
  {
   "cell_type": "markdown",
   "metadata": {},
   "source": [
    "## Stability of 5PB (UDA)"
   ]
  },
  {
   "cell_type": "code",
   "execution_count": null,
   "metadata": {},
   "outputs": [],
   "source": [
    "# about 3 mins\n",
    "# to save time, we choose a relative small value for 'num_repeat' and 'num_random'\n",
    "dim_qudit = 6\n",
    "num_random = 50\n",
    "cvxpy_eps = 1e-6\n",
    "noise_rate_list = np.logspace(-6, -3, 10)\n",
    "\n",
    "matrix_subspace = numqi.unique_determine.get_chebshev_orthonormal(dim_qudit, alpha=np.pi/dim_qudit, with_computational_basis=True)\n",
    "tag_ud,loss,model = numqi.unique_determine.check_UD('uda', matrix_subspace, num_repeat=5,\n",
    "        converge_tol=1e-10, early_stop_threshold=1e-10, dtype='float64', tag_print=2, return_model=True)\n",
    "matH = model.matH.numpy().copy()\n",
    "EVL,EVC = np.linalg.eigh(matH)\n",
    "state_list = [EVC[:,0]] + [numqi.random.rand_haar_state(dim_qudit) for _ in range(2)]\n",
    "\n",
    "data = []\n",
    "for ind0,state_i in enumerate(state_list):\n",
    "    measure_no_noise = ((matrix_subspace @ state_i) @ state_i.conj()).real\n",
    "    for noise_rate in tqdm(noise_rate_list, desc=f'state-{ind0}'):\n",
    "        for _ in range(num_random):\n",
    "            tmp0 = np_rng.normal(size=len(matrix_subspace))\n",
    "            noise = tmp0 * (noise_rate/np.linalg.norm(tmp0))\n",
    "            tmp1,eps = numqi.unique_determine.density_matrix_recovery_SDP(matrix_subspace, measure_no_noise + noise, converge_eps=cvxpy_eps)\n",
    "            tmp2 = np.linalg.norm(tmp1 - state_i[:,np.newaxis]*state_i.conj(), ord='fro') #frob norm\n",
    "            data.append((np.linalg.norm(noise), eps, tmp2))\n",
    "data = np.array(data).reshape(-1, len(noise_rate_list), num_random, 3).transpose(0,3,1,2)\n"
   ]
  },
  {
   "cell_type": "code",
   "execution_count": null,
   "metadata": {},
   "outputs": [],
   "source": [
    "fig,(ax0,ax1) = plt.subplots(1, 2, figsize=(8,4))\n",
    "for ind0 in range(data.shape[0]):\n",
    "    tmp0= noise_rate_list\n",
    "    tmp1 = data[ind0,1]\n",
    "    ax0.fill_between(tmp0, tmp1.min(axis=1), tmp1.max(axis=1), alpha=0.2, color=cp_tableau[ind0])\n",
    "    tmp2 = r'$\\psi_-$' if ind0==0 else r'random $\\sigma_'+f'{ind0}$'\n",
    "    ax0.plot(tmp0, tmp1.mean(axis=1), color=cp_tableau[ind0], label=tmp2)\n",
    "\n",
    "    tmp1 = data[ind0,2] / (data[ind0,0] + data[ind0,1])\n",
    "    ax1.fill_between(tmp0, tmp1.min(axis=1), tmp1.max(axis=1), alpha=0.2, color=cp_tableau[ind0])\n",
    "    ax1.plot(tmp0, tmp1.mean(axis=1), color=cp_tableau[ind0])\n",
    "ax0.set_ylabel(r'$\\epsilon$')\n",
    "ax1.set_ylabel(r'$\\frac{||Y-\\sigma||_F}{\\epsilon+||f||_2}$')\n",
    "ax1.axhline(1/np.sqrt(loss), color='r', linestyle='--', label=r'$1/\\sqrt{\\mathcal{L}}$')\n",
    "fig.suptitle(f'5PB(d={dim_qudit})')\n",
    "ax0.legend()\n",
    "for ax in [ax0,ax1]:\n",
    "    ax.set_xlabel(r'$||f||_2$')\n",
    "    ax.set_xscale('log')\n",
    "    ax.set_yscale('log')\n",
    "ax1.yaxis.tick_right()\n",
    "ax1.yaxis.set_label_position('right')\n",
    "fig.tight_layout()"
   ]
  },
  {
   "cell_type": "markdown",
   "metadata": {},
   "source": [
    "## Stability of Pauli UD Schemes"
   ]
  },
  {
   "cell_type": "code",
   "execution_count": null,
   "metadata": {},
   "outputs": [],
   "source": [
    "# about 3 mins\n",
    "num_qubit = 3\n",
    "num_random = 50\n",
    "cvxpy_eps = 1e-6\n",
    "noise_rate_list = np.logspace(-6, -3, 6)\n",
    "\n",
    "pauli_index = numqi.unique_determine.load_pauli_ud_example(num_qubit)[0] #sorted by length\n",
    "pauli_group = numqi.gate.get_pauli_group(num_qubit, use_sparse=True)\n",
    "matrix_subspace = numqi.unique_determine.get_matrix_list_indexing(pauli_group, pauli_index)\n",
    "tag_ud,loss,model = numqi.unique_determine.check_UD('uda', matrix_subspace, num_repeat=5,\n",
    "        converge_tol=1e-10, early_stop_threshold=1e-10, dtype='float64', tag_print=2, return_model=True)\n",
    "matH = model.matH.numpy().copy()\n",
    "EVL,EVC = np.linalg.eigh(matH)\n",
    "state_list = [EVC[:,0]] + [numqi.random.rand_haar_state(2**num_qubit) for _ in range(2)]\n",
    "\n",
    "matrix_subspace_full = np.stack([x.toarray() for x in matrix_subspace])\n",
    "data = []\n",
    "for ind0,state_i in enumerate(state_list):\n",
    "    measure_no_noise = ((matrix_subspace_full @ state_i) @ state_i.conj()).real\n",
    "    for noise_rate in tqdm(noise_rate_list, desc=f'state-{ind0}'):\n",
    "        for _ in range(num_random):\n",
    "            tmp0 = np_rng.normal(size=len(matrix_subspace_full))\n",
    "            noise = tmp0 * (noise_rate/np.linalg.norm(tmp0))\n",
    "            tmp1,eps = numqi.unique_determine.density_matrix_recovery_SDP(matrix_subspace_full, measure_no_noise + noise, converge_eps=cvxpy_eps)\n",
    "            tmp2 = np.linalg.norm(tmp1 - state_i[:,np.newaxis]*state_i.conj(), ord='fro') #frob norm\n",
    "            data.append((np.linalg.norm(noise), eps, tmp2))\n",
    "data = np.array(data).reshape(-1, len(noise_rate_list), num_random, 3).transpose(0,3,1,2)\n"
   ]
  },
  {
   "cell_type": "code",
   "execution_count": null,
   "metadata": {},
   "outputs": [],
   "source": [
    "fig,(ax0,ax1) = plt.subplots(1, 2, figsize=(8,4))\n",
    "for ind0 in range(data.shape[0]):\n",
    "    tmp0= noise_rate_list\n",
    "    tmp1 = data[ind0,1]\n",
    "    ax0.fill_between(tmp0, tmp1.min(axis=1), tmp1.max(axis=1), alpha=0.2, color=cp_tableau[ind0])\n",
    "    tmp2 = r'$\\psi_-$' if ind0==0 else r'random $\\sigma_'+f'{ind0}$'\n",
    "    ax0.plot(tmp0, tmp1.mean(axis=1), color=cp_tableau[ind0], label=tmp2)\n",
    "\n",
    "    tmp1 = data[ind0,2] / (data[ind0,0] + data[ind0,1])\n",
    "    ax1.fill_between(tmp0, tmp1.min(axis=1), tmp1.max(axis=1), alpha=0.2, color=cp_tableau[ind0])\n",
    "    ax1.plot(tmp0, tmp1.mean(axis=1), color=cp_tableau[ind0])\n",
    "ax0.set_ylabel(r'$\\epsilon$')\n",
    "ax1.set_ylabel(r'$\\frac{||Y-\\sigma||_F}{\\epsilon+||f||_2}$')\n",
    "ax1.axhline(1/np.sqrt(loss), color='r', linestyle='--', label=r'$1/\\sqrt{\\mathcal{L}}$')\n",
    "fig.suptitle(f'Pauli UD(n={num_qubit})')\n",
    "ax0.legend()\n",
    "for ax in [ax0,ax1]:\n",
    "    ax.set_xlabel(r'$||f||_2$')\n",
    "    ax.set_xscale('log')\n",
    "    ax.set_yscale('log')\n",
    "ax1.yaxis.tick_right()\n",
    "ax1.yaxis.set_label_position('right')\n",
    "fig.tight_layout()"
   ]
  }
 ],
 "metadata": {
  "kernelspec": {
   "display_name": "Python 3",
   "language": "python",
   "name": "python3"
  },
  "language_info": {
   "codemirror_mode": {
    "name": "ipython",
    "version": 3
   },
   "file_extension": ".py",
   "mimetype": "text/x-python",
   "name": "python",
   "nbconvert_exporter": "python",
   "pygments_lexer": "ipython3",
   "version": "3.11.4"
  }
 },
 "nbformat": 4,
 "nbformat_minor": 2
}
