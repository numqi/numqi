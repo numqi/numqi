{
 "cells": [
  {
   "cell_type": "markdown",
   "metadata": {},
   "source": [
    "# Linear entropy of entanglement\n",
    "\n",
    "<a target=\"_blank\" href=\"https://colab.research.google.com/github/numqi/numqi/blob/main/docs/application/entangle/linear_entropy_entanglement.ipynb\">\n",
    "  <img src=\"https://colab.research.google.com/assets/colab-badge.svg\" alt=\"Open In Colab\"/>\n",
    "</a>\n"
   ]
  },
  {
   "cell_type": "code",
   "execution_count": null,
   "metadata": {},
   "outputs": [],
   "source": [
    "import numpy as np\n",
    "from tqdm.notebook import tqdm\n",
    "import matplotlib.pyplot as plt\n",
    "\n",
    "try:\n",
    "    import numqi\n",
    "except ImportError:\n",
    "    %pip install numqi\n",
    "    import numqi"
   ]
  },
  {
   "cell_type": "markdown",
   "metadata": {},
   "source": [
    "For pure state $|\\psi\\rangle$\n",
    "\n",
    "$$ S_{l}(\\rho)=1-\\mathrm{Tr}[\\rho^{2}] $$\n",
    "\n",
    "$$ E_{l}\\left(|\\psi\\rangle\\right)=S_{l}\\left(\\mathrm{Tr}_{B}\\left[|\\psi\\rangle\\langle\\psi|\\right]\\right) $$\n",
    "\n",
    "For mixed state $\\rho$ (convex roof extension)\n",
    "\n",
    "$$ \\begin{align*}\n",
    "    E_{l}(\\rho)&=\\min_{\\left\\{ p_{i},|\\psi_{i}\\rangle\\right\\} }\\sum_{i}p_{i}S_{l}\\left(|\\psi_{i}\\rangle\\right)\\\\\n",
    "    &=1-\\max_{\\left\\{ |\\tilde{\\psi}_{i}\\rangle\\right\\} }\\sum_{i}\\frac{\\mathrm{Tr}\\left[\\tilde{\\psi}_{i}\\tilde{\\psi}_{i}^{\\dagger}\\tilde{\\psi}_{i}\\tilde{\\psi}_{i}^{\\dagger}\\right]}{\\mathrm{Tr}\\left[\\tilde{\\psi}_{i}\\tilde{\\psi}_{i}^{\\dagger}\\right]}\n",
    "\\end{align*} $$\n",
    "\n",
    "Below, LEE is calculated for some two-qubit states via semi-definite programming (SDP) method [doi-link](http://dx.doi.org/10.1103/PhysRevLett.114.160501)."
   ]
  },
  {
   "cell_type": "code",
   "execution_count": null,
   "metadata": {},
   "outputs": [],
   "source": [
    "rhoA = numqi.random.rand_density_matrix(2)\n",
    "rhoB = numqi.random.rand_density_matrix(2)\n",
    "rho = np.kron(rhoA, rhoB)\n",
    "print('LEE for a random product state:', numqi.entangle.get_linear_entropy_entanglement_ppt(rho, (2,2)))\n",
    "\n",
    "rho = numqi.random.rand_separable_dm(2, 2)\n",
    "print('LEE for a random separable state:', numqi.entangle.get_linear_entropy_entanglement_ppt(rho, (2,2)))\n",
    "\n",
    "rho = numqi.random.rand_density_matrix(4)\n",
    "print('LEE for a random density matrix:', numqi.entangle.get_linear_entropy_entanglement_ppt(rho, (2,2)))\n",
    "\n",
    "psi = numqi.state.maximally_entangled_state(2)\n",
    "rho = psi.reshape(-1,1) * psi.conj()\n",
    "print('LEE for a maximally entangled state:', numqi.entangle.get_linear_entropy_entanglement_ppt(rho, (2,2)))"
   ]
  },
  {
   "cell_type": "markdown",
   "metadata": {},
   "source": [
    "## Werner states\n",
    "\n",
    "Below, gradient-based optimization is used to find the LEE of Werner states."
   ]
  },
  {
   "cell_type": "code",
   "execution_count": null,
   "metadata": {},
   "outputs": [],
   "source": [
    "alpha_list = np.linspace(0, 1, 100)\n",
    "dim = 3\n",
    "\n",
    "model = numqi.entangle.DensityMatrixLinearEntropyModel([dim,dim], num_ensemble=27, kind='convex')\n",
    "ret0 = []\n",
    "for alpha_i in tqdm(alpha_list):\n",
    "    model.set_density_matrix(numqi.state.Werner(dim, alpha=alpha_i))\n",
    "    ret0.append(numqi.optimize.minimize(model, num_repeat=3, tol=1e-10, print_every_round=0).fun)\n",
    "ret0 = np.array(ret0)\n",
    "\n",
    "model = numqi.entangle.DensityMatrixLinearEntropyModel([dim,dim], num_ensemble=27, kind='concave')\n",
    "ret1 = []\n",
    "for alpha_i in tqdm(alpha_list):\n",
    "    model.set_density_matrix(numqi.state.Werner(dim, alpha=alpha_i))\n",
    "    ret1.append(-numqi.optimize.minimize(model, num_repeat=3, tol=1e-10, print_every_round=0).fun)\n",
    "ret1 = np.array(ret1)\n"
   ]
  },
  {
   "cell_type": "code",
   "execution_count": null,
   "metadata": {},
   "outputs": [],
   "source": [
    "fig,ax = plt.subplots()\n",
    "ax.axvline(1/dim, color='r')\n",
    "ax.plot(alpha_list, ret0, label='convex (LEE)')\n",
    "ax.plot(alpha_list, ret1, label='concave')\n",
    "ax.legend()\n",
    "# ax.set_yscale('log')\n",
    "ax.set_xlabel('alpha')\n",
    "ax.set_ylabel('linear entropy')\n",
    "ax.set_title(f'Werner({dim})')\n",
    "fig.tight_layout()\n"
   ]
  },
  {
   "cell_type": "markdown",
   "metadata": {},
   "source": [
    "## Horodecki states"
   ]
  },
  {
   "cell_type": "code",
   "execution_count": null,
   "metadata": {},
   "outputs": [],
   "source": [
    "rho = numqi.state.get_bes3x3_Horodecki1997(0.23)\n",
    "plist = np.linspace(0.92, 1, 30)\n",
    "plist_ppt = plist[::3] #to save time\n",
    "\n",
    "# about 3 minutes\n",
    "tmp0 = np.stack([numqi.utils.hf_interpolate_dm(rho,alpha=p) for p in plist_ppt])\n",
    "ret_ppt = numqi.entangle.get_linear_entropy_entanglement_ppt(tmp0, (3,3), use_tqdm=True)\n",
    "\n",
    "# about 1 minute\n",
    "ret_gd = []\n",
    "model = numqi.entangle.DensityMatrixLinearEntropyModel([3,3], num_ensemble=27, kind='convex')\n",
    "for p in tqdm(plist):\n",
    "    model.set_density_matrix(numqi.utils.hf_interpolate_dm(rho, alpha=p))\n",
    "    ret_gd.append(numqi.optimize.minimize(model, num_repeat=3, tol=1e-10, print_every_round=0).fun)\n",
    "ret_gd = np.array(ret_gd)\n"
   ]
  },
  {
   "cell_type": "code",
   "execution_count": null,
   "metadata": {},
   "outputs": [],
   "source": [
    "fig,ax = plt.subplots()\n",
    "ax.plot(plist_ppt, ret_ppt, 'x', label='PPT')\n",
    "ax.plot(plist, ret_gd, label='gradient descent')\n",
    "ax.legend()\n",
    "ax.set_xlabel('p')\n",
    "ax.set_ylabel('linear entropy')\n",
    "ax.set_yscale('log')\n",
    "ax.set_title('Horodecki1997-2qutrit(0.23)')\n",
    "fig.tight_layout()"
   ]
  }
 ],
 "metadata": {
  "kernelspec": {
   "display_name": "Python 3",
   "language": "python",
   "name": "python3"
  },
  "language_info": {
   "codemirror_mode": {
    "name": "ipython",
    "version": 3
   },
   "file_extension": ".py",
   "mimetype": "text/x-python",
   "name": "python",
   "nbconvert_exporter": "python",
   "pygments_lexer": "ipython3",
   "version": "3.12.3"
  }
 },
 "nbformat": 4,
 "nbformat_minor": 2
}
