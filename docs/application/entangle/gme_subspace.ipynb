{
 "cells": [
  {
   "cell_type": "markdown",
   "metadata": {},
   "source": [
    "# Geometric measure of subspace entanglement\n",
    "\n",
    "<a target=\"_blank\" href=\"https://colab.research.google.com/github/numqi/numqi/blob/main/docs/application/entangle/gme_subspace.ipynb\">\n",
    "  <img src=\"https://colab.research.google.com/assets/colab-badge.svg\" alt=\"Open In Colab\"/>\n",
    "</a>\n",
    "\n",
    "In the previous tutorial ([doc-link](../measure)), we introduce the concept of *geometric measure of entanglement* $E_G$. In this tutorial, we will introduce how to use `numqi` to calculate the geometric measure of *subspace entanglement*. For more details, please check [arxiv-link](https://arxiv.org/abs/2311.10353)."
   ]
  },
  {
   "cell_type": "code",
   "execution_count": null,
   "metadata": {},
   "outputs": [],
   "source": [
    "import numpy as np\n",
    "\n",
    "try:\n",
    "    import numqi\n",
    "except ImportError:\n",
    "    %pip install numqi\n",
    "    import numqi"
   ]
  },
  {
   "cell_type": "markdown",
   "metadata": {},
   "source": [
    "Recall that the geometric measure of $r$-bounded rank is defined as\n",
    "\n",
    "$$\n",
    "E_r(\\vert \\psi \\rangle)=1-\\max_{\\vert\\varphi\\rangle \\in \\sigma_{r-1}}\\vert \\langle \\varphi \\vert \\psi \\rangle\\vert^2,\n",
    "$$\n",
    "\n",
    "where $\\sigma_{r-1}$ is the set of all pure states with rank at most $r-1$. Here, rank means the *Schmidt rank* in the bipartite case, while in the multipartite case, it means the *tensor rank*. This measure $E_r$ is a generalization of the original one \"geometric measure of entanglement\" and can be used to quantify different levels of entanglement.\n",
    "\n",
    "We can go further to define this kind of geometric measure to *quantum subspace* $\\mathcal{S}$. In this case, the geometric measure of subspace entanglement is defined as\n",
    "\n",
    "$$\n",
    "E_r(\\mathcal{S})=\\min_{\\vert \\psi \\rangle \\in \\mathcal{S}}E_r(\\vert \\psi \\rangle).\n",
    "$$\n",
    "\n",
    "This measure not only gives a lower bound of the geometric measure for *mixed states* but also offer a useful approach to investigate the *minimal rank* of a quantum subspace: if $E_r(\\mathcal{S})>0$ and $E_{r+1}(\\mathcal{S})=0$, then the minimal rank of $\\mathcal{S}$ is $r$. (the definition of minimal rank is given in the previous tutorial [doc-link](../bipartite), [doc-link](../multipartite))."
   ]
  },
  {
   "cell_type": "markdown",
   "metadata": {},
   "source": [
    "## Method\n",
    "\n",
    "Firstly, we need to modify the definition for further calculation\n",
    "\n",
    "$$\n",
    "\\begin{aligned}\n",
    " E_r(\\mathcal{S}) &= \\min _{|\\psi\\rangle \\in \\mathcal{S}} E_r(|\\psi\\rangle) \\\\\n",
    "& =\\min _{|\\psi\\rangle \\in \\mathcal{S}}(1-\\max _{\\vert \\varphi \\rangle \\in \\sigma_{r-1}}|\\langle\\varphi \\vert \\psi\\rangle|^2) \\\\\n",
    "& =1-\\max _{\\vert \\varphi \\rangle \\in \\sigma_{r-1}} \\max _{|\\psi\\rangle \\in \\mathcal{S}}|\\langle\\varphi \\vert \\psi\\rangle|^2\\\\\n",
    "& =1-\\max _{\\vert \\varphi \\rangle \\in \\sigma_{r-1}}\\left\\langle\\varphi\\left|\\mathcal{P}_{\\mathcal{S}}\\right| \\varphi\\right\\rangle \\\\\n",
    "& =\\min _{\\vert \\varphi \\rangle  \\in \\sigma_{r-1}}\\left\\langle\\varphi\\left|\\mathcal{P}_{\\mathcal{S}}^{\\perp}\\right| \\varphi\\right\\rangle,\n",
    "\\end{aligned}\n",
    "$$\n",
    "where $\\mathcal{P}_{\\mathcal{S}}$ projects onto $\\mathcal{S}$ and $\\mathcal{P}_{\\mathcal{S}}^{\\perp}$ onto the orthogonal complementary space $\\mathcal{S}^{\\perp}$. The most crucial step is the transition from the third line to the fourth line follows from the fact that for a given $\\vert \\varphi \\rangle$, the vector from $\\mathcal{S}$ maximizing the quantity will be the projection of $\\vert \\varphi \\rangle$ onto $\\mathcal{S}$.\n",
    "\n",
    "Owing to the challenges in characterizing $\\sigma_r$ (states with at most tensor rank $r$) and the non-convex nature of optimization, previous work sidestepped a direct computation of $E_r$. Instead, it focused on exploring the lower bound of $E_r$ through mathematical derivation, or by relaxing it in a manner that allows for solution via the semi-definite programming (SDP) method, such as the PPT relaxation:\n",
    "\n",
    "$$\n",
    "\\begin{aligned}\n",
    " E_G(\\mathcal{S})=E_2(\\mathcal{S})&=\\min _{|\\psi_{\\text{prod}}\\rangle}\\left\\langle\\psi_{\\text{prod}}\\left|\\mathcal{P}_{\\mathcal{S}}^{\\perp}\\right| \\psi_{\\text{prod}}\\right\\rangle \\\\\n",
    "&=\\min _{\\left|\\psi_{\\text {prod}}\\right\\rangle} \\operatorname{tr}\\left[\\mathcal{P}_{\\mathcal{S}}^{\\perp}\\left|\\psi_{\\text {prod}}\\right\\rangle\\left\\langle\\psi_{\\text {prod}}\\right|\\right] \\\\\n",
    "& \\geqslant \\min _{\\substack{\\rho \\geqslant 0 \\\\\n",
    "\\forall_i \\rho^{T_i} \\geqslant 0}} \\operatorname{tr}\\left[\\mathcal{P}_{\\mathcal{S}}^{\\perp} \\rho\\right], \n",
    "\\end{aligned}\n",
    "$$\n",
    "where $|\\psi_{\\text{prod}}\\rangle$ denotes the \\textit{fully} product state in $\\sigma_1$ and $\\rho^{T_i}$ denotes the partial transpose of $\\rho$ with respect to the $i$-th local Hilbert space $\\mathcal{H}_i$."
   ]
  },
  {
   "cell_type": "markdown",
   "metadata": {},
   "source": [
    "### Parametrization and optimization\n",
    "\n",
    "We propose a parametrization strategy to directly characterize the set $\\sigma_r$. With the help of parametrization, we can calculate the geometric measure $E_r$ by solving an unconstrained optimization problem. In order to achieve that, we need to find a function $f$ mapping free Euclidean space to the $\\sigma_r$.\n",
    "\n",
    "The states in $\\sigma_r$ have the following form:\n",
    "\n",
    "$$\n",
    "\\vert \\psi \\rangle = \\sum_{i=1}^r \\lambda_i \\vert \\phi_i^{(1)}\\rangle \\otimes \\vert \\phi_i^{(2)}\\rangle \\otimes \\cdots \\otimes \\vert \\phi_i^{(n)}\\rangle,\n",
    "$$"
   ]
  },
  {
   "cell_type": "markdown",
   "metadata": {},
   "source": [
    "where the coefficients $\\lambda_i$ are positive and $\\vert \\phi_i^{(k)}\\rangle$ is the state in $k$-th local Hilbert space $\\mathcal{H}_k$ with dimension $d_k$."
   ]
  },
  {
   "cell_type": "markdown",
   "metadata": {},
   "source": [
    "The positive coefficients $\\lambda_i$ can be made via a SoftPlus mapping\n",
    "\n",
    "$$\n",
    "\\lambda=\\log\\left(1+e^{\\theta}\\right).\n",
    "$$\n",
    "\n",
    "As for $\\vert \\phi_i^{(k)}\\rangle$, we can obtain them by the following quotient mapping\n",
    "\n",
    "$$\n",
    "|\\phi_{i}^{(k)}\\rangle=\\frac{\\alpha_i^{(k)}+\\mathrm{i}\\beta_{i}^{(k)}}{\\left\\Vert \\alpha_i^{(k)}+\\mathrm{i}\\beta_{i}^{(k)}\\right\\Vert _{2}},\n",
    "$$\n",
    "where $\\alpha_i^{(k)},\\beta_i^{(k)}$ are the $k$-th components in $\\alpha_i$, $\\beta_i$, which are $d_k$-dimensional real vectors.\n"
   ]
  },
  {
   "cell_type": "markdown",
   "metadata": {},
   "source": [
    "## Example"
   ]
  },
  {
   "cell_type": "markdown",
   "metadata": {},
   "source": [
    "### Subspace with analytically known $E_G$"
   ]
  },
  {
   "cell_type": "markdown",
   "metadata": {},
   "source": [
    "The subspace $\\mathcal{S}_{2\\times d}^{\\theta} \\subset \\mathcal{H}_A \\otimes \\mathcal{H}_B$ with $d_A=2$ and $d_B=d$, is given by the span of the following vectors\n",
    "\n",
    "$$\n",
    "\\left|\\psi_i\\right\\rangle_{A B}=a|0\\rangle_A\\left|i\\right\\rangle_B+b|1\\rangle_A\\left|i+1\\right\\rangle_B,\n",
    "$$\n",
    "where $i=0,1,\\cdots,d-2$, with $a=\\cos(\\theta/2)$ and $b=\\exp(i\\xi)\\sin(\\theta/2)$, $\\theta \\in (0,\\pi)$, $\\xi \\in [0,2\\pi)$.\n",
    "\n",
    "Clearly, the dimension of $\\mathcal{S}_{2\\times d}^{\\theta}$ is $d-1$, which is also the maximal available dimension of an entangled subspace in this scenario. Furthermore, it has been proved that\n",
    "\n",
    "$$\n",
    "E_{2}\\left(\\mathcal{S}_{2 \\times d}^\\theta\\right)=\\frac{1}{2}\\left[1-\\sqrt{1-\\sin ^2 \\theta \\sin ^2\\left(\\frac{\\pi}{d}\\right)}\\right].\n",
    "$$"
   ]
  },
  {
   "cell_type": "code",
   "execution_count": null,
   "metadata": {},
   "outputs": [],
   "source": [
    "dimB = 3\n",
    "theta = np.pi/3\n",
    "matrix_subspace = numqi.matrix_space.get_GES_Maciej2019(dimB, theta=theta)\n",
    "# analytical solution\n",
    "ret_analytical = numqi.matrix_space.get_GM_Maciej2019(dimB, theta)\n",
    "# PPT aproximation\n",
    "ret_ppt = numqi.matrix_space.get_generalized_geometric_measure_ppt(matrix_subspace, [2,dimB])\n",
    "# gradient descent\n",
    "gd_kwargs = dict(theta0='uniform', num_repeat=3, tol=1e-12, print_every_round=0)\n",
    "model = numqi.matrix_space.DetectCanonicalPolyadicRankModel((2,dimB), rank=1)\n",
    "model.set_target(matrix_subspace)\n",
    "ret_gd = numqi.optimize.minimize(model, **gd_kwargs).fun\n",
    "\n",
    "print('Analytical solution:', ret_analytical)\n",
    "print('PPT approximation:', ret_ppt)\n",
    "print('Gradient descent:', ret_gd)\n"
   ]
  },
  {
   "cell_type": "markdown",
   "metadata": {},
   "source": [
    "In the above example, we can see both gradient descent strategy and PPT approximation give the accurate result, consistent with the analytical solution."
   ]
  },
  {
   "cell_type": "markdown",
   "metadata": {},
   "source": [
    "### Bound entanglement\n",
    "\n",
    "One famous approach to construct bound entangled states is using the unextendible product basis (UPB), as follows\n",
    "\n",
    "$$\n",
    "\\rho = \\frac{1}{d_Ad_B-d_{\\mathcal{S}}}\\mathcal{P}_{\\mathcal{S}}^{\\bot},\n",
    "$$\n",
    "where $d_A, d_B$ are the local dimensions for bipartite states, $\\mathcal{S}$ represents the subspace spanned by the given UPB and $d_{\\mathcal{S}}$ is the dimension of that subspace. For example, we can consider the 5-state \"Tiles\" UPB \\cite{divincenzo2003unextendible} (here we omit normalization for brevity),\n",
    "\n",
    "$$\n",
    "\\begin{aligned}\n",
    "\\mathcal{S}_{\\text {tiles }}= & \\operatorname{span}\\{|0\\rangle \\otimes(|0\\rangle-|1\\rangle),|2\\rangle \\otimes(|1\\rangle-|2\\rangle),\\\\ &(|0\\rangle-|1\\rangle)\n",
    " \\otimes|2\\rangle,(|1\\rangle-|2\\rangle) \\otimes|0\\rangle,(|0\\rangle+|1\\rangle+|2\\rangle) \\\\\n",
    "& \\otimes(|0\\rangle+|1\\rangle+|2\\rangle)\\} \\subset \\mathcal{H}_A \\otimes \\mathcal{H}_B .\n",
    "\\end{aligned}\n",
    "$$\n",
    "As we have mentioned before, the geometric measure of the support space can give a lower bound for the geometric measure of the state, i.e., $E_r(\\rho) \\geq E_r(\\text{supp}(\\rho))$. For the state $\\rho_{\\text{tiles}}$ constructed by the \"Tiles\" UPB, we can estimate $E_2(\\text{supp}(\\rho_{\\text{tiles}}))$ by the PPT relaxation and gradient descent and compare the difference between them."
   ]
  },
  {
   "cell_type": "code",
   "execution_count": null,
   "metadata": {},
   "outputs": [],
   "source": [
    "dimA = 3\n",
    "dimB = 3\n",
    "rho_bes = numqi.entangle.load_upb('tiles', return_bes=True)[1]\n",
    "EVL,EVC = np.linalg.eigh(rho_bes)\n",
    "matrix_subspace = (EVC[:, EVL>1e-4]).reshape(dimA,dimB,-1).transpose(2,0,1)\n",
    "\n",
    "model = numqi.matrix_space.DetectCanonicalPolyadicRankModel((dimA, dimB), rank=1)\n",
    "model.set_target(matrix_subspace)\n",
    "kwargs = dict(theta0='uniform', num_repeat=3, tol=1e-12, print_every_round=0)\n",
    "theta_optim = numqi.optimize.minimize(model,**kwargs)\n",
    "\n",
    "print(f'lower bound given by gradient descent = {theta_optim.fun}')\n",
    "print(f'lower bound given by PPT = {numqi.matrix_space.get_geometric_measure_ppt(matrix_subspace, [dimA, dimB])}')\n"
   ]
  },
  {
   "cell_type": "markdown",
   "metadata": {},
   "source": [
    "We can see that $E_2(\\text{supp}(\\rho_{\\text{tiles}}))$ calculated by the PPT relaxation is around $10^{-12}$ close to $0$ while the gradient descent gives around $0.0284$. That means PPT cannot detect the entanglement in this case while the gradient descent does."
   ]
  },
  {
   "cell_type": "markdown",
   "metadata": {},
   "source": [
    "### Higher entangled state\n",
    "\n",
    "Let $d_A=d_B=4$ and consider the following mixed state from\n",
    "\n",
    "$$\n",
    "\\rho=\\frac{1}{3} \\sum_{i=1}^3\\left|\\psi_i\\right\\rangle\\left\\langle \\psi_i\\right| \\in \\mathcal{H}_A \\otimes \\mathcal{H}_B,\n",
    "$$\n",
    "where (we omit normalization for brevity)\n",
    "$$\n",
    "\\begin{aligned}\n",
    "& \\left|\\psi_1\\right\\rangle=|0\\rangle \\otimes|0\\rangle+|1\\rangle \\otimes|1\\rangle+|2\\rangle \\otimes|2\\rangle+|3\\rangle \\otimes|3\\rangle, \\\\\n",
    "& \\left|\\psi_2\\right\\rangle=|0\\rangle \\otimes|1\\rangle+|1\\rangle \\otimes|2\\rangle+|2\\rangle \\otimes|3\\rangle+|3\\rangle \\otimes|0\\rangle, \\\\\n",
    "& \\left|\\psi_3\\right\\rangle=|0\\rangle \\otimes|2\\rangle+|1\\rangle \\otimes|3\\rangle+|2\\rangle \\otimes|0\\rangle-|3\\rangle \\otimes|1\\rangle .\n",
    "\\end{aligned}\n",
    "$$\n",
    "\n",
    "Similarly, let us calculate the lower bound of $E_2(\\rho)$ by PPT relaxation and gradient descent. "
   ]
  },
  {
   "cell_type": "code",
   "execution_count": null,
   "metadata": {},
   "outputs": [],
   "source": [
    "dimA = 4\n",
    "dimB = 4\n",
    "tmp0 = [\n",
    "    [(0,0,1), (1,1,1), (2,2,1), (3,3,1)],\n",
    "    [(0,1,1), (1,2,1), (2,3,1), (3,0,1)],\n",
    "    [(0,2,1), (1,3,1), (2,0,1), (3,1,-1)],\n",
    "]\n",
    "matrix_subspace = np.stack([numqi.matrix_space.build_matrix_with_index_value(dimA, dimB, x) for x in tmp0])\n",
    "\n",
    "print(f'lower bound given by PPT = {numqi.matrix_space.get_geometric_measure_ppt(matrix_subspace, [dimA, dimB])}')\n",
    "\n",
    "model = numqi.matrix_space.DetectCanonicalPolyadicRankModel((dimA, dimB), rank=1)\n",
    "model.set_target(matrix_subspace)\n",
    "kwargs = dict(theta0='uniform', num_repeat=3, tol=1e-12, print_every_round=0)\n",
    "theta_optim = numqi.optimize.minimize(model,**kwargs)\n",
    "print(f'lower bound given by gradient descent = {theta_optim.fun}')"
   ]
  },
  {
   "cell_type": "markdown",
   "metadata": {},
   "source": [
    "Both of them can detect the entanglement of the given state. However, we can go further by calculating the lower bound of $E_3(\\rho)$ by gradient descent, which indicates the existence of higher entanglement in the given state."
   ]
  },
  {
   "cell_type": "code",
   "execution_count": null,
   "metadata": {},
   "outputs": [],
   "source": [
    "dimA = 4\n",
    "dimB = 4\n",
    "tmp0 = [\n",
    "    [(0,0,1), (1,1,1), (2,2,1), (3,3,1)],\n",
    "    [(0,1,1), (1,2,1), (2,3,1), (3,0,1)],\n",
    "    [(0,2,1), (1,3,1), (2,0,1), (3,1,-1)],\n",
    "]\n",
    "matrix_subspace = np.stack([numqi.matrix_space.build_matrix_with_index_value(dimA, dimB, x) for x in tmp0])\n",
    "\n",
    "model = numqi.matrix_space.DetectCanonicalPolyadicRankModel((dimA, dimB), rank=2)\n",
    "model.set_target(matrix_subspace)\n",
    "kwargs = dict(theta0='uniform', num_repeat=3, tol=1e-12, print_every_round=0)\n",
    "theta_optim = numqi.optimize.minimize(model,**kwargs)\n",
    "print(f'lower bound of E_3 given by gradient descent = {theta_optim.fun}')"
   ]
  },
  {
   "cell_type": "markdown",
   "metadata": {},
   "source": [
    "### Completely entangled subspace \n",
    "\n",
    "Consider the following four three-qubit states\n",
    "\n",
    "$$\n",
    "\\begin{aligned}\n",
    "\\left|\\psi_0\\right\\rangle&=|0\\rangle_A|0\\rangle_B|0\\rangle_C, \\\\\n",
    "\\left|\\psi_1\\right\\rangle&=|1\\rangle_A|+\\rangle_B|-\\rangle_C, \\\\\n",
    "\\left|\\psi_2\\right\\rangle&=|-\\rangle_A|1\\rangle_B|+\\rangle_C, \\\\\n",
    "\\left|\\psi_3\\right\\rangle&=|+\\rangle_A|-\\rangle_B|1\\rangle_C.\n",
    "\\end{aligned}\n",
    "$$\n",
    "They form a UPB, which means no product state can be found in the orthogonal space of the subspace $\\mathcal{S}$ spanned by them. In other words, $\\mathcal{S}^{\\bot}$ is a completely entangled subspace. We can use the gradient descent to calculate  $E_2(\\mathcal{S}^{\\bot})$, which confirms the complete entanglement of the subspace."
   ]
  },
  {
   "cell_type": "code",
   "execution_count": null,
   "metadata": {},
   "outputs": [],
   "source": [
    "rho_bes = numqi.entangle.load_upb('genshifts', 3, return_bes=True)[1]\n",
    "EVL,EVC = np.linalg.eigh(rho_bes)\n",
    "matrix_subspace = (EVC[:, EVL>1e-4]).reshape(2,2,2,-1).transpose(3,0,1,2)\n",
    "model = numqi.matrix_space.DetectCanonicalPolyadicRankModel((2,2,2), rank=1)\n",
    "model.set_target(matrix_subspace)\n",
    "kwargs = dict(theta0='uniform', num_repeat=3, tol=1e-12, print_every_round=0)\n",
    "theta_optim = numqi.optimize.minimize(model,**kwargs)\n",
    "print(f'gradient descent: {theta_optim.fun}')"
   ]
  },
  {
   "cell_type": "markdown",
   "metadata": {},
   "source": [
    "The numerical result is really close to the analytical value $1-\\frac{3\\sqrt{6}}{8}$"
   ]
  },
  {
   "cell_type": "markdown",
   "metadata": {},
   "source": [
    "### Multipartite pure state\n",
    "\n",
    "W state is a famous example of multipartite entangled state. It is defined as\n",
    "$$\n",
    "\\vert W \\rangle = \\frac{1}{\\sqrt{3}}\\left(\\vert 001 \\rangle + \\vert 010 \\rangle + \\vert 100 \\rangle\\right).\n",
    "$$\n",
    "\n",
    "We can calculate the value of $E_2(\\vert W \\rangle)$ and $E_3(\\vert W \\rangle)$ by gradient descent, which indicates the border rank of W state is 2."
   ]
  },
  {
   "cell_type": "code",
   "execution_count": null,
   "metadata": {},
   "outputs": [],
   "source": [
    "num_qubit = 3\n",
    "dim_list = [2]*num_qubit\n",
    "Wstate = numqi.state.W(num_qubit).reshape(dim_list)\n",
    "\n",
    "kwargs = dict(theta0='uniform', tol=1e-14, num_repeat=3, print_every_round=0, early_stop_threshold=1e-14)\n",
    "\n",
    "model = numqi.matrix_space.DetectCanonicalPolyadicRankModel(dim_list, rank=1)\n",
    "model.set_target(Wstate)\n",
    "theta_optim = numqi.optimize.minimize(model, **kwargs)\n",
    "print(f'E_2 by gradient descent: {theta_optim.fun}')\n",
    "\n",
    "model = numqi.matrix_space.DetectCanonicalPolyadicRankModel(dim_list, rank=2)\n",
    "model.set_target(Wstate)\n",
    "theta_optim = numqi.optimize.minimize(model, **kwargs)\n",
    "print(f'E_3 by gradient descent: {theta_optim.fun}')"
   ]
  }
 ],
 "metadata": {
  "kernelspec": {
   "display_name": "cuda122",
   "language": "python",
   "name": "python3"
  },
  "language_info": {
   "codemirror_mode": {
    "name": "ipython",
    "version": 3
   },
   "file_extension": ".py",
   "mimetype": "text/x-python",
   "name": "python",
   "nbconvert_exporter": "python",
   "pygments_lexer": "ipython3",
   "version": "3.11.4"
  }
 },
 "nbformat": 4,
 "nbformat_minor": 2
}
