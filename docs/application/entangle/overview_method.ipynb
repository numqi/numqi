{
 "cells": [
  {
   "cell_type": "markdown",
   "metadata": {},
   "source": [
    "# Overview\n",
    "\n",
    "<a target=\"_blank\" href=\"https://colab.research.google.com/github/numqi/numqi/blob/main/docs/application/entangle/overview_method.ipynb\">\n",
    "  <img src=\"https://colab.research.google.com/assets/colab-badge.svg\" alt=\"Open In Colab\"/>\n",
    "</a>\n",
    "\n",
    "Many entanglement detection methods have been proposed. Here, we summarize the pros and cons of each method.\n",
    "\n",
    "1. Positive Partial Transpose (PPT) criterion\n",
    "    * pros: computationally efficient\n",
    "    * cons: false positive (bound entangled states)\n",
    "2. Convex Hull Approximation (CHA) method\n",
    "    * pros: computationally efficient\n",
    "    * cons: non-convex optimization\n",
    "3. Bosonic extension semi-definite programming (SDP)\n",
    "    * pros: accurate\n",
    "    * cons: computationally heavy\n",
    "4. Pure bosonic extension (PureB)\n",
    "    * pros: computationally efficient\n",
    "    * cons: correct for generic states, but not for all separable states, nor for all entangled states\n",
    "\n",
    "To check whether a density matrix $\\rho$ is entangled or not, the following is my personal recommendation\n",
    "\n",
    "![detect-entanglement](../../../data/detect_entanglement.png)\n",
    "\n",
    "Above, `small loss` means the minimized loss is smaller than some predefined threshold (e.g. `1e-12` for double precision), and `large loss` means the minimized loss is larger than this threshold."
   ]
  },
  {
   "cell_type": "code",
   "execution_count": null,
   "metadata": {},
   "outputs": [],
   "source": [
    "import numpy as np\n",
    "\n",
    "try:\n",
    "    import numqi\n",
    "except ImportError:\n",
    "    %pip install numqi\n",
    "    import numqi\n"
   ]
  },
  {
   "cell_type": "code",
   "execution_count": null,
   "metadata": {},
   "outputs": [],
   "source": [
    "dimA = 3\n",
    "dimB = 3\n",
    "\n",
    "dm0 = numqi.random.rand_density_matrix(dimA*dimB, k=2*dimA*dimB)\n",
    "\n",
    "tag_ppt = numqi.entangle.is_ppt(dm0, (dimA,dimB))\n",
    "if not tag_ppt:\n",
    "    print('[entangled] dm0 is not PPT')\n",
    "else:\n",
    "    eps = 1e-10\n",
    "    model_cha = numqi.entangle.AutodiffCHAREE((dimA, dimB))\n",
    "    model_cha.set_dm_target(dm0)\n",
    "    loss_cha = numqi.optimize.minimize(model_cha, num_repeat=3, tol=1e-12, print_every_round=0).fun\n",
    "    tag_cha = loss_cha < eps\n",
    "    if tag_cha:\n",
    "        print(f'[separable] dm0 has seperable decomposition, loss={loss_cha}')\n",
    "    else:\n",
    "        tag_kext = numqi.entangle.is_ABk_symmetric_ext(dm0, (dimA,dimB), kext=4, use_ppt=True, use_boson=True)\n",
    "        if not tag_kext:\n",
    "            print('[entangled] dm0 is not bosonic extendable')\n",
    "        else:\n",
    "            model_pureb = numqi.entangle.PureBosonicExt(dimA, dimB, kext=32)\n",
    "            model_pureb.set_dm_target(dm0)\n",
    "            loss_pureb = numqi.optimize.minimize(model_pureb, num_repeat=3, tol=1e-12, print_every_round=0).fun"
   ]
  }
 ],
 "metadata": {
  "language_info": {
   "name": "python"
  }
 },
 "nbformat": 4,
 "nbformat_minor": 2
}
