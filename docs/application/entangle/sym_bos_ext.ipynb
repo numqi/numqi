{
 "cells": [
  {
   "cell_type": "markdown",
   "metadata": {},
   "source": [
    "# Symmetric/bosonic extension\n",
    "\n",
    "<a target=\"_blank\" href=\"https://colab.research.google.com/github/numqi/numqi/blob/main/docs/application/entangle/sym_bos_ext.ipynb\">\n",
    "  <img src=\"https://colab.research.google.com/assets/colab-badge.svg\" alt=\"Open In Colab\"/>\n",
    "</a>\n"
   ]
  },
  {
   "cell_type": "code",
   "execution_count": null,
   "metadata": {},
   "outputs": [],
   "source": [
    "import numpy as np\n",
    "import matplotlib.pyplot as plt\n",
    "\n",
    "try:\n",
    "    import numqi\n",
    "except ImportError:\n",
    "    %pip install numqi\n",
    "    import numqi"
   ]
  },
  {
   "cell_type": "markdown",
   "metadata": {},
   "source": [
    "Symmetric extension is a hierarchical method to approximate the set of separable states. A bipartite state $\\rho_{AB}$ is said to be $k$-symmetric extendible if there exists a global state $\\rho_{AB^k}:=\\rho_{AB_1B_2...B_k}$ such that for any $i,j$\n",
    "\n",
    "$$\n",
    "\\begin{cases}\n",
    "\\mathrm{Tr}_{B^{k-1}}\\left[\\rho_{A B^k}\\right] & =\\rho_{A B}, \\\\\n",
    "P_{ij} \\rho_{A B^k}P_{ij} & =\\rho_{A B^k},\n",
    "\\end{cases}\n",
    "$$\n",
    "\n",
    "where $P_{ij}$ is the permutation operator that swaps the $i$-th and $j$-th B-subsystems. The set of $k$-symmetric extendible states is denoted by $\\Theta_{k}$, which is convex with a hierarchical structure that $\\Theta_{k+1} \\subset \\Theta_{k}$. Moreover, when $k \\rightarrow \\infty$, $\\Theta_{k}$ converges to the set of separable states.\n",
    "\n",
    "The $k$-bosonic extendible set $\\bar{\\Theta}_k$ is a convex subset of $\\Theta_k$, which further requires the global state $\\rho_{AB^k}$ is supported on the symmetric subspace of $B_1B_2...B_k$. Similarly, we have the hierarchical relation $\\bar{\\Theta}_{k+1} \\subset \\bar{\\Theta}_{k}$ and $\\bar{\\Theta}_{\\infty} = SEP$. PPT constraint can also be considered.\n",
    "\n",
    "In summary, given a quantum state $\\rho_{AB}$, we can use the following semidefinite program to check whether it is (PPT) $k$-symmetric/bosonic extendible:\n",
    "\n",
    "$$\n",
    "\\text{Find}~\\rho_{AB^k}\n",
    "$$\n",
    "\n",
    "$$\n",
    "s.t.\\;\n",
    "\\begin{cases}\n",
    "\\mathrm{Tr}_{B^{k-1}}\\left[\\rho_{A B^k}\\right] & =\\rho_{A B}, \\\\\n",
    "\\rho_{AB^k} \\succeq 0,\\\\\n",
    "P_{ij} \\rho_{A B^k} P_{ij} & =\\rho_{A B^k}, ~(\\text{Symmetric})\\\\\n",
    "P_{i j} \\rho_{A B^k} & =\\rho_{A B^k}, ~(\\text{Bosonic})\\\\\n",
    "\\rho_{AB^k}^{\\Gamma_A} \\succeq 0, ~(\\text{PPT})\n",
    "\\end{cases}\n",
    "$$\n"
   ]
  },
  {
   "cell_type": "code",
   "execution_count": null,
   "metadata": {},
   "outputs": [],
   "source": [
    "dimA = 3\n",
    "dimB = 3\n",
    "kext = 2\n",
    "rho_AB = numqi.random.rand_separable_dm(dimA, dimB)\n",
    "is_kext = numqi.entangle.is_ABk_symmetric_ext(rho_AB, (dimA,dimB), kext, use_ppt=False, use_boson=False)\n",
    "print(\"Is the state k-symmetric extendible?\", is_kext)"
   ]
  },
  {
   "cell_type": "markdown",
   "metadata": {},
   "source": [
    "Since the (PPT) $k$-symmetric/bosonic extendible set converges to the set of separable states with $k$ increases, we can use the following semidefinite program to approximate the relative entropy of entanglement (REE) for a given state $\\rho_{AB}$, which is a lower bound of the REE:\n",
    "\n",
    "$$ \\min_{\\sigma_{A B}} S(\\sigma_{A B} \\| \\rho_{AB})$$\n",
    "\n",
    "$$\n",
    "s.t.\\;\n",
    "\\begin{cases}\n",
    "\\sigma_{AB^k} \\succeq 0, ~\\mathrm{Tr}[\\sigma_{AB^k}]=1,\\\\\n",
    "\\mathrm{Tr}_{B^{k-1}}\\left[\\sigma_{A B^k}\\right] & =\\sigma_{A B}, \\\\\n",
    "P_{i j} \\sigma_{A B^k} P_{i j} & =\\sigma_{A B^k}, ~(\\text{Symmetric})\\\\\n",
    "P_{i j} \\sigma_{A B^k} & =\\sigma_{A B^k}, ~(\\text{Bosonic})\\\\\n",
    "\\sigma_{AB^k}^{\\Gamma_A} \\succeq 0, ~(\\text{PPT})\n",
    "\\end{cases}\n",
    "$$"
   ]
  },
  {
   "cell_type": "code",
   "execution_count": null,
   "metadata": {},
   "outputs": [],
   "source": [
    "dimA = 3\n",
    "dimB = 3\n",
    "kext = 2\n",
    "# generate a random separable state\n",
    "rho_AB = numqi.random.rand_separable_dm(dimA, dimB)\n",
    "ree = numqi.entangle.get_ABk_symmetric_extension_ree(rho_AB, (dimA,dimB), kext, use_ppt=False, use_boson=False)\n",
    "print(\"approximated REE of the random separable state:\", ree)"
   ]
  },
  {
   "cell_type": "markdown",
   "metadata": {},
   "source": [
    "Take the Werner state as an example, which has the following form\n",
    "\n",
    "$$ \\rho_{W,d}\\left(\\alpha\\right)=\\frac{1}{d^{2}-d\\alpha}I-\\frac{\\alpha}{d^{2}-d\\alpha}\\sum_{ij}\\left|ij\\right\\rangle \\left\\langle ji\\right|,\\quad\\alpha\\in\\left[-1,1\\right] $$\n",
    "\n",
    "Werner state is separable for $\\alpha\\in\\left[-1,\\frac{1}{d}\\right]$, and entangled for $\\alpha\\in\\left(\\frac{1}{d},1\\right]$. The REE of Werner state is given in paper \"Entanglement measures under symmetry\" [doi-link](https://doi.org/10.1103/PhysRevA.64.062307).\n",
    "\n",
    "$$ E_R(\\left(\\rho_{W,d}(\\alpha)\\right))=\\begin{cases}\n",
    "0 & \\alpha\\in\\left[-1,\\frac{1}{d}\\right]\\\\\n",
    "S\\left(\\rho_{W,d}(\\alpha)\\|\\rho_{W,d}\\left(\\frac{1}{d}\\right)\\right) & \\alpha\\in\\left[\\frac{1}{d},1\\right]\n",
    "\\end{cases} $$"
   ]
  },
  {
   "cell_type": "code",
   "execution_count": null,
   "metadata": {},
   "outputs": [],
   "source": [
    "dim = 2\n",
    "alpha_list = np.linspace(0, 1, 30, endpoint=False) # alpha=1 is unstable for matrix logarithm\n",
    "dm_target_list = [numqi.state.Werner(dim, x) for x in alpha_list]\n",
    "ree_analytical = np.array([numqi.state.get_Werner_ree(dim, x) for x in alpha_list])\n",
    "ree_ppt = numqi.entangle.get_ppt_ree(dm_target_list, dim, dim)\n",
    "kext = [2, 4, 8]\n",
    "kwargs = dict(use_ppt=False, use_boson=False, use_tqdm=True)\n",
    "ree_sym_ext = [numqi.entangle.get_ABk_symmetric_extension_ree(dm_target_list, (dim,dim), k, **kwargs) for k in kext]"
   ]
  },
  {
   "cell_type": "code",
   "execution_count": null,
   "metadata": {},
   "outputs": [],
   "source": [
    "fig, ax = plt.subplots()\n",
    "ax.plot(alpha_list, ree_analytical, \"x\", label=\"analytical\")\n",
    "ax.plot(alpha_list, ree_ppt, label=\"PPT\")\n",
    "for k, ree_kext in zip(kext, ree_sym_ext):\n",
    "    ax.plot(alpha_list, ree_kext, label=f\"{k}-symmetric ext\")\n",
    "ax.set_xlim(min(alpha_list), max(alpha_list))\n",
    "ax.set_xlabel(r\"$\\alpha$\")\n",
    "ax.set_ylabel(\"REE\")\n",
    "ax.set_title(f'Werner({dim})')\n",
    "ax.legend()\n",
    "fig.tight_layout()"
   ]
  },
  {
   "cell_type": "markdown",
   "metadata": {},
   "source": [
    "misc formula (TODO)\n",
    "\n",
    "$$ \\mathrm{Sym}\\left(k\\right)=\\left\\{ \\rho\\in\\mathcal{D}_{d_{A}d_{B}^{k}}:P_{B_{i}B_{j}}\\rho P_{B_{i}B_{j}}=\\rho\\right\\} $$\n",
    "\n",
    "$$ \\mathrm{Boson}(k)=\\left\\{ \\rho\\in\\mathcal{D}_{d_{A}d_{B}^{k}}:P_{B_{i}B_{j}}\\rho=\\rho\\right\\} $$\n",
    "\n",
    "$$ \\mathrm{Boson}(k)\\subseteq\\mathrm{Sym}(k) $$\n",
    "\n",
    "$$ \\mathrm{SymExt}(k)=\\left\\{ \\mathrm{Tr}_{B^{k-1}}\\left[\\rho\\right]:\\rho\\in\\mathrm{Sym}\\left(k\\right)\\right\\} $$\n",
    "\n",
    "$$ \\mathrm{BosonExt}(k)=\\left\\{ \\mathrm{Tr}_{B^{k-1}}\\left[\\rho\\right]:\\rho\\in\\mathrm{Boson}\\left(k\\right)\\right\\} $$\n",
    "\n",
    "$$ \\mathrm{SymExt}(k+1)\\subseteq\\mathrm{SymExt}(k) $$\n",
    "\n",
    "$$ \\mathrm{BosonExt}(k+1)\\subseteq\\mathrm{SymExt}(k) $$\n",
    "\n",
    "$$ \\mathrm{BosonExt}(k)\\subseteq\\mathrm{SymExt}(k) $$\n",
    "\n",
    "$$ \\mathrm{SEP}=\\lim_{k\\to\\infty}\\mathrm{SymExt}(k)=\\lim_{k\\to\\infty}\\mathrm{BosonExt}(k) $$"
   ]
  }
 ],
 "metadata": {
  "kernelspec": {
   "display_name": "Python 3",
   "language": "python",
   "name": "python3"
  },
  "language_info": {
   "codemirror_mode": {
    "name": "ipython",
    "version": 3
   },
   "file_extension": ".py",
   "mimetype": "text/x-python",
   "name": "python",
   "nbconvert_exporter": "python",
   "pygments_lexer": "ipython3",
   "version": "3.10.13"
  }
 },
 "nbformat": 4,
 "nbformat_minor": 2
}
