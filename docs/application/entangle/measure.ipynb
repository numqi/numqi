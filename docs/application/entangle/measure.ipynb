{
 "cells": [
  {
   "cell_type": "markdown",
   "metadata": {},
   "source": [
    "# Entanglement measure\n",
    "\n",
    "<a target=\"_blank\" href=\"https://colab.research.google.com/github/numqi/numqi/blob/main/docs/application/entangle/measure.ipynb\">\n",
    "  <img src=\"https://colab.research.google.com/assets/colab-badge.svg\" alt=\"Open In Colab\"/>\n",
    "</a>"
   ]
  },
  {
   "cell_type": "markdown",
   "metadata": {},
   "source": [
    "There are various entanglement measures [wiki-link](https://en.wikipedia.org/wiki/Quantum_entanglement#As_a_measure_of_entanglement) with different meanings:\n",
    "\n",
    "**Operational entanglement measures**:\n",
    "1. Distillable entanglement\n",
    "2. Entanglement cost\n",
    "\n",
    "**Abstractly defined based on convex roof**:\n",
    "1. Concurrence\n",
    "2. Entanglement of formation (EOF)\n",
    "3. Geometric measure of entanglement (GME)\n",
    "\n",
    "**Distance measure**:\n",
    "1. Relative entropy of entanglement (REE)\n",
    "\n",
    "These measures are zero for all SEP states, positive for ENT states, and non-decreasing under local operations and classical communication (LOCC) [quantiki-link](https://www.quantiki.org/wiki/entanglement-measure). In the following tutorial, we will focus on the bipartite case."
   ]
  },
  {
   "cell_type": "code",
   "execution_count": null,
   "metadata": {},
   "outputs": [],
   "source": [
    "import numpy as np\n",
    "from tqdm.notebook import tqdm\n",
    "import matplotlib.pyplot as plt\n",
    "\n",
    "try:\n",
    "    import numqi\n",
    "except ImportError:\n",
    "    %pip install numqi\n",
    "    import numqi"
   ]
  },
  {
   "cell_type": "markdown",
   "metadata": {},
   "source": [
    "## Abstractly defined based on convex roof"
   ]
  },
  {
   "cell_type": "markdown",
   "metadata": {},
   "source": [
    "### Entanglement of formation\n",
    "\n",
    "Given a density matrix $\\rho$, its von Neumann entropy is defined as\n",
    "\n",
    "$$ S\\left(\\rho\\right)=-\\mathrm{Tr}\\left[\\rho\\ln\\rho\\right]. $$\n",
    "\n",
    "For a bipartite system, the entanglement of formation (EOF) of a pure state $\\left|\\psi\\right\\rangle \\in\\mathcal{H}_{A}\\otimes\\mathcal{H}_{B}$ is defined as\n",
    "\n",
    "$$ E_f\\left(\\left|\\psi\\right\\rangle \\right)=S\\left(\\rho_{A}\\right)=S\\left(\\rho_{B}\\right) $$\n",
    "\n",
    "where $\\rho_A,\\rho_B$ is its reduced density matrix on subsystem $A$ and $B$ respectively\n",
    "\n",
    "$$ \\rho_{A}=\\mathrm{Tr}_{B}\\left[\\left|\\psi\\right\\rangle \\left\\langle \\psi\\right|\\right],\\rho_{B}=\\mathrm{Tr}_{A}\\left[\\left|\\psi\\right\\rangle \\left\\langle \\psi\\right|\\right]. $$\n",
    "\n",
    "For a bipartite density matrix $\\rho$, its EOF is defined as\n",
    "\n",
    "$$ E_f\\left(\\rho\\right)=\\min_{\\left\\{ \\vec{p},\\vec{\\psi}\\right\\} }\\sum_{i}p_{i}E_f\\left(\\left|\\psi_{i}\\right\\rangle \\right) $$\n",
    "\n",
    "$$ s.t.\\begin{cases}\n",
    "\\rho=\\sum_{i}p_{i}\\left|\\psi_{i}\\right\\rangle \\left\\langle \\psi_{i}\\right|\\\\\n",
    "p_{i}>0\\\\\n",
    "\\langle\\psi_{i}|\\psi_{i}\\rangle=1\n",
    "\\end{cases} $$\n",
    "\n",
    "For Werner state, its EOF is given in paper [doi-link](https://doi.org/10.1007/s11704-008-0017-8). Below, we use the variational method to calculate the EOF of Werner state as proposed in paper [doi-link](https://doi.org/10.1103/PhysRevA.64.052304)\n"
   ]
  },
  {
   "cell_type": "code",
   "execution_count": null,
   "metadata": {},
   "outputs": [],
   "source": [
    "dim = 3\n",
    "alpha_list = np.linspace(-1, 1, 150)\n",
    "eof_analytical = numqi.state.get_Werner_eof(dim, alpha_list)"
   ]
  },
  {
   "cell_type": "markdown",
   "metadata": {},
   "source": [
    "For variational method, we need to perform an optimization for each of target density matrix."
   ]
  },
  {
   "cell_type": "code",
   "execution_count": null,
   "metadata": {},
   "outputs": [],
   "source": [
    "model = numqi.entangle.EntanglementFormationModel(dim, dim, num_term=2*dim*dim)\n",
    "eof_variational = []\n",
    "kwargs = dict(num_repeat=1, tol=1e-9, print_every_round=0)\n",
    "for x in tqdm(alpha_list): #about 1 min\n",
    "    model.set_density_matrix(numqi.state.Werner(dim, x))\n",
    "    theta_optim = numqi.optimize.minimize(model, **kwargs)\n",
    "    eof_variational.append(theta_optim.fun)\n",
    "eof_variational = np.array(eof_variational)"
   ]
  },
  {
   "cell_type": "markdown",
   "metadata": {},
   "source": [
    "Above, the hyper-parameters, e.g. `num_term=2*dim*dim` and `num_repeat=1`, may not the best choice. You can try to change them to get a better result."
   ]
  },
  {
   "cell_type": "code",
   "execution_count": null,
   "metadata": {},
   "outputs": [],
   "source": [
    "fig,ax = plt.subplots()\n",
    "ax.plot(alpha_list, eof_analytical, 'x', label='analytical')\n",
    "ax.plot(alpha_list, eof_variational, label='variational')\n",
    "ax.legend()\n",
    "ax.set_xlabel(r'$\\alpha$')\n",
    "ax.set_yscale('log')\n",
    "ax.set_ylabel('EOF')\n",
    "ax.set_title(f'Werner({dim})')\n",
    "fig.tight_layout()"
   ]
  },
  {
   "cell_type": "markdown",
   "metadata": {},
   "source": [
    "For $\\alpha\\in[-1,\\frac{1}{3}]$, the true EOF (cross in the figure) is zero, so it's not shown in the `yscale='log'` figure. We can see that the variational results (solid line) is almost the same as the true EOF (cross) in the whole range$.\n",
    "\n",
    "*TASK*: try Isotropic state which also has analytical EOF."
   ]
  },
  {
   "cell_type": "markdown",
   "metadata": {},
   "source": [
    "### Concurrence\n",
    "\n",
    "A closely related quantity is the concurrence, which is defined as\n",
    "\n",
    "$$ C\\left(\\left|\\psi\\right\\rangle \\right)=\\sqrt{2\\left(1-\\mathrm{Tr}\\left[\\rho_{A}^{2}\\right]\\right)} $$\n",
    "\n",
    "for pure states and\n",
    "\n",
    "$$ C\\left(\\rho\\right)=\\min_{\\left\\{ \\vec{p},\\vec{\\psi}\\right\\} }\\sum_{i}p_{i}C\\left(\\left|\\psi_{i}\\right\\rangle \\right) $$\n",
    "\n",
    "$$ s.t.\\begin{cases}\n",
    "\\rho=\\sum_{i}p_{i}\\left|\\psi_{i}\\right\\rangle \\left\\langle \\psi_{i}\\right|\\\\\n",
    "p_{i}>0\\\\\n",
    "\\langle\\psi_{i}|\\psi_{i}\\rangle=1\n",
    "\\end{cases} $$\n",
    "\n",
    "for mixed states.\n",
    "\n",
    "TODO: add `torch.nn.Module` for this task"
   ]
  },
  {
   "cell_type": "markdown",
   "metadata": {},
   "source": [
    "### Geometric measure of entanglement \n",
    "\n",
    "For a given pure state $\\vert \\psi \\rangle$, the geometric measure of entanglement (GME) is defined as the geometric distance between the given state and *fully product* states\n",
    "\n",
    "$$\n",
    "E_G(\\vert \\psi \\rangle)=1-\\max_{\\vert \\varphi_{\\text{prod}}\\rangle}\\vert \\langle \\varphi_{\\text{prod}} \\vert \\psi \\rangle\\vert^2.\n",
    "$$\n",
    "\n",
    "With the convex roof construction, we can extend this measure to the mixed state case as follows,\n",
    "\n",
    "$$ E_G\\left(\\rho\\right)=\\min_{\\left\\{ \\vec{p},\\vec{\\psi}\\right\\} }\\sum_{i}p_{i}E_G\\left(\\left|\\psi_{i}\\right\\rangle \\right) $$\n",
    "\n",
    "$$ s.t.\\begin{cases}\n",
    "\\rho=\\sum_{i}p_{i}\\left|\\psi_{i}\\right\\rangle \\left\\langle \\psi_{i}\\right|,\\\\\n",
    "p_{i}>0,\\\\\n",
    "\\langle\\psi_{i}|\\psi_{i}\\rangle=1.\n",
    "\\end{cases} $$\n",
    "\n",
    "If we want to quantify different levels of entanglement, we can generalize the geometric measure of entanglement to the geometric measure of $r$-bounded rank\n",
    "\n",
    "$$\n",
    "E_r(\\vert \\psi \\rangle)=1-\\max_{\\vert\\varphi\\rangle \\in \\sigma_{r-1}}\\vert \\langle \\varphi \\vert \\psi \\rangle\\vert^2.\n",
    "$$\n",
    "\n",
    "Here, $\\sigma_{r-1}$ is the states of rank at most $r-1$ (in the bipartite setting, it means Schmidt rank). Obviously, it can be reduced into the form of GME when $r=2$. And similarly, the definition can be also extended into mixed state case,\n",
    "\n",
    "$$ E_r\\left(\\rho\\right)=\\min_{\\left\\{ \\vec{p},\\vec{\\psi}\\right\\} }\\sum_{i}p_{i}E_r\\left(\\left|\\psi_{i}\\right\\rangle \\right). $$\n"
   ]
  },
  {
   "cell_type": "markdown",
   "metadata": {},
   "source": [
    "### Connection between quantum state and subspace\n",
    "\n",
    "For the entanglement measures defined by **convex roof**, i.e.,\n",
    "\n",
    "$$ E\\left(\\rho\\right)=\\min_{\\left\\{ \\vec{p},\\vec{\\psi}\\right\\} }\\sum_{i}p_{i}E\\left(\\left|\\psi_{i}\\right\\rangle \\right). $$\n",
    "\n",
    "There is a useful relation for all these entanglement measures\n",
    "\n",
    "$$ E\\left(\\rho\\right) \\geq E(\\text{supp}(\\rho)),$$\n",
    "\n",
    "where $\\text{supp}(\\rho)$ is the *support space* of the state $\\rho$. The entanglement measure for a quantum subspace $\\mathcal{S}$ is defined as follows,\n",
    "\n",
    "$$\n",
    "E(\\mathcal{S})= \\min_{\\vert \\psi \\rangle \\in \\mathcal{S}} E(\\vert \\psi \\rangle).\n",
    "$$\n"
   ]
  },
  {
   "cell_type": "markdown",
   "metadata": {},
   "source": [
    "## Distance measure"
   ]
  },
  {
   "cell_type": "markdown",
   "metadata": {},
   "source": [
    "### Relative entropy of entanglement\n",
    "\n",
    "Relative entropy of entanglement (REE) is defined as the follows\n",
    "\n",
    "$$ E_R\\left( \\rho \\right) =\\min_{\\sigma \\in \\mathrm{SEP}} S\\left( \\rho ||\\sigma \\right) $$\n",
    "\n",
    "where $S$ is the quantum relative entropy (von Neumann entropy) defined as\n",
    "\n",
    "$$ S\\left( \\rho ||\\sigma \\right) =\\mathrm{Tr}\\left[ \\rho \\ln \\rho -\\rho \\ln \\sigma \\right] $$\n",
    "\n",
    "The relative entropy $S$ is jointly convex in its arguments, and non-negative. It is zero if and only if $\\rho=\\sigma$. In the following, we will discuss Werner state and Isotropic state which has analytical solution for REE.\n"
   ]
  },
  {
   "cell_type": "markdown",
   "metadata": {},
   "source": [
    "**Werner state**:\n",
    "\n",
    "Werner state is defined as [wiki-link](https://en.wikipedia.org/wiki/Werner_state) over $\\mathcal{H}_d\\otimes \\mathcal{H}_d$\n",
    "\n",
    "$$ \\rho_{W,d}\\left(\\alpha\\right)=\\frac{1}{d^{2}-d\\alpha}I-\\frac{\\alpha}{d^{2}-d\\alpha}\\sum_{ij}\\left|ij\\right\\rangle \\left\\langle ji\\right|,\\quad\\alpha\\in\\left[-1,1\\right] $$\n",
    "\n",
    "(You might see different definitions for Werner state, you can check [doc-link](../../get_started/quantum_state) for the conversion among different definitions)\n",
    "\n",
    "Werner state is separable for $\\alpha\\in\\left[-1,\\frac{1}{d}\\right]$, and entangled for $\\alpha\\in\\left(\\frac{1}{d},1\\right]$. The REE of Werner state is given in paper \"Entanglement measures under symmetry\" [doi-link](https://doi.org/10.1103/PhysRevA.64.062307).\n",
    "\n",
    "$$ E_R\\left(\\rho_{W,d}(\\alpha)\\right)=\\begin{cases}\n",
    "0 & \\alpha\\in\\left[-1,\\frac{1}{d}\\right]\\\\\n",
    "S\\left(\\rho_{W,d}(\\alpha)\\lvert\\rho_{W,d}\\left(\\frac{1}{d}\\right)\\right) & \\alpha\\in\\left[\\frac{1}{d},1\\right]\n",
    "\\end{cases} $$\n",
    "\n",
    "Below, we can calculate the REE via various methods including the PPT criterion (lower bound), CHA criterion (upper bound) ([doc-link](../cha)), and compare with the analytical solution."
   ]
  },
  {
   "cell_type": "code",
   "execution_count": null,
   "metadata": {},
   "outputs": [],
   "source": [
    "dim = 3\n",
    "alpha_list = np.linspace(0, 1, 100, endpoint=False) # alpha=1 is unstable for matrix logarithm\n",
    "dm_target_list = [numqi.state.Werner(dim, x) for x in alpha_list]"
   ]
  },
  {
   "cell_type": "markdown",
   "metadata": {},
   "source": [
    "PPT criterion is to solve the following semidefinite program (SDP). \n",
    "\n",
    "$$ \\min_{\\sigma}\\;S\\left(\\rho_{W,d}\\left(\\alpha\\right)\\|\\sigma\\right) $$\n",
    "\n",
    "$$ s.t.\\;\\begin{cases}\n",
    "\\rho\\succeq0\\\\\n",
    "\\mathrm{Tr}\\left[\\rho\\right]=1\\\\\n",
    "\\rho^{\\Gamma}\\succeq0\n",
    "\\end{cases} $$\n",
    "\n",
    "It can be approximately evaluated by semidefinite programming (SDP) according to the paper \"Semidefinite approximations of the matrix logarithm\" [doi-link](https://doi.org/10.1007%2Fs10208-018-9385-0), [arxiv-link](https://arxiv.org/abs/1705.00812), [github/cvxquad](https://github.com/hfawzi/cvxquad)."
   ]
  },
  {
   "cell_type": "code",
   "execution_count": null,
   "metadata": {},
   "outputs": [],
   "source": [
    "ree_analytical = np.array([numqi.state.get_Werner_ree(dim, x) for x in alpha_list])\n",
    "ree_ppt = numqi.entangle.get_ppt_ree(dm_target_list, dim, dim) #about 30 seconds"
   ]
  },
  {
   "cell_type": "markdown",
   "metadata": {},
   "source": [
    "Convex hull approximation (CHA) is to solve the following non-convex optimization problem via gradient descent method. The key idea is to formulize the problem as a non-convex optimization problem, and use gradient descent method to find the optimal solution. The gradient of the objective function is solved by gradient back-propagation method from Pytorch framework. We will dive into more details in the following tutorial ([doc-link](../cha))."
   ]
  },
  {
   "cell_type": "code",
   "execution_count": null,
   "metadata": {},
   "outputs": [],
   "source": [
    "model = numqi.entangle.AutodiffCHAREE((dim,dim), distance_kind='ree')\n",
    "ree_cha = [] #about 11 seconds\n",
    "for dm_target_i in tqdm(dm_target_list):\n",
    "    model.set_dm_target(dm_target_i)\n",
    "    tmp0 = numqi.optimize.minimize(model, theta0='uniform', tol=1e-12, num_repeat=1, print_every_round=0).fun\n",
    "    ree_cha.append(tmp0)\n",
    "ree_cha = np.array(ree_cha)"
   ]
  },
  {
   "cell_type": "code",
   "execution_count": null,
   "metadata": {},
   "outputs": [],
   "source": [
    "fig, ax = plt.subplots()\n",
    "ax.plot(alpha_list, ree_analytical, \"x\", label=\"analytical\")\n",
    "ax.plot(alpha_list, ree_ppt, label=\"PPT\")\n",
    "ax.plot(alpha_list, ree_cha, label=\"CHA\")\n",
    "ax.set_xlim(min(alpha_list), max(alpha_list))\n",
    "ax.set_ylim(1e-13, 1)\n",
    "ax.set_yscale('log')\n",
    "ax.set_xlabel(r\"$\\beta$\")\n",
    "ax.set_ylabel(\"REE\")\n",
    "ax.set_title(f'Werner({dim})')\n",
    "ax.legend()\n",
    "fig.tight_layout()\n"
   ]
  },
  {
   "cell_type": "markdown",
   "metadata": {},
   "source": [
    "Be careful, there is NOT a phase transition in the figure. the sharp shift is only due to the logarithmic scale used in the y-axis. We can see that the upper bound (CHA) and lower bound (PPT) are very close to the analytical solution."
   ]
  },
  {
   "cell_type": "markdown",
   "metadata": {},
   "source": [
    "**Isotropic state**:\n",
    "\n",
    "Let's repeat the same procedure for Isotropic state. Isotropic state is defined as [quantiki-link](https://www.quantiki.org/wiki/isotropic-state) over $\\mathcal{H}_d\\otimes \\mathcal{H}_d$\n",
    "\n",
    "$$ \\rho_{I,d}^{\\prime}\\left(\\alpha\\right)=\\frac{1-\\alpha}{d^{2}}I+\\frac{\\alpha}{d}\\sum_{i}\\left|ii\\right\\rangle \\left\\langle ii\\right|,\\quad\\alpha\\in\\left[-\\frac{1}{d^{2}-1},1\\right] $$\n",
    "\n",
    "(You might see different definitions for Werner state, you can check [doc-link](../../get_started/quantum_state) for the conversion among different definitions)\n",
    "\n",
    "Isotropic state is separable for $\\alpha\\in\\left[-\\frac{1}{d^2-1},\\frac{1}{d+1}\\right]$, and entangled for $\\alpha\\in\\left(\\frac{1}{d+1},1\\right]$. The REE of Werner state is given in paper \"Bound on distillable entanglement\" [doi-link](https://doi.org/10.1103/PhysRevA.60.179).\n",
    "\n",
    "$$ E_R\\left(\\rho_{I,d}(\\alpha)\\right)=\\begin{cases}\n",
    "0 & \\alpha\\in\\left[-\\frac{1}{d^{2}-1},\\frac{1}{d+1}\\right]\\\\\n",
    "S\\left(\\rho_{I,d}(\\alpha)\\lvert\\rho_{I,d}\\left(\\frac{1}{d+1}\\right)\\right) & \\alpha\\in\\left[\\frac{1}{d+1},1\\right]\n",
    "\\end{cases} $$"
   ]
  },
  {
   "cell_type": "code",
   "execution_count": null,
   "metadata": {},
   "outputs": [],
   "source": [
    "dim = 3\n",
    "alpha_list = np.linspace(0, 1, 100, endpoint=False) # alpha=1 is unstable for matrix logarithm\n",
    "dm_target_list = [numqi.state.Isotropic(dim, x) for x in alpha_list]\n",
    "\n",
    "ree_analytical = np.array([numqi.state.get_Isotropic_ree(dim, x) for x in alpha_list])\n",
    "ree_ppt = numqi.entangle.get_ppt_ree(dm_target_list, dim, dim) #about 30 seconds\n",
    "\n",
    "model = numqi.entangle.AutodiffCHAREE((dim, dim), distance_kind='ree')\n",
    "ree_cha = [] #about 11 seconds\n",
    "for dm_target_i in tqdm(dm_target_list):\n",
    "    model.set_dm_target(dm_target_i)\n",
    "    tmp0 = numqi.optimize.minimize(model, theta0='uniform', tol=1e-12, num_repeat=1, print_every_round=0).fun\n",
    "    ree_cha.append(tmp0)\n",
    "ree_cha = np.array(ree_cha)"
   ]
  },
  {
   "cell_type": "code",
   "execution_count": null,
   "metadata": {},
   "outputs": [],
   "source": [
    "fig, ax = plt.subplots()\n",
    "ax.plot(alpha_list, ree_analytical, \"x\", label=\"analytical\")\n",
    "ax.plot(alpha_list, ree_ppt, label=\"PPT\")\n",
    "ax.plot(alpha_list, ree_cha, label=\"CHA\")\n",
    "ax.set_xlim(min(alpha_list), max(alpha_list))\n",
    "ax.set_ylim(1e-13, 1)\n",
    "ax.set_yscale('log')\n",
    "ax.set_xlabel(r\"$\\beta$\")\n",
    "ax.set_ylabel(\"REE\")\n",
    "ax.legend()\n",
    "ax.set_title(f\"Isotropic({dim})\")\n",
    "fig.tight_layout()"
   ]
  }
 ],
 "metadata": {
  "kernelspec": {
   "display_name": "cuda122",
   "language": "python",
   "name": "python3"
  },
  "language_info": {
   "codemirror_mode": {
    "name": "ipython",
    "version": 3
   },
   "file_extension": ".py",
   "mimetype": "text/x-python",
   "name": "python",
   "nbconvert_exporter": "python",
   "pygments_lexer": "ipython3",
   "version": "3.11.4"
  }
 },
 "nbformat": 4,
 "nbformat_minor": 2
}
