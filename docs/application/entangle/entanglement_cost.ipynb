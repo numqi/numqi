{
 "cells": [
  {
   "cell_type": "markdown",
   "metadata": {},
   "source": [
    "# Entanglement Cost\n",
    "\n",
    "<a target=\"_blank\" href=\"https://colab.research.google.com/github/numqi/numqi/blob/main/docs/application/entangle/entanglement_cost.ipynb\">\n",
    "  <img src=\"https://colab.research.google.com/assets/colab-badge.svg\" alt=\"Open In Colab\"/>\n",
    "</a>\n",
    "\n",
    "This tutorial is to re-produce partial numerical results in the paper: \"Entanglement Cost under Positive-Partial-Transpose-Preserving Operations\" [doi-link](https://doi.org/10.1103/PhysRevLett.90.027901)\n"
   ]
  },
  {
   "cell_type": "code",
   "execution_count": null,
   "metadata": {},
   "outputs": [],
   "source": [
    "import numpy as np\n",
    "import matplotlib.pyplot as plt\n",
    "\n",
    "try:\n",
    "    import numqi\n",
    "except ImportError:\n",
    "    %pip install numqi\n",
    "    import numqi\n",
    "\n",
    "np_rng = np.random.default_rng()"
   ]
  },
  {
   "cell_type": "markdown",
   "metadata": {},
   "source": [
    "## Bi-negativity\n",
    "\n",
    "First, let's define the collection of all density matrix of dimension $d$ as $\\mathcal{D}_d$.\n",
    "\n",
    "$$ \\mathcal{D}^{d}=\\left\\{ \\rho\\in\\mathbb{C}^{d\\times d}:\\rho\\succeq0,\\mathrm{Tr}[\\rho]=1\\right\\} $$\n",
    "\n",
    "For a bipartite density matrix $\\rho\\in\\mathcal{D}^{d_{A}\\times d_{B}}$, its bi-negativity is defined as $\\left|\\rho^{\\Gamma}\\right|^{\\Gamma}$. Let's explain the notation here:\n",
    "\n",
    "1. partial transpose $\\rho^\\Gamma$. The explicit matrix operation can be written as\n",
    "\n",
    "   $$ \\left(\\sum_{ij\\mu\\nu}\\rho_{i\\mu,j\\nu}|i\\mu\\rangle\\langle j\\nu|\\right)^{\\Gamma}=\\sum_{ij\\mu\\nu}\\rho_{i\\nu,j\\mu}|i\\mu\\rangle\\langle j\\nu| $$\n",
    "\n",
    "   where $|i\\rangle$ and $|j\\rangle$ are the basis of the Hilbert space of system $A$, and $|\\mu\\rangle$ and $|\\nu\\rangle$ are the basis of the Hilbert space of system $B$.\n",
    "\n",
    "2. absolute value of a matrix: given a Hermitian matrix $A=A^\\dagger$ with eigenvalue decomposition $A=U\\Sigma U^\\dagger$, then its absolute value is defined as $|A| = U|\\Sigma|U^\\dagger$. Here $|\\Sigma|$ is the diagonal matrix with the absolute value of the eigenvalues of $A$. Be careful that this is NOT the same as element-wise absolute value.\n",
    "\n",
    "Here are some properties of bi-negativity:\n",
    "\n",
    "**Theorem** the bi-negativity of two-qubit states are all positive [link](https://oqp.iqoqi.oeaw.ac.at/qubit-bi-negativity) [arxiv-link](https://arxiv.org/abs/quant-ph/0308056)\n",
    "\n",
    "$$ \\rho\\in\\mathcal{D}^{2\\times2}\\;\\Rightarrow\\;\\left|\\rho^{\\Gamma}\\right|^{\\Gamma}\\succeq 0 $$\n",
    "\n",
    "Let's verify this theorem by calculating the bi-negativity of some random two-qubit states.\n"
   ]
  },
  {
   "cell_type": "code",
   "execution_count": null,
   "metadata": {},
   "outputs": [],
   "source": [
    "rho = numqi.random.rand_density_matrix(4)\n",
    "print('density matrix:\\n', np.round(rho,3))\n",
    "\n",
    "rho_bineg = numqi.entangle.get_binegativity(rho, 2, 2)\n",
    "print('binegativity of density matrix:\\n', np.round(rho_bineg,3))\n",
    "\n",
    "EVL = np.linalg.eigvalsh(rho_bineg)\n",
    "print('eigenvalues of binegativity:', EVL)\n",
    "\n",
    "assert EVL[0]>=0 # binegativity is positive for two qubits\n"
   ]
  },
  {
   "cell_type": "markdown",
   "metadata": {},
   "source": [
    "**Theorem**: the bi-negativity of all Werner states are positive [doi-link](https://doi.org/10.1103/PhysRevLett.90.027901)"
   ]
  },
  {
   "cell_type": "code",
   "execution_count": null,
   "metadata": {},
   "outputs": [],
   "source": [
    "dim = 3\n",
    "alpha = np_rng.uniform(-1, 1)\n",
    "rho = numqi.state.Werner(dim, alpha)\n",
    "\n",
    "rho_bineg = numqi.entangle.get_binegativity(rho, dim, dim)\n",
    "EVL = np.linalg.eigvalsh(rho_bineg)\n",
    "print('eigenvalues of binegativity:', EVL[:4])\n",
    "assert EVL[0]>=0 # binegativity is positive for Werner state"
   ]
  },
  {
   "cell_type": "markdown",
   "metadata": {},
   "source": [
    "## Optimization of bi-negativity\n",
    "\n",
    "A natural question is what is the most \"negative\" density matrix in bi-negativity? Or say solving the following optimization problem:\n",
    "\n",
    "$$ \\min_{\\rho\\in\\mathcal{D}^{d_{A}\\times d_{B}}}\\lambda_{1}\\left[\\left|\\rho^{\\Gamma}\\right|^{\\Gamma}\\right] $$\n",
    "\n",
    "with $\\lambda_{1}$ being the smallest eigenvalue. This is a typical manifold optimization problem, and can be addressed in `numqi` with the following code:"
   ]
  },
  {
   "cell_type": "code",
   "execution_count": null,
   "metadata": {},
   "outputs": [],
   "source": [
    "dimA = 3\n",
    "dimB = 3\n",
    "model = numqi.entangle.SearchMinimumBinegativityModel(dimA, dimB)\n",
    "theta_optim = numqi.optimize.minimize(model, num_repeat=20, tol=1e-7, print_every_round=1)\n",
    "rho = model.manifold_rho().detach().numpy().copy()\n",
    "print('optimal value (minimum eigenvalue):', theta_optim.fun)"
   ]
  },
  {
   "cell_type": "markdown",
   "metadata": {},
   "source": [
    "Below list the optimal value for different dimensions:\n",
    "\n",
    "| $d_A\\times d_B$ | optimal value |\n",
    "| :-: | :-: |\n",
    "| $2\\times 2$ | `3.8e-7` |\n",
    "| $2\\times 3$ | `-0.05392654084929269` |\n",
    "| $2\\times 4$ | `-0.053925646486662315` |\n",
    "| $3\\times 3$ | `-0.17677641180960016` |"
   ]
  },
  {
   "cell_type": "markdown",
   "metadata": {},
   "source": [
    "## PPT entanglement cost\n",
    "\n",
    "In the paper: \"Entanglement Cost under Positive-Partial-Transpose-Preserving Operations\" [doi-link](https://doi.org/10.1103/PhysRevLett.90.027901), PPT entanglement cost $E_{\\mathrm{PPT}}(\\rho)$ is given both lower and upper bounds.\n",
    "\n",
    "$$ \\log_{2}\\mathrm{tr}\\left|\\rho^{\\Gamma}\\right|\\leq E_{\\mathrm{PPT}}(\\rho)\\leq\\log_{2}Z\\left(\\rho\\right) $$\n",
    "\n",
    "$$ Z\\left(\\rho\\right)=\\mathrm{tr}\\left|\\rho^{\\Gamma}\\right|+d_{A}d_{B}\\max\\left(0,-\\lambda_{1}\\left[\\left|\\rho^{\\Gamma}\\right|^{\\Gamma}\\right]\\right) $$\n",
    "\n",
    "Since the upper bound matches the lower bound for all Werner states, the PPT entanglement cost is exactly known for Werner states.\n",
    "\n",
    "Below draw the PPT entanglement cost of Werner states of different dimensions."
   ]
  },
  {
   "cell_type": "code",
   "execution_count": null,
   "metadata": {},
   "outputs": [],
   "source": [
    "dim_list = [2,3,4,5]\n",
    "alpha_list = np.linspace(0, 1, 100)\n",
    "z0 = []\n",
    "for dim in dim_list:\n",
    "    z0.append([numqi.entangle.get_PPT_entanglement_cost_bound(numqi.state.Werner(dim, x), dim, dim)[0] for x in alpha_list])\n",
    "z0 = np.stack(z0, axis=0)\n",
    "\n",
    "fig,ax = plt.subplots()\n",
    "for ind0 in range(len(dim_list)):\n",
    "    ax.plot(alpha_list, z0[ind0], label=f'dim={dim_list[ind0]}')\n",
    "ax.set_xlabel(r'$\\alpha$')\n",
    "ax.set_ylabel('PPT entanglement cost')\n",
    "ax.legend()\n",
    "fig.tight_layout()\n"
   ]
  }
 ],
 "metadata": {
  "kernelspec": {
   "display_name": "Python 3",
   "language": "python",
   "name": "python3"
  },
  "language_info": {
   "codemirror_mode": {
    "name": "ipython",
    "version": 3
   },
   "file_extension": ".py",
   "mimetype": "text/x-python",
   "name": "python",
   "nbconvert_exporter": "python",
   "pygments_lexer": "ipython3",
   "version": "3.12.3"
  }
 },
 "nbformat": 4,
 "nbformat_minor": 2
}
