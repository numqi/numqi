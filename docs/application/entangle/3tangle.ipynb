{
 "cells": [
  {
   "cell_type": "markdown",
   "metadata": {},
   "source": [
    "# 3-tangle\n",
    "\n",
    "<a target=\"_blank\" href=\"https://colab.research.google.com/github/numqi/numqi/blob/main/docs/application/entangle/3tangle.ipynb\">\n",
    "  <img src=\"https://colab.research.google.com/assets/colab-badge.svg\" alt=\"Open In Colab\"/>\n",
    "</a>\n"
   ]
  },
  {
   "cell_type": "code",
   "execution_count": null,
   "metadata": {},
   "outputs": [],
   "source": [
    "import numpy as np\n",
    "from tqdm.auto import tqdm\n",
    "import matplotlib.pyplot as plt\n",
    "\n",
    "try:\n",
    "    import numqi\n",
    "except ImportError:\n",
    "    %pip install numqi\n",
    "    import numqi\n"
   ]
  },
  {
   "cell_type": "markdown",
   "metadata": {},
   "source": [
    "## Pure state\n",
    "\n",
    "Hyperdeterminant [wiki-link](https://en.wikipedia.org/wiki/Hyperdeterminant) of a tensor $x\\in\\mathbb{C}^{2\\times 2\\times 2}$ is defined as\n",
    "\n",
    "$$ \\mathrm{Det}(x)=\\sum_{ijkl\\in[8]}c_{ijkl}x_{i}x_{j}x_{k}x_{l}\\;:\\mathbb{C}^{8}\\to\\mathbb{C} $$\n",
    "\n",
    "For simplicity, the notation above treats the tensor as a vector in $\\mathbb{C}^{8}$, and the constant coefficents $c_{ijkl}$ can be found in [wiki-link](https://en.wikipedia.org/wiki/Hyperdeterminant). The hyperdeterminant is a polynomial of degree 4 in the tensor elements. The 3-tangle of a pure state $|\\psi\\rangle\\in\\mathbb{C}^{2}\\otimes\\mathbb{C}^{2}\\otimes\\mathbb{C}^{2}$ is defined as\n",
    "\n",
    "$$ \\tau\\left(|\\psi\\rangle\\right)=4\\left|\\mathrm{Det}\\left(|\\psi\\rangle\\right)\\right| $$"
   ]
  },
  {
   "cell_type": "code",
   "execution_count": null,
   "metadata": {},
   "outputs": [],
   "source": [
    "psi = numqi.state.GHZ(n=3)\n",
    "print('3tangle(GHZ) =', numqi.entangle.get_3tangle_pure(psi))"
   ]
  },
  {
   "cell_type": "code",
   "execution_count": null,
   "metadata": {},
   "outputs": [],
   "source": [
    "psi = numqi.random.rand_haar_state(8)\n",
    "print('3tangle(random) =', numqi.entangle.get_3tangle_pure(psi))"
   ]
  },
  {
   "cell_type": "code",
   "execution_count": null,
   "metadata": {},
   "outputs": [],
   "source": [
    "psiA = numqi.random.rand_haar_state(2)\n",
    "psiBC = numqi.random.rand_haar_state(4)\n",
    "psi = np.kron(psiA, psiBC)\n",
    "print('3tangle(product state) =', numqi.entangle.get_3tangle_pure(psi))"
   ]
  },
  {
   "cell_type": "markdown",
   "metadata": {},
   "source": [
    "## Mixed state\n",
    "\n",
    "3-tangle of a mixed state $\\rho\\in\\mathbb{C}^{8\\times 8}$ is defined via the convex roof extension of the pure state 3-tangle\n",
    "\n",
    "$$ \\begin{align*}\n",
    "    \\tau(\\rho)&=\\min_{\\left\\{ p_{\\alpha},|\\psi_{\\alpha}\\rangle\\right\\} }\\sum_{\\alpha}p_{\\alpha}\\tau\\left(|\\psi_{\\alpha}\\rangle\\right)\\\\\n",
    "    &=\\min_{\\left\\{ |\\tilde{\\psi}_{\\alpha}\\rangle\\right\\} }\\sum_{\\alpha}\\frac{\\tau\\left(|\\tilde{\\psi}_{\\alpha}\\rangle\\right)}{\\langle\\tilde{\\psi}_{\\alpha}|\\tilde{\\psi}_{\\alpha}\\rangle}\n",
    "\\end{align*} $$\n",
    "\n",
    "where the minimization is over all possible pure state decompositions of the mixed state $\\rho=\\sum_{\\alpha}p_{\\alpha}|\\psi_{\\alpha}\\rangle\\langle\\psi_{\\alpha}|$.\n",
    "\n",
    "Below, we evaluate the 3-tangle from the maximally mixed state (separable) to GHZ state (entangled) via gradient based optimization [arxiv-link](https://arxiv.org/abs/2406.19683)."
   ]
  },
  {
   "cell_type": "code",
   "execution_count": null,
   "metadata": {},
   "outputs": [],
   "source": [
    "psi_ghz = numqi.state.GHZ(n=3)\n",
    "dm_target = psi_ghz.reshape(8,1) * psi_ghz.conj()\n",
    "alpha_list = np.linspace(0, 1, 100)\n",
    "\n",
    "# about 3 minutes\n",
    "model = numqi.entangle.ThreeTangleModel(num_term=4*8)\n",
    "ret_opt = []\n",
    "for alpha_i in tqdm(alpha_list):\n",
    "    model.set_density_matrix(numqi.utils.hf_interpolate_dm(dm_target, alpha=alpha_i))\n",
    "    ret_opt.append(numqi.optimize.minimize(model, 'uniform', num_repeat=3, tol=1e-8, print_every_round=0).fun)\n",
    "ret_opt = np.array(ret_opt)\n"
   ]
  },
  {
   "cell_type": "markdown",
   "metadata": {},
   "source": [
    "One can find that for the segment $\\alpha\\in[0,\\alpha^*\\approx 0.7]$, 3-tangle is almost zero, which indicates the state is separable. For larger $\\alpha$, the 3-tangle increases, and goes to 1 for GHZ state. \n",
    "\n",
    "TODO: the boundary $\\alpha^*=0.7$ drawn in the plot is not theorectical proved boundary (need to check reference), and I just plot it for illustration purpose.\n",
    "\n",
    "TODO: the optimization has convergence issue for those separable density matrix, whose 3-tangle should be exactly zero but cannot be optimized below $10^{-4}$."
   ]
  },
  {
   "cell_type": "code",
   "execution_count": null,
   "metadata": {},
   "outputs": [],
   "source": [
    "fig,(ax0,ax1) = plt.subplots(1, 2, figsize=(9,4))\n",
    "for ax in [ax0,ax1]:\n",
    "    ax.plot(alpha_list, ret_opt, 'x', label='manifold-opt')\n",
    "    ax.set_xlabel('alpha')\n",
    "    ax.set_ylabel('3-tangle')\n",
    "    ax.axvline(0.7, color='red') #I don't know whether alpha=0.7 is the boundary, I just guess so\n",
    "ax1.set_yscale('log')\n",
    "fig.tight_layout()"
   ]
  }
 ],
 "metadata": {
  "kernelspec": {
   "display_name": "Python 3",
   "language": "python",
   "name": "python3"
  },
  "language_info": {
   "codemirror_mode": {
    "name": "ipython",
    "version": 3
   },
   "file_extension": ".py",
   "mimetype": "text/x-python",
   "name": "python",
   "nbconvert_exporter": "python",
   "pygments_lexer": "ipython3",
   "version": "3.12.3"
  }
 },
 "nbformat": 4,
 "nbformat_minor": 2
}
