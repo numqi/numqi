{
 "cells": [
  {
   "cell_type": "markdown",
   "metadata": {},
   "source": [
    "# Boundary of detection method\n",
    "\n",
    "<a target=\"_blank\" href=\"https://colab.research.google.com/github/numqi/numqi/blob/main/docs/application/entangle/boundary_method.ipynb\">\n",
    "  <img src=\"https://colab.research.google.com/assets/colab-badge.svg\" alt=\"Open In Colab\"/>\n",
    "</a>\n",
    "\n",
    "We are showing various Joint Algebraic Numerical Range (JANR) related to different boundaries obtained by different methods (PPT, CHA, and PureB)."
   ]
  },
  {
   "cell_type": "code",
   "execution_count": 1,
   "metadata": {},
   "outputs": [],
   "source": [
    "import numpy as np\n",
    "import matplotlib.pyplot as plt\n",
    "\n",
    "try:\n",
    "    import numqi\n",
    "except ImportError:\n",
    "    %pip install numqi\n",
    "    import numqi"
   ]
  },
  {
   "cell_type": "markdown",
   "metadata": {},
   "source": [
    "## Fixed operators\n",
    "\n",
    "Here, we choose two different operators $((\\sigma_z+\\sigma_0)\\sigma_z)/(2\\sqrt{2})$ and $(\\sigma_y\\sigma_x-\\sigma_x\\sigma_y)/2$.\n"
   ]
  },
  {
   "cell_type": "code",
   "execution_count": null,
   "metadata": {},
   "outputs": [],
   "source": [
    "# about 1 minute\n",
    "sx = np.array([[0,1],[1,0]])\n",
    "sy = np.array([[0,-1j],[1j,0]])\n",
    "sz = np.array([[1,0],[0,-1]])\n",
    "op0 = np.kron(np.array([[1/np.sqrt(2),0],[0,0]]), sz)\n",
    "op1 = (np.kron(sy, sx) - np.kron(sx, sy)) / 2\n",
    "dimA = 2\n",
    "dimB = 2\n",
    "num_theta = 100\n",
    "kext_list = [8,16,32,64,128]\n",
    "\n",
    "theta_list = np.linspace(0, 2*np.pi, num_theta)\n",
    "direction = np.stack([np.cos(theta_list), np.sin(theta_list)], axis=1)\n",
    "beta_ppt = numqi.entangle.get_ppt_numerical_range([op0,op1], direction, (dimA,dimB))\n",
    "op_nr_ppt = beta_ppt.reshape(-1,1)*direction\n",
    "model_cha = numqi.entangle.AutodiffCHAREE((dimA, dimB))\n",
    "ret_cha = model_cha.get_numerical_range(op0, op1, num_theta=num_theta, num_repeat=3)\n",
    "ret_pureb = []\n",
    "for kext_i in kext_list:\n",
    "    model = numqi.entangle.PureBosonicExt(2, 2, kext=kext_i)\n",
    "    ret_pureb.append(model.get_numerical_range(op0, op1, num_theta=num_theta, num_repeat=3))\n",
    "ret_pureb = np.stack(ret_pureb)\n",
    "\n",
    "fig,ax = plt.subplots()\n",
    "ax.plot(op_nr_ppt[:,0], op_nr_ppt[:,1], 'x', label=f'PPT')\n",
    "ax.plot(ret_cha[:,0], ret_cha[:,1], linewidth=0.5, label=f'CHA')\n",
    "for ind0 in range(len(kext_list)):\n",
    "    ax.plot(ret_pureb[ind0,:,0], ret_pureb[ind0,:,1], linewidth=0.5, label=f'PureB({kext_list[ind0]})')\n",
    "ax.legend()\n",
    "ax.set_xlabel('$O_1$')\n",
    "ax.set_ylabel('$O_2$')\n",
    "ax.set_xlabel(r'$((\\sigma_z+\\sigma_0)\\sigma_z)/(2\\sqrt{2})$')\n",
    "ax.set_ylabel(r'$(\\sigma_y\\sigma_x-\\sigma_x\\sigma_y)/2$')\n",
    "ax.set_title(f'numerical range {dimA}x{dimB}')\n",
    "fig.tight_layout()"
   ]
  },
  {
   "cell_type": "markdown",
   "metadata": {},
   "source": [
    "## Random operators"
   ]
  },
  {
   "cell_type": "code",
   "execution_count": null,
   "metadata": {},
   "outputs": [],
   "source": [
    "# about 1 minute\n",
    "hf_trace0 = lambda x: x - np.eye(x.shape[0])*np.trace(x)/x.shape[0]\n",
    "dimA = 3\n",
    "dimB = 3\n",
    "kext = 32\n",
    "op0 = hf_trace0(numqi.random.rand_hermitian_matrix(dimA*dimB))\n",
    "op1 = hf_trace0(numqi.random.rand_hermitian_matrix(dimA*dimB))\n",
    "num_theta = 100\n",
    "\n",
    "theta_list = np.linspace(0, 2*np.pi, num_theta)\n",
    "direction = np.stack([np.cos(theta_list), np.sin(theta_list)], axis=1)\n",
    "beta_ppt = numqi.entangle.get_ppt_numerical_range([op0, op1], direction, (dimA,dimB))\n",
    "op_nr_ppt = beta_ppt.reshape(-1,1)*direction\n",
    "model_cha = numqi.entangle.AutodiffCHAREE((dimA, dimB))\n",
    "ret_cha = model_cha.get_numerical_range(op0, op1, num_theta=num_theta, num_repeat=3)\n",
    "model_pureb = numqi.entangle.PureBosonicExt(dimA, dimB, kext=kext)\n",
    "ret_pureb = model_pureb.get_numerical_range(op0, op1, num_theta=num_theta, num_repeat=3)\n",
    "\n",
    "fig,ax = plt.subplots()\n",
    "ax.plot(op_nr_ppt[:,0], op_nr_ppt[:,1], 'x', label=f'PPT')\n",
    "ax.plot(ret_cha[:,0], ret_cha[:,1], linewidth=0.5, label=f'CHA')\n",
    "ax.plot(ret_pureb[:,0], ret_pureb[:,1], linewidth=0.5, label=f'PureB({kext})')\n",
    "ax.legend()\n",
    "ax.grid()\n",
    "ax.set_xlabel('random $O_1$')\n",
    "ax.set_ylabel('random $O_2$')\n",
    "ax.set_title(f'numerical range {dimA}x{dimB}')\n",
    "fig.tight_layout()\n"
   ]
  }
 ],
 "metadata": {
  "kernelspec": {
   "display_name": "cuda122",
   "language": "python",
   "name": "python3"
  },
  "language_info": {
   "codemirror_mode": {
    "name": "ipython",
    "version": 3
   },
   "file_extension": ".py",
   "mimetype": "text/x-python",
   "name": "python",
   "nbconvert_exporter": "python",
   "pygments_lexer": "ipython3",
   "version": "3.10.13"
  }
 },
 "nbformat": 4,
 "nbformat_minor": 2
}
