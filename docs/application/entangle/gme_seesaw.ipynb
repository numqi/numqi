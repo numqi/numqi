{
 "cells": [
  {
   "cell_type": "markdown",
   "metadata": {},
   "source": [
    "# GME by Seesaw algorithm\n",
    "\n",
    "<a target=\"_blank\" href=\"https://colab.research.google.com/github/numqi/numqi/blob/main/docs/application/entangle/gme_seesaw.ipynb\">\n",
    "  <img src=\"https://colab.research.google.com/assets/colab-badge.svg\" alt=\"Open In Colab\"/>\n",
    "</a>\n",
    "\n",
    "Geometric Measure of Entanglement (GME) is an important measure of entanglement in quantum information theory. GME of an entangled state is strictly positive, and it is zero for separable states. It is a measure of the distance of a state from the set of separable states (SEP, see [doc-link](../cha) for more details).\n",
    "\n",
    "This tutorial will reproduce the seesaw algorithm for calculating GME, proposed in paper [doi-link](https://doi.org/10.1103/PhysRevA.84.022323)\n",
    "\n",
    "> Simple algorithm for computing the geometric measure of entanglement"
   ]
  },
  {
   "cell_type": "code",
   "execution_count": null,
   "metadata": {},
   "outputs": [],
   "source": [
    "import numpy as np\n",
    "import scipy.special\n",
    "from tqdm.notebook import tqdm\n",
    "import matplotlib.pyplot as plt\n",
    "\n",
    "try:\n",
    "    import numqi\n",
    "except ImportError:\n",
    "    %pip install numqi\n",
    "    import numqi\n"
   ]
  },
  {
   "cell_type": "markdown",
   "metadata": {},
   "source": [
    "## Pure states\n",
    "\n",
    "For a given pure state $|\\psi\\rangle$, the GME is given by\n",
    "\n",
    "$$ E_{G}\\left(|\\psi\\rangle\\right)=\\max_{\\sigma\\in\\mathrm{SEP}}F\\left(\\sigma,|\\psi\\rangle\\right)=\\max_{|\\phi\\rangle\\in\\mathrm{ext}\\left(\\mathrm{SEP}\\right)}\\left|\\langle\\phi|\\psi\\rangle\\right|^{2} $$\n",
    "\n",
    "where $\\mathrm{ext}(\\mathrm{SEP})$ is the set of extremal states in the set of separable states, i.e., the *pure* product states.\n",
    "\n",
    "Specifically, for bipartite pure states $|\\psi\\rangle_{AB}$, the GME is given by\n",
    "\n",
    "$$ |\\psi\\rangle\\in\\mathcal{H}_{d_{1}}\\otimes\\mathcal{H}_{d_{2}}\\;\\Rightarrow\\;E_{G}\\left(|\\psi\\rangle\\right)=1-\\lambda_{\\max}^{2} $$\n",
    "\n",
    "where $\\lambda_{\\max}$ is the largest singular value (Schmidt coefficient ) of $|\\psi\\rangle$ (treated as a $d_1$-by-$d_2$ matrix). For example, the GME for the Bell state $|\\Phi^{+}\\rangle=\\frac{1}{\\sqrt{2}}\\left(|00\\rangle+|11\\rangle\\right)$ is $1-\\frac{1}{2}=0.5$."
   ]
  },
  {
   "cell_type": "code",
   "execution_count": null,
   "metadata": {},
   "outputs": [],
   "source": [
    "psi = numqi.state.Bell()\n",
    "gme = numqi.entangle.get_GME_pure_seesaw(psi.reshape(2,2))[0]\n",
    "print('Bell state:', psi)\n",
    "print('GME:', gme)"
   ]
  },
  {
   "cell_type": "markdown",
   "metadata": {},
   "source": [
    "But for multipartite pure states, few analytical results are known. The seesaw algorithm is a simple numerical algorithm to calculate GME for multipartite pure states. The GME for Dicke states (basis for symmetric states) are known analytically [doi-link](https://doi.org/10.1063/1.3464263), such as:\n",
    "\n",
    "$$ \\left|D_{4,2}\\right\\rangle =\\frac{1}{\\sqrt{6}}\\left(\\left|0011\\right\\rangle +\\left|0101\\right\\rangle +\\left|1001\\right\\rangle +\\left|0110\\right\\rangle +\\left|1010\\right\\rangle +\\left|1100\\right\\rangle \\right) $$\n",
    "\n",
    "$$ E_G(\\left|D_{4,2}\\right\\rangle)=\\frac{5}{8}$$"
   ]
  },
  {
   "cell_type": "code",
   "execution_count": null,
   "metadata": {},
   "outputs": [],
   "source": [
    "psi = numqi.state.Dicke(2,2)\n",
    "gme = numqi.entangle.get_GME_pure_seesaw(psi.reshape(2,2,2,2))[0]\n",
    "print('Dicke(4,2):', psi)\n",
    "print('GME:', gme)"
   ]
  },
  {
   "cell_type": "markdown",
   "metadata": {},
   "source": [
    "## Density matrices\n",
    "\n",
    "For mixed states, the GME is given by\n",
    "\n",
    "$$ E_{G}(\\rho)=1-\\max_{\\sigma\\in\\mathrm{SEP}}F(\\rho,\\sigma) $$\n",
    "\n",
    "where $F(\\rho,\\sigma)=\\mathrm{Tr}\\sqrt{\\sqrt{\\rho}\\sigma\\sqrt{\\rho}}$ is the fidelity between states $\\rho$ and $\\sigma$. The seesaw algorithm can be extended to mixed states by considering the purification of the SEP states (a rough derivation is put at the end of this tutorial). Below we demonstrate the seesaw algorithm on some examples."
   ]
  },
  {
   "cell_type": "markdown",
   "metadata": {},
   "source": [
    "### Isotropic state\n",
    "\n",
    "[doc-link](../../get_started/quantum_state/#isotropic-state)\n",
    "\n",
    "$$ \\rho_d(\\alpha)=\\frac{1}{d^2-d\\alpha}I-\\frac{\\alpha}{d^2-d\\alpha}\\sum_{ij}\\left|ij\\right\\rangle \\left\\langle ji\\right|,\\quad\\alpha\\in\\left[-1,1\\right] $$\n",
    "\n",
    "Analytical GME is known for isotropic states: [doi-link](https://doi.org/10.1103/PhysRevA.68.042307) (eq-54)\n",
    "\n",
    "> Geometric measure of entanglement and applications to bipartite and multipartite quantum states"
   ]
  },
  {
   "cell_type": "code",
   "execution_count": null,
   "metadata": {},
   "outputs": [],
   "source": [
    "dim = 3\n",
    "alpha_list = np.linspace(0, 1, 100)\n",
    "ret_ = numqi.state.get_Isotropic_GME(dim, alpha_list)\n",
    "kwargs = dict(dim_list=(dim,dim), converge_eps=1e-8)\n",
    "ret0 = np.array([numqi.entangle.get_GME_seesaw(numqi.state.Isotropic(dim,x), **kwargs) for x in tqdm(alpha_list)])\n",
    "\n",
    "fig,ax = plt.subplots()\n",
    "ax.plot(alpha_list, ret_, 'x', label='analytical')\n",
    "ax.plot(alpha_list, ret0, label='seesaw')\n",
    "ax.set_xlabel('alpha')\n",
    "ax.set_title(f'Isotropic(d={dim}), GME')\n",
    "ax.legend()\n",
    "ax.set_yscale('log')\n",
    "fig.tight_layout()"
   ]
  },
  {
   "cell_type": "markdown",
   "metadata": {},
   "source": [
    "### GHZ state\n",
    "\n",
    "$$ |\\mathrm{GHZ}\\rangle=\\frac{1}{\\sqrt{2}}\\left(|000\\rangle+|111\\rangle\\right) $$\n",
    "\n",
    "$$ \\rho(p)=(1-p) \\rho_0 + p |\\mathrm{GHZ}\\rangle\\langle\\mathrm{GHZ}| $$\n",
    "\n",
    "where $\\rho_0=\\frac{I}{8}$ is the maximally mixed state.\n",
    "\n",
    "The boundary of the set of separable states for the GHZ state is known: $p=\\frac{1}{5}$ [doi-link](https://doi.org/10.1103/PhysRevA.84.022323) (eq-38)"
   ]
  },
  {
   "cell_type": "code",
   "execution_count": null,
   "metadata": {},
   "outputs": [],
   "source": [
    "tmp0 = numqi.state.GHZ(3)\n",
    "rho_ghz = tmp0.reshape(-1,1)*tmp0.conj()\n",
    "kwargs = dict(dim_list=(2,2,2), converge_eps=1e-10)\n",
    "plist = np.linspace(0, 1, 100)\n",
    "ret_seesaw = [numqi.entangle.get_GME_seesaw(numqi.utils.hf_interpolate_dm(rho_ghz, alpha=x), **kwargs) for x in tqdm(plist)]\n",
    "\n",
    "fig,ax = plt.subplots()\n",
    "ax.plot(plist, ret_seesaw)\n",
    "ax.set_xlabel('p')\n",
    "ax.set_title('GHZ, GME')\n",
    "ax.axvline(0.2, color='red')\n",
    "ax.set_yscale('log')\n",
    "fig.tight_layout()"
   ]
  },
  {
   "cell_type": "markdown",
   "metadata": {},
   "source": [
    "## XX model\n",
    "\n",
    "XX model is also discussed in the paper, let's reproduce the results.\n",
    "\n",
    "The Hamiltonian $H$ of three-qubits system is given by\n",
    "\n",
    "$$ H=\\frac{B}{2}\\sum_{i=1}^{3}Z_{i}+J\\sum_{i=1}^{3}\\left(X_{i}X_{i+1}+Y_{i}Y_{i+1}\\right) $$\n",
    "\n",
    "with periodic boundary condition $X_{4}=X_{1},Y_{4}=Y_{1}$. The thermal state is given by\n",
    "\n",
    "$$ \\rho=\\frac{1}{Z}e^{-H/kT},\\;Z=\\mathrm{Tr}\\left[e^{-H/kT}\\right]. $$"
   ]
  },
  {
   "cell_type": "code",
   "execution_count": null,
   "metadata": {},
   "outputs": [],
   "source": [
    "def get_XX_model_periodic_ham(num_qubit):\n",
    "    import functools\n",
    "    hf_kron = lambda *x: functools.reduce(np.kron, x)\n",
    "    ham0 = 0\n",
    "    for ind0 in range(num_qubit):\n",
    "        tmp0 = [numqi.gate.I for _ in range(num_qubit)]\n",
    "        tmp0[ind0] = numqi.gate.Z\n",
    "        ham0 = ham0 + hf_kron(*tmp0)\n",
    "    ham1 = 0\n",
    "    for ind0 in range(num_qubit):\n",
    "        tmp0 = [numqi.gate.I for _ in range(num_qubit)]\n",
    "        tmp0[ind0] = numqi.gate.X\n",
    "        tmp0[(ind0+1)%num_qubit] = numqi.gate.X\n",
    "        ham1 = ham1 + hf_kron(*tmp0)\n",
    "        tmp0 = [numqi.gate.I for _ in range(num_qubit)]\n",
    "        tmp0[ind0] = numqi.gate.Y\n",
    "        tmp0[(ind0+1)%num_qubit] = numqi.gate.Y\n",
    "        ham1 = ham1 + hf_kron(*tmp0)\n",
    "    return ham0, ham1\n"
   ]
  },
  {
   "cell_type": "code",
   "execution_count": null,
   "metadata": {},
   "outputs": [],
   "source": [
    "interactionJ = 0.5\n",
    "kT_list = np.linspace(1e-4, 2, 100)\n",
    "magneticB_list = [0, 0.5, 1, 1.2]\n",
    "num_qubit = 3\n",
    "kwargs = dict(dim_list=[2]*num_qubit, converge_eps=1e-7)\n",
    "ham0, ham1 = get_XX_model_periodic_ham(num_qubit)\n",
    "\n",
    "ret_list = []\n",
    "for magneticB in magneticB_list:\n",
    "    tmp0 = (magneticB/2)*ham0 + interactionJ*ham1\n",
    "    EVL,EVC = np.linalg.eigh(tmp0)\n",
    "    for kT in tqdm(kT_list, desc=f'magneticB={magneticB}'):\n",
    "        rho = (EVC * scipy.special.softmax(-EVL/kT)) @ EVC.T.conj()\n",
    "        ret_list.append(numqi.entangle.get_GME_seesaw(rho, **kwargs))\n",
    "ret_list = np.array(ret_list).reshape(-1, len(kT_list))\n",
    "\n",
    "fig,ax = plt.subplots()\n",
    "for ind0 in range(len(magneticB_list)):\n",
    "    ax.plot(kT_list, ret_list[ind0], label=f'B={magneticB_list[ind0]}')\n",
    "ax.set_xlabel('kT')\n",
    "ax.set_title('XX model, GME')\n",
    "ax.legend()\n",
    "fig.tight_layout()\n"
   ]
  },
  {
   "cell_type": "code",
   "execution_count": null,
   "metadata": {},
   "outputs": [],
   "source": [
    "interactionJ = 0.5\n",
    "kT_list = [0.01, 0.1, 0.5]\n",
    "magneticB_list = np.linspace(0, 2, 100)\n",
    "num_qubit = 3\n",
    "kwargs = dict(dim_list=[2]*num_qubit, converge_eps=1e-7)\n",
    "ham0, ham1 = get_XX_model_periodic_ham(num_qubit)\n",
    "\n",
    "ret_list = []\n",
    "for magneticB in tqdm(magneticB_list):\n",
    "    tmp0 = (magneticB/2)*ham0 + interactionJ*ham1\n",
    "    EVL,EVC = np.linalg.eigh(tmp0)\n",
    "    for kT in kT_list:\n",
    "        rho = (EVC * scipy.special.softmax(-EVL/kT)) @ EVC.T.conj()\n",
    "        ret_list.append(numqi.entangle.get_GME_seesaw(rho, **kwargs))\n",
    "ret_list = np.array(ret_list).reshape(-1, len(kT_list)).T\n",
    "\n",
    "fig,ax = plt.subplots()\n",
    "for ind0 in range(len(kT_list)):\n",
    "    ax.plot(magneticB_list, ret_list[ind0], label=f'kT={kT_list[ind0]}')\n",
    "ax.set_xlabel('magnetic B')\n",
    "ax.set_title('XX model, GME')\n",
    "ax.legend()\n",
    "fig.tight_layout()"
   ]
  },
  {
   "cell_type": "markdown",
   "metadata": {},
   "source": [
    "## Mathematical formulation\n",
    "\n",
    "This part is mainly for a quick reference. The detailed derivation please refer to the original paper [doi-link](https://doi.org/10.1103/PhysRevA.84.022323).\n",
    "\n",
    "$$ \\begin{aligned} \\mathrm{Pure}\\left(\\mathrm{SEP}\\right)&=\\left\\{ |\\phi\\rangle\\in\\mathcal{H}_{d_{1}}\\otimes\\mathcal{H}_{d_{2}}\\otimes\\cdots\\otimes\\mathcal{H}_{d_{a}},\\mathrm{Tr}_{d_{a}}\\left[|\\phi\\rangle\\langle\\phi\\right]\\in\\mathrm{SEP}\\right\\} \\\\&=\\left\\{ \\sum_{j\\in[N]}\\sqrt{q_{j}}\\left(\\otimes_{s}|\\phi_{j}^{(s)}\\rangle\\right)\\otimes U^{\\dagger}|j\\rangle:q\\in\\Delta_{+}^{N-1},|\\phi_{i}\\rangle\\in\\mathcal{H}_{d_{i}},U\\in\\mathrm{SU}(N)\\right\\}  \\end{aligned} $$\n",
    "\n",
    "$$ \\Delta_{+}^{N-1}=\\left\\{ x\\in\\mathbb{R}^{N}:x_{i}\\geq0,x_{1}+\\cdots+x_{N}=1\\right\\} $$\n",
    "\n",
    "$$ \\rho=\\sum_{i\\in[r]}p_{i}|\\psi_{i}\\rangle\\langle\\psi_{i}| $$\n",
    "\n",
    "$$ |\\psi\\rangle=\\sum_{i\\in[r]}\\sqrt{p_{i}}|\\psi_{i}\\rangle\\otimes|i\\rangle\\;\\rightarrow\\;\\rho=\\mathrm{Tr}_{d_{a}}\\left[|\\psi\\rangle\\langle\\psi|\\right] $$\n",
    "\n",
    "$$ E_{G}(\\rho)=1-\\max_{|\\phi\\rangle\\in\\mathrm{Pure}\\left(\\mathrm{SEP}\\right)}\\left|\\langle\\psi|\\phi\\rangle\\right|^{2} $$"
   ]
  }
 ],
 "metadata": {
  "kernelspec": {
   "display_name": "Python 3",
   "language": "python",
   "name": "python3"
  },
  "language_info": {
   "codemirror_mode": {
    "name": "ipython",
    "version": 3
   },
   "file_extension": ".py",
   "mimetype": "text/x-python",
   "name": "python",
   "nbconvert_exporter": "python",
   "pygments_lexer": "ipython3",
   "version": "3.12.3"
  }
 },
 "nbformat": 4,
 "nbformat_minor": 2
}
