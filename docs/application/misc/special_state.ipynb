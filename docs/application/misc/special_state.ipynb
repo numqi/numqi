{
 "cells": [
  {
   "cell_type": "markdown",
   "metadata": {},
   "source": [
    "# Special states\n",
    "\n",
    "<a target=\"_blank\" href=\"https://colab.research.google.com/github/numqi/numqi/blob/main/docs/application/misc/special_state.ipynb\">\n",
    "  <img src=\"https://colab.research.google.com/assets/colab-badge.svg\" alt=\"Open In Colab\"/>\n",
    "</a>\n",
    "\n",
    "`numqi.state` implements those speical / interesting states in quantum information."
   ]
  },
  {
   "cell_type": "code",
   "execution_count": null,
   "metadata": {},
   "outputs": [],
   "source": [
    "import numpy as np\n",
    "import matplotlib.pyplot as plt\n",
    "from tqdm.auto import tqdm\n",
    "\n",
    "try:\n",
    "    import numqi\n",
    "except ImportError:\n",
    "    %pip install numqi\n",
    "    import numqi\n"
   ]
  },
  {
   "cell_type": "markdown",
   "metadata": {},
   "source": [
    "## Werner state\n",
    "\n",
    "[wiki/werner-state](https://en.wikipedia.org/wiki/Werner_state)\n",
    "\n",
    "[quantiki/werner-state](https://www.quantiki.org/wiki/werner-state)\n",
    "\n",
    "[doi-link](http://dx.doi.org/10.1103/PhysRevA.88.032323) Compatible quantum correlations: Extension problems for Werner and isotropic states\n",
    "\n",
    "**Definition** chosen in `numqi`:\n",
    "\n",
    "$$ \\rho_d(\\alpha)=\\frac{1}{d^2-d\\alpha}I-\\frac{\\alpha}{d^2-d\\alpha}\\sum_{ij}\\left|ij\\right\\rangle \\left\\langle ji\\right|,\\quad\\alpha\\in\\left[-1,1\\right] $$\n",
    "\n",
    "* SEP range: $\\alpha\\in\\left[-1,\\frac{1}{d}\\right]$\n",
    "* (1,k) extension range: $\\alpha\\in\\left[-1,\\frac{k+d^{2}-d}{kd+d-1}\\right]$\n",
    "* given a Werner state $\\rho\\in\\mathbb{C}^{d^2\\times d^2}$, the corresponding $\\alpha=\\frac{1-d^2\\rho_{00}}{1-d\\rho_{00}}$\n",
    "* PPT can correctly detect the entanglement of Werner state\n",
    "\n",
    "**Other definition** of Werner state\n",
    "\n",
    "$$ \\rho_{d}\\left(a\\right)=\\frac{d-a}{d\\left(d^{2}-1\\right)}I+\\frac{ad-1}{d\\left(d^{2}-1\\right)}\\sum_{ij}\\left|ij\\right\\rangle \\left\\langle ji\\right|,\\quad a\\in\\left[-1,1\\right] $$\n",
    "\n",
    "Given a Werner state in variable $a$, we can find the corresponding Werner state in variable $\\alpha$ by $\\alpha=\\frac{1-ad}{d-a}$."
   ]
  },
  {
   "cell_type": "code",
   "execution_count": null,
   "metadata": {},
   "outputs": [],
   "source": [
    "# TODO demo (1,k)-ext boundary"
   ]
  },
  {
   "cell_type": "markdown",
   "metadata": {},
   "source": [
    "### Relative Entropy of Entanglement (REE)\n",
    "\n",
    "[doi-link](https://doi.org/10.1103/PhysRevA.64.062307) Entanglement measures under symmetry\n",
    "\n",
    "$$ E_{R}(\\rho(\\alpha))=\\begin{cases}\n",
    "S\\left(\\rho(\\alpha)||\\rho(1/d)\\right) & \\alpha>\\frac{1}{d}\\\\\n",
    "0 & \\alpha\\leq\\frac{1}{d}\n",
    "\\end{cases} $$\n"
   ]
  },
  {
   "cell_type": "code",
   "execution_count": null,
   "metadata": {},
   "outputs": [],
   "source": [
    "dim = 3\n",
    "alpha_list = np.linspace(-1, 1, 32)[1:-1] #logm singularity at alpha=1\n",
    "\n",
    "ree_analytical = np.array([numqi.state.get_Werner_ree(dim, x) for x in alpha_list])\n",
    "rho_list = np.stack([numqi.state.Werner(dim,x) for x in alpha_list])\n",
    "ree_ppt = numqi.entangle.get_ppt_ree(rho_list, dim, dim, use_tqdm=True)\n",
    "\n",
    "fig,ax = plt.subplots()\n",
    "ax.plot(alpha_list, ree_ppt, label='PPT')\n",
    "ax.plot(alpha_list, ree_analytical, 'x', label='Analytical')\n",
    "ax.legend()\n",
    "ax.set_xlabel(r'$\\alpha$')\n",
    "ax.set_ylabel('REE')\n"
   ]
  },
  {
   "cell_type": "markdown",
   "metadata": {},
   "source": [
    "### Entanglement of formation (EoF)\n",
    "\n",
    "[doi-link](https://doi.org/10.1007/s11704-008-0017-8) Entanglement of formation and concurrence for mixed states"
   ]
  },
  {
   "cell_type": "code",
   "execution_count": null,
   "metadata": {},
   "outputs": [],
   "source": [
    "dim = 3\n",
    "alpha_list = np.linspace(-1, 1, 32)[1:-1]\n",
    "# boundary points are singular for numqi.entangle.EntanglementFormationModel\n",
    "\n",
    "eof_analytical = np.array([numqi.state.get_Werner_eof(dim, x) for x in alpha_list])\n",
    "eof_opt_list = []\n",
    "model = numqi.entangle.EntanglementFormationModel(dim, dim, num_term=2*dim*dim)\n",
    "for alpha in tqdm(alpha_list):\n",
    "    model.set_density_matrix(numqi.state.Werner(dim, alpha))\n",
    "    eof_opt_list.append(numqi.optimize.minimize(model, tol=1e-10, print_every_round=0).fun)\n",
    "eof_opt_list = np.array(eof_opt_list)\n",
    "\n",
    "fig,ax = plt.subplots()\n",
    "ax.plot(alpha_list, eof_analytical, 'x', label='Analytical')\n",
    "ax.plot(alpha_list, eof_opt_list, label='Optimization')\n",
    "ax.legend()\n",
    "ax.set_xlabel(r'$\\alpha$')\n",
    "ax.set_ylabel('EoF')\n"
   ]
  },
  {
   "cell_type": "markdown",
   "metadata": {},
   "source": [
    "## Isotropic state\n",
    "\n",
    "[quantiki/isotropic-state](https://www.quantiki.org/wiki/isotropic-state)\n",
    "\n",
    "[doi-link](http://dx.doi.org/10.1103/PhysRevA.88.032323) Compatible quantum correlations: Extension problems for Werner and isotropic states\n",
    "\n",
    "Definition chosen in `numqi`:\n",
    "\n",
    "$$ \\rho_d(\\alpha)=\\frac{1-\\alpha}{d^2}I+\\frac{\\alpha}{d}\\sum_{ij}\\left|ii\\right\\rangle \\left\\langle jj\\right|,\\quad\\alpha\\in\\left[-\\frac{1}{d^{2}-1},1\\right] $$\n",
    "\n",
    "* SEP range: $\\alpha\\in \\left[-\\frac{1}{d^2-1},\\frac{1}{d+1}\\right]$\n",
    "* (1,k) extension range: $\\alpha\\in \\left[-\\frac{1}{d^2-1},\\frac{kd+d^2-d-k}{k(d^2-1)}\\right]$\n",
    "* given a Isotropic state $\\rho\\in\\mathbb{C}^{d^2\\times d^2}$, the corresponding $\\alpha=\\frac{d^2\\rho_{00}-1}{d-1}$\n",
    "* PPT can correctly detect the entanglement of Werner state\n",
    "\n",
    "**Other definition** of Isotropic state\n",
    "\n",
    "$$ \\rho_d\\left(a\\right)=\\frac{d-a}{d\\left(d^{2}-1\\right)}I+\\frac{ad-1}{d\\left(d^{2}-1\\right)}\\sum_{ij}\\left|ii\\right\\rangle \\left\\langle jj\\right|,\\quad a\\in\\left[0,d\\right] $$\n",
    "\n",
    "Given a Isotropic state in variable $a$, we can find the corresponding Isotropic state in variable $\\alpha$ by $\\alpha=\\frac{ad-1}{d^2-1}$."
   ]
  },
  {
   "cell_type": "markdown",
   "metadata": {},
   "source": [
    "### Relative Entropy of Entanglement (REE)\n",
    "\n",
    "(TODO-reference)\n",
    "\n",
    "$$ E_{R}(\\rho(\\alpha))=\\begin{cases}\n",
    "S\\left(\\rho(\\alpha)||\\rho(\\frac{1}{d+1})\\right) & \\alpha>\\frac{1}{d+1}\\\\\n",
    "0 & \\alpha\\leq\\frac{1}{d+1}\n",
    "\\end{cases} $$"
   ]
  },
  {
   "cell_type": "code",
   "execution_count": null,
   "metadata": {},
   "outputs": [],
   "source": [
    "dim = 3\n",
    "alpha_list = np.linspace(-1/(dim*dim-1), 1, 32)[1:-1]\n",
    "\n",
    "ree_analytical = np.array([numqi.state.get_Isotropic_ree(dim, x) for x in alpha_list])\n",
    "rho_list = np.stack([numqi.state.Isotropic(dim,x) for x in alpha_list])\n",
    "ree_ppt = numqi.entangle.get_ppt_ree(rho_list, dim, dim, use_tqdm=True)\n",
    "\n",
    "fig,ax = plt.subplots()\n",
    "ax.plot(alpha_list, ree_ppt, label='PPT')\n",
    "ax.plot(alpha_list, ree_analytical, 'x', label='Analytical')\n",
    "ax.legend()\n",
    "ax.set_xlabel(r'$\\alpha$')\n",
    "ax.set_ylabel('REE')\n"
   ]
  },
  {
   "cell_type": "markdown",
   "metadata": {},
   "source": [
    "### Entanglement of formation (EoF)\n",
    "\n",
    "[doi-link](https://doi.org/10.1007/s11704-008-0017-8) Entanglement of formation and concurrence for mixed states"
   ]
  },
  {
   "cell_type": "code",
   "execution_count": null,
   "metadata": {},
   "outputs": [],
   "source": [
    "dim = 3\n",
    "alpha_list = np.linspace(-1/(dim*dim), 1, 32)[1:-1]\n",
    "# boundary points are singular for numqi.entangle.EntanglementFormationModel\n",
    "\n",
    "eof_analytical = np.array([numqi.state.get_Isotropic_eof(dim, x) for x in alpha_list])\n",
    "eof_opt_list = []\n",
    "model = numqi.entangle.EntanglementFormationModel(dim, dim, num_term=2*dim*dim)\n",
    "for alpha in tqdm(alpha_list):\n",
    "    model.set_density_matrix(numqi.state.Isotropic(dim, alpha))\n",
    "    eof_opt_list.append(numqi.optimize.minimize(model, tol=1e-10, print_every_round=0).fun)\n",
    "eof_opt_list = np.array(eof_opt_list)\n",
    "\n",
    "fig,ax = plt.subplots()\n",
    "ax.plot(alpha_list, eof_analytical, 'x', label='Analytical')\n",
    "ax.plot(alpha_list, eof_opt_list, label='Optimization')\n",
    "ax.legend()\n",
    "ax.set_xlabel(r'$\\alpha$')\n",
    "ax.set_ylabel('EoF')\n"
   ]
  },
  {
   "cell_type": "markdown",
   "metadata": {},
   "source": [
    "## Maximally entangled state\n",
    "\n",
    "$$ \\frac{1}{\\sqrt{d}} \\sum_{i=1}^{d} |ii\\rangle  $$"
   ]
  },
  {
   "cell_type": "code",
   "execution_count": null,
   "metadata": {},
   "outputs": [],
   "source": [
    "numqi.state.maximally_entangled_state(3)"
   ]
  },
  {
   "cell_type": "markdown",
   "metadata": {},
   "source": [
    "## W state\n",
    "\n",
    "[wiki/W-state](https://en.wikipedia.org/wiki/W_state)\n",
    "\n",
    "$$ |W\\rangle=\\frac{1}{\\sqrt{3}}(|001\\rangle + |010\\rangle + |100\\rangle) \\in (\\mathcal{H}_2)^{\\otimes 3} $$\n",
    "\n",
    "$$ |W_n\\rangle=\\frac{1}{\\sqrt{n}}\\sum_{\\mathrm{wt}(x)=1} |x\\rangle \\in (\\mathcal{H}_2)^{\\otimes n} $$"
   ]
  },
  {
   "cell_type": "code",
   "execution_count": null,
   "metadata": {},
   "outputs": [],
   "source": [
    "numqi.state.W(3)"
   ]
  },
  {
   "cell_type": "markdown",
   "metadata": {},
   "source": [
    "## Maximally mixed state\n",
    "\n",
    "$$ \\rho_0 = \\sum_{i\\in[d^2]} \\frac{1}{d^2} | ii \\rangle\\langle ii |.$$"
   ]
  },
  {
   "cell_type": "code",
   "execution_count": null,
   "metadata": {},
   "outputs": [],
   "source": [
    "numqi.state.maximally_mixed_state(2)"
   ]
  },
  {
   "cell_type": "markdown",
   "metadata": {},
   "source": [
    "## Bell state\n",
    "\n",
    "$$ |\\Phi_0\\rangle = \\frac{1}{\\sqrt{2}}(|00\\rangle + |11\\rangle) $$\n",
    "\n",
    "$$ |\\Phi_1\\rangle = \\frac{1}{\\sqrt{2}}(|00\\rangle - |11\\rangle) $$\n",
    "\n",
    "$$ |\\Phi_2\\rangle = \\frac{1}{\\sqrt{2}}(|01\\rangle + |10\\rangle) $$\n",
    "\n",
    "$$ |\\Phi_3\\rangle = \\frac{1}{\\sqrt{2}}(|01\\rangle - |10\\rangle) $$"
   ]
  },
  {
   "cell_type": "code",
   "execution_count": null,
   "metadata": {},
   "outputs": [],
   "source": [
    "for i in range(4):\n",
    "    print(numqi.state.Bell(i))"
   ]
  },
  {
   "cell_type": "markdown",
   "metadata": {},
   "source": [
    "## GHZ state\n",
    "\n",
    "$$ |\\mathrm{GHZ}\\rangle = \\frac{1}{\\sqrt{2}}(|0\\rangle^{\\otimes n} + |1\\rangle^{\\otimes n}) $$"
   ]
  },
  {
   "cell_type": "code",
   "execution_count": null,
   "metadata": {},
   "outputs": [],
   "source": [
    "numqi.state.GHZ(3)"
   ]
  }
 ],
 "metadata": {
  "kernelspec": {
   "display_name": "Python 3",
   "language": "python",
   "name": "python3"
  },
  "language_info": {
   "codemirror_mode": {
    "name": "ipython",
    "version": 3
   },
   "file_extension": ".py",
   "mimetype": "text/x-python",
   "name": "python",
   "nbconvert_exporter": "python",
   "pygments_lexer": "ipython3",
   "version": "3.10.13"
  }
 },
 "nbformat": 4,
 "nbformat_minor": 2
}
