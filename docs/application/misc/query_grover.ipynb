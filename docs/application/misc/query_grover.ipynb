{
 "cells": [
  {
   "cell_type": "markdown",
   "metadata": {},
   "source": [
    "# Query Grover algorithm\n",
    "\n",
    "<a target=\"_blank\" href=\"https://colab.research.google.com/github/numqi/numqi/blob/main/docs/application/misc/query_grover.ipynb\">\n",
    "  <img src=\"https://colab.research.google.com/assets/colab-badge.svg\" alt=\"Open In Colab\"/>\n",
    "</a>\n",
    "\n",
    "see paper \"Variational learning algorithms for quantum query complexity\" [arxiv-link](https://arxiv.org/abs/2205.07449) for details"
   ]
  },
  {
   "cell_type": "code",
   "execution_count": null,
   "metadata": {},
   "outputs": [],
   "source": [
    "import numpy as np\n",
    "import torch\n",
    "\n",
    "try:\n",
    "    import numqi\n",
    "except ImportError:\n",
    "    %pip install numqi\n",
    "    import numqi\n"
   ]
  },
  {
   "cell_type": "code",
   "execution_count": null,
   "metadata": {},
   "outputs": [],
   "source": [
    "def hf_grover_oracle_wrapper(x:int):\n",
    "    def hf0(q0):\n",
    "        q0 = q0.copy()\n",
    "        q0[x] *= -1\n",
    "        return q0\n",
    "    return hf0\n"
   ]
  },
  {
   "cell_type": "code",
   "execution_count": null,
   "metadata": {},
   "outputs": [],
   "source": [
    "num_qubit = 4\n",
    "num_query = 3\n",
    "model = numqi.query.QueryGroverModel(num_qubit, num_query, use_fractional=False)\n",
    "theta_optim = numqi.optimize.minimize(model, theta0='uniform', tol=1e-10, num_repeat=3, early_stop_threshold=1e-4)\n",
    "print('error rate:', model.error_rate.item())\n",
    "print('loss function:', theta_optim.fun)\n",
    "\n",
    "if theta_optim.fun < 1e-5:\n",
    "    np_rng = np.random.default_rng()\n",
    "    xstar = np_rng.integers(2**num_qubit)\n",
    "    hf_oracle = hf_grover_oracle_wrapper(xstar)\n",
    "\n",
    "    with torch.no_grad():\n",
    "        unitary_list = model.manifold_SU().detach().numpy().transpose(0,2,1)\n",
    "    q0 = np.zeros(2**num_qubit, dtype=np.complex128)\n",
    "    q0[0] = 1\n",
    "    for ind0 in range(num_query):\n",
    "        q0 = unitary_list[ind0] @ q0\n",
    "        q0 = hf_oracle(q0)\n",
    "    q0 = unitary_list[-1] @ q0\n",
    "    prob = (q0.conj() * q0).real\n",
    "    x_found = np.argmax(prob)\n",
    "    assert x_found==xstar\n",
    "    assert abs(prob.max() - 1) < 1e-4\n"
   ]
  }
 ],
 "metadata": {
  "kernelspec": {
   "display_name": "Python 3",
   "language": "python",
   "name": "python3"
  },
  "language_info": {
   "codemirror_mode": {
    "name": "ipython",
    "version": 3
   },
   "file_extension": ".py",
   "mimetype": "text/x-python",
   "name": "python",
   "nbconvert_exporter": "python",
   "pygments_lexer": "ipython3",
   "version": "3.11.4"
  }
 },
 "nbformat": 4,
 "nbformat_minor": 2
}
