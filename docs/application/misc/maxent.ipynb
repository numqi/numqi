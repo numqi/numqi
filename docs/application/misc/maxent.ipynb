{
 "cells": [
  {
   "cell_type": "markdown",
   "metadata": {},
   "source": [
    "# maximum entropy method\n",
    "\n",
    "<a target=\"_blank\" href=\"https://colab.research.google.com/github/numqi/numqi/blob/main/docs/application/misc/maxent.ipynb\">\n",
    "  <img src=\"https://colab.research.google.com/assets/colab-badge.svg\" alt=\"Open In Colab\"/>\n",
    "</a>\n",
    "\n",
    "see paper \"Maximum entropy methods for quantum state compatibility problems\" [arxiv-link](https://arxiv.org/abs/2207.11645) for more details."
   ]
  },
  {
   "cell_type": "code",
   "execution_count": null,
   "metadata": {},
   "outputs": [],
   "source": [
    "import functools\n",
    "import numpy as np\n",
    "import matplotlib.pyplot as plt\n",
    "\n",
    "try:\n",
    "    import numqi\n",
    "except ImportError:\n",
    "    %pip install numqi\n",
    "    import numqi\n",
    "\n",
    "hf_kron = lambda *x: functools.reduce(np.kron, x)\n",
    "hf_trace0 = lambda x: x-(np.trace(x)/x.shape[0])*np.eye(x.shape[0])\n",
    "np_rng = np.random.default_rng()\n"
   ]
  },
  {
   "cell_type": "markdown",
   "metadata": {},
   "source": [
    "## 2 qubits, Pauli Operator"
   ]
  },
  {
   "cell_type": "code",
   "execution_count": null,
   "metadata": {},
   "outputs": [],
   "source": [
    "op_list = [\n",
    "    hf_kron(numqi.gate.X, numqi.gate.X),\n",
    "    hf_kron(numqi.gate.Z, numqi.gate.I),\n",
    "]\n",
    "model = numqi.maximum_entropy.MaximumEntropyModel(op_list)\n",
    "\n",
    "term_value = np.array([0.5, 0.5])\n",
    "model.set_target(term_value)\n",
    "theta_optim0 = numqi.optimize.minimize(model, theta0='uniform', num_repeat=1, tol=1e-10)\n",
    "model.theta\n",
    "model.dm_torch\n",
    "model.term_value\n",
    "\n",
    "term_value = np.array([2, 2])\n",
    "model.set_target(term_value)\n",
    "theta_optim0 = numqi.optimize.minimize(model, theta0='uniform', num_repeat=1, tol=1e-10)\n",
    "\n",
    "term_value_target, term_value_list, EVL_list = numqi.maximum_entropy.get_maximum_entropy_model_boundary(model, radius=1.5)\n",
    "term_value = np.array([-1.3,-1.5])\n",
    "coeffA, coeffC = model.get_witness(term_value)\n",
    "fig,ax = numqi.maximum_entropy.draw_maximum_entropy_model_boundary(term_value_target, term_value_list,\n",
    "                EVL_list, witnessA=coeffA, witnessC=coeffC)\n"
   ]
  },
  {
   "cell_type": "markdown",
   "metadata": {},
   "source": [
    "## 3 qubits, random local operators"
   ]
  },
  {
   "cell_type": "code",
   "execution_count": null,
   "metadata": {},
   "outputs": [],
   "source": [
    "np_rng = np.random.default_rng(233) #233\n",
    "tmp0 = [\n",
    "    hf_kron(numqi.random.rand_hermitian_matrix(4, seed=np_rng), numqi.gate.I),\n",
    "    hf_kron(numqi.gate.I, numqi.random.rand_hermitian_matrix(4, seed=np_rng)),\n",
    "]\n",
    "tmp0 = [hf_trace0(x) for x in tmp0]\n",
    "op_list = [x*(2/np.linalg.norm(x.reshape(-1))) for x in tmp0] #make it norm-2, better in plotting\n",
    "model = numqi.maximum_entropy.MaximumEntropyModel(op_list)\n",
    "\n",
    "term_value_target, term_value_list, EVL_list = numqi.maximum_entropy.get_maximum_entropy_model_boundary(model, radius=1.5, index=(0,1))\n",
    "term_value = np.array([-1.4,-0.5])\n",
    "coeffA, coeffC = model.get_witness(term_value)\n",
    "assert coeffA is not None\n",
    "fig,ax = numqi.maximum_entropy.draw_maximum_entropy_model_boundary(term_value_target, term_value_list,\n",
    "                EVL_list, witnessA=coeffA, witnessC=coeffC)\n"
   ]
  },
  {
   "cell_type": "markdown",
   "metadata": {},
   "source": [
    "Maximum entropy method can produce witness."
   ]
  },
  {
   "cell_type": "code",
   "execution_count": null,
   "metadata": {},
   "outputs": [],
   "source": [
    "num_qubit = 3\n",
    "op_list = numqi.maximum_entropy.get_1dchain_2local_pauli_basis(num_qubit, with_I=False)\n",
    "model = numqi.maximum_entropy.MaximumEntropyModel(op_list)\n",
    "\n",
    "state = np.array([0,1,1,0,1,0,0,0])/np.sqrt(3) #W-state\n",
    "term_value_target = ((op_list @ state) @ state.conj()).real\n",
    "model.set_target(term_value_target)\n",
    "theta_optim0 = numqi.optimize.minimize(model, theta0='uniform', num_repeat=3, tol=1e-12)\n",
    "if theta_optim0.fun < 1e-9: #fail to converge sometime, just re-run it\n",
    "    rho = model.dm_torch.detach().numpy()\n",
    "    rank = np.sum(np.linalg.eigvalsh(rho)>1e-4)\n",
    "    assert rank==1\n",
    "\n",
    "state = np.array([1,0,0,0,0,0,0,1])/np.sqrt(2) #GHZ-state\n",
    "term_value_target = ((op_list @ state) @ state.conj()).real\n",
    "model.set_target(term_value_target)\n",
    "theta_optim0 = numqi.optimize.minimize(model, theta0='uniform', num_repeat=3, tol=1e-12)\n",
    "if theta_optim0.fun < 1e-9: #fail to converge sometime, just re-run it\n",
    "    rho = model.dm_torch.detach().numpy()\n",
    "    rank = np.sum(np.linalg.eigvalsh(rho)>1e-4)\n",
    "    assert rank==2\n",
    "\n",
    "    coeffA,coeffC = model.get_witness(term_value_target*1.1)\n",
    "    assert coeffA is not None\n",
    "    for _ in range(1000):\n",
    "        rho = numqi.random.rand_density_matrix(2**num_qubit)\n",
    "        z0 = np.trace(op_list @ rho, axis1=1, axis2=2).real\n",
    "        assert np.dot(z0 - coeffA, coeffC) >= 0\n"
   ]
  },
  {
   "cell_type": "markdown",
   "metadata": {},
   "source": [
    "## 4 qubits, entanglement monogamy\n",
    "\n",
    "TODO more details"
   ]
  },
  {
   "cell_type": "code",
   "execution_count": null,
   "metadata": {},
   "outputs": [],
   "source": [
    "num_qubit = 4\n",
    "op_2qubit_list = numqi.maximum_entropy.get_1dchain_2local_pauli_basis(2, with_I=False)\n",
    "op_list = numqi.maximum_entropy.get_1dchain_2local_pauli_basis(num_qubit, with_I=False)\n",
    "model = numqi.maximum_entropy.MaximumEntropyModel(op_list)\n",
    "\n",
    "state = np.array([1,0,0,1])/np.sqrt(2) #Bell state\n",
    "tmp0 = ((op_2qubit_list @ state) @ state.conj()).real\n",
    "term_value_target = np.tile(tmp0, num_qubit-1)\n",
    "\n",
    "# due to entanglement monogamy, this must be a witness\n",
    "coeffA,coeffC = model.get_witness(term_value_target*1.1)\n",
    "assert coeffA is not None\n",
    "for _ in range(1000):\n",
    "    rho = numqi.random.rand_density_matrix(2**num_qubit)\n",
    "    z0 = np.trace(op_list @ rho, axis1=1, axis2=2).real\n",
    "    assert np.dot(z0 - coeffA, coeffC) >= 0\n"
   ]
  },
  {
   "cell_type": "markdown",
   "metadata": {},
   "source": [
    "## 4 qubits, random local operators\n",
    "\n",
    "3 minutes on my laptop, hard to converge (the plotting is not good)"
   ]
  },
  {
   "cell_type": "code",
   "execution_count": null,
   "metadata": {},
   "outputs": [],
   "source": [
    "# np_rng = np.random.default_rng(233)\n",
    "# num_qubit = 4\n",
    "# op_2qubit_list = numqi.maximum_entropy.get_1dchain_2local_pauli_basis(2, with_I=False)\n",
    "# op_list = numqi.maximum_entropy.get_1dchain_2local_pauli_basis(num_qubit, with_I=False)\n",
    "# model = numqi.maximum_entropy.MaximumEntropyModel(op_list)\n",
    "\n",
    "# tmp0 = [numqi.random.rand_density_matrix(4, seed=np_rng) for _ in range(num_qubit-1)]\n",
    "# term_value = np.concatenate([np.trace(op_2qubit_list@x, axis1=1, axis2=2).real for x in tmp0], axis=0)\n",
    "\n",
    "# index = np.sort(np_rng.permutation(len(term_value))[:2])\n",
    "# term_value_target, term_value_list, EVL_list = numqi.maximum_entropy.get_maximum_entropy_model_boundary(\n",
    "#         model, radius=1.2, index=index, term_value_target=term_value, tol=1e-7, num_repeat=3, num_point=50)\n",
    "# fig,ax = numqi.maximum_entropy.draw_maximum_entropy_model_boundary(term_value_target, term_value_list, EVL_list, index=index, rank_radius=-1)\n",
    "\n",
    "# coeffA,coeffC = model.get_witness(term_value_target[20])\n",
    "# if coeffA is not None:\n",
    "#     fig,ax = numqi.maximum_entropy.draw_maximum_entropy_model_boundary(term_value_target, term_value_list, EVL_list,\n",
    "#                 index=index, witnessA=coeffA, witnessC=coeffC, rank_radius=-1)\n",
    "#     for _ in range(1000):\n",
    "#         rho = numqi.random.rand_density_matrix(2**num_qubit)\n",
    "#         z0 = np.trace(op_list @ rho, axis1=1, axis2=2).real\n",
    "#         assert np.dot(z0 - coeffA, coeffC) >= 0\n"
   ]
  }
 ],
 "metadata": {
  "kernelspec": {
   "display_name": "Python 3",
   "language": "python",
   "name": "python3"
  },
  "language_info": {
   "codemirror_mode": {
    "name": "ipython",
    "version": 3
   },
   "file_extension": ".py",
   "mimetype": "text/x-python",
   "name": "python",
   "nbconvert_exporter": "python",
   "pygments_lexer": "ipython3",
   "version": "3.11.6"
  }
 },
 "nbformat": 4,
 "nbformat_minor": 2
}
