{
 "cells": [
  {
   "cell_type": "markdown",
   "metadata": {},
   "source": [
    "# Hamiltonian dynamic simulation\n",
    "\n",
    "<a target=\"_blank\" href=\"https://colab.research.google.com/github/numqi/numqi/blob/main/docs/application/control/simulate_dynamics.ipynb\">\n",
    "  <img src=\"https://colab.research.google.com/assets/colab-badge.svg\" alt=\"Open In Colab\"/>\n",
    "</a>\n",
    "\n",
    "In this notebook, we will simulate the dynamics of the Hamiltonian system using the basic module, only `numpy/scipy/matplotlib`."
   ]
  },
  {
   "cell_type": "code",
   "execution_count": null,
   "metadata": {},
   "outputs": [],
   "source": [
    "import numpy as np\n",
    "import scipy.linalg\n",
    "import matplotlib.pyplot as plt"
   ]
  },
  {
   "cell_type": "markdown",
   "metadata": {},
   "source": [
    "## time-inependent Hamiltonian\n",
    "\n",
    "We choose single-qubit Hamiltonian as follow for simplicty\n",
    "\n",
    "$$ H =\\frac{1}{2} \\omega \\sigma_x + \\delta\\sigma_z$$\n",
    "\n",
    "and the initial state is\n",
    "\n",
    "$$ |\\psi(0)\\rangle = |0\\rangle$$\n",
    "\n",
    "The dynamics of the system is governed by the Schrodinger equation\n",
    "\n",
    "$$ i\\hbar \\frac{d}{dt}|\\psi(t)\\rangle = H|\\psi(t)\\rangle$$\n",
    "\n",
    "The solution of the Schrodinger equation is\n",
    "\n",
    "$$ |\\psi(t)\\rangle = e^{-iHt/\\hbar}|\\psi(0)\\rangle$$"
   ]
  },
  {
   "cell_type": "code",
   "execution_count": null,
   "metadata": {},
   "outputs": [],
   "source": [
    "# parameter\n",
    "omega = 2*np.pi #radian/microsecond\n",
    "delta = 0.8*np.pi #radian/microsecond\n",
    "duration = 2 #microsecond"
   ]
  },
  {
   "cell_type": "code",
   "execution_count": null,
   "metadata": {},
   "outputs": [],
   "source": [
    "# time-independent hamiltonian\n",
    "hamiltonian = np.array([[delta, omega/2], [omega/2, -delta]]) #0.5 omega X + delta Z\n",
    "\n",
    "time_list = np.linspace(0, duration, 100)\n",
    "unitary_list = scipy.linalg.expm(-1j*hamiltonian*time_list[:,None,None])\n",
    "\n",
    "print(hamiltonian)"
   ]
  },
  {
   "cell_type": "code",
   "execution_count": null,
   "metadata": {},
   "outputs": [],
   "source": [
    "initial_state = np.array([1,0]) #|0>\n",
    "state_list = unitary_list @ initial_state\n",
    "probability_list = np.abs(state_list)**2"
   ]
  },
  {
   "cell_type": "code",
   "execution_count": null,
   "metadata": {},
   "outputs": [],
   "source": [
    "fig,ax = plt.subplots()\n",
    "ax.plot(time_list, probability_list[:,0], label=r'$|0\\rangle$')\n",
    "ax.plot(time_list, probability_list[:,1], label=r'$|1\\rangle$')\n",
    "ax.set_xlabel('time (microsecond)')\n",
    "ax.set_ylabel('probability')\n",
    "ax.legend()"
   ]
  },
  {
   "cell_type": "markdown",
   "metadata": {},
   "source": [
    "## time-dependent Hamiltonian\n",
    "\n",
    "More general Hamiltonian is time-dependent, and to make general quantum computer, we do need time-dependent Hamiltonian. The basic block of a quantum circuit is quantum gate. In this part, we will make a $R_y(\\frac{\\pi}{2})$ quantum gate.\n",
    "\n",
    "$$ R_y(\\theta) = e^{-i\\sigma_y\\theta/2}=\\begin{pmatrix} \\cos\\frac{\\theta}{2} & -\\sin\\frac{\\theta}{2} \\\\ \\sin\\frac{\\theta}{2} & \\cos\\frac{\\theta}{2} \\end{pmatrix} $$\n",
    "\n",
    "We choose the Hamiltonian as follow\n",
    "\n",
    "$$ H=\\frac{1}{2}\\omega(t)\\sigma_y $$\n",
    "\n",
    "where the frequency $\\omega$ is time-dependent. And you can prove that for that $\\int_0^T \\omega(t) dt=\\frac{\\pi}{2}$ for a time duration $T$ the evolution operator is $R_y(\\frac{\\pi}{2})$."
   ]
  },
  {
   "cell_type": "code",
   "execution_count": null,
   "metadata": {},
   "outputs": [],
   "source": [
    "PauliY = np.array([[0,-1j],[1j,0]])\n",
    "hf_ry = lambda x: scipy.linalg.expm(-1j*PauliY*x/2)\n",
    "target_gate = hf_ry(np.pi/2)\n",
    "print(target_gate)"
   ]
  },
  {
   "cell_type": "markdown",
   "metadata": {},
   "source": [
    "In numerical calculation, it's more common to slice the time interval into $N$ pieces with the time step is $\\Delta t=T/N$ and assume that the Hamiltonian is constant in each time interval."
   ]
  },
  {
   "cell_type": "code",
   "execution_count": null,
   "metadata": {},
   "outputs": [],
   "source": [
    "num_segment = 50\n",
    "omega_list = 2*np.pi * np.exp(-np.linspace(-3, 3, num_segment)**2) #MHz\n",
    "duration = 0.5*num_segment*np.pi/np.abs(omega_list).sum() #microsecond"
   ]
  },
  {
   "cell_type": "code",
   "execution_count": null,
   "metadata": {},
   "outputs": [],
   "source": [
    "fig,ax = plt.subplots()\n",
    "tmp0 = np.linspace(0, duration, num_segment)\n",
    "tmp1 = np.stack([tmp0[:-1],tmp0[1:]], axis=1).reshape(-1)\n",
    "tmp2 = np.stack([omega_list[:-1],omega_list[:-1]], axis=1).reshape(-1)\n",
    "ax.plot(tmp1, tmp2)\n",
    "ax.set_xlabel('time (microsecond)')\n",
    "ax.set_ylabel(r'frequency $\\omega$ (MHz)')\n",
    "ax.set_title('piecewise constant frequency')"
   ]
  },
  {
   "cell_type": "code",
   "execution_count": null,
   "metadata": {},
   "outputs": [],
   "source": [
    "delta_t = duration/num_segment\n",
    "unitary_list = [np.eye(2)]\n",
    "for x in omega_list:\n",
    "    hamiltonian = x * PauliY/2\n",
    "    unitary_list.append(scipy.linalg.expm(-1j * hamiltonian * delta_t) @ unitary_list[-1])\n",
    "unitary_list = np.stack(unitary_list)\n",
    "print(unitary_list[-1])"
   ]
  },
  {
   "cell_type": "markdown",
   "metadata": {},
   "source": [
    "We can calculate the infedlity of the gate with the target gate\n",
    "\n",
    "$$ 1 - \\frac{\\lvert \\mathrm{Tr}[R_y(\\pi/2)^\\dagger U]\\rvert^2}{d^2} $$\n",
    "\n",
    "where $d=2$ is the dimension of the Hilbert space."
   ]
  },
  {
   "cell_type": "code",
   "execution_count": null,
   "metadata": {},
   "outputs": [],
   "source": [
    "infedelity = 1 - abs(np.trace(target_gate.conj().T @ unitary_list[-1]))**2/4\n",
    "print(infedelity)"
   ]
  },
  {
   "cell_type": "code",
   "execution_count": null,
   "metadata": {},
   "outputs": [],
   "source": [
    "initial_state = np.array([1,0]) #|0>\n",
    "state_list = unitary_list @ initial_state\n",
    "probability_list = np.abs(state_list)**2\n",
    "time_list = np.linspace(0, duration, num_segment+1)\n",
    "fig,ax = plt.subplots()\n",
    "ax.plot(time_list, probability_list[:,0], label=r'$|0\\rangle$')\n",
    "ax.plot(time_list, probability_list[:,1], label=r'$|1\\rangle$')\n",
    "ax.set_xlabel('time (microsecond)')\n",
    "ax.set_ylabel('probability')\n",
    "ax.legend()"
   ]
  }
 ],
 "metadata": {
  "kernelspec": {
   "display_name": "Python 3",
   "language": "python",
   "name": "python3"
  },
  "language_info": {
   "codemirror_mode": {
    "name": "ipython",
    "version": 3
   },
   "file_extension": ".py",
   "mimetype": "text/x-python",
   "name": "python",
   "nbconvert_exporter": "python",
   "pygments_lexer": "ipython3",
   "version": "3.11.4"
  },
  "orig_nbformat": 4
 },
 "nbformat": 4,
 "nbformat_minor": 2
}
