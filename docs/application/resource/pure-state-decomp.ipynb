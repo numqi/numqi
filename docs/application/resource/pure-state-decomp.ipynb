{
 "cells": [
  {
   "cell_type": "markdown",
   "metadata": {},
   "source": [
    "# Pure State Decomposition\n",
    "\n",
    "<a target=\"_blank\" href=\"https://colab.research.google.com/github/numqi/numqi/blob/main/docs/application/resource/pure-state-decomp.ipynb\">\n",
    "  <img src=\"https://colab.research.google.com/assets/colab-badge.svg\" alt=\"Open In Colab\"/>\n",
    "</a>"
   ]
  },
  {
   "cell_type": "markdown",
   "metadata": {},
   "source": [
    "reference: Unified Framework for Calculating Convex Roof Resource Measures [arxiv-link](https://arxiv.org/abs/2406.19683)\n",
    "\n",
    "Many quantum phenomena have transitioned from being of purely theoretical interest to serving as invaluable resources in quantum information processing tasks. Convex roof extension is a widely used measures for quantifying the convex resource theories like entanglement, coherence and magic states. Convex roof extension begins with a measure of pure\n",
    "states and then extends to mixed states:\n",
    "\n",
    "$$ R(\\rho)=\\min_{\\left\\{ p_{i},|\\psi_{i}\\rangle\\right\\} }\\sum_{i}p_{i}R\\left(|\\psi_{i}\\rangle\\right), $$\n",
    "\n",
    "where the minimization is taken over all possible pure state decompositions of the given mixed state $\\rho$ satisfying\n",
    "\n",
    "$$ \\rho=\\sum_{i}p_{i}|\\psi_{i}\\rangle\\langle\\psi_{i}| $$\n",
    "\n",
    "In this notebook, we will discuss how to perform the pure state decomposition, and how to do the minimization over all possible pure state decompositions."
   ]
  },
  {
   "cell_type": "code",
   "execution_count": null,
   "metadata": {},
   "outputs": [],
   "source": [
    "import numpy as np\n",
    "import torch\n",
    "\n",
    "try:\n",
    "    import numqi\n",
    "except ImportError:\n",
    "    %pip install numqi\n",
    "    import numqi\n",
    "\n",
    "np_rng = np.random.default_rng()"
   ]
  },
  {
   "cell_type": "markdown",
   "metadata": {},
   "source": [
    "## Stiefel manifold\n",
    "\n",
    "Before we start, let's introduce the Stiefel manifold. The Stiefel manifold $St(n,r)$ is the set of $n$-by-$r$ with complex matrices with orthogonal contraints:\n",
    "\n",
    "$$ \\mathrm{St}(n,r)=\\left\\{ A\\in\\mathbb{C}^{n\\times r}:A^{\\dagger}A=I_{r}\\right\\}. $$\n",
    "\n",
    "The element $A$ is called a Stiefel matrix. It's different from the unitary matrices which requires orthogonal contraints on both sides:\n",
    "\n",
    "$$ A\\in U(n)\\Rightarrow A^{\\dagger}A=AA^{\\dagger}=I_n. $$\n",
    "\n",
    "One can think of the Stiefel matrix as the first $r$ columns of a uniatry matrix. For example, stacking two Bell states makes a Stiefel matrix of size $4\\times 2$:\n",
    "\n",
    "$$ \\left[\\left|\\Phi^{+}\\right\\rangle ,\\left|\\Psi^{+}\\right\\rangle \\right]=\\frac{1}{\\sqrt{2}}\\left[\\begin{array}{cc}\n",
    "1&0\\\\\n",
    "0 & 1\\\\\n",
    "0 & 1\\\\\n",
    "1 & 0\n",
    "\\end{array}\\right]\\in\\mathrm{St}(4,2) $$"
   ]
  },
  {
   "cell_type": "code",
   "execution_count": null,
   "metadata": {},
   "outputs": [],
   "source": [
    "A = np.stack([numqi.state.Bell(0), numqi.state.Bell(2)], axis=1)\n",
    "print(A)"
   ]
  },
  {
   "cell_type": "markdown",
   "metadata": {},
   "source": [
    "Random Stiefel matrix can be generated:"
   ]
  },
  {
   "cell_type": "code",
   "execution_count": null,
   "metadata": {},
   "outputs": [],
   "source": [
    "A = numqi.random.rand_Stiefel_matrix(5, 3, iscomplex=True)\n",
    "print('A\\n', np.around(A, 3))"
   ]
  },
  {
   "cell_type": "markdown",
   "metadata": {},
   "source": [
    "Let's check $A^{\\dagger}A=I_{r}$:"
   ]
  },
  {
   "cell_type": "code",
   "execution_count": null,
   "metadata": {},
   "outputs": [],
   "source": [
    "print('A^dag A=\\n', np.around(A.conj().T @ A, 3))"
   ]
  },
  {
   "cell_type": "markdown",
   "metadata": {},
   "source": [
    "Only when $n=r$ (unitary matrix), $AA^{\\dagger}=I_{n}$ is true."
   ]
  },
  {
   "cell_type": "code",
   "execution_count": null,
   "metadata": {},
   "outputs": [],
   "source": [
    "A = numqi.random.rand_Stiefel_matrix(4, 2, iscomplex=True)\n",
    "print('A in St(4,2): A^dag A=\\n', np.around(A@A.T.conj(), 3))\n",
    "\n",
    "A = numqi.random.rand_Stiefel_matrix(4, 4, iscomplex=True)\n",
    "print('\\nA in St(4,4): A^dag A=\\n', np.around(A@A.T.conj(), 3))"
   ]
  },
  {
   "cell_type": "markdown",
   "metadata": {},
   "source": [
    "## Pure state decomposition and Stiefel matrix\n",
    "\n",
    "In this part, we will show how to perform the pure state decomposition with the help of Stiefel matrix. Let's try its inverse problem first to make familiar with this decomposition:\n",
    "\n",
    "> Given the probability distribution $\\{p_i\\}$ and the corresponding pure states $\\{|\\psi_i\\rangle\\}$, how to construct the density matrix $\\rho$\n",
    "\n",
    "The answer is simple: just follow the formula $\\rho=\\sum_i p_i|\\psi_i\\rangle\\langle\\psi_i|$."
   ]
  },
  {
   "cell_type": "code",
   "execution_count": null,
   "metadata": {},
   "outputs": [],
   "source": [
    "dim = 3\n",
    "num_state = 5\n",
    "prob_list = numqi.random.rand_discrete_probability(num_state)\n",
    "psi_list = numqi.random.rand_haar_state(dim, batch_size=num_state)\n",
    "\n",
    "mat0 = sum(x*y.reshape(-1,1)*y.conj() for x,y in zip(prob_list, psi_list))\n",
    "# mat0 = np.einsum(prob_list, [0], psi_list, [0,1], psi_list.conj(), [0,2], [1,2], optimize=True)"
   ]
  },
  {
   "cell_type": "markdown",
   "metadata": {},
   "source": [
    "Let's verify that the output matrix `mat0` is a valid density matrix: positive semidefinite and trace 1."
   ]
  },
  {
   "cell_type": "code",
   "execution_count": null,
   "metadata": {},
   "outputs": [],
   "source": [
    "EVL = np.linalg.eigvalsh(mat0)\n",
    "print('eigenvalues of mat0:', np.around(EVL, 3))\n",
    "print('trace of mat0:', np.around(np.trace(mat0), 3))"
   ]
  },
  {
   "cell_type": "markdown",
   "metadata": {},
   "source": [
    "However, given the density matrix $\\rho\\in\\mathbb{C}^{r\\times r}$, finding its pure state decomposition is not that easy. We need the help of Stiefel matrix. Denote the eigenvalue decomposition of $\\rho$ as\n",
    "\n",
    "$$ \\rho=\\sum_{j}\\lambda_{j}|\\lambda_{j}\\rangle\\langle\\lambda_{j}| $$\n",
    "\n",
    "for any Stiefel matrix $X\\in\\mathrm{St}(r,n)$, we can construct the auxiliary states as (not normalized)\n",
    "\n",
    "$$ \\left|\\tilde{\\psi}_{i}\\right\\rangle =\\sum_{j=1}^{r}\\sqrt{\\lambda_{j}}X_{ij}\\left|\\lambda_{j}\\right\\rangle. $$\n",
    "\n",
    "Then, the following pair of quantities\n",
    "\n",
    "$$ p_{i}=\\left\\langle \\tilde{\\psi}_{i}|\\tilde{\\psi}_{i}\\right\\rangle ,\\left|\\psi_{i}\\right\\rangle =\\frac{1}{\\sqrt{p_{i}}}\\left|\\tilde{\\psi}_{i}\\right\\rangle $$\n",
    "\n",
    "make a valid pure state decomposition of $\\rho$. On the other hand, any valid pure state decomposition with $n$ states can be obtained by choosing $X\\in\\mathrm{St}(r,n)$. See [arxiv-link](https://arxiv.org/abs/2406.19683) for more details. Here, let's verify the statement above numerically."
   ]
  },
  {
   "cell_type": "markdown",
   "metadata": {},
   "source": [
    "First, let's generate some random density matrix $\\rho$ and calculate its pure state decomposition."
   ]
  },
  {
   "cell_type": "code",
   "execution_count": null,
   "metadata": {},
   "outputs": [],
   "source": [
    "dim = 3\n",
    "num_state = 5\n",
    "rho = numqi.random.rand_density_matrix(dim)\n",
    "EVL,EVC = np.linalg.eigh(rho)\n",
    "print('rho=\\n', np.around(rho, 3))\n",
    "print('\\neigenvalues=', np.around(EVL, 3))"
   ]
  },
  {
   "cell_type": "markdown",
   "metadata": {},
   "source": [
    "Then, we randomly generate a Stiefel matrix $X$ and build the auxiliary states as the formula above."
   ]
  },
  {
   "cell_type": "code",
   "execution_count": null,
   "metadata": {},
   "outputs": [],
   "source": [
    "X = numqi.random.rand_Stiefel_matrix(num_state, dim)\n",
    "auxiliary_state = X @ (np.sqrt(EVL) * EVC).T\n",
    "\n",
    "prob_list = np.linalg.norm(auxiliary_state, axis=1)**2\n",
    "psi_list = auxiliary_state / np.linalg.norm(auxiliary_state, axis=1, keepdims=True)\n",
    "print('pi:', np.around(prob_list, 3))\n",
    "print('psi_list.shape:', psi_list.shape)"
   ]
  },
  {
   "cell_type": "markdown",
   "metadata": {},
   "source": [
    "Let's verify that the decomposition is a valid one $\\rho=\\sum_i p_i|\\psi_i\\rangle\\langle\\psi_i|$."
   ]
  },
  {
   "cell_type": "code",
   "execution_count": null,
   "metadata": {},
   "outputs": [],
   "source": [
    "mat0 = sum(x*y.reshape(-1,1)*y.conj() for x,y in zip(prob_list, psi_list))\n",
    "print('matO:\\n', np.around(mat0, 3))\n",
    "print('err(mat0-rho)=', np.abs(mat0-rho).max())\n",
    "# less than 1e-12, which means the reconstruction is perfect"
   ]
  },
  {
   "cell_type": "markdown",
   "metadata": {},
   "source": [
    "## Minimization over all pure state decompositions"
   ]
  },
  {
   "cell_type": "markdown",
   "metadata": {},
   "source": [
    "The power of connecting the pure state decomposition with the Stiefel matrix is that the whole calculation is differentiable, which means we can use the gradient-based optimization method to minimize the convex roof extension. Instead of generating random Stiefel matrix using `numqi.random`, we need to use `numqi.manifold.Stiefel` to support the gradient calculation."
   ]
  },
  {
   "cell_type": "code",
   "execution_count": null,
   "metadata": {},
   "outputs": [],
   "source": [
    "manifold = numqi.manifold.Stiefel(dim=4, rank=2)\n",
    "A = manifold()\n",
    "print('A=', A)\n",
    "print('\\nA^dag A=\\n', A.conj().T @ A)\n"
   ]
  },
  {
   "cell_type": "markdown",
   "metadata": {},
   "source": [
    "Above, `A` is a Stiefel matirx, also a torch variable with gradient support, which means `A.backward()` is supported. If one have resource function $R$ for any pure state, then the following `DummyModel` can be used to calculate the resource for any density matrix $\\rho$."
   ]
  },
  {
   "cell_type": "code",
   "execution_count": null,
   "metadata": {},
   "outputs": [],
   "source": [
    "def R_for_pure_state(psi):\n",
    "    # implement the Rourse for a pure state\n",
    "    raise NotImplementedError\n",
    "\n",
    "\n",
    "class DummyModel(torch.nn.Module):\n",
    "    def __init__(self, rho, num_state):\n",
    "        super().__init__()\n",
    "        EVL,EVC = np.linalg.eigh(rho)\n",
    "        self.EVL = torch.tensor(EVL)\n",
    "        self.EVC = torch.tensor(EVC)\n",
    "        self.manifold = numqi.manifold.Stiefel(num_state, rho.shape[0])\n",
    "\n",
    "    def forward(self):\n",
    "        X = self.manifold()\n",
    "        auxiliary_state = X @ (torch.sqrt(self.EVL) * self.EVC).T\n",
    "        prob_list = np.linalg.norm(auxiliary_state, axis=1)**2\n",
    "        psi_list = auxiliary_state / np.linalg.norm(auxiliary_state, axis=1, keepdims=True)\n",
    "        loss = sum(x*R_for_pure_state for x,y in zip(prob_list, psi_list))\n",
    "        return loss\n",
    "\n",
    "## write your own \"R_for_pure_state\" function and \"rho\"\n",
    "# model = DummyModel(rho, num_state)\n",
    "# theta_optim = numqi.optimize.minimize(model, theta0='uniform', num_repeat=3, method='L-BFGS-B')\n"
   ]
  },
  {
   "cell_type": "markdown",
   "metadata": {},
   "source": [
    "This provide a unified framework for calculating convex roof resource measures. Various resource measures are presented in the following notebooks:\n",
    "\n",
    "1. [doc-link](https://numqi.github.io/numqi/application/entangle/measure/#entanglement-of-formation) Entanglement of formation\n",
    "2. [doc-link](https://numqi.github.io/numqi/application/entangle/linear_entropy_entanglement/#linear-entropy-of-entanglement) Lienar entropy of entanglement\n",
    "3. [doc-link](https://numqi.github.io/numqi/application/magic/stabilizer_purity/#stabilizer-purity) Magic resource: stabilizer purity\n",
    "4. [doc-link](https://numqi.github.io/numqi/application/coherence/cof/#coherence-of-formation) Cohernce of formation\n",
    "5. [doc-link](https://numqi.github.io/numqi/application/coherence/gmc/#geometric-measure-of-coherence) Geometric measure of coherence\n"
   ]
  }
 ],
 "metadata": {
  "kernelspec": {
   "display_name": "Python 3",
   "language": "python",
   "name": "python3"
  },
  "language_info": {
   "codemirror_mode": {
    "name": "ipython",
    "version": 3
   },
   "file_extension": ".py",
   "mimetype": "text/x-python",
   "name": "python",
   "nbconvert_exporter": "python",
   "pygments_lexer": "ipython3",
   "version": "3.12.9"
  }
 },
 "nbformat": 4,
 "nbformat_minor": 2
}
