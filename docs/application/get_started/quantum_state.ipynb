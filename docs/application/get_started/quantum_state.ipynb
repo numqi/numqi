{
 "cells": [
  {
   "cell_type": "markdown",
   "metadata": {},
   "source": [
    "# Quantum state\n",
    "\n",
    "<a target=\"_blank\" href=\"https://colab.research.google.com/github/numqi/numqi/blob/main/docs/application/get_started/quantum_state.ipynb\">\n",
    "  <img src=\"https://colab.research.google.com/assets/colab-badge.svg\" alt=\"Open In Colab\"/>\n",
    "</a>"
   ]
  },
  {
   "cell_type": "code",
   "execution_count": null,
   "metadata": {},
   "outputs": [],
   "source": [
    "import numpy as np\n",
    "\n",
    "try:\n",
    "    import numqi\n",
    "except ImportError:\n",
    "    %pip install numqi\n",
    "    import numqi"
   ]
  },
  {
   "cell_type": "markdown",
   "metadata": {},
   "source": [
    "## Pure state\n",
    "\n",
    "**Definition**: a complex vector (array) with length 1, usually denoted using Dirac (bra-ket) notation [wiki/bra-ket-notation](https://en.wikipedia.org/wiki/Bra%E2%80%93ket_notation) $|\\phi\\rangle,|\\psi\\rangle$. If the vector has $d$ components, we call it qudit with $d$-dimension. Specially, when $d=2$, we call it qubit. let's see some examples.\n",
    "\n",
    "Qubit: be care the state $|0\\rangle,|1\\rangle$ are used conventional in this field and they are also called basis (computational basis)\n",
    "\n",
    "$$ |0\\rangle=[1,0]$$\n",
    "\n",
    "$$ |1\\rangle=[0,1] $$\n",
    "\n",
    "$$ |\\psi\\rangle=[0.6, 0.48+0.64j] $$\n",
    "\n",
    "qutrit (qudit with $d=3$):\n",
    "\n",
    "$$ |\\psi\\rangle = [0.6,0.48,0.64] $$\n",
    "\n",
    "2 qubits (or qudit with $d=4$)\n",
    "\n",
    "$$ |\\psi\\rangle = [0.36,0.48j,0.48,0.64] $$\n",
    "\n",
    "more generally for any qudit of size $d$\n",
    "\n",
    "$$ |\\psi\\rangle=\\sum_{x=0}^{d-1}\\psi_x|x\\rangle $$\n",
    "\n",
    "The **length** (norm) is measured in complex 2-norm and its norm should always be one (unit)\n",
    "\n",
    "$$\\lVert \\psi \\rVert_2=\\sum_{x=0}^{d-1}\\psi_x\\psi_x^*=1$$\n",
    "\n",
    "We can create pure states using `numpy` or `numqi` (they are simply `numpy` array)"
   ]
  },
  {
   "cell_type": "code",
   "execution_count": null,
   "metadata": {},
   "outputs": [],
   "source": [
    "psi0 = np.array([1,0])\n",
    "psi1 = np.array([0,1])\n",
    "psi2 = np.array([0.6,0.8j])\n",
    "print(f'{psi0=}')\n",
    "print(f'{psi1=}')\n",
    "print(f'{psi2=}')"
   ]
  },
  {
   "cell_type": "code",
   "execution_count": null,
   "metadata": {},
   "outputs": [],
   "source": [
    "# qudit (d=4)\n",
    "psi0 = np.array([0.36, 0.48j, 0.48, 0.64])\n",
    "psi1 = np.array([1,2,3,4])/np.sqrt(30)\n",
    "psi2 = np.array([0,1,-1,0])/np.sqrt(2) #Bell state (pure state)\n",
    "print(f'{psi0=}')\n",
    "print(f'{psi1=}')\n",
    "print(f'{psi2=}')"
   ]
  },
  {
   "cell_type": "markdown",
   "metadata": {},
   "source": [
    "and we can also generate random pure state using `numqi.random.rand_haar_state(d)` where `d` is the dimension of the qudit."
   ]
  },
  {
   "cell_type": "code",
   "execution_count": null,
   "metadata": {},
   "outputs": [],
   "source": [
    "# qudit (d=5): random qudit state\n",
    "psi0 = numqi.random.rand_haar_state(5)\n",
    "print(f'{psi0=}')"
   ]
  },
  {
   "cell_type": "markdown",
   "metadata": {},
   "source": [
    "To evaluate its norm, one should always get almost 1 up to machine precision"
   ]
  },
  {
   "cell_type": "code",
   "execution_count": null,
   "metadata": {},
   "outputs": [],
   "source": [
    "psi0 = numqi.random.rand_haar_state(233)\n",
    "print(np.linalg.norm(psi0)) #1.0"
   ]
  },
  {
   "cell_type": "markdown",
   "metadata": {},
   "source": [
    "Inner product between two pure states can be done using `np.vdot`. For example, the inner product between $|0\\rangle$ and $|1\\rangle$ is 0. Generally, the inner product between two pure states will be a complex number with absolute value less than 1."
   ]
  },
  {
   "cell_type": "code",
   "execution_count": null,
   "metadata": {},
   "outputs": [],
   "source": [
    "psi0 = np.array([1,0])\n",
    "psi1 = np.array([0,1])\n",
    "print(np.vdot(psi0,psi1)) #0.0\n",
    "\n",
    "psi0 = numqi.random.rand_haar_state(23)\n",
    "psi1 = numqi.random.rand_haar_state(23)\n",
    "print(np.vdot(psi0,psi1))"
   ]
  },
  {
   "cell_type": "markdown",
   "metadata": {},
   "source": [
    "## Mixed state\n",
    "\n",
    "**Definition**: a Hermitian, semi-definite matrix with trace 1, usually denoted with symbol $\\rho$. If this matrix has $d$ column and $d$ row (columns must be equal to rows), we call it density matrix of qudit with $d$ dimension and write it as\n",
    "\n",
    "$$\\rho=\\sum_{i,j=0}^{d-1} \\rho_{ij}|i\\rangle\\langle j|$$\n",
    "\n",
    "where $\\rho_{ij}$ is the numerical value at i-th row j-th column, $|i\\rangle$ is the i-th basis (ket, pure state with only $i$-th component 1), $\\langle j|$ is the j-th basis (a row vector, complex transpose of the corresponding $|j\\rangle$). Let's explain each word in the definition\n",
    "\n",
    "1. complex matrix: $\\rho\\in\\mathbb{C}^{d\\times d}$\n",
    "2. Hermitian: $\\rho_{ij}=\\rho_{ji}^*$\n",
    "3. semi-definite: for any nonzero complex vector $v$, $\\sum_{ij}v^*_i\\rho_{ij}v_j>0$\n",
    "    * equivalent: the minimum eigenvalues of $\\rho$ is non-negative\n",
    "    * usually denoted as $\\rho\\succeq 0$, the symbol $0$ denotes zero matrix of size $d\\times d$\n",
    "4. trace 1: $\\sum_i\\rho_{ii}=1$\n",
    "    * equivalent: summation of all eigenvalues gives one, $\\sum_i \\lambda_i(\\rho)=1$\n",
    "\n",
    "We can generate random density matrix in `numqi`"
   ]
  },
  {
   "cell_type": "code",
   "execution_count": null,
   "metadata": {},
   "outputs": [],
   "source": [
    "# d=4\n",
    "rho = numqi.random.rand_density_matrix(4)\n",
    "print(f'random density matrix:\\n{rho}')\n"
   ]
  },
  {
   "cell_type": "markdown",
   "metadata": {},
   "source": [
    "and evaluate its trace which should almost 1, and its eigenvalue which should be all non-negative"
   ]
  },
  {
   "cell_type": "code",
   "execution_count": null,
   "metadata": {},
   "outputs": [],
   "source": [
    "print(np.round(rho,3))\n",
    "print(f'{np.trace(rho)=}')\n",
    "print(f'{np.linalg.eigvalsh(rho)=}')\n",
    "print(f'{np.linalg.eigvalsh(rho).sum()=}')\n"
   ]
  },
  {
   "cell_type": "markdown",
   "metadata": {},
   "source": [
    "Connection between pure state and density matrix: when the density matrix $\\rho$ has only one non-zero eigenvalue (must be 1), let's denote the associated eigenvector $|\\psi\\rangle$, then we say the density matrix $\\rho$ and the pure state $|\\psi\\rangle$ are equivalent and have the following equation\n",
    "\n",
    "$$\\rho=|\\psi\\rangle\\langle\\psi|$$\n",
    "\n",
    "The matrix with only one nonzero eigenvalue is said of rank one."
   ]
  },
  {
   "cell_type": "code",
   "execution_count": null,
   "metadata": {},
   "outputs": [],
   "source": [
    "# generate a random pure state\n",
    "psi = numqi.random.rand_haar_state(3)\n",
    "rho = psi.reshape(-1,1) @ psi.reshape(1,-1).conj()\n",
    "print(np.round(rho,3))\n",
    "print(f'{np.trace(rho)=}')\n",
    "print(f'{np.linalg.eigvalsh(rho)=}')\n",
    "print(f'{np.linalg.eigvalsh(rho).sum()=}')"
   ]
  },
  {
   "cell_type": "markdown",
   "metadata": {},
   "source": [
    "## Special states\n",
    "\n",
    "`numqi.state` implements those speical / interesting states in quantum information."
   ]
  },
  {
   "cell_type": "markdown",
   "metadata": {},
   "source": [
    "### Maximally entangled state\n",
    "\n",
    "$$ \\frac{1}{\\sqrt{d}} \\sum_{i=1}^{d} |ii\\rangle  $$"
   ]
  },
  {
   "cell_type": "code",
   "execution_count": null,
   "metadata": {},
   "outputs": [],
   "source": [
    "numqi.state.maximally_entangled_state(3)"
   ]
  },
  {
   "cell_type": "markdown",
   "metadata": {},
   "source": [
    "### Maximally mixed state\n",
    "\n",
    "$$ \\rho_0 = \\sum_{i\\in[d^2]} \\frac{1}{d^2} | ii \\rangle\\langle ii |.$$"
   ]
  },
  {
   "cell_type": "code",
   "execution_count": null,
   "metadata": {},
   "outputs": [],
   "source": [
    "numqi.state.maximally_mixed_state(2)"
   ]
  },
  {
   "cell_type": "markdown",
   "metadata": {},
   "source": [
    "### Bell state\n",
    "\n",
    "[wiki/bell-state](https://en.wikipedia.org/wiki/Bell_state)\n",
    "\n",
    "$$ |\\Phi_0\\rangle = \\frac{1}{\\sqrt{2}}(|00\\rangle + |11\\rangle) $$\n",
    "\n",
    "$$ |\\Phi_1\\rangle = \\frac{1}{\\sqrt{2}}(|00\\rangle - |11\\rangle) $$\n",
    "\n",
    "$$ |\\Phi_2\\rangle = \\frac{1}{\\sqrt{2}}(|01\\rangle + |10\\rangle) $$\n",
    "\n",
    "$$ |\\Phi_3\\rangle = \\frac{1}{\\sqrt{2}}(|01\\rangle - |10\\rangle) $$"
   ]
  },
  {
   "cell_type": "code",
   "execution_count": null,
   "metadata": {},
   "outputs": [],
   "source": [
    "for i in range(4):\n",
    "    print(numqi.state.Bell(i))"
   ]
  },
  {
   "cell_type": "markdown",
   "metadata": {},
   "source": [
    "### W state\n",
    "\n",
    "[wiki/W-state](https://en.wikipedia.org/wiki/W_state)\n",
    "\n",
    "$$ |W\\rangle=\\frac{1}{\\sqrt{3}}(|001\\rangle + |010\\rangle + |100\\rangle) \\in (\\mathcal{H}_2)^{\\otimes 3} $$\n",
    "\n",
    "$$ |W_n\\rangle=\\frac{1}{\\sqrt{n}}\\sum_{\\mathrm{wt}(x)=1} |x\\rangle \\in (\\mathcal{H}_2)^{\\otimes n} $$"
   ]
  },
  {
   "cell_type": "code",
   "execution_count": null,
   "metadata": {},
   "outputs": [],
   "source": [
    "numqi.state.W(3)"
   ]
  },
  {
   "cell_type": "markdown",
   "metadata": {},
   "source": [
    "### GHZ state\n",
    "\n",
    "[wiki/ghz-state](https://en.wikipedia.org/wiki/Greenberger%E2%80%93Horne%E2%80%93Zeilinger_state)\n",
    "\n",
    "$$ |\\mathrm{GHZ}\\rangle = \\frac{1}{\\sqrt{2}}(|0\\rangle^{\\otimes n} + |1\\rangle^{\\otimes n}) $$"
   ]
  },
  {
   "cell_type": "code",
   "execution_count": null,
   "metadata": {},
   "outputs": [],
   "source": [
    "numqi.state.GHZ(3)"
   ]
  },
  {
   "cell_type": "markdown",
   "metadata": {},
   "source": [
    "### Werner state\n",
    "\n",
    "[wiki/werner-state](https://en.wikipedia.org/wiki/Werner_state)\n",
    "\n",
    "[quantiki/werner-state](https://www.quantiki.org/wiki/werner-state)\n",
    "\n",
    "[doi-link](http://dx.doi.org/10.1103/PhysRevA.88.032323) Compatible quantum correlations: Extension problems for Werner and isotropic states\n",
    "\n",
    "**Definition** chosen in `numqi`:\n",
    "\n",
    "$$ \\rho_d(\\alpha)=\\frac{1}{d^2-d\\alpha}I-\\frac{\\alpha}{d^2-d\\alpha}\\sum_{ij}\\left|ij\\right\\rangle \\left\\langle ji\\right|,\\quad\\alpha\\in\\left[-1,1\\right] $$\n",
    "\n",
    "**Other definition** of Werner state\n",
    "\n",
    "$$ \\rho_{d}\\left(a\\right)=\\frac{d-a}{d\\left(d^{2}-1\\right)}I+\\frac{ad-1}{d\\left(d^{2}-1\\right)}\\sum_{ij}\\left|ij\\right\\rangle \\left\\langle ji\\right|,\\quad a\\in\\left[-1,1\\right] $$\n",
    "\n",
    "Given a Werner state in variable $a$, we can find the corresponding Werner state in variable $\\alpha$ by $\\alpha=\\frac{1-ad}{d-a}$.\n"
   ]
  },
  {
   "cell_type": "code",
   "execution_count": null,
   "metadata": {},
   "outputs": [],
   "source": [
    "d = 2\n",
    "alpha = 0.5\n",
    "numqi.state.Werner(d,alpha)"
   ]
  },
  {
   "cell_type": "markdown",
   "metadata": {},
   "source": [
    "### Isotropic state\n",
    "\n",
    "[quantiki/isotropic-state](https://www.quantiki.org/wiki/isotropic-state)\n",
    "\n",
    "[doi-link](http://dx.doi.org/10.1103/PhysRevA.88.032323) Compatible quantum correlations: Extension problems for Werner and isotropic states\n",
    "\n",
    "Definition chosen in `numqi`:\n",
    "\n",
    "$$ \\rho_d(\\alpha)=\\frac{1-\\alpha}{d^2}I+\\frac{\\alpha}{d}\\sum_{ij}\\left|ii\\right\\rangle \\left\\langle jj\\right|,\\quad\\alpha\\in\\left[-\\frac{1}{d^{2}-1},1\\right] $$\n",
    "\n",
    "**Other definition** of Isotropic state\n",
    "\n",
    "$$ \\rho_d\\left(a\\right)=\\frac{d-a}{d\\left(d^{2}-1\\right)}I+\\frac{ad-1}{d\\left(d^{2}-1\\right)}\\sum_{ij}\\left|ii\\right\\rangle \\left\\langle jj\\right|,\\quad a\\in\\left[0,d\\right] $$\n",
    "\n",
    "Given a Isotropic state in variable $a$, we can find the corresponding Isotropic state in variable $\\alpha$ by $\\alpha=\\frac{ad-1}{d^2-1}$."
   ]
  },
  {
   "cell_type": "code",
   "execution_count": null,
   "metadata": {},
   "outputs": [],
   "source": [
    "d = 2\n",
    "alpha = 0.5\n",
    "numqi.state.Isotropic(d,alpha)"
   ]
  },
  {
   "cell_type": "markdown",
   "metadata": {},
   "source": [
    "##"
   ]
  }
 ],
 "metadata": {
  "kernelspec": {
   "display_name": "Python 3",
   "language": "python",
   "name": "python3"
  },
  "language_info": {
   "codemirror_mode": {
    "name": "ipython",
    "version": 3
   },
   "file_extension": ".py",
   "mimetype": "text/x-python",
   "name": "python",
   "nbconvert_exporter": "python",
   "pygments_lexer": "ipython3",
   "version": "3.10.13"
  }
 },
 "nbformat": 4,
 "nbformat_minor": 2
}
