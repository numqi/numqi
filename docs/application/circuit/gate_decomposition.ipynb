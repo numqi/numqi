{
 "cells": [
  {
   "cell_type": "markdown",
   "metadata": {},
   "source": [
    "# Gate Decomposition\n",
    "\n",
    "<a target=\"_blank\" href=\"https://colab.research.google.com/github/numqi/numqi/blob/main/docs/application/circuit/gate_decomposition.ipynb\">\n",
    "  <img src=\"https://colab.research.google.com/assets/colab-badge.svg\" alt=\"Open In Colab\"/>\n",
    "</a>\n",
    "\n",
    "Adapted from [qgopt/docs/gate-decomposition](https://qgopt.readthedocs.io/en/latest/quick_start.html)\n",
    "\n",
    "It's known that any two-qubits gate can be decomposed as follows:\n",
    "\n",
    "```text\n",
    "u1 u2\n",
    "cnot\n",
    "u3 u4\n",
    "cnot\n",
    "u5 u6\n",
    "cnot\n",
    "u7 u8\n",
    "```\n",
    "\n",
    "where each line represent one layer of either single-qubit gates or CNOT gates. In this tutorial, we will show how to perform gate such decomposition for any two-qubits gate."
   ]
  },
  {
   "cell_type": "code",
   "execution_count": null,
   "metadata": {},
   "outputs": [],
   "source": [
    "import numpy as np\n",
    "import torch\n",
    "\n",
    "try:\n",
    "    import numqi\n",
    "except ImportError:\n",
    "    %pip install numqi\n",
    "    import numqi\n"
   ]
  },
  {
   "cell_type": "code",
   "execution_count": null,
   "metadata": {},
   "outputs": [],
   "source": [
    "class GateDecompositionModel(torch.nn.Module):\n",
    "    def __init__(self):\n",
    "        super().__init__()\n",
    "        self.manifold = numqi.manifold.SpecialOrthogonal(dim=2, batch_size=8, dtype=torch.complex128)\n",
    "        self.unitary_dag = None #we will set this in .set_unitary()\n",
    "        self.cnot = torch.tensor([[1,0,0,0], [0,1,0,0], [0,0,0,1], [0,0,1,0]], dtype=torch.complex128)\n",
    "\n",
    "    def set_unitary(self, np0):\n",
    "        assert np0.shape==(4,4)\n",
    "        assert np.abs(np0@np0.T.conj() - np.eye(4)).max() < 1e-10, 'unitary matrix required'\n",
    "        self.unitary_dag = torch.tensor(np0.T.conj().copy(), dtype=torch.complex128)\n",
    "\n",
    "    def get_unitary(self, return_numpy=True):\n",
    "        ulist = self.manifold()\n",
    "        matU = torch.kron(ulist[0], ulist[1])\n",
    "        for i in range(3):\n",
    "            matU = self.cnot @ matU\n",
    "            matU = torch.kron(ulist[2*i+2], ulist[2*i+3]) @ matU\n",
    "        ret = ulist, matU\n",
    "        if return_numpy:\n",
    "            ret = ret[0].detach().numpy(), ret[1].detach().numpy()\n",
    "        return ret\n",
    "\n",
    "    def forward(self):\n",
    "        _,matU = self.get_unitary(return_numpy=False)\n",
    "        tmp0 = torch.trace(self.unitary_dag @ matU)\n",
    "        # unitary infidelity https://docs.q-ctrl.com/references/qctrl/Graphs/Graph/unitary_infidelity.html\n",
    "        loss = 1 - (tmp0.real**2 + tmp0.imag**2) / 16\n",
    "        return loss\n"
   ]
  },
  {
   "cell_type": "markdown",
   "metadata": {},
   "source": [
    "Different from QGopt, we choose unitary infidelity as loss function [qctrl/unitary_infidelity](https://docs.q-ctrl.com/references/qctrl/Graphs/Graph/unitary_infidelity.html)\n",
    "\n",
    "$$ \\mathcal{L}=1 - \\lvert\\mathrm{Tr}[V(\\theta) U^\\dagger]\\rvert^2 / d^2 $$\n",
    "\n",
    "for that we ignore the global phase of the target unitary $V$. Above $d$ denotes the dimension of the Hilbert space $d=4$, $U$ for the target untiary matrix and $V(\\theta)$ is the parametrized unitary matrix composed of single-qubit gates and CNOT gates."
   ]
  },
  {
   "cell_type": "code",
   "execution_count": null,
   "metadata": {},
   "outputs": [],
   "source": [
    "target_unitary = numqi.random.rand_special_orthogonal_matrix(4, tag_complex=True)\n",
    "print(f'target unitary:\\n{np.around(target_unitary, 3)}')\n",
    "\n",
    "tmp0 = target_unitary @ target_unitary.T.conj()\n",
    "print(f'unitary check (U U^dag): \\n{np.around(tmp0, 3)}')\n"
   ]
  },
  {
   "cell_type": "code",
   "execution_count": null,
   "metadata": {},
   "outputs": [],
   "source": [
    "model = GateDecompositionModel()\n",
    "model.set_unitary(target_unitary)\n",
    "theta_optim = numqi.optimize.minimize(model, theta0='uniform', num_repeat=1, print_freq=5, tol=1e-10)\n"
   ]
  },
  {
   "cell_type": "code",
   "execution_count": null,
   "metadata": {},
   "outputs": [],
   "source": [
    "ulist, matU = model.get_unitary()\n",
    "\n",
    "print('first several single-qubit unitary matrices:')\n",
    "for i in range(3):\n",
    "    print(f'U{i} = \\n{np.around(ulist[i], 3)}')\n"
   ]
  },
  {
   "cell_type": "code",
   "execution_count": null,
   "metadata": {},
   "outputs": [],
   "source": [
    "print(f'final 2-qubit unitary matrix:\\n{np.around(matU, 3)}')\n",
    "\n",
    "tmp0 = matU @ target_unitary.T.conj()\n",
    "print(f'check unitary (V U^dag):\\n{np.around(tmp0,5)}')\n"
   ]
  }
 ],
 "metadata": {
  "kernelspec": {
   "display_name": "Python 3",
   "language": "python",
   "name": "python3"
  },
  "language_info": {
   "codemirror_mode": {
    "name": "ipython",
    "version": 3
   },
   "file_extension": ".py",
   "mimetype": "text/x-python",
   "name": "python",
   "nbconvert_exporter": "python",
   "pygments_lexer": "ipython3",
   "version": "3.11.4"
  }
 },
 "nbformat": 4,
 "nbformat_minor": 2
}
