{
 "cells": [
  {
   "cell_type": "markdown",
   "metadata": {},
   "source": [
    "# Customized quantum gate\n",
    "\n",
    "<a target=\"_blank\" href=\"https://colab.research.google.com/github/numqi/numqi/blob/main/docs/application/circuit/customized_gate.ipynb\">\n",
    "  <img src=\"https://colab.research.google.com/assets/colab-badge.svg\" alt=\"Open In Colab\"/>\n",
    "</a>\n",
    "\n",
    "The `numqi.sim` submodule supports customized quantum gate, even the not-unitary \"gate\""
   ]
  },
  {
   "cell_type": "code",
   "execution_count": null,
   "metadata": {},
   "outputs": [],
   "source": [
    "import numpy as np\n",
    "\n",
    "try:\n",
    "    import numqi\n",
    "except ImportError:\n",
    "    %pip install numqi\n",
    "    import numqi\n"
   ]
  },
  {
   "cell_type": "markdown",
   "metadata": {},
   "source": [
    "Let's define a measurement \"gate\""
   ]
  },
  {
   "cell_type": "code",
   "execution_count": null,
   "metadata": {},
   "outputs": [],
   "source": [
    "class MeasureGate:\n",
    "    def __init__(self, index, seed=None, name='measure'):\n",
    "        self.kind = 'custom'\n",
    "        self.name = name\n",
    "        self.requires_grad = False\n",
    "        index = numqi.utils.hf_tuple_of_int(index)\n",
    "        assert all(x==y for x,y in zip(sorted(index),index)), 'index must be sorted'\n",
    "        self.index = index\n",
    "        self.np_rng = numqi.random.get_numpy_rng(seed)\n",
    "\n",
    "        self.bitstr = None\n",
    "        self.probability = None\n",
    "\n",
    "    def forward(self, q0):\n",
    "        self.bitstr,self.probability,q1 = numqi.sim.state.measure_quantum_vector(q0, self.index, self.np_rng)\n",
    "        return q1\n"
   ]
  },
  {
   "cell_type": "markdown",
   "metadata": {},
   "source": [
    "The function `numqi.sim.state.measure_quantum_vector` is used to measure a quantum vector on some of qubits. After the measurement, thoes qubits will be collapsed to the computational basis state `self.bitstr` according to the probability distribution of the measurement result `self.probablity`. The final quantum state will become `q1`.\n",
    "\n",
    "Actually, `numqi.sim` has builtin measurement operation, let's name this newer one as `measure_custom()`."
   ]
  },
  {
   "cell_type": "code",
   "execution_count": null,
   "metadata": {},
   "outputs": [],
   "source": [
    "circ = numqi.sim.Circuit()\n",
    "circ.register_custom_gate('measure_custom', MeasureGate)\n",
    "circ.H(0)\n",
    "circ.cnot(0, 1)\n",
    "gate_measure = circ.measure_custom(index=(0,1))\n"
   ]
  },
  {
   "cell_type": "markdown",
   "metadata": {},
   "source": [
    "Above, we make a Bell state and measure it."
   ]
  },
  {
   "cell_type": "code",
   "execution_count": null,
   "metadata": {},
   "outputs": [],
   "source": [
    "q0 = numqi.sim.state.new_base(num_qubit=2)\n",
    "q1 = circ.apply_state(q0)\n",
    "print(f'{gate_measure.bitstr=}')\n",
    "print(f'{gate_measure.probability=}')\n",
    "print(f'{q1=}')\n"
   ]
  },
  {
   "cell_type": "markdown",
   "metadata": {},
   "source": [
    "As expected, only `00` and `11` are possible. Let's make a GHZ state."
   ]
  },
  {
   "cell_type": "code",
   "execution_count": null,
   "metadata": {},
   "outputs": [],
   "source": [
    "circ = numqi.sim.Circuit()\n",
    "circ.register_custom_gate('measure_custom', MeasureGate)\n",
    "circ.H(0)\n",
    "circ.cnot(0, 1)\n",
    "circ.cnot(1, 2)\n",
    "gate_measure = circ.measure_custom(index=(0,1,2))\n",
    "\n",
    "q0 = numqi.sim.state.new_base(num_qubit=3)\n",
    "q1 = circ.apply_state(q0)\n",
    "print(f'{gate_measure.bitstr=}')\n",
    "print(f'{gate_measure.probability=}')\n",
    "print(f'{q1=}')\n"
   ]
  },
  {
   "cell_type": "markdown",
   "metadata": {},
   "source": [
    "One can also measure many times, and one can insert quantum circuits between these measurements."
   ]
  },
  {
   "cell_type": "code",
   "execution_count": null,
   "metadata": {},
   "outputs": [],
   "source": [
    "num_qubit = 5\n",
    "num_layer = 3\n",
    "measure_gate_list = []\n",
    "circ = numqi.sim.Circuit()\n",
    "circ.register_custom_gate('measure_custom', MeasureGate)\n",
    "np_rng = np.random.default_rng()\n",
    "\n",
    "for _ in range(num_layer):\n",
    "    for ind0 in range(num_qubit):\n",
    "        circ.u3(ind0, args=np_rng.uniform(0, 2*np.pi, size=3))\n",
    "    tmp0 = list(range(0, num_qubit-1, 2)) + list(range(1, num_qubit-1, 2))\n",
    "    for ind0 in tmp0:\n",
    "        circ.cnot(ind0, ind0+1)\n",
    "    measure_gate_list.append(circ.measure_custom(index=(0,1)))\n",
    "\n",
    "q0 = numqi.sim.state.new_base(num_qubit)\n",
    "q1 = circ.apply_state(q0)\n",
    "print(np.linalg.norm(q1)) #1\n",
    "print('probability:', measure_gate_list[0].probability)\n",
    "for ind0,gate_i in enumerate(measure_gate_list):\n",
    "    print(f'[gate-{ind0}] bitstr:', gate_i.bitstr)\n"
   ]
  }
 ],
 "metadata": {
  "kernelspec": {
   "display_name": "Python 3",
   "language": "python",
   "name": "python3"
  },
  "language_info": {
   "codemirror_mode": {
    "name": "ipython",
    "version": 3
   },
   "file_extension": ".py",
   "mimetype": "text/x-python",
   "name": "python",
   "nbconvert_exporter": "python",
   "pygments_lexer": "ipython3",
   "version": "3.11.6"
  }
 },
 "nbformat": 4,
 "nbformat_minor": 2
}
