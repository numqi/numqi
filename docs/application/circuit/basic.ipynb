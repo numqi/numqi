{
 "cells": [
  {
   "cell_type": "markdown",
   "metadata": {},
   "source": [
    "# Quantum circuit simulator\n",
    "\n",
    "<a target=\"_blank\" href=\"https://colab.research.google.com/github/numqi/numqi/blob/main/docs/application/circuit/basic.ipynb\">\n",
    "  <img src=\"https://colab.research.google.com/assets/colab-badge.svg\" alt=\"Open In Colab\"/>\n",
    "</a>"
   ]
  },
  {
   "cell_type": "code",
   "execution_count": null,
   "metadata": {},
   "outputs": [],
   "source": [
    "import numpy as np\n",
    "import matplotlib.pyplot as plt\n",
    "\n",
    "try:\n",
    "    import numqi\n",
    "except ImportError:\n",
    "    %pip install numqi\n",
    "    import numqi\n"
   ]
  },
  {
   "cell_type": "markdown",
   "metadata": {},
   "source": [
    "## First quantum circuit\n",
    "\n",
    "Build a non-trivial quantum circuit"
   ]
  },
  {
   "cell_type": "code",
   "execution_count": null,
   "metadata": {},
   "outputs": [],
   "source": [
    "circ = numqi.sim.Circuit()\n",
    "for x in range(4):\n",
    "    circ.H(x)\n",
    "circ.cz(3, 4)\n",
    "circ.cy(2, 3)\n",
    "circ.cz(2, 4)\n",
    "circ.cx(1, 2)\n",
    "circ.cz(1, 3)\n",
    "circ.cx(1, 4)\n",
    "circ.cy(0, 2)\n",
    "circ.cx(0, 3)\n",
    "circ.cx(0, 4)\n"
   ]
  },
  {
   "cell_type": "markdown",
   "metadata": {},
   "source": [
    "with variable `circ`, one can check its properties"
   ]
  },
  {
   "cell_type": "code",
   "execution_count": null,
   "metadata": {},
   "outputs": [],
   "source": [
    "circ.num_qubit #5\n"
   ]
  },
  {
   "cell_type": "markdown",
   "metadata": {},
   "source": [
    "Given a initial state (simply a 1-dimensional numpy array), `circ` can produce the final state (out-of-place operation)"
   ]
  },
  {
   "cell_type": "code",
   "execution_count": null,
   "metadata": {},
   "outputs": [],
   "source": [
    "qin0 = np.zeros(2**5, dtype=np.complex128)\n",
    "qin0[0] = 1\n",
    "# q0 = numqi.sim.state.new_base(5)\n",
    "qout0 = circ.apply_state(qin0)\n",
    "\n",
    "qin1 = np.zeros(2**5, dtype=np.complex128)\n",
    "qin1[1] = 1\n",
    "qout1 = circ.apply_state(qin1)\n"
   ]
  },
  {
   "cell_type": "markdown",
   "metadata": {},
   "source": [
    "Above, `qin0` and `qin1` are two computational basis states. `qout0` and `qout1` is the corresponding output quantum state vectors. Actually, the `qout0` and `qout1` is the `((5,2,3))` quantum error correcting code [wiki/five-qubit-code](https://en.wikipedia.org/wiki/Five-qubit_error_correcting_code) which will be discussed later. We can also retrieve the full unitary matrix."
   ]
  },
  {
   "cell_type": "code",
   "execution_count": null,
   "metadata": {},
   "outputs": [],
   "source": [
    "mat = circ.to_unitary() #(np,complex128,(32,32))\n",
    "print(mat.shape)\n"
   ]
  },
  {
   "cell_type": "markdown",
   "metadata": {},
   "source": [
    "## Parametrized quantum circuit"
   ]
  },
  {
   "cell_type": "code",
   "execution_count": null,
   "metadata": {},
   "outputs": [],
   "source": [
    "circ = numqi.sim.Circuit(default_requires_grad=False)\n",
    "gate0 = circ.ry(1)\n",
    "circ.H(1)\n",
    "circ.cnot(0, 1)\n"
   ]
  },
  {
   "cell_type": "markdown",
   "metadata": {},
   "source": [
    "above we create a circuit with parameterized gate `gate0`. We can modify the parameter in `gate0` to get different expectation (say Pauli-Z on qubit `q1`)"
   ]
  },
  {
   "cell_type": "code",
   "execution_count": null,
   "metadata": {},
   "outputs": [],
   "source": [
    "initial_state = numqi.sim.state.new_base(2)\n",
    "theta = np.linspace(0, 4*np.pi)\n",
    "op = [[(numqi.gate.Z,1)]]\n",
    "expectation = []\n",
    "for x in theta:\n",
    "    gate0.set_args([x])\n",
    "    psi = circ.apply_state(initial_state)\n",
    "    expectation.append(numqi.sim.state.inner_product_psi0_O_psi1(psi, psi, op).item().real)\n",
    "\n",
    "fig,ax = plt.subplots()\n",
    "ax.plot(theta, expectation)\n",
    "ax.set_xlabel(r'$\\theta$')\n",
    "ax.grid()\n",
    "fig.tight_layout()\n"
   ]
  }
 ],
 "metadata": {
  "kernelspec": {
   "display_name": "Python 3",
   "language": "python",
   "name": "python3"
  },
  "language_info": {
   "codemirror_mode": {
    "name": "ipython",
    "version": 3
   },
   "file_extension": ".py",
   "mimetype": "text/x-python",
   "name": "python",
   "nbconvert_exporter": "python",
   "pygments_lexer": "ipython3",
   "version": "3.11.4"
  }
 },
 "nbformat": 4,
 "nbformat_minor": 2
}
