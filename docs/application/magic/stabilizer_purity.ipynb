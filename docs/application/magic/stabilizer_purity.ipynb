{
 "cells": [
  {
   "cell_type": "markdown",
   "metadata": {},
   "source": [
    "# Stabilizer Purity\n",
    "\n",
    "<a target=\"_blank\" href=\"https://colab.research.google.com/github/numqi/numqi/blob/main/docs/application/magic/stabilizer_purity.ipynb\">\n",
    "  <img src=\"https://colab.research.google.com/assets/colab-badge.svg\" alt=\"Open In Colab\"/>\n",
    "</a>"
   ]
  },
  {
   "cell_type": "code",
   "execution_count": null,
   "metadata": {},
   "outputs": [],
   "source": [
    "import numpy as np\n",
    "from tqdm.notebook import tqdm\n",
    "import matplotlib.pyplot as plt\n",
    "\n",
    "try:\n",
    "    import numqi\n",
    "except ImportError:\n",
    "    %pip install numqi\n",
    "    import numqi"
   ]
  },
  {
   "cell_type": "markdown",
   "metadata": {},
   "source": [
    "For pure states $|\\psi\\rangle$\n",
    "\n",
    "$$ P_{\\alpha}\\left(|\\psi\\rangle\\right)=2^{-n}\\sum_{x\\in P_{n}}\\langle\\psi|x|\\psi\\rangle^{2\\alpha} $$\n",
    "\n",
    "For mixed states $\\rho$ (convex roof extension)\n",
    "\n",
    "$$ \\begin{align*}\n",
    "    P_{\\alpha}(\\rho)&=\\sup_{\\left\\{ p_{s},|\\psi_{s}\\rangle\\right\\} }\\sum_{s}p_{s}P_{\\alpha}\\left(|\\psi_{\\alpha}\\rangle\\right)\\\\\n",
    "    &=\\sup_{\\left\\{ |\\tilde{\\psi}_{s}\\rangle\\right\\} }2^{-n}\\sum_{s}p_{s}^{1-2\\alpha}\\sum_{x\\in P_{n}}|\\langle\\tilde{\\psi}_{s}|x|\\tilde{\\psi}_{s}\\rangle|^{2\\alpha}\n",
    "\\end{align*} $$\n",
    "\n",
    "linear stabilizer entropy\n",
    "\n",
    "$$ M_{\\alpha}(\\rho)=1-P_{\\alpha}(\\rho) $$"
   ]
  },
  {
   "cell_type": "markdown",
   "metadata": {},
   "source": [
    "## H state"
   ]
  },
  {
   "cell_type": "code",
   "execution_count": null,
   "metadata": {},
   "outputs": [],
   "source": [
    "num_qubit = 1\n",
    "alpha_list = [2,3,4]\n",
    "prob_list = np.linspace(0, 1, 100)\n",
    "psi = np.array([1, np.sqrt(2)-1]) / np.sqrt(4-2*np.sqrt(2)) #Hstate\n",
    "# psi = numqi.random.rand_haar_state(2**num_qubit) #random state\n",
    "dm_target = psi.reshape(-1,1) * psi.conj()\n",
    "alpha_boundary = 0.5 / np.abs(numqi.gellmann.dm_to_gellmann_basis(dm_target)).sum()\n",
    "\n",
    "ret_opt = []\n",
    "for alpha_i in alpha_list:\n",
    "    model = numqi.magic.MagicStabilizerEntropyModel(alpha_i, num_qubit, num_term=4*(2**num_qubit))\n",
    "    for prob_i in tqdm(prob_list):\n",
    "        model.set_density_matrix(numqi.utils.hf_interpolate_dm(dm_target, alpha=prob_i))\n",
    "        ret_opt.append(-numqi.optimize.minimize(model, 'uniform', num_repeat=10, tol=1e-10, print_every_round=0).fun)\n",
    "ret_opt = np.array(ret_opt).reshape(len(alpha_list), -1)\n"
   ]
  },
  {
   "cell_type": "code",
   "execution_count": null,
   "metadata": {},
   "outputs": [],
   "source": [
    "fig,ax = plt.subplots()\n",
    "ax.axvline(alpha_boundary, linestyle=':', color='red', label=r'$0.5\\|\\vec{\\rho}\\|_1^{-1}$')\n",
    "for ind0 in range(len(alpha_list)):\n",
    "    ax.plot(prob_list, 1-ret_opt[ind0], label=f'alpha={alpha_list[ind0]}')\n",
    "ax.set_xlabel(r'$p\\rho + (1-p)I/d$')\n",
    "ax.set_ylabel('linear Stab Entropy')\n",
    "ax.set_xlim(0, 1)\n",
    "ax.legend()\n",
    "ax.set_yscale('log')\n",
    "fig.tight_layout()"
   ]
  },
  {
   "cell_type": "markdown",
   "metadata": {},
   "source": [
    "## CS state\n",
    "\n",
    "WARNING: bad convergence using gradient descent"
   ]
  },
  {
   "cell_type": "code",
   "execution_count": null,
   "metadata": {},
   "outputs": [],
   "source": [
    "alpha_list = [2]\n",
    "CSstate = np.array([1, 1, 1, 1j], dtype=np.complex128) / 2\n",
    "dm_target = CSstate.reshape(-1,1) * CSstate.conj()\n",
    "num_qubit = numqi.utils.hf_num_state_to_num_qubit(dm_target.shape[0])\n",
    "prob_list = np.linspace(0, 1, 50)\n",
    "\n",
    "ret_opt = []\n",
    "for alpha_i in alpha_list:\n",
    "    model = numqi.magic.MagicStabilizerEntropyModel(alpha_i, num_qubit, num_term=2*(2**num_qubit))\n",
    "    for prob_i in tqdm(prob_list):\n",
    "        model.set_density_matrix(numqi.utils.hf_interpolate_dm(dm_target, alpha=prob_i))\n",
    "        ret_opt.append(-numqi.optimize.minimize(model, 'uniform', num_repeat=3, tol=1e-10, print_every_round=0).fun) #severe local minima\n",
    "        # ret_opt.append(-numqi.optimize.minimize_adam(model, num_step=5000, theta0='uniform', optim_args=('adam', 0.03,0.01), tqdm_update_freq=0))\n",
    "ret_opt = np.array(ret_opt).reshape(len(alpha_list), -1)\n"
   ]
  },
  {
   "cell_type": "code",
   "execution_count": null,
   "metadata": {},
   "outputs": [],
   "source": [
    "fig,ax = plt.subplots()\n",
    "ax.axvline(1/2, color='red', label='p=1/2')\n",
    "for ind0 in range(len(alpha_list)):\n",
    "    ax.plot(prob_list, 1-ret_opt[ind0], label=f'alpha={alpha_list[ind0]}')\n",
    "ax.set_xlabel(r'$p\\rho + (1-p)I/d$')\n",
    "ax.set_ylabel('linear Stab Entropy')\n",
    "ax.set_title(f'CS state (bad convergence)')\n",
    "ax.legend()\n",
    "ax.set_yscale('log')\n",
    "fig.tight_layout()"
   ]
  }
 ],
 "metadata": {
  "kernelspec": {
   "display_name": "Python 3",
   "language": "python",
   "name": "python3"
  },
  "language_info": {
   "codemirror_mode": {
    "name": "ipython",
    "version": 3
   },
   "file_extension": ".py",
   "mimetype": "text/x-python",
   "name": "python",
   "nbconvert_exporter": "python",
   "pygments_lexer": "ipython3",
   "version": "3.12.3"
  }
 },
 "nbformat": 4,
 "nbformat_minor": 2
}
