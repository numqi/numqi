{
 "cells": [
  {
   "cell_type": "markdown",
   "metadata": {},
   "source": [
    "# Numerical range of density matrix\n",
    "\n",
    "<a target=\"_blank\" href=\"https://colab.research.google.com/github/numqi/numqi/blob/main/docs/application/geometry/numerical_range_dm.ipynb\">\n",
    "  <img src=\"https://colab.research.google.com/assets/colab-badge.svg\" alt=\"Open In Colab\"/>\n",
    "</a>\n",
    "\n",
    "*Comment*: the numerical range in this page is actually \"joint algebraic numerical range\" to be precise, but we will just call it numerical range for simplicity. \n",
    "\n",
    "For more mathematical details of numerical range, please check [doc-link](../../../foundation/matrix_space/numerical_range).\n",
    "\n",
    "Density matrix is postive semi-definite, Hermitian, trace one matrix.\n",
    "\n",
    "$$ \\{ \\rho\\in\\mathbb{C}^{d\\times d}: \\rho\\succeq 0,\\mathrm{Tr}[\\rho]=1 \\} $$\n",
    "\n",
    "a positive semi-definite matrix is always Hermitian, so we don't need to specify it."
   ]
  },
  {
   "cell_type": "code",
   "execution_count": null,
   "metadata": {},
   "outputs": [],
   "source": [
    "import numpy as np\n",
    "import matplotlib.pyplot as plt\n",
    "\n",
    "try:\n",
    "    import numqi\n",
    "except ImportError:\n",
    "    %pip install numqi\n",
    "    import numqi"
   ]
  },
  {
   "cell_type": "markdown",
   "metadata": {},
   "source": [
    "## One qubit case\n",
    "\n",
    "For one qubit case, density matrix is a $2\\times 2$ matrix, and it can be written as\n",
    "\n",
    "$$ \\rho=\\rho_{0}+\\frac{1}{2}\\vec{n}\\cdot\\vec{\\sigma} $$\n",
    "\n",
    "where $\\vec{n}\\in \\mathbb{R}^3$ is a three dimensional vector. To make sure the expression above PSD, the vector is required to be inside the Bloch sphere, i.e., $\\lVert\\vec{n}\\rVert _2\\leq 1$ [wiki-link](https://en.wikipedia.org/wiki/Bloch_sphere). And the numerical range of two operators is simply the projection of the Bloch sphere onto the plane spanned by the two operators. For this Bloch sphere, the projection is a circle if these two operators are perpendicular to each other."
   ]
  },
  {
   "cell_type": "code",
   "execution_count": null,
   "metadata": {},
   "outputs": [],
   "source": [
    "np_rng = np.random.default_rng()\n",
    "\n",
    "# generate two random, orthogonal unit vectors\n",
    "tmp0 = np_rng.uniform(-1, 1, size=3)\n",
    "vec0 = tmp0 / np.linalg.norm(tmp0)\n",
    "op0 = vec0[0] * numqi.gate.X + vec0[1] * numqi.gate.Y + vec0[2] * numqi.gate.Z\n",
    "\n",
    "tmp1 = np_rng.uniform(-1, 1, size=3)\n",
    "tmp1 = tmp1 - tmp1.dot(vec0) * vec0 # orthogonalize\n",
    "vec1 = tmp1 / np.linalg.norm(tmp1)\n",
    "op1 = vec1[0] * numqi.gate.X + vec1[1] * numqi.gate.Y + vec1[2] * numqi.gate.Z\n",
    "\n",
    "fig,ax = plt.subplots()\n",
    "theta_list = np.linspace(0, 2*np.pi, 200)\n",
    "direction = np.stack([np.cos(theta_list), np.sin(theta_list)], axis=1)\n",
    "beta_list = numqi.matrix_space.get_joint_algebraic_numerical_range([op0,op1], direction)\n",
    "ax.plot(beta_list*np.cos(theta_list), beta_list*np.sin(theta_list))\n",
    "ax.set_aspect('equal')\n",
    "ax.set_xlabel('$O_0$')\n",
    "ax.set_ylabel('$O_1$')\n",
    "_ = ax.set_title('two random orthogonal operators')"
   ]
  },
  {
   "cell_type": "markdown",
   "metadata": {},
   "source": [
    "## Two qubits case\n",
    "\n",
    "For two qubits case, the shape of numerical range is much more complicated. Let's start with two commutative operators,\n",
    "\n",
    "$$ O_0=X\\otimes X,O_1=Z\\otimes Z $$\n",
    "\n",
    "one can verify that $[O_0,O_1]=0$."
   ]
  },
  {
   "cell_type": "code",
   "execution_count": null,
   "metadata": {},
   "outputs": [],
   "source": [
    "op0 = np.kron(numqi.gate.X, numqi.gate.X)\n",
    "op1 = np.kron(numqi.gate.Z, numqi.gate.Z)\n",
    "# op1 = np.kron(numqi.gate.Z, numqi.gate.I) + np.kron(numqi.gate.I, numqi.gate.Z)\n",
    "\n",
    "theta_list = np.linspace(0, 2*np.pi, 400)\n",
    "direction = np.stack([np.cos(theta_list), np.sin(theta_list)], axis=1)\n",
    "\n",
    "beta_dm = numqi.matrix_space.get_joint_algebraic_numerical_range([op0,op1], direction)\n",
    "nr_dm = beta_dm.reshape(-1,1)*direction\n",
    "\n",
    "fig,ax = plt.subplots(figsize=(8,6))\n",
    "ax.plot(nr_dm[:,0], nr_dm[:,1], label='JANR')\n",
    "ax.legend()\n",
    "ax.set_xlabel('$O_0$')\n",
    "ax.set_ylabel('$O_1$')"
   ]
  },
  {
   "cell_type": "markdown",
   "metadata": {},
   "source": [
    "The numerical range of these two operators is a square with 4 vertices. We can figure out the vertices $(1,1)$ corresponds to one Bell state\n",
    "\n",
    "$$ |\\psi\\rangle=\\frac{1}{\\sqrt{2}}(|00\\rangle + |11\\rangle) $$\n",
    "\n",
    "for that\n",
    "\n",
    "$$ \\langle \\psi | O_0 | \\psi\\rangle= \\langle \\psi | O_1 | \\psi\\rangle = 1$$\n",
    "\n",
    "**Task**: can you identify the other three vertices?\n",
    "\n",
    "**Task**: what about the numerical range of the operators $O_0=X\\otimes X,O_1=Z\\otimes I+I\\otimes Z $\n",
    "\n",
    "Then we may consider two random Hermitian operators $O_0,O_1$."
   ]
  },
  {
   "cell_type": "code",
   "execution_count": null,
   "metadata": {},
   "outputs": [],
   "source": [
    "op0 = numqi.random.rand_hermitian_matrix(4)\n",
    "op1 = numqi.random.rand_hermitian_matrix(4)\n",
    "\n",
    "theta_list = np.linspace(0, 2*np.pi, 400)\n",
    "direction = np.stack([np.cos(theta_list), np.sin(theta_list)], axis=1)\n",
    "\n",
    "beta_dm = numqi.matrix_space.get_joint_algebraic_numerical_range([op0,op1], direction)\n",
    "nr_dm = beta_dm.reshape(-1,1)*direction\n",
    "\n",
    "fig,ax = plt.subplots(figsize=(8,6))\n",
    "ax.plot(nr_dm[:,0], nr_dm[:,1], label='JANR')\n",
    "ax.legend()\n",
    "ax.set_xlabel('$O_0$')\n",
    "ax.set_ylabel('$O_1$')"
   ]
  }
 ],
 "metadata": {
  "kernelspec": {
   "display_name": "cuda122",
   "language": "python",
   "name": "python3"
  },
  "language_info": {
   "codemirror_mode": {
    "name": "ipython",
    "version": 3
   },
   "file_extension": ".py",
   "mimetype": "text/x-python",
   "name": "python",
   "nbconvert_exporter": "python",
   "pygments_lexer": "ipython3",
   "version": "3.10.13"
  }
 },
 "nbformat": 4,
 "nbformat_minor": 2
}
