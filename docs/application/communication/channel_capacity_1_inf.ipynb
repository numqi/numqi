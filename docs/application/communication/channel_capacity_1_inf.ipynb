{
 "cells": [
  {
   "cell_type": "markdown",
   "metadata": {},
   "source": [
    "# Channel Capacity\n",
    "\n",
    "<a target=\"_blank\" href=\"https://colab.research.google.com/github/numqi/numqi/blob/main/docs/application/communication/channel_capacity_1_inf.ipynb\">\n",
    "  <img src=\"https://colab.research.google.com/assets/colab-badge.svg\" alt=\"Open In Colab\"/>\n",
    "</a>\n",
    "\n",
    "[arxiv-link](http://arxiv.org/abs/quant-ph/0304102v1) Capacities of Quantum Channels and How to Find Them"
   ]
  },
  {
   "cell_type": "code",
   "execution_count": null,
   "metadata": {},
   "outputs": [],
   "source": [
    "import numpy as np\n",
    "import torch\n",
    "import matplotlib.pyplot as plt\n",
    "\n",
    "try:\n",
    "    import numqi\n",
    "except ImportError:\n",
    "    %pip install numqi\n",
    "    import numqi\n"
   ]
  },
  {
   "cell_type": "code",
   "execution_count": null,
   "metadata": {},
   "outputs": [],
   "source": [
    "noise_rate_list = np.linspace(0, 1, 20)\n",
    "hf_channel_list = [\n",
    "    numqi.channel.hf_amplitude_damping_kraus_op,\n",
    "    numqi.channel.hf_depolarizing_kraus_op,\n",
    "    numqi.channel.hf_dephasing_kraus_op,\n",
    "]\n",
    "\n",
    "loss_list = []\n",
    "kwargs = dict(theta0='uniform', num_repeat=3, tol=1e-10, print_every_round=0)\n",
    "model = numqi.channel.ChannelCapacity1InfModel(2, num_state=2)\n",
    "for hf_channel in hf_channel_list:\n",
    "    for noise_rate in noise_rate_list:\n",
    "        model.set_channel_kraus_op(hf_channel(noise_rate))\n",
    "        loss_list.append(-numqi.optimize.minimize(model, **kwargs).fun)\n",
    "loss_list = np.array(loss_list).reshape(len(hf_channel_list), -1)\n"
   ]
  },
  {
   "cell_type": "code",
   "execution_count": null,
   "metadata": {},
   "outputs": [],
   "source": [
    "fig,ax = plt.subplots()\n",
    "for ind0,name in enumerate(['amplitude-damping', 'depolarizing', 'phase-damping']):\n",
    "    ax.plot(noise_rate_list, loss_list[ind0], 'o-', label=name)\n",
    "ax.set_xlabel('noise rate')\n",
    "ax.set_ylabel(r'capacity $C_{1,\\infty}$')\n",
    "ax.legend()\n",
    "ax.grid()\n",
    "fig.tight_layout()\n"
   ]
  }
 ],
 "metadata": {
  "kernelspec": {
   "display_name": "Python 3",
   "language": "python",
   "name": "python3"
  },
  "language_info": {
   "codemirror_mode": {
    "name": "ipython",
    "version": 3
   },
   "file_extension": ".py",
   "mimetype": "text/x-python",
   "name": "python",
   "nbconvert_exporter": "python",
   "pygments_lexer": "ipython3",
   "version": "3.11.4"
  }
 },
 "nbformat": 4,
 "nbformat_minor": 2
}
