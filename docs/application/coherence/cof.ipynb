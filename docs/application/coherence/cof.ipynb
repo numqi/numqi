{
 "cells": [
  {
   "cell_type": "markdown",
   "metadata": {},
   "source": [
    "# Coherence of Formation\n",
    "\n",
    "<a target=\"_blank\" href=\"https://colab.research.google.com/github/numqi/numqi/blob/main/docs/application/coherence/cof.ipynb\">\n",
    "  <img src=\"https://colab.research.google.com/assets/colab-badge.svg\" alt=\"Open In Colab\"/>\n",
    "</a>\n",
    "\n",
    "reference: Quantum Coherence and Intrinsic Randomness [arxiv-link](https://arxiv.org/abs/1605.07818)"
   ]
  },
  {
   "cell_type": "code",
   "execution_count": null,
   "metadata": {},
   "outputs": [],
   "source": [
    "import numpy as np\n",
    "from tqdm.auto import tqdm\n",
    "import matplotlib.pyplot as plt\n",
    "\n",
    "try:\n",
    "    import numqi\n",
    "except ImportError:\n",
    "    %pip install numqi\n",
    "    import numqi\n",
    "\n",
    "np_rng = np.random.default_rng()\n"
   ]
  },
  {
   "cell_type": "markdown",
   "metadata": {},
   "source": [
    "## Pure state\n",
    "\n",
    "For pure state $|\\psi\\rangle$, the Coherence of Formation is defined as\n",
    "\n",
    "$$ \\Delta(\\rho)=\\sum_{i}\\rho_{ii}|i\\rangle\\langle i| $$\n",
    "\n",
    "$$ C_{f}\\left(|\\psi\\rangle\\right)=S\\left(\\Delta\\left(|\\psi\\rangle\\langle\\psi|\\right)\\right) $$\n",
    "\n",
    "Below, we try to calculate the Coherence of Formation for some pure states."
   ]
  },
  {
   "cell_type": "code",
   "execution_count": null,
   "metadata": {},
   "outputs": [],
   "source": [
    "psi = np.array([1,0,0,0], dtype=np.float64)\n",
    "print('computational basis: ', numqi.coherence.get_coherence_of_formation_pure(psi))\n",
    "# TODO for some random pure state\n",
    "\n",
    "psi = numqi.random.rand_haar_state(4)\n",
    "print('random pure state: ', numqi.coherence.get_coherence_of_formation_pure(psi))\n",
    "\n",
    "psi = np.array([1,1,1,1], dtype=np.float64)/2\n",
    "print('maximally coherent state: ', numqi.coherence.get_coherence_of_formation_pure(psi))"
   ]
  },
  {
   "cell_type": "markdown",
   "metadata": {},
   "source": [
    "## Mixed state\n",
    "\n",
    "\n",
    "For mixed state $\\rho$, the Coherence of Formation is defined via convex roof extension [arxiv-link](https://arxiv.org/abs/2406.19683)\n",
    "\n",
    "$$ \\begin{align*}\n",
    "    C_{f}\\left(\\rho\\right)&=\\min_{\\left\\{ p_{\\alpha},|\\psi_{\\alpha}\\rangle\\right\\} }\\sum_{\\alpha}p_{\\alpha}C_{f}\\left(|\\psi_{\\alpha}\\rangle\\right)\\\\\n",
    "    &=\\min_{\\left\\{ \\tilde{\\rho}_{\\alpha}\\right\\} }\\left(\\sum_{\\alpha}p_{\\alpha}\\ln p_{\\alpha}-\\sum_{\\alpha,i}\\tilde{\\rho}_{\\alpha,ii}\\ln\\tilde{\\rho}_{\\alpha,ii}\\right)\n",
    "\\end{align*} $$\n",
    "\n",
    "where the minimization is over all ensemble decomposition of $\\rho=\\sum_{\\alpha}p_{\\alpha}|\\psi_{\\alpha}\\rangle\\langle\\psi_{\\alpha}|$."
   ]
  },
  {
   "cell_type": "code",
   "execution_count": null,
   "metadata": {},
   "outputs": [],
   "source": [
    "tmp0 = numqi.random.rand_haar_state(4)\n",
    "dm_target = tmp0.reshape(-1,1) * tmp0.conj()\n",
    "dim = dm_target.shape[0]\n",
    "alpha_list = np.linspace(0, 1, 50)\n",
    "\n",
    "model = numqi.coherence.CoherenceFormationModel(dim, num_term=3*dim)\n",
    "kwargs = dict(theta0='uniform', num_repeat=3, tol=1e-10, print_every_round=0)\n",
    "cof_list = []\n",
    "for alpha_i in tqdm(alpha_list):\n",
    "    model.set_density_matrix(numqi.utils.hf_interpolate_dm(dm_target, alpha=alpha_i))\n",
    "    cof_list.append(numqi.optimize.minimize(model, **kwargs).fun)\n",
    "cof_list = np.array(cof_list)\n",
    "\n",
    "fig,ax = plt.subplots()\n",
    "ax.plot(alpha_list, cof_list)\n",
    "ax.set_xlabel('alpha')\n",
    "ax.set_ylabel('CoF')\n",
    "fig.tight_layout()"
   ]
  }
 ],
 "metadata": {
  "kernelspec": {
   "display_name": "Python 3",
   "language": "python",
   "name": "python3"
  },
  "language_info": {
   "codemirror_mode": {
    "name": "ipython",
    "version": 3
   },
   "file_extension": ".py",
   "mimetype": "text/x-python",
   "name": "python",
   "nbconvert_exporter": "python",
   "pygments_lexer": "ipython3",
   "version": "3.12.3"
  }
 },
 "nbformat": 4,
 "nbformat_minor": 2
}
