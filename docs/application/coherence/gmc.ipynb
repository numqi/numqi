{
 "cells": [
  {
   "cell_type": "markdown",
   "metadata": {},
   "source": [
    "# Geometric Measure of Coherence\n",
    "\n",
    "<a target=\"_blank\" href=\"https://colab.research.google.com/github/numqi/numqi/blob/main/docs/application/coherence/gmc.ipynb\">\n",
    "  <img src=\"https://colab.research.google.com/assets/colab-badge.svg\" alt=\"Open In Colab\"/>\n",
    "</a>\n"
   ]
  },
  {
   "cell_type": "code",
   "execution_count": null,
   "metadata": {},
   "outputs": [],
   "source": [
    "import numpy as np\n",
    "from tqdm.auto import tqdm\n",
    "import matplotlib.pyplot as plt\n",
    "import torch\n",
    "\n",
    "try:\n",
    "    import numqi\n",
    "except ImportError:\n",
    "    %pip install numqi\n",
    "    import numqi\n",
    "\n",
    "np_rng = np.random.default_rng()\n"
   ]
  },
  {
   "cell_type": "markdown",
   "metadata": {},
   "source": [
    "## Pure state\n",
    "\n",
    "$$ C_{g}\\left(|\\psi\\rangle\\right)=1-\\max_{i}\\left|\\langle i|\\psi\\rangle\\right|^{2} $$"
   ]
  },
  {
   "cell_type": "code",
   "execution_count": null,
   "metadata": {},
   "outputs": [],
   "source": [
    "psi = np.array([1,0,0,0], dtype=np.float64)\n",
    "print('computational basis: ', numqi.coherence.get_geometric_coherence_pure(psi))\n",
    "# TODO for some random pure state\n",
    "\n",
    "psi = numqi.random.rand_haar_state(4)\n",
    "print('random pure state: ', numqi.coherence.get_geometric_coherence_pure(psi))\n",
    "\n",
    "psi = np.array([1,1,1,1], dtype=np.float64)/2\n",
    "print('maximally coherent state: ', numqi.coherence.get_geometric_coherence_pure(psi))"
   ]
  },
  {
   "cell_type": "markdown",
   "metadata": {},
   "source": [
    "## Mixed state\n",
    "\n",
    "$$ \\begin{align*}\n",
    "    C_{g}(\\rho)&=\\min_{\\left\\{ p_{\\alpha},|\\psi_{\\alpha}\\rangle\\right\\} }\\sum_{\\alpha}p_{\\alpha}C_{g}\\left(|\\psi_{\\alpha}\\rangle\\right)\\\\\n",
    "    &=1-\\max_{\\left\\{ \\tilde{\\rho}_{\\alpha}\\right\\} }\\sum_{\\alpha}\\max_{i}\\tilde{\\rho}_{\\alpha,ii}\n",
    "\\end{align*} $$\n",
    "\n",
    "$$ \\max_{i}\\tilde{\\rho}_{\\alpha,ii}=\\lim_{T\\to0^{+}} T \\log\\left(\\sum_{i}\\mathrm{exp}\\left(\\tilde{\\rho}_{\\alpha,ii}/T\\right)\\right) $$\n",
    "\n",
    "log-sum-exp is the \"real\" SoftMax [wiki-link](https://en.wikipedia.org/wiki/LogSumExp). The naive \"$\\max_i$\" is hard to converge (easily trapped in local minimum), while log-sum-exp works much better."
   ]
  },
  {
   "cell_type": "code",
   "execution_count": null,
   "metadata": {},
   "outputs": [],
   "source": [
    "dim = 32 #when dim=64, more num_repeat is needed\n",
    "psi = numqi.state.maximally_coherent_state(dim)\n",
    "dm_target = psi.reshape(-1,1) * psi.conj()\n",
    "\n",
    "alpha_list = np.linspace(0, 1, 50)\n",
    "\n",
    "model = numqi.coherence.GeometricCoherenceModel(dim, num_term=4*dim, temperature=0.3)\n",
    "kwargs = dict(theta0='uniform', num_repeat=3, tol=1e-10, print_every_round=0)\n",
    "gc_list = []\n",
    "for alpha_i in tqdm(alpha_list):\n",
    "    model.set_density_matrix(numqi.utils.hf_interpolate_dm(dm_target, alpha=alpha_i))\n",
    "    theta_optim = numqi.optimize.minimize(model, **kwargs).fun\n",
    "    with torch.no_grad():\n",
    "        gc_list.append(model(use_temperature=False).item())\n",
    "gc_list = np.array(gc_list)\n",
    "\n",
    "gc_analytical = numqi.state.get_maximally_coherent_state_gmc(dim, alpha=alpha_list)\n",
    "\n",
    "fig,ax = plt.subplots()\n",
    "ax.plot(alpha_list, gc_list, label='manifold-opt')\n",
    "ax.plot(alpha_list, gc_analytical, 'x', label='analytical')\n",
    "ax.legend()\n",
    "ax.set_xlabel('alpha')\n",
    "ax.set_ylabel('geometric coherence')\n",
    "ax.set_title(f'dim={dim}')\n",
    "fig.tight_layout()"
   ]
  }
 ],
 "metadata": {
  "kernelspec": {
   "display_name": "Python 3",
   "language": "python",
   "name": "python3"
  },
  "language_info": {
   "codemirror_mode": {
    "name": "ipython",
    "version": 3
   },
   "file_extension": ".py",
   "mimetype": "text/x-python",
   "name": "python",
   "nbconvert_exporter": "python",
   "pygments_lexer": "ipython3",
   "version": "3.12.3"
  }
 },
 "nbformat": 4,
 "nbformat_minor": 2
}
