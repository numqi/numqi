{
 "cells": [
  {
   "cell_type": "markdown",
   "metadata": {},
   "source": [
    "# SDP bounds for quantum codes\n",
    "\n",
    "<a target=\"_blank\" href=\"https://colab.research.google.com/github/numqi/numqi/blob/main/docs/application/qecc/sdp_qec.ipynb\">\n",
    "  <img src=\"https://colab.research.google.com/assets/colab-badge.svg\" alt=\"Open In Colab\"/>\n",
    "</a>\n",
    "\n",
    "\n",
    "In [arxiv-link](https://arxiv.org/abs/2408.10323) \"SDP bounds for quantum codes\", author provides a hierarchical Semi-Definite Programing (SDP) to certificate the existence of quantum codes. When the hierarchy goes to infinity, those SDP becomes necessary and sufficient conditions at the cost of computational complexity. The hierarchy level $l=2$ is implemented in `numqi` and below will demonstrate how to use it. As claimed in paper, the $l=2$ hierarchy is sufficient to certify the nonexistence of quantum codes $((7,1,4))$, $((8,9,3))$ and $((10,5,4))$."
   ]
  },
  {
   "cell_type": "code",
   "execution_count": null,
   "metadata": {},
   "outputs": [],
   "source": [
    "import numpy as np\n",
    "import matplotlib.pyplot as plt\n",
    "import cvxpy\n",
    "\n",
    "try:\n",
    "    import numqi\n",
    "except ImportError:\n",
    "    %pip install numqi\n",
    "    import numqi\n",
    "\n",
    "# mosek is necessary for some of the examples\n",
    "try:\n",
    "    import mosek\n",
    "    USE_MOSEK = True\n",
    "except ImportError:\n",
    "    USE_MOSEK = False\n"
   ]
  },
  {
   "cell_type": "markdown",
   "metadata": {},
   "source": [
    "## Feasibility of quantum codes\n",
    "\n",
    "eq(142) is implemented in `numqi.qec.is_code_feasible` to check the feasibility of quantum codes. Let's check some famous known quantum codes."
   ]
  },
  {
   "cell_type": "code",
   "execution_count": null,
   "metadata": {},
   "outputs": [],
   "source": [
    "# 5-qubits code\n",
    "print(numqi.qec.is_code_feasible(5, 2, 3))"
   ]
  },
  {
   "cell_type": "code",
   "execution_count": null,
   "metadata": {},
   "outputs": [],
   "source": [
    "# Steane code ((7,2,3))\n",
    "print(numqi.qec.is_code_feasible(7, 2, 3))"
   ]
  },
  {
   "cell_type": "markdown",
   "metadata": {},
   "source": [
    "then, let's reproduce the results in the paper. The nonexistance of $((7,1,4))$"
   ]
  },
  {
   "cell_type": "code",
   "execution_count": null,
   "metadata": {},
   "outputs": [],
   "source": [
    "numqi.qec.is_code_feasible(7, 1, 4, solver='CLARABEL')"
   ]
  },
  {
   "cell_type": "markdown",
   "metadata": {},
   "source": [
    "To refute the code $((8,9,3))$ and $((10,5,4))$, `solver=\"MOSEK\"` is required (other solvers would raise `NumericalError` for unknown reasons).\n",
    "\n",
    "Even with `solver=\"MOSEK\"`, some constraints have to be dropped to avoid `NumericalError`. If the SDP with some constraints dropped is infeasible, then the SDP with all constraints is also infeasible. Also, dropping some constraints is also done in the paper."
   ]
  },
  {
   "cell_type": "code",
   "execution_count": null,
   "metadata": {},
   "outputs": [],
   "source": [
    "if USE_MOSEK:\n",
    "    tmp0 = numqi.qec.is_code_feasible(8, 9, 3, solver='MOSEK', drop_constraint=[2])\n",
    "    print('((8,9,3)):', 'feasible' if tmp0 else 'infeasible')\n",
    "\n",
    "    tmp0 = {16, 18, 20, 22, 26, 28, 30, 32, 34, 36, 38, 40, 42, 46, 48, 50, 52, 54, 56, 58, 62, 64, 66, 68, 70, 74, 76, 78, 82}\n",
    "    drop_constraint = [10,11,12,13] + sorted(set(range(15,86))-tmp0)\n",
    "    tmp1 = numqi.qec.is_code_feasible(10, 5, 4, solver='MOSEK', drop_constraint=drop_constraint)\n",
    "    print('((10,5,4)):', 'feasible' if tmp1 else 'infeasible')"
   ]
  },
  {
   "cell_type": "markdown",
   "metadata": {},
   "source": [
    "An famous open problem is the nonexistence of $((7,3,3))$ quantum code, however, the SDP at $l=2$ is not enough to refute it."
   ]
  },
  {
   "cell_type": "code",
   "execution_count": null,
   "metadata": {},
   "outputs": [],
   "source": [
    "numqi.qec.is_code_feasible(7, 3, 3)"
   ]
  },
  {
   "cell_type": "markdown",
   "metadata": {},
   "source": [
    "## Feasible region of quantum weight enumerator\n",
    "\n",
    "Those SDP can approximate the feasible region of quantum weight enumerator. Shor-Laflamme's quantum weight enumerator $A_i$ is approximated in eq(142)\n",
    "\n",
    "$$ A_{i}\\approx\\gamma_{i,0}^{0,0}x_{i,0}^{0,0}. $$\n",
    "\n",
    "It should be emphasized that $A_i$ used in numqi is defined using the following normalization factor\n",
    "\n",
    "$$ A_{i}\\left[\\Pi\\right]=\\frac{1}{K^{2}}\\sum_{\\mathrm{wt}(P)=i}\\mathrm{Tr}\\left[\\Pi P\\right]\\mathrm{Tr}\\left[\\Pi P\\right] $$\n",
    "\n",
    "where $K$ is the dimension of the code space. With the constraint given in eq(142), the feasible region of $(A_1,A_2)$ can be approximated."
   ]
  },
  {
   "cell_type": "markdown",
   "metadata": {},
   "source": [
    "### Feasible region of $((7,2,3))$\n",
    "\n",
    "55 variables are used in this SDP. The range of $A_1$ is given by $[0,2]$ via SDP."
   ]
  },
  {
   "cell_type": "code",
   "execution_count": null,
   "metadata": {},
   "outputs": [],
   "source": [
    "cvxA1para = cvxpy.Parameter()\n",
    "cvxX, cvxA, cvxB, cvxS, constraint = numqi.qec.get_code_feasible_constraint(num_qubit=7, dimK=2, distance=3)\n",
    "num_variable = len({x for x in cvxX.values() if isinstance(x, cvxpy.Variable)})\n",
    "print('num_variable:', num_variable)\n",
    "\n",
    "A1min = cvxpy.Problem(cvxpy.Minimize(cvxA[1]), constraint).solve(solver='CLARABEL')\n",
    "A1max = cvxpy.Problem(cvxpy.Maximize(cvxA[1]), constraint).solve(solver='CLARABEL')\n",
    "print(f'A1min: {A1min}, A1max: {A1max}')"
   ]
  },
  {
   "cell_type": "markdown",
   "metadata": {},
   "source": [
    "Then we are going to plot the feasible region of $(A_1,A_2)$ for $((7,2,3))$."
   ]
  },
  {
   "cell_type": "code",
   "execution_count": null,
   "metadata": {},
   "outputs": [],
   "source": [
    "A1_list = np.linspace(0, 2, 51)\n",
    "tmp0 = constraint + [cvxA[1]==cvxA1para]\n",
    "prob_min = cvxpy.Problem(cvxpy.Minimize(cvxA[2]), tmp0)\n",
    "prob_max = cvxpy.Problem(cvxpy.Maximize(cvxA[2]), tmp0)\n",
    "z0 = []\n",
    "for A1 in A1_list:\n",
    "    cvxA1para.value = A1\n",
    "    z0.append(prob_min.solve(solver='CLARABEL'))\n",
    "    z0.append(prob_max.solve(solver='CLARABEL'))\n",
    "z0 = np.array(z0).reshape(-1,2)\n",
    "\n",
    "fig,ax = plt.subplots(figsize=(4,9))\n",
    "ax.fill_between(A1_list, z0[:,0], z0[:,1], alpha=0.5)\n",
    "ax.set_xlabel('$A_1$')\n",
    "ax.set_ylabel('$A_2$')\n",
    "ax.grid()"
   ]
  },
  {
   "cell_type": "markdown",
   "metadata": {},
   "source": [
    "### Feasible region of $((6,2,3))$\n",
    "\n",
    "38 variables are used in this SDP. The range of $A_1$ is given by $[0,1]$ via SDP."
   ]
  },
  {
   "cell_type": "code",
   "execution_count": null,
   "metadata": {},
   "outputs": [],
   "source": [
    "cvxA1para = cvxpy.Parameter()\n",
    "cvxX, cvxA, cvxB, cvxS, constraint = numqi.qec.get_code_feasible_constraint(num_qubit=6, dimK=2, distance=3)\n",
    "num_variable = len({x for x in cvxX.values() if isinstance(x, cvxpy.Variable)})\n",
    "print('num_variable:', num_variable)\n",
    "\n",
    "A1min = cvxpy.Problem(cvxpy.Minimize(cvxA[1]), constraint).solve(solver='CLARABEL')\n",
    "A1max = cvxpy.Problem(cvxpy.Maximize(cvxA[1]), constraint).solve(solver='CLARABEL')\n",
    "print(f'A1min: {A1min}, A1max: {A1max}')"
   ]
  },
  {
   "cell_type": "code",
   "execution_count": null,
   "metadata": {},
   "outputs": [],
   "source": [
    "A1_list = np.linspace(0, 1, 51)\n",
    "tmp0 = constraint + [cvxA[1]==cvxA1para]\n",
    "prob_min = cvxpy.Problem(cvxpy.Minimize(cvxA[2]), tmp0)\n",
    "prob_max = cvxpy.Problem(cvxpy.Maximize(cvxA[2]), tmp0)\n",
    "z0 = []\n",
    "for A1 in A1_list:\n",
    "    cvxA1para.value = A1\n",
    "    z0.append(prob_min.solve(solver='CLARABEL'))\n",
    "    z0.append(prob_max.solve(solver='CLARABEL'))\n",
    "z0 = np.array(z0).reshape(-1,2)\n",
    "\n",
    "fig,ax = plt.subplots()\n",
    "ax.fill_between(A1_list, z0[:,0], z0[:,1], alpha=0.5)\n",
    "ax.set_xlabel('$A_1$')\n",
    "ax.set_ylabel('$A_2$')\n",
    "ax.grid()"
   ]
  }
 ],
 "metadata": {
  "kernelspec": {
   "display_name": "Python 3",
   "language": "python",
   "name": "python3"
  },
  "language_info": {
   "codemirror_mode": {
    "name": "ipython",
    "version": 3
   },
   "file_extension": ".py",
   "mimetype": "text/x-python",
   "name": "python",
   "nbconvert_exporter": "python",
   "pygments_lexer": "ipython3",
   "version": "3.12.6"
  }
 },
 "nbformat": 4,
 "nbformat_minor": 2
}
