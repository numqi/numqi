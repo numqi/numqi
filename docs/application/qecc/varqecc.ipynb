{
 "cells": [
  {
   "cell_type": "markdown",
   "metadata": {},
   "source": [
    "# VarQECC\n",
    "\n",
    "<a target=\"_blank\" href=\"https://colab.research.google.com/github/numqi/numqi/blob/main/docs/application/qecc/varqecc.ipynb\">\n",
    "  <img src=\"https://colab.research.google.com/assets/colab-badge.svg\" alt=\"Open In Colab\"/>\n",
    "</a>\n",
    "\n",
    "see paper \"Quantum variational learning for quantum error-correcting codes\" [doi-link](https://doi.org/10.22331%2Fq-2022-10-06-828)"
   ]
  },
  {
   "cell_type": "code",
   "execution_count": null,
   "metadata": {},
   "outputs": [],
   "source": [
    "import numpy as np\n",
    "\n",
    "try:\n",
    "    import numqi\n",
    "except ImportError:\n",
    "    %pip install numqi\n",
    "    import numqi\n",
    "\n",
    "np_rng = np.random.default_rng()\n"
   ]
  },
  {
   "cell_type": "markdown",
   "metadata": {},
   "source": [
    "First, we build a variational quantum circuit ansatz for searching the Quantum Error Correction Code (QECC). We are going to find the five-qubit QECC [wiki/five-qubit-code](https://en.wikipedia.org/wiki/Five-qubit_error_correcting_code)."
   ]
  },
  {
   "cell_type": "code",
   "execution_count": null,
   "metadata": {},
   "outputs": [],
   "source": [
    "def build_circuit(num_depth, num_qubit):\n",
    "    prime = [x for x in range(3, num_qubit) if np.gcd(x,num_qubit)==1]\n",
    "    assert len(prime)>=1\n",
    "    prime = prime[0]\n",
    "    circ = numqi.sim.Circuit(default_requires_grad=True)\n",
    "    for _ in range(num_depth):\n",
    "        for x in range(num_qubit):\n",
    "            circ.u3(x)\n",
    "        tmp0 = np.mod(-np.arange(num_qubit+1), num_qubit)\n",
    "        for x,y in zip(tmp0[:-1],tmp0[1:]):\n",
    "            circ.cu3(x, y)\n",
    "        for x in range(num_qubit):\n",
    "            circ.u3(x)\n",
    "        tmp0 = np.mod(-np.arange(num_qubit+1)*prime, num_qubit)\n",
    "        for x,y in zip(tmp0[:-1],tmp0[1:]):\n",
    "            circ.cu3(x, y)\n",
    "    return circ\n"
   ]
  },
  {
   "cell_type": "markdown",
   "metadata": {},
   "source": [
    "hyper-parameters for the QECC specification"
   ]
  },
  {
   "cell_type": "code",
   "execution_count": null,
   "metadata": {},
   "outputs": [],
   "source": [
    "str_qecc = '((5,2,3))' #'((6,2,de(2)=4))'\n",
    "tmp0 = numqi.qec.parse_str_qecc(str_qecc)\n",
    "num_qubit = tmp0['num_qubit']\n",
    "num_logical_dim = tmp0['num_logical_dim']\n",
    "distance = tmp0['distance']\n",
    "weight_z = tmp0['weight_z']\n",
    "num_layer = 5\n",
    "\n",
    "if weight_z is None:\n",
    "    error_list = numqi.qec.make_error_list(num_qubit, distance)\n",
    "else:\n",
    "    error_list = numqi.qec.make_asymmetric_error_set(num_qubit, distance, weight_z)\n"
   ]
  },
  {
   "cell_type": "code",
   "execution_count": null,
   "metadata": {},
   "outputs": [],
   "source": [
    "circuit = build_circuit(num_layer, num_qubit)\n",
    "model = numqi.qec.VarQEC(circuit, num_logical_dim, error_list, loss_type='L2')\n",
    "theta_optim = numqi.optimize.minimize(model, ('uniform',0,2*np.pi), num_repeat=1, tol=1e-10, print_freq=40)\n",
    "code0 = model.get_code()\n",
    "theta_optim = numqi.optimize.minimize(model, ('uniform',0,2*np.pi), num_repeat=1, tol=1e-10, print_freq=40)\n",
    "code1 = model.get_code()\n"
   ]
  },
  {
   "cell_type": "markdown",
   "metadata": {},
   "source": [
    "Above, we run the search algorithm algorithm and obtain two QECC `((5,2,3))`. We can run an optimization algorithm to determine whether the two QECCs are equivalent."
   ]
  },
  {
   "cell_type": "code",
   "execution_count": null,
   "metadata": {},
   "outputs": [],
   "source": [
    "model1 = numqi.qec.QECCEqualModel(code0, code1)\n",
    "tmp0 = numqi.optimize.minimize(model, 'uniform', num_repeat=1, tol=1e-10, print_freq=40)\n",
    "if tmp0.fun<1e-5:\n",
    "    print('equivalent QECC')\n"
   ]
  },
  {
   "cell_type": "markdown",
   "metadata": {},
   "source": [
    "As expected, all `((5,2,3))` QECC are local equivalent. Moreover, we can calcuate the degeneracy of the QECCs."
   ]
  },
  {
   "cell_type": "code",
   "execution_count": null,
   "metadata": {},
   "outputs": [],
   "source": [
    "print(numqi.qec.degeneracy(code0[0]))\n"
   ]
  },
  {
   "cell_type": "markdown",
   "metadata": {},
   "source": [
    "Besides the variational ansatz, we can also directly parametrize a unitary matrix."
   ]
  },
  {
   "cell_type": "code",
   "execution_count": null,
   "metadata": {},
   "outputs": [],
   "source": [
    "model = numqi.qec.VarQECUnitary(num_qubit, num_logical_dim, error_list)\n",
    "theta_optim = numqi.optimize.minimize(model, 'uniform', num_repeat=1, tol=1e-10, print_freq=20)\n",
    "code2 = model.get_code()\n",
    "print(numqi.qec.degeneracy(code2[0]))\n"
   ]
  }
 ],
 "metadata": {
  "kernelspec": {
   "display_name": "Python 3",
   "language": "python",
   "name": "python3"
  },
  "language_info": {
   "codemirror_mode": {
    "name": "ipython",
    "version": 3
   },
   "file_extension": ".py",
   "mimetype": "text/x-python",
   "name": "python",
   "nbconvert_exporter": "python",
   "pygments_lexer": "ipython3",
   "version": "3.11.4"
  }
 },
 "nbformat": 4,
 "nbformat_minor": 2
}
