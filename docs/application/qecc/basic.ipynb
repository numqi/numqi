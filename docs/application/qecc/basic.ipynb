{
 "cells": [
  {
   "cell_type": "markdown",
   "metadata": {},
   "source": [
    "# Introduction of Quantum Error Correction"
   ]
  },
  {
   "cell_type": "markdown",
   "metadata": {},
   "source": [
    "<a target=\"_blank\" href=\"https://colab.research.google.com/github/numqi/numqi/blob/main/docs/application/qecc/basic.ipynb\">\n",
    "  <img src=\"https://colab.research.google.com/assets/colab-badge.svg\" alt=\"Open In Colab\"/>\n",
    "</a>\n",
    "\n",
    "Let's start by going through some concrete and famous examples of quantum error correction codes."
   ]
  },
  {
   "cell_type": "code",
   "execution_count": null,
   "metadata": {},
   "outputs": [],
   "source": [
    "import numpy as np\n",
    "\n",
    "try:\n",
    "    import numqi\n",
    "except ImportError:\n",
    "    %pip install numqi\n",
    "    import numqi\n"
   ]
  },
  {
   "cell_type": "markdown",
   "metadata": {},
   "source": [
    "## ((4,4,2)) $C_4$\n",
    "\n",
    "[eczoo](https://errorcorrectionzoo.org/c/stab_4_2_2)\n",
    "\n",
    "logical states:\n",
    "\n",
    "$$ \\sqrt{2}\\left|00_{L}\\right\\rangle =\\left|0000\\right\\rangle +\\left|1111\\right\\rangle ,\\sqrt{2}\\left|01_{L}\\right\\rangle =\\left|0101\\right\\rangle +\\left|1010\\right\\rangle $$\n",
    "\n",
    "$$ \\sqrt{2}\\left|10_{L}\\right\\rangle =\\left|0011\\right\\rangle +\\left|1100\\right\\rangle ,\\sqrt{2}\\left|11_{L}\\right\\rangle =\\left|0110\\right\\rangle +\\left|1001\\right\\rangle $$\n",
    "\n",
    "logical operation:\n",
    "\n",
    "$$ X_{0L}=XXII,Z_{0L}=ZIZI,X_{1L}=IXIX,Z_{1L}=IIZZ $$\n",
    "\n",
    "Stabilizer generators:\n",
    "\n",
    "$$ \\langle XXXX,ZZZZ\\rangle $$\n",
    "\n",
    "Shor-Laflamme quantum weight enumerator:\n",
    "\n",
    "$$ A=[1,0,0,0,3] $$\n",
    "\n",
    "$$ B=[1,0,18,24,21] $$"
   ]
  },
  {
   "cell_type": "code",
   "execution_count": null,
   "metadata": {},
   "outputs": [],
   "source": [
    "code,info = numqi.qec.get_code_subspace('442stab')\n",
    "for ind0 in range(4):\n",
    "    print(f'logical {ind0}:', np.around(np.sqrt(2)*code[ind0], 2))\n",
    "for key, value in info.items():\n",
    "    print(f'{key}:', value)"
   ]
  },
  {
   "cell_type": "markdown",
   "metadata": {},
   "source": [
    "## 5-qubits code\n",
    "\n",
    "[eczoo](https://errorcorrectionzoo.org/c/braunstein)\n",
    "\n",
    "logical states:\n",
    "\n",
    "$$\\begin{align*}\n",
    "4\\left|0_{L}\\right\\rangle &=\\left|00000\\right\\rangle -\\left|00011\\right\\rangle +\\left|00101\\right\\rangle -\\left|00110\\right\\rangle +\\left|01001\\right\\rangle +\\left|01010\\right\\rangle -\\left|01100\\right\\rangle -\\left|01111\\right\\rangle \\\\&-\\left|10001\\right\\rangle +\\left|10010\\right\\rangle +\\left|10100\\right\\rangle -\\left|10111\\right\\rangle -\\left|11000\\right\\rangle -\\left|11011\\right\\rangle -\\left|11101\\right\\rangle -\\left|11110\\right\\rangle \n",
    "\\end{align*}$$\n",
    "\n",
    "$$\\begin{align*}\n",
    "4\\left|1_{L}\\right\\rangle &=\\left|00001\\right\\rangle +\\left|00010\\right\\rangle +\\left|00100\\right\\rangle +\\left|00111\\right\\rangle +\\left|01000\\right\\rangle -\\left|01011\\right\\rangle -\\left|01101\\right\\rangle +\\left|01110\\right\\rangle \\\\&+\\left|10000\\right\\rangle +\\left|10011\\right\\rangle -\\left|10101\\right\\rangle -\\left|10110\\right\\rangle +\\left|11001\\right\\rangle -\\left|11010\\right\\rangle +\\left|11100\\right\\rangle -\\left|11111\\right\\rangle \\\\&=XXXXX\\left|0_{L}\\right\\rangle \n",
    "\\end{align*}$$\n",
    "\n",
    "logical operation:\n",
    "\n",
    "$$ X_L=XXXXX, Z_L=ZZZZZ $$\n",
    "\n",
    "Stabilizer generators:\n",
    "\n",
    "$$ \\langle XZZXI, IXZZX, XIXZZ, ZXIXZ \\rangle $$\n",
    "\n",
    "Shor-Laflamme quantum weight enumerator:\n",
    "\n",
    "$$ A=[1,0,0,0,15,0] $$\n",
    "\n",
    "$$ B=[1,0,0,30,15,18] $$\n"
   ]
  },
  {
   "cell_type": "code",
   "execution_count": null,
   "metadata": {},
   "outputs": [],
   "source": [
    "code,info = numqi.qec.get_code_subspace('523')\n",
    "print('logical 0:', np.around(4*code[0], 2))\n",
    "print('logical 1:', np.around(4*code[1], 2))\n",
    "for key, value in info.items():\n",
    "    print(f'{key}:', value)"
   ]
  },
  {
   "cell_type": "markdown",
   "metadata": {},
   "source": [
    "Let's test stabilizer which should satisfy $S |\\psi\\rangle=|\\psi\\rangle$:"
   ]
  },
  {
   "cell_type": "code",
   "execution_count": null,
   "metadata": {},
   "outputs": [],
   "source": [
    "stabilizer = numqi.qec.hf_pauli('XZZXI')\n",
    "print(np.abs(code[0] - stabilizer @ code[0]).max())"
   ]
  },
  {
   "cell_type": "markdown",
   "metadata": {},
   "source": [
    "## ((6,2,3)) Stabilizer code\n",
    "\n",
    "[eczoo](https://errorcorrectionzoo.org/c/stab_6_1_3)\n",
    "\n",
    "[arxiv-link](https://arxiv.org/abs/0803.1495) Encoding One Logical Qubit Into Six Physical Qubits\n",
    "\n",
    "logical states: (different sign from the original paper to make $ZXIIXZ$ as stabilizer instead of $-ZXIIXZ$)\n",
    "\n",
    "$$ 2\\sqrt{2}\\left|0_{L}\\right\\rangle =\\left|000000\\right\\rangle +\\left|001111\\right\\rangle +\\left|010010\\right\\rangle -\\left|011101\\right\\rangle -\\left|100111\\right\\rangle -\\left|101000\\right\\rangle -\\left|110101\\right\\rangle +\\left|111010\\right\\rangle  $$\n",
    "\n",
    "$$ 2\\sqrt{2}\\left|1_{L}\\right\\rangle =\\left|000101\\right\\rangle +\\left|001010\\right\\rangle -\\left|010111\\right\\rangle +\\left|011000\\right\\rangle +\\left|100010\\right\\rangle +\\left|101101\\right\\rangle -\\left|110000\\right\\rangle +\\left|111111\\right\\rangle  $$\n",
    "\n",
    "stabilizer generators:\n",
    "\n",
    "$$ YIZXXY,ZXIIXZ,IZXXXX,ZZZIZI,IIIZIZ $$\n",
    "\n",
    "logical operation:\n",
    "\n",
    "$$ X_L=ZIXIXI,Z_L=IZIIZZ $$\n",
    "\n",
    "Shor-Laflamme quantum weight enumerator:\n",
    "\n",
    "$$ A=[1,0,1,0,11,16,3] $$\n",
    "\n",
    "$$ B=[1,0,1,24,35,40,27] $$"
   ]
  },
  {
   "cell_type": "code",
   "execution_count": null,
   "metadata": {},
   "outputs": [],
   "source": [
    "code,info = numqi.qec.get_code_subspace('623stab')\n",
    "print('logical 0:', np.around(2*np.sqrt(2)*code[0], 2))\n",
    "print('logical 1:', np.around(2*np.sqrt(2)*code[1], 2))\n",
    "for key, value in info.items():\n",
    "    print(f'{key}:', value)"
   ]
  },
  {
   "cell_type": "markdown",
   "metadata": {},
   "source": [
    "## ((6,2,3)) SO(5) code\n",
    "\n",
    "[arxiv-link](https://arxiv.org/abs/2410.07983) Characterizing Quantum Codes via the Coefficients in Knill-Laflamme Conditions\n",
    "\n",
    "Logical states: for any orthogonal matrix $A\\in\\mathrm{SO}(5)$, $A^TA=I_5$\n",
    "\n",
    "$$ A==\\left[\\begin{array}{ccccc}\n",
    "a_{1} & b_{1} & c_{1} & d_{1} & e_{1}\\\\\n",
    "a_{2} & b_{2} & c_{2} & d_{2} & e_{2}\\\\\n",
    "a_{3} & b_{3} & c_{3} & d_{3} & e_{3}\\\\\n",
    "a_{4} & b_{4} & c_{4} & d_{4} & e_{4}\\\\\n",
    "a_{5} & b_{5} & c_{5} & d_{5} & e_{5}\n",
    "\\end{array}\\right] $$\n",
    "\n",
    "$$ \\sqrt{2}\\left|S_{1}\\right\\rangle =\\left|00001\\right\\rangle +\\left|11110\\right\\rangle ,\\sqrt{2}\\left|S_{2}\\right\\rangle =\\left|00010\\right\\rangle +\\left|11101\\right\\rangle ,\\sqrt{2}\\left|S_{3}\\right\\rangle =\\left|00100\\right\\rangle +\\left|11011\\right\\rangle , $$\n",
    "$$ \\sqrt{2}\\left|S_{4}\\right\\rangle =\\left|01000\\right\\rangle +\\left|10111\\right\\rangle ,\\sqrt{2}\\left|S_{5}\\right\\rangle =\\left|10000\\right\\rangle +\\left|01111\\right\\rangle $$\n",
    "\n",
    "$$ \\left|0_{L}\\right\\rangle =\\frac{1}{2}\\sum_{j=1}^{5}\\left((a_{j}+ib_{j})\\left|0\\right\\rangle +(c_{j}+id_{j})\\left|1\\right\\rangle \\right)\\otimes\\left|S_{j}\\right\\rangle  $$\n",
    "\n",
    "$$ \\left|1_{L}\\right\\rangle =\\frac{1}{2}\\sum_{j=1}^{5}\\left((c_{j}-id_{j})\\left|0\\right\\rangle +(ib_{j}-a_{j})\\left|1\\right\\rangle \\right)\\otimes\\left|S_{j}\\right\\rangle  $$\n",
    "\n",
    "non-CWS code\n",
    "\n",
    "Shor-Laflamme quantum weight enumerator:\n",
    "\n",
    "$$ t=e_{1}^{4}+e_{2}^{4}+e_{3}^{4}+e_{4}^{4}+e_{5}^{4} $$\n",
    "\n",
    "$$ A=\\frac{1}{2}\\left[2,0,1,1,23,31,6\\right]+\\frac{t}{2}\\left[0,0,1,-1,-1,1,0\\right] $$\n",
    "\n",
    "$$ B=\\frac{1}{2}\\left[2,0,1,46,74,82,51\\right]+\\frac{t}{2}\\left[0,0,1,2,-4,-2,3\\right] $$"
   ]
  },
  {
   "cell_type": "code",
   "execution_count": null,
   "metadata": {},
   "outputs": [],
   "source": [
    "# if don't specify vece, a random one will be used\n",
    "code,info = numqi.qec.get_code_subspace('623-SO5', vece=np.array([1,1,1,1,1])/np.sqrt(5))\n",
    "print('code.shape:', code.shape)\n",
    "for key, value in info.items():\n",
    "    print(f'{key}:', value)"
   ]
  },
  {
   "cell_type": "markdown",
   "metadata": {},
   "source": [
    "## ((6,4,2)) $C_6$\n",
    "\n",
    "[eczoo](https://errorcorrectionzoo.org/c/stab_6_2_2)\n",
    "\n",
    "[doi-link](https://doi.org/10.1038/nature03350) Quantum computing with realistically noisy devices\n",
    "\n",
    "logical states:\n",
    "\n",
    "$$ 2\\left|00_{L}\\right\\rangle =\\left|000000\\right\\rangle +\\left|011110\\right\\rangle +\\left|100111\\right\\rangle +\\left|111001\\right\\rangle ,2\\left|01_{L}\\right\\rangle =\\left|001011\\right\\rangle +\\left|010101\\right\\rangle +\\left|101100\\right\\rangle +\\left|110010\\right\\rangle $$\n",
    "\n",
    "$$ 2\\left|10_{L}\\right\\rangle =\\left|000110\\right\\rangle +\\left|011000\\right\\rangle +\\left|100001\\right\\rangle +\\left|111111\\right\\rangle ,2\\left|01_{L}\\right\\rangle =\\left|001101\\right\\rangle +\\left|010011\\right\\rangle +\\left|101010\\right\\rangle +\\left|110100\\right\\rangle  $$\n",
    "\n",
    "Stabilizer generators:\n",
    "\n",
    "$$ XIIXXX, XXXIIX, ZIIZZZ, ZZZIIZ $$\n",
    "\n",
    "logical operation:\n",
    "\n",
    "$$ X_{0L}=IXXIII,Z_{0L}=IIZZIZ,X_{1L}=XIXXII,Z_{1L}=IIIZZI $$\n",
    "\n",
    "Shor-Laflamme quantum weight enumerator:\n",
    "\n",
    "$$ A=[1,0,0,0,9,0,6] $$\n",
    "\n",
    "$$ B=[1,0,9,24,99,72,51] $$"
   ]
  },
  {
   "cell_type": "code",
   "execution_count": null,
   "metadata": {},
   "outputs": [],
   "source": [
    "code,info = numqi.qec.get_code_subspace('642stab')\n",
    "print('code.shape:', code.shape)\n",
    "for key, value in info.items():\n",
    "    print(f'{key}:', value)"
   ]
  },
  {
   "cell_type": "markdown",
   "metadata": {},
   "source": [
    "## Steane code\n",
    "\n",
    "[eczoo](https://errorcorrectionzoo.org/c/steane)\n",
    "\n",
    "logical states:\n",
    "\n",
    "$$ 2\\sqrt{2}\\left|0_{L}\\right\\rangle =\\left|0000000\\right\\rangle +\\left|1010101\\right\\rangle +\\left|0110011\\right\\rangle +\\left|1100110\\right\\rangle +\\left|0001111\\right\\rangle +\\left|1011010\\right\\rangle +\\left|0111100\\right\\rangle +\\left|1101001\\right\\rangle  $$\n",
    "\n",
    "$$ 2\\sqrt{2}\\left|1_{L}\\right\\rangle =\\left|1111111\\right\\rangle +\\left|0101010\\right\\rangle +\\left|1001100\\right\\rangle +\\left|0011001\\right\\rangle +\\left|1110000\\right\\rangle +\\left|0100101\\right\\rangle +\\left|1000011\\right\\rangle +\\left|0010110\\right\\rangle $$\n",
    "\n",
    "stabilizer generators:\n",
    "\n",
    "$$ IIIXXXX, IXXIIXX, XIXIXIX, IIIZZZZ, IZZIIZZ, ZIZIZIZ $$\n",
    "\n",
    "logical operation:\n",
    "\n",
    "$$ X_L=XXXXXXX,Z_L=ZZZZZZZ $$\n",
    "\n",
    "Shor-Laflamme quantum weight enumerator:\n",
    "\n",
    "$$ A=[1,0,0,0,21,0,42,0] $$\n",
    "\n",
    "$$ B=[1,0,0,21,21,126,42,45] $$"
   ]
  },
  {
   "cell_type": "code",
   "execution_count": null,
   "metadata": {},
   "outputs": [],
   "source": [
    "code,info = numqi.qec.get_code_subspace('steane')\n",
    "print('code.shape:', code.shape)\n",
    "for key, value in info.items():\n",
    "    print(f'{key}:', value)"
   ]
  },
  {
   "cell_type": "markdown",
   "metadata": {},
   "source": [
    "permutate the Steane code into the ordering `(0,1,3,2,5,6,4)`, we can get a cyclic-symmetric code\n",
    "\n",
    "logical states:\n",
    "\n",
    "$$ 2\\sqrt{2}\\left|0_{L}\\right\\rangle =\\left|0000000\\right\\rangle +\\left|1100101\\right\\rangle +\\left|0101110\\right\\rangle +\\left|0010111\\right\\rangle +\\left|1001011\\right\\rangle +\\left|1110010\\right\\rangle +\\left|0111001\\right\\rangle +\\left|1011100\\right\\rangle  $$\n",
    "\n",
    "$$ 2\\sqrt{2}\\left|1_{L}\\right\\rangle =\\left|1111111\\right\\rangle +\\left|0011010\\right\\rangle +\\left|1010001\\right\\rangle +\\left|1101000\\right\\rangle +\\left|0110100\\right\\rangle +\\left|0001101\\right\\rangle +\\left|1000110\\right\\rangle +\\left|0100011\\right\\rangle  $$\n",
    "\n",
    "stabilizer generators:\n",
    "\n",
    "$$ IIXIXXX, IXIXXXI, XIIXIXX, IIZIZZZ, IZIZZZI, ZIIZIZZ $$"
   ]
  },
  {
   "cell_type": "code",
   "execution_count": null,
   "metadata": {},
   "outputs": [],
   "source": [
    "code,info = numqi.qec.get_code_subspace('steane', cyclic=True)\n",
    "print('code.shape:', code.shape)\n",
    "for key, value in info.items():\n",
    "    print(f'{key}:', value)"
   ]
  },
  {
   "cell_type": "markdown",
   "metadata": {},
   "source": [
    "## ((7,2,3)) Bare code\n",
    "\n",
    "[arxiv-link](https://arxiv.org/abs/1702.01155) Fault Tolerance with Bare Ancillae for a `[[7,1,3]]` Code\n",
    "\n",
    "logical states (oops)\n",
    "\n",
    "stabilizer generators:\n",
    "\n",
    "$$ XIIIXII, IXIIXII, IIXIIXI, IIIXIIX, IIZZIYY, ZZZXZZI $$\n",
    "\n",
    "logical operation:\n",
    "\n",
    "$$ X_L=IXXXIII, Z_L=ZZIIZII$$\n",
    "\n",
    "Shor-Laflamme quantum weight enumerator:\n",
    "\n",
    "$$ A=[1,0,5,0,11,0,47,0] $$\n",
    "\n",
    "$$ B=[1,0,5,36,11,96,47,60] $$"
   ]
  },
  {
   "cell_type": "code",
   "execution_count": null,
   "metadata": {},
   "outputs": [],
   "source": [
    "code,info = numqi.qec.get_code_subspace('723bare')\n",
    "print('code.shape:', code.shape)\n",
    "for key, value in info.items():\n",
    "    print(f'{key}:', value)"
   ]
  },
  {
   "cell_type": "markdown",
   "metadata": {},
   "source": [
    "## ((7,2,3)) cyclic code\n",
    "\n",
    "[arxiv-link](https://arxiv.org/abs/2410.07983) Characterizing Quantum Codes via the Coefficients in Knill-Laflamme Conditions\n",
    "\n",
    "Logical states: for any real number $\\lambda^*\\in [0,\\sqrt{7}]$\n",
    "\n",
    "$$ \\left|\\left\\{ 0000000\\right\\} \\right\\rangle =\\left|0000000\\right\\rangle $$\n",
    "\n",
    "$$ \\left|\\left\\{ 0000011\\right\\} \\right\\rangle =\\frac{1}{\\sqrt{7}}\\left (|0000011\\rangle + \\text{cyc.} \\right), \\left|\\left\\{ 0000101\\right\\} \\right\\rangle =\\frac{1}{\\sqrt{7}}\\left (|0000101\\rangle + \\text{cyc.} \\right), \\left|\\left\\{ 0001001\\right\\} \\right\\rangle =\\frac{1}{\\sqrt{7}}\\left (|0001001\\rangle + \\text{cyc.} \\right) $$\n",
    "\n",
    "$$ \\left|\\left\\{ 0001111\\right\\} \\right\\rangle =\\frac{1}{\\sqrt{7}}\\left (|0001111\\rangle + \\text{cyc.} \\right),\\left|\\left\\{ 0011011\\right\\} \\right\\rangle =\\frac{1}{\\sqrt{7}}\\left (|0011011\\rangle + \\text{cyc.} \\right),\\left|\\left\\{ 0011101\\right\\} \\right\\rangle =\\frac{1}{\\sqrt{7}}\\left (|0011101\\rangle + \\text{cyc.} \\right) $$\n",
    "\n",
    "$$ \\left|\\left\\{ 0101011\\right\\} \\right\\rangle =\\frac{1}{\\sqrt{7}}\\left (|0101011\\rangle + \\text{cyc.} \\right),\\left|\\left\\{ 0010111\\right\\} \\right\\rangle =\\frac{1}{\\sqrt{7}}\\left (|0010111\\rangle + \\text{cyc.} \\right),\\left|\\left\\{ 0111111\\right\\} \\right\\rangle =\\frac{1}{\\sqrt{7}}\\left (|0111111\\rangle + \\text{cyc.} \\right) $$\n",
    "\n",
    "$$ \\begin{aligned}\n",
    "    \\left|0_{L}\\right\\rangle =& \\ c_{0}\\left|\\{0000000\\}\\right\\rangle + \\frac{c_{1}}{\\sqrt{3}} \\Big( \\left|\\{0000011\\}\\right\\rangle + \\left|\\{0000101\\}\\right\\rangle + \\left|\\{0001001\\}\\right\\rangle \\Big)\\\\\n",
    "    &+ c_{2}\\left|\\{0010111\\}\\right\\rangle + \\frac{c_{3}}{2} \\Big( \\left|\\{0001111\\}\\right\\rangle+ \\left|\\{0011011\\}\\right\\rangle + \\left|\\{0011101\\}\\right\\rangle + \\left|\\{0101011\\}\\right\\rangle \\Big)+ c_{4}\\left|\\{0111111\\}\\right\\rangle\n",
    "\\end{aligned} $$\n",
    "\n",
    "$$ \\left|1_L\\right\\rangle = \\ X^{\\otimes 7}\\left|0_L\\right\\rangle $$\n",
    "\n",
    "with coefficients being\n",
    "\n",
    "$$ c_{0} = \\frac{\\sqrt{\\sqrt{7}\\lambda^{*} + 8}}{8},\\;c_{1} = -\\frac{\\sqrt{\\sqrt{7}\\lambda^{*}}}{8},\\; c_{4} = -\\sqrt{3}c_{1},\\; c_{3} = \\frac{2}{5} \\left( \\sqrt{7}c_{0} \\pm \\sqrt{7c_{0}^{2} - \\frac{15\\sqrt{7}\\lambda^{*}}{64}} \\right),\\; c_{2} = -2c_{3} + \\sqrt{7}c_{0} $$\n",
    "\n",
    "or\n",
    "\n",
    "$$ c_{0} = \\frac{\\sqrt{\\sqrt{7}\\lambda^{*} + 8}}{8},\\; c_{1} = \\frac{\\sqrt{\\sqrt{7}\\lambda^{*}}}{8},\\; c_{4} = -\\sqrt{3}c_{1},\\; c_{3} = \\frac{2}{5} \\left( \\sqrt{7}c_{0} \\pm \\sqrt{7c_{0}^{2} - \\frac{15\\sqrt{7}\\lambda^{*}}{64}} \\right),\\; c_{2} = -2c_{3} + \\sqrt{7}c_{0} $$\n",
    "\n",
    "logical operations:\n",
    "\n",
    "$$ X_L = X^{\\otimes 7},\\; Z_L = Z^{\\otimes 7} $$\n",
    "\n",
    "Shor-Laflamme quantum weight enumerator:\n",
    "\n",
    "$$ A=[1, 0, \\lambda^{*2}, 0, 21 - 2\\lambda^{*2}, 0, 42+\\lambda^{*2}, 0] $$\n",
    "\n",
    "$$ B=[1, 0, \\lambda^{*2}, 21 + 3\\lambda^{*2}, 21-2\\lambda^{*2}, 126-6\\lambda^{*2}, 42+\\lambda^{*2}, 45+3\\lambda^{*2}] $$\n",
    "\n",
    "When $\\lambda^*=0$, the code becomes Steane code. When $\\lambda^*=\\sqrt{7}$, the code becomes permutation-symmetric code (Beth's code below)."
   ]
  },
  {
   "cell_type": "code",
   "execution_count": null,
   "metadata": {},
   "outputs": [],
   "source": [
    "code,info = numqi.qec.get_code_subspace('723cyclic', lambda2=6)\n",
    "print('code.shape:', code.shape)\n",
    "for key, value in info.items():\n",
    "    print(f'{key}:', value)"
   ]
  },
  {
   "cell_type": "markdown",
   "metadata": {},
   "source": [
    "## ((7,2,3)) Permutation-symmetric code\n",
    "\n",
    "[arxiv-link](http://arxiv.org/abs/quant-ph/0304153v3) Permutationally Invariant Codes for Quantum Error Correction\n",
    "\n",
    "logical states:\n",
    "\n",
    "$$ D_{n,k}=\\binom{n}{k}^{-1/2}\\sum_{\\sigma\\in\\mathrm{Sym}_{n}}\\sigma\\left|0\\right\\rangle ^{\\otimes n-k}\\otimes\\left|1\\right\\rangle ^{\\otimes k} $$\n",
    "\n",
    "$$ 8\\left|0_{L}\\right\\rangle = \\sqrt{15}D_{7,0} - \\sqrt{7}D_{7,2} + \\sqrt{21}D_{7,4} + \\sqrt{21}D_{7,6} $$\n",
    "\n",
    "or (sign=`-`)\n",
    "\n",
    "$$ 8\\left|0_{L}\\right\\rangle =\\sqrt{15}D_{7,0}+\\sqrt{7}D_{7,2}+\\sqrt{21}D_{7,4}-\\sqrt{21}D_{7,6} $$\n",
    "\n",
    "$$ |1_{L}\\rangle = X^{\\otimes 7}|0_{L}\\rangle  $$\n",
    "\n",
    "logical operation:\n",
    "\n",
    "$$ X_L=X^{\\otimes 7},Z_L=Z^{\\otimes 7} $$\n",
    "\n",
    "Shor-Laflamme quantum weight enumerator:\n",
    "\n",
    "$$ A=[1, 0, 7, 0, 7, 0, 49, 0] $$\n",
    "\n",
    "$$ B=[1, 0, 7, 42, 7, 84, 49, 66] $$"
   ]
  },
  {
   "cell_type": "code",
   "execution_count": null,
   "metadata": {},
   "outputs": [],
   "source": [
    "code,info = numqi.qec.get_code_subspace('723permutation', sign='+')\n",
    "print('code.shape:', code.shape)\n",
    "for key, value in info.items():\n",
    "    print(f'{key}:', value)"
   ]
  },
  {
   "cell_type": "markdown",
   "metadata": {},
   "source": [
    "## ((8,8,3)) Stabilizer code\n",
    "\n",
    "[eczoo](https://errorcorrectionzoo.org/c/stab_8_3_3)\n",
    "\n",
    "[arxiv-link](https://arxiv.org/abs/quant-ph/9605021) Simple Quantum Error Correcting Codes, eq(25)\n",
    "\n",
    "Shor-Laflamme quantum weight enumerator:\n",
    "\n",
    "$$ A=[1,0,0,0,0,0,28,0,3] $$\n",
    "\n",
    "$$ B=[1,0,0,56,210,336,728,504,213] $$"
   ]
  },
  {
   "cell_type": "code",
   "execution_count": null,
   "metadata": {},
   "outputs": [],
   "source": [
    "code, info = numqi.qec.get_code_subspace('883')\n",
    "print('code.shape:', code.shape)\n",
    "for key, value in info.items():\n",
    "    print(f'{key}:', value)"
   ]
  },
  {
   "cell_type": "markdown",
   "metadata": {},
   "source": [
    "## Shor code\n",
    "\n",
    "[eczoo](https://errorcorrectionzoo.org/c/shor_nine)\n",
    "\n",
    "logical states:\n",
    "\n",
    "$$ 2\\sqrt{2}\\left|0_{L}\\right\\rangle =\\left(\\left|000\\right\\rangle +\\left|111\\right\\rangle \\right)^{\\otimes3} $$\n",
    "\n",
    "$$ 2\\sqrt{2}\\left|1_{L}\\right\\rangle =\\left(\\left|000\\right\\rangle -\\left|111\\right\\rangle \\right)^{\\otimes3} $$\n",
    "\n",
    "Stabilizer generators:\n",
    "\n",
    "$$ ZZIIIIIII, IZZIIIIII, IIIZZIIII, IIIIZZIII, IIIIIIZZI, IIIIIIIZZ, XXXXXXIII, IIIXXXXXX $$\n",
    "\n",
    "logical operation:\n",
    "\n",
    "$$ X_L=XXXIIIIII,Z_L=ZIIZIIZII $$\n",
    "\n",
    "Shor-Laflamme quantum weight enumerator:\n",
    "\n",
    "$$ A=[1,0,9,0,27,0,75,0,144,0] $$\n",
    "\n",
    "$$ B=[1,0,9,39,27,207,75,333,144,189] $$"
   ]
  },
  {
   "cell_type": "code",
   "execution_count": null,
   "metadata": {},
   "outputs": [],
   "source": [
    "code, info = numqi.qec.get_code_subspace('shor')\n",
    "print('code.shape:', code.shape)\n",
    "for key, value in info.items():\n",
    "    print(f'{key}:', value)"
   ]
  }
 ],
 "metadata": {
  "kernelspec": {
   "display_name": "Python 3",
   "language": "python",
   "name": "python3"
  },
  "language_info": {
   "codemirror_mode": {
    "name": "ipython",
    "version": 3
   },
   "file_extension": ".py",
   "mimetype": "text/x-python",
   "name": "python",
   "nbconvert_exporter": "python",
   "pygments_lexer": "ipython3",
   "version": "3.12.6"
  }
 },
 "nbformat": 4,
 "nbformat_minor": 2
}
