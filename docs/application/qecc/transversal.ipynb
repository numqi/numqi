{
 "cells": [
  {
   "cell_type": "markdown",
   "id": "8eb29d15",
   "metadata": {},
   "source": [
    "# Transversal Gates\n",
    "\n",
    "<a target=\"_blank\" href=\"https://colab.research.google.com/github/numqi/numqi/blob/main/docs/application/qecc/transversal.ipynb\">\n",
    "  <img src=\"https://colab.research.google.com/assets/colab-badge.svg\" alt=\"Open In Colab\"/>\n",
    "</a>\n",
    "\n",
    "Transversal gates are important in fault-tolerant quantum computing, as they allow for operations that can be performed on multiple qubits simultaneously without introducing errors that propagate through the system. These gates are particularly useful in stabilizer codes and other error-correcting codes. This tutorial will cover the basics of transversal gates and their properties, especially reproduce results in the arxiv paper [arxiv-link](https://arxiv.org/abs/2504.20847)."
   ]
  },
  {
   "cell_type": "code",
   "execution_count": null,
   "id": "1fcb5586",
   "metadata": {},
   "outputs": [],
   "source": [
    "import functools\n",
    "import numpy as np\n",
    "\n",
    "try:\n",
    "    import numqi\n",
    "except ImportError:\n",
    "    %pip install numqi\n",
    "    import numqi\n",
    "\n",
    "np_rng = np.random.default_rng()\n",
    "hf_kron = lambda *x: functools.reduce(np.kron, x) #tensor product of matrices"
   ]
  },
  {
   "cell_type": "markdown",
   "id": "9574c318",
   "metadata": {},
   "source": [
    "## Stabilizer codes\n",
    "\n",
    "Let's begin with two famous stabilizer codes: the 5-qubit code and the Steane code."
   ]
  },
  {
   "cell_type": "markdown",
   "id": "d1ee0344",
   "metadata": {},
   "source": [
    "### 5-qubit code ((5,2,3))\n",
    "\n",
    "A quantum error-correcting code (QECC) is a subspace specified by a set of logical basis states"
   ]
  },
  {
   "cell_type": "code",
   "execution_count": null,
   "id": "636b0b5b",
   "metadata": {},
   "outputs": [],
   "source": [
    "code,info = numqi.qec.get_code_subspace('523')\n",
    "\n",
    "# logical states are some special state vector in the complete Hilbert space\n",
    "print('logical 0:', (code[0]*4).astype(np.int64), sep='\\n')\n",
    "print('logical 1:', (code[1]*4).astype(np.int64), sep='\\n')"
   ]
  },
  {
   "cell_type": "markdown",
   "id": "1c0f1a98",
   "metadata": {},
   "source": [
    "Via basis matrix multiplication, one can verify that logical X/Y/Z gate can be implemented by applying the Pauli gates on all physical qubits. Such gates are called transversal gates."
   ]
  },
  {
   "cell_type": "code",
   "execution_count": null,
   "id": "18e0011b",
   "metadata": {},
   "outputs": [],
   "source": [
    "# logical X = X * X * X * X * X\n",
    "logicalX = code.conj() @ hf_kron(*[-numqi.gate.X]*5) @ code.T\n",
    "print('logical X:', logicalX, sep='\\n')\n",
    "\n",
    "# logical Y = Y * Y * Y * Y * Y\n",
    "logicalY = code.conj() @ hf_kron(*[-numqi.gate.Y]*5) @ code.T\n",
    "print('\\nlogical Y:', logicalY, sep='\\n')\n",
    "\n",
    "# logical Z = Z * Z * Z * Z * Z\n",
    "logicalZ = code.conj() @ hf_kron(*[numqi.gate.Z]*5) @ code.T\n",
    "print('\\nlogical Z:', logicalZ, sep='\\n')"
   ]
  },
  {
   "cell_type": "markdown",
   "id": "96fd57a6",
   "metadata": {},
   "source": [
    "Besides transversal logical X/Y/Z gates, the 5-qubit code also has transversal logical $F=HS^\\dagger$ gate (in Bloch sphere, $F$ gate is a rotation by 120 degrees around (1,1,1) axis). Although 5-qubit code has transversal logical $F=HS^\\dagger$, but it does not have transversal logical $H$ and $S$ gates. To support transversal logical $H$ and $S$ gates, we need to use the Steane code which will be introduced in the next section."
   ]
  },
  {
   "cell_type": "code",
   "execution_count": null,
   "id": "28d803e8",
   "metadata": {},
   "outputs": [],
   "source": [
    "op_physical = numqi.gate.Y @ numqi.gate.H @ numqi.gate.S.conj()\n",
    "logicalF = -np.exp(1j*np.pi/4)*code.conj() @ hf_kron(*[op_physical]*5) @ code.T\n",
    "print('logical F:', logicalF, sep='\\n')"
   ]
  },
  {
   "cell_type": "markdown",
   "id": "833bc3b0",
   "metadata": {},
   "source": [
    "Besides transversal gates, `numqi` also calculate Shor's weight enumerator of the code. Code distance can be read from the weight enumerator which is the first non-equal term in the weight enumerator with its dual. For the 5-qubit code, the distance is 3, which means `A3,B3` are different."
   ]
  },
  {
   "cell_type": "code",
   "execution_count": null,
   "id": "4deea75b",
   "metadata": {},
   "outputs": [],
   "source": [
    "print('Shor weight enumerator (A0,A1,A2,A3,A4,A5):', info['qweA'], sep='\\n')\n",
    "print('\\ndual of Shor weight enumerator (B0,B1,B2,B3,B4,B5):', info['qweB'], sep='\\n')"
   ]
  },
  {
   "cell_type": "markdown",
   "id": "33e8d914",
   "metadata": {},
   "source": [
    "### Steane code ((7,2,3))"
   ]
  },
  {
   "cell_type": "code",
   "execution_count": null,
   "id": "3d7dc77d",
   "metadata": {},
   "outputs": [],
   "source": [
    "code,info = numqi.qec.get_code_subspace('steane')\n",
    "\n",
    "print('code.shape:', code.shape)\n",
    "print('stabilizer:', info['stab'])\n",
    "print('Shor weight enumerator:', info['qweA'])\n",
    "print('dual of Shor weight enumerator:', info['qweB'])"
   ]
  },
  {
   "cell_type": "markdown",
   "id": "d31df3ff",
   "metadata": {},
   "source": [
    "Steane code support transversal logical $H$ and $S$ gates, as demonstrated below.\n",
    "\n",
    "TASK: given these two transversal logical gates, can you find the implementation of transversal logical gate $F=HS^\\dagger$?"
   ]
  },
  {
   "cell_type": "code",
   "execution_count": null,
   "id": "ca33e4b2",
   "metadata": {},
   "outputs": [],
   "source": [
    "# logical H = H * H * H * H * H * H * H\n",
    "logicalH = code.conj() @ hf_kron(*[numqi.gate.H]*7) @ code.T\n",
    "print('logical H:', logicalH, sep='\\n')\n",
    "\n",
    "# logical S = (S * S * S * S * S * S * S)^\\dagger\n",
    "logicalS = code.conj() @ hf_kron(*[numqi.gate.S.conj()]*7) @ code.T\n",
    "print('\\nlogical S:', logicalS, sep='\\n')"
   ]
  },
  {
   "cell_type": "markdown",
   "id": "9dd42bc7",
   "metadata": {},
   "source": [
    "Actually, transversal logical gates make a group: given two transversal logical gates, then their product is also a transversal logical gate.\n",
    "\n",
    "Furthermore, Eastin-Knill theorem states that any transversal group of nontrivial (distance >1) QECC is a finite subgroup of SU(K) where K is the dimension of the logical subspace.\n",
    "\n",
    "Finite subgroup of SU(2) has been classified as follows: cyclic groups $C_{2m}$, binary dihedral groups $\\mathrm{BD}_{2m}$, and the three exceptional groups: binary tetrahedral group (2T), binary octahedral group (2O), and binary icosahedral group (2I).\n",
    "\n",
    "| group | notable elements | generators | order |\n",
    "| :-: | :-: | :-: | :-: |\n",
    "| $C_{2m}$ | $Z(2\\pi/m)$ | $Z(2\\pi/m)$ | 2m |\n",
    "| $\\mathrm{BD}_{2m}$ | $\\hat{X},Z(2\\pi/m)$ | $\\hat{X},Z(2\\pi/m)$ | 4m |\n",
    "| 2T | $\\hat{X},\\hat{Z},F$ | $\\hat{X},F$ | 24 |\n",
    "| 2O (Clifford) | $\\hat{X},\\hat{Z},\\hat{S},\\hat{H},F$ | $\\hat{S},\\hat{H}$ | 48 |\n",
    "| 2I | $\\hat{X},\\hat{Z},F,\\Phi$ | $\\hat{X},\\hat{Z}\\Phi$ | 120 |\n",
    "\n",
    "According to classification, the transversal group of the 5-qubit code is 2T, and the transversal group of the Steane code is 2O which is also isomorphic to 1-qubit Clifford group.\n",
    "\n",
    "Transversal group of stabilizer code is quite limited, below we demonstrate that transversal group of non-stabilizer code is much richer, which is the main result of our paper [arxiv-link](https://arxiv.org/abs/2504.20847).\n"
   ]
  },
  {
   "cell_type": "markdown",
   "id": "e8e34b86",
   "metadata": {},
   "source": [
    "## Non-stabilizer code ((6,2,3))"
   ]
  },
  {
   "cell_type": "markdown",
   "id": "1f4c29e5",
   "metadata": {},
   "source": [
    "### C10"
   ]
  },
  {
   "cell_type": "code",
   "execution_count": null,
   "id": "e70bc7af",
   "metadata": {},
   "outputs": [],
   "source": [
    "code,info = numqi.qec.q623.get_C10(return_info=True)\n",
    "\n",
    "print('code.shape:', code.shape)\n",
    "print('Shor weight enumerator:', info['qweA'])\n",
    "print('dual of Shor weight enumerator:', info['qweB'])\n"
   ]
  },
  {
   "cell_type": "markdown",
   "id": "b46c16e0",
   "metadata": {},
   "source": [
    "`info['su2']` stores the SU(2) gates applied to each qubits that implement a Z-rotation logical gate $Z(2\\pi/5)$."
   ]
  },
  {
   "cell_type": "code",
   "execution_count": null,
   "id": "5ad72312",
   "metadata": {},
   "outputs": [],
   "source": [
    "print('physical gates for each qubit:')\n",
    "for i0,op in enumerate(info['su2']):\n",
    "    print(f'qubit {i0}:', op, sep='\\n')\n",
    "\n",
    "op_logical = code.conj() @ hf_kron(*info['su2']) @ code.T\n",
    "print('\\nlogical Z(2pi/5):', op_logical, sep='\\n')"
   ]
  },
  {
   "cell_type": "markdown",
   "id": "dfa8e399",
   "metadata": {},
   "source": [
    "### SO(5) code\n",
    "\n",
    "when `vece` has at least 4 nonzero entries, then the corresponding code has no transversal logical gates except trivial identity, `C2` group."
   ]
  },
  {
   "cell_type": "code",
   "execution_count": null,
   "id": "dd595ae7",
   "metadata": {},
   "outputs": [],
   "source": [
    "tmp0 = np_rng.normal(size=4)\n",
    "vece = tmp0 / np.linalg.norm(tmp0)\n",
    "code = numqi.qec.q623.get_SO5_code_with_transversal_gate(vece) #no trasversal gate"
   ]
  },
  {
   "cell_type": "markdown",
   "id": "0e098b32",
   "metadata": {},
   "source": [
    "when 5-dimensional `vece` has at most 3 nonzero entries, then transversal group is `C4`."
   ]
  },
  {
   "cell_type": "code",
   "execution_count": null,
   "id": "9ea94058",
   "metadata": {},
   "outputs": [],
   "source": [
    "tmp0 = np_rng.normal(size=3)\n",
    "vece = tmp0 / np.linalg.norm(tmp0)\n",
    "code,info = numqi.qec.q623.get_SO5_code_with_transversal_gate(vece) #no trasversal gate\n",
    "\n",
    "print(\"physical gates' shape:\", info['su2'].shape)\n",
    "logicalZ = code.conj() @ hf_kron(*info['su2']) @ code.T\n",
    "print('logical Z:', logicalZ, sep='\\n')"
   ]
  },
  {
   "cell_type": "markdown",
   "id": "8cb293d6",
   "metadata": {},
   "source": [
    "when `vece` has at most 2 nonzero entries, then transversal group is `BD4`."
   ]
  },
  {
   "cell_type": "code",
   "execution_count": null,
   "id": "905c69dd",
   "metadata": {},
   "outputs": [],
   "source": [
    "tmp0 = np_rng.normal(size=2)\n",
    "vece = tmp0 / np.linalg.norm(tmp0)\n",
    "code,info = numqi.qec.q623.get_SO5_code_with_transversal_gate(vece) #no trasversal gate\n",
    "\n",
    "logicalZ = code.conj() @ hf_kron(*info['su2Z']) @ code.T\n",
    "print('logical Z:', np.around(logicalZ,10), sep='\\n')\n",
    "\n",
    "logicalX = code.conj() @ hf_kron(*info['su2X']) @ code.T\n",
    "print('logical X:', np.around(logicalX,10), sep='\\n')"
   ]
  },
  {
   "cell_type": "markdown",
   "id": "d41938f9",
   "metadata": {},
   "source": [
    "### ((6,2,3)) from ((5,2,3)) stabilizer code\n",
    "\n",
    "see appendix of [arxiv-link](https://arxiv.org/abs/2504.20847) for details."
   ]
  },
  {
   "cell_type": "markdown",
   "id": "50453e1b",
   "metadata": {},
   "source": [
    "## Non-stabilizer code ((7,2,3))"
   ]
  },
  {
   "cell_type": "markdown",
   "id": "51748e94",
   "metadata": {},
   "source": [
    "### 2T, Cyclic code\n",
    "\n",
    "[arxiv-link](https://arxiv.org/abs/2410.07983) Characterizing Quantum Codes via the Coefficients in Knill-Laflamme Conditions\n",
    "\n",
    "Parametrized with the signature norm $\\lambda^*\\in[0,\\sqrt{7}]$, when $\\lambda^*=0$, it becomes the Steane code, and when $\\lambda^*=\\sqrt{7}$, it becomes a permutational-invariant code."
   ]
  },
  {
   "cell_type": "code",
   "execution_count": null,
   "id": "9bd26869",
   "metadata": {},
   "outputs": [],
   "source": [
    "# 0<lambda<sqrt(7), Cyclic code, 2T\n",
    "code,info = numqi.qec.q723.get_cyclic_code(lambda2=np_rng.uniform(0,7), sign='++', return_info=True)\n",
    "\n",
    "print('code.shape:', code.shape)\n",
    "print('Shor weight enumerator:', info['qweA'])\n",
    "print('dual of Shor weight enumerator:', info['qweB'])"
   ]
  },
  {
   "cell_type": "code",
   "execution_count": null,
   "id": "f174777b",
   "metadata": {},
   "outputs": [],
   "source": [
    "logicalX = code.conj() @ hf_kron(*[numqi.gate.X]*7) @ code.T\n",
    "print('\\nlogical X:', logicalX, sep='\\n')\n",
    "\n",
    "logicalF = code.conj() @ hf_kron(*[numqi.gate.H @ numqi.gate.S.conj()]*7) @ code.T\n",
    "print('\\nlogical F:', logicalF, sep='\\n')"
   ]
  },
  {
   "cell_type": "markdown",
   "id": "7d7161b8",
   "metadata": {},
   "source": [
    "When $\\lambda^*=0$, extra transversal logical gates are $H$ and $S$, which is the same as Steane code."
   ]
  },
  {
   "cell_type": "code",
   "execution_count": null,
   "id": "493a6fda",
   "metadata": {},
   "outputs": [],
   "source": [
    "code,info = numqi.qec.q723.get_cyclic_code(lambda2=0, sign='++', return_info=True)\n",
    "\n",
    "logicalH = code.conj() @ hf_kron(*[numqi.gate.H]*7) @ code.T\n",
    "print('logical H:', logicalH, sep='\\n')\n",
    "\n",
    "logicalS = code.conj() @ hf_kron(*[numqi.gate.S.conj()]*7) @ code.T\n",
    "print('\\nlogical S:', logicalS, sep='\\n')"
   ]
  },
  {
   "cell_type": "markdown",
   "id": "91b863b1",
   "metadata": {},
   "source": [
    "When $\\lambda^*=\\sqrt{7}$, extra transversal logical gate is $\\Phi$."
   ]
  },
  {
   "cell_type": "code",
   "execution_count": null,
   "id": "88fdafdc",
   "metadata": {},
   "outputs": [],
   "source": [
    "code,info = numqi.qec.q723.get_cyclic_code(lambda2=7, sign='++', return_info=True)\n",
    "\n",
    "physical_op = numqi.qec.su2_finite_subgroup_gate_dict['Phi']\n",
    "logicalPhi = code.conj() @ hf_kron(*[physical_op]*7) @ code.T\n",
    "print('logical Psi:', logicalPhi, sep='\\n')"
   ]
  },
  {
   "cell_type": "markdown",
   "id": "44c46077",
   "metadata": {},
   "source": [
    "### 2I, permutation-invariant code"
   ]
  },
  {
   "cell_type": "code",
   "execution_count": null,
   "id": "61a556d3",
   "metadata": {},
   "outputs": [],
   "source": [
    "coeff = np.zeros((2,8), dtype=np.complex128)\n",
    "coeff[[0,0,1,1],[0,5,2,7]] = np.array([np.sqrt(3), np.sqrt(7)*1j, np.sqrt(7)*1j, np.sqrt(3)]) / np.sqrt(10)\n",
    "code = coeff @ (numqi.dicke.get_dicke_basis(7, 2)[::-1])\n",
    "\n",
    "qweA,qweB = numqi.qec.get_weight_enumerator(code)\n",
    "print('Shor weight enumerator:', np.around(qweA,3))\n",
    "print('dual of Shor weight enumerator:', np.around(qweB,3))\n"
   ]
  },
  {
   "cell_type": "code",
   "execution_count": null,
   "id": "0d0146e0",
   "metadata": {},
   "outputs": [],
   "source": [
    "logicalX = code.conj() @ hf_kron(*[numqi.gate.X]*7) @ code.T\n",
    "print('logical X:', logicalX, sep='\\n')\n",
    "\n",
    "logicalZ5 = code.conj() @ hf_kron(*[numqi.gate.rz(6*np.pi/5)]*7) @ code.T\n",
    "print('\\nlogical Z(2pi/5):', logicalZ5, sep='\\n')\n",
    "\n",
    "hfR = lambda a,b,t=1: numqi.gate.I*np.cos(t*np.pi/5) + 1j*np.sin(t*np.pi/5)/np.sqrt(5) * (a*numqi.gate.Y + b*numqi.gate.Z)\n",
    "physical_op = hfR(-2,-1,3)\n",
    "logicalR = code.conj() @ hf_kron(*[physical_op]*7) @ code.T #hfR(-2,1)\n",
    "print('\\nlogical R(-2,1):', logicalR, sep='\\n')\n"
   ]
  },
  {
   "cell_type": "markdown",
   "id": "90943906",
   "metadata": {},
   "source": [
    "### 2I, lambda*=0"
   ]
  },
  {
   "cell_type": "code",
   "execution_count": null,
   "id": "990247af",
   "metadata": {},
   "outputs": [],
   "source": [
    "code,info = numqi.qec.q723.get_2I_lambda0(theta=np_rng.uniform(0,2*np.pi),\n",
    "                phi=np_rng.uniform(0,2*np.pi), sign='+', return_info=True)\n",
    "\n",
    "print('code.shape:', code.shape)\n",
    "print('Shor weight enumerator:', info['qweA'])\n",
    "print('dual of Shor weight enumerator:', info['qweB'])"
   ]
  },
  {
   "cell_type": "code",
   "execution_count": null,
   "id": "653e9a96",
   "metadata": {},
   "outputs": [],
   "source": [
    "logicalX = code.conj() @ hf_kron(*[numqi.gate.X]*7) @ code.T\n",
    "print('logical X:', logicalX, sep='\\n')\n",
    "\n",
    "logicalZ5 = code.conj() @ hf_kron(*info['su2']) @ code.T\n",
    "print('\\nlogical Z(2pi/5):', logicalZ5, sep='\\n')\n",
    "\n",
    "# hfR = lambda a,b,t=1: numqi.gate.I*np.cos(t*np.pi/5) + 1j*np.sin(t*np.pi/5)/np.sqrt(5) * (a*numqi.gate.Y + b*numqi.gate.Z)\n",
    "# physical_op = hfR(-2,-1,3)\n",
    "logicalR = code.conj() @ hf_kron(*info['su2R']) @ code.T #hfR(-2,1)\n",
    "print('\\nlogical R(-2,1):', logicalR, sep='\\n')\n"
   ]
  },
  {
   "cell_type": "markdown",
   "id": "f97e7763",
   "metadata": {},
   "source": [
    "### 2I, lambda*=0.75"
   ]
  },
  {
   "cell_type": "code",
   "execution_count": null,
   "id": "ebaba3e1",
   "metadata": {},
   "outputs": [],
   "source": [
    "code,info = numqi.qec.q723.get_2I_lambda075(np_rng.uniform(0,np.sqrt(5/16)),\n",
    "                        sign=np.array([1,1,1]), return_info=True)\n",
    "\n",
    "print('code.shape:', code.shape)\n",
    "print('Shor weight enumerator:', info['qweA'])\n",
    "print('dual of Shor weight enumerator:', info['qweB'])"
   ]
  },
  {
   "cell_type": "code",
   "execution_count": null,
   "id": "5d3d1dc8",
   "metadata": {},
   "outputs": [],
   "source": [
    "logicalX = code.conj() @ hf_kron(*[numqi.gate.X]*7) @ code.T\n",
    "print('logical X:', logicalX, sep='\\n')\n",
    "\n",
    "logicalZ5 = code.conj() @ hf_kron(*info['su2']) @ code.T\n",
    "print('\\nlogical Z(2pi/5):', logicalZ5, sep='\\n')\n",
    "\n",
    "# hfR = lambda a,b,t=1: numqi.gate.I*np.cos(t*np.pi/5) + 1j*np.sin(t*np.pi/5)/np.sqrt(5) * (a*numqi.gate.Y + b*numqi.gate.Z)\n",
    "# physical_op = hfR(-2,-1,3)\n",
    "logicalR = code.conj() @ hf_kron(*info['su2R']) @ code.T #hfR(-2,1)\n",
    "print('\\nlogical R(-2,1):', logicalR, sep='\\n')\n"
   ]
  },
  {
   "cell_type": "markdown",
   "id": "6a77c05a",
   "metadata": {},
   "source": [
    "### 2O lambda*=2"
   ]
  },
  {
   "cell_type": "code",
   "execution_count": null,
   "id": "a6d085d4",
   "metadata": {},
   "outputs": [],
   "source": [
    "code,info = numqi.qec.q723.get_2O_X5(return_info=True)\n",
    "\n",
    "print('code.shape:', code.shape)\n",
    "print('Shor weight enumerator:', info['qweA'])\n",
    "print('dual of Shor weight enumerator:', info['qweB'])"
   ]
  },
  {
   "cell_type": "code",
   "execution_count": null,
   "id": "dcef3b96",
   "metadata": {},
   "outputs": [],
   "source": [
    "logicalX = code.conj() @ hf_kron(*info['su2X']) @ code.T\n",
    "print('logical X:', logicalX, sep='\\n')\n",
    "\n",
    "logicalYSY = code.conj() @ hf_kron(*info['su2YSY']) @ code.T\n",
    "print('\\nlogical Y(pi/4)SY(-pi/4):', logicalYSY, sep='\\n')\n"
   ]
  },
  {
   "cell_type": "markdown",
   "id": "df3f7213",
   "metadata": {},
   "source": [
    "### BD16, transversal T"
   ]
  },
  {
   "cell_type": "code",
   "execution_count": null,
   "id": "25a80181",
   "metadata": {},
   "outputs": [],
   "source": [
    "theta = np_rng.uniform(0,2*np.pi,size=2)\n",
    "sign = np_rng.integers(2, size=7)*2 - 1\n",
    "code,info = numqi.qec.q723.get_BD16_veca1222233(theta[0], theta[1], sign=sign, return_info=True)\n",
    "\n",
    "print('code.shape:', code.shape)\n",
    "print('Shor weight enumerator:', info['qweA'])\n",
    "print('dual of Shor weight enumerator:', info['qweB'])"
   ]
  },
  {
   "cell_type": "code",
   "execution_count": null,
   "id": "eca506bd",
   "metadata": {},
   "outputs": [],
   "source": [
    "logicalX = code.conj() @ hf_kron(*[numqi.gate.X]*7) @ code.T\n",
    "print('logical X:', logicalX, sep='\\n')\n",
    "\n",
    "logicalT = code.conj() @ hf_kron(*info['su2']) @ code.T\n",
    "print('\\nlogical T:', logicalT, sep='\\n')\n"
   ]
  },
  {
   "cell_type": "markdown",
   "id": "6b6930ca",
   "metadata": {},
   "source": [
    "### BD32, transversal sqrt(T)"
   ]
  },
  {
   "cell_type": "code",
   "execution_count": null,
   "id": "5f6747b0",
   "metadata": {},
   "outputs": [],
   "source": [
    "sign = np_rng.integers(2, size=9)*2 - 1\n",
    "code, info = numqi.qec.q723.get_BD32(np_rng.uniform(0,np.sqrt(1/8)), sign=sign, return_info=True)\n",
    "\n",
    "print('code.shape:', code.shape)\n",
    "print('Shor weight enumerator:', info['qweA'])\n",
    "print('dual of Shor weight enumerator:', info['qweB'])"
   ]
  },
  {
   "cell_type": "code",
   "execution_count": null,
   "id": "b031e2bc",
   "metadata": {},
   "outputs": [],
   "source": [
    "logicalX = code.conj() @ hf_kron(*[numqi.gate.X]*7) @ code.T\n",
    "print('logical X:', logicalX, sep='\\n')\n",
    "\n",
    "logicalSqrtT = code.conj() @ hf_kron(*info['su2']) @ code.T\n",
    "print('\\nlogical Sqrt(T):', logicalSqrtT, sep='\\n')\n"
   ]
  },
  {
   "cell_type": "markdown",
   "id": "6bf27578",
   "metadata": {},
   "source": [
    "### More QECCs\n",
    "\n",
    "Here we provides a list of available QECCs in `numqi.qec`:"
   ]
  },
  {
   "cell_type": "code",
   "execution_count": null,
   "id": "8dd4e5f5",
   "metadata": {},
   "outputs": [],
   "source": [
    "tmp0 = [x for x in dir(numqi.qec.q723) if x.startswith('get_')]\n",
    "for x in tmp0:\n",
    "    print(f'numqi.qec.q723.{x}()')"
   ]
  },
  {
   "cell_type": "code",
   "execution_count": null,
   "id": "b47f01d8",
   "metadata": {},
   "outputs": [],
   "source": [
    "tmp0 = [x for x in dir(numqi.qec.q823) if x.startswith('get_')]\n",
    "for x in tmp0:\n",
    "    print(f'numqi.qec.q823.{x}()')"
   ]
  }
 ],
 "metadata": {
  "kernelspec": {
   "display_name": "Python 3",
   "language": "python",
   "name": "python3"
  },
  "language_info": {
   "codemirror_mode": {
    "name": "ipython",
    "version": 3
   },
   "file_extension": ".py",
   "mimetype": "text/x-python",
   "name": "python",
   "nbconvert_exporter": "python",
   "pygments_lexer": "ipython3",
   "version": "3.12.11"
  }
 },
 "nbformat": 4,
 "nbformat_minor": 5
}
