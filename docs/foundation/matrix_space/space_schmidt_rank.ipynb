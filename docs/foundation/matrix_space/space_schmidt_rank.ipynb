{
 "cells": [
  {
   "cell_type": "markdown",
   "metadata": {},
   "source": [
    "# Schmidt Rank in matrix subspace\n",
    "\n",
    "<a target=\"_blank\" href=\"https://colab.research.google.com/github/numqi/numqi/blob/main/docs/foundation/matrix_space/space_schmidt_rank.ipynb\">\n",
    "  <img src=\"https://colab.research.google.com/assets/colab-badge.svg\" alt=\"Open In Colab\"/>\n",
    "</a>\n",
    "\n",
    "see paper \"Complete hierarchy of linear systems for certifying quantum entanglement of subspaces\" [doi-link](https://doi.org/10.1103/PhysRevA.106.062443) for more details\n",
    "\n",
    "An important and difficult problem in quantum information field is to ask whether there is a product state in matrix subspace. For this problem, Nathaniel et al. proposed a method to solve it by constructing a set of vectors in higher dimensional space and then inspecting the linear dependency of these vectors. `numqi.matrix_space` implements this methods and does some optimization to make it more efficient (see last section for a benchmarking)."
   ]
  },
  {
   "cell_type": "code",
   "execution_count": null,
   "metadata": {},
   "outputs": [],
   "source": [
    "import numpy as np\n",
    "\n",
    "try:\n",
    "    import numqi\n",
    "except ImportError:\n",
    "    %pip install numqi\n",
    "    import numqi\n"
   ]
  },
  {
   "cell_type": "markdown",
   "metadata": {},
   "source": [
    "## Matrix subspace\n",
    "\n",
    "Given a set of matrices $\\{A_1,A_2,\\cdots,A_d\\}\\in\\mathbb{C}^{m\\times n}$, the matrix subspace is defined as\n",
    "\n",
    "$$ \\mathcal{S}=\\langle A_1,A_2,\\cdots,A_d \\rangle_\\mathbb{C}=\\left\\{ x\\in\\mathbb{C}^{m\\times n}: x=\\sum_i a_iA_i,a_i\\in\\mathbb{C} \\right\\} $$\n",
    "\n",
    "One should note that $\\mathcal{S}$ is vector space with elements in $\\mathbb{C}^{m\\times n}$, not $\\mathbb{C}^{mn}$, so it's called matrix subspace. The complex filed $\\mathcal{C}$ will be used across this tutorial, as the proposed method is not applied in the real field $\\mathbb{R}$ which will be discussed in another tutorial. The Schmidt rank $r(\\mathcal{S})$ is defined as the minimal rank over all nonzero elements in $\\mathcal{S}$\n",
    "\n",
    "$$ r(\\mathcal{S})=\\min_x\\left\\{r(x):x\\in\\mathcal{S},x\\ne 0\\right\\} $$\n",
    "\n",
    "where the rank for a matrix $r(x)$ is the number of nonzero singular values of $x$. The rank of a matrix is easy to compute, but the Schmidt rank of a matrix subspace is difficult to compute (TODO, is this NP?). In this tutorial, we will show how to compute the Schmidt rank of a matrix subspace. Let's start with an example (Example 1 from the paper [doi-link](https://doi.org/10.1103/PhysRevA.106.062443)) $\\mathcal{S}=\\langle |x_1\\rangle,\\cdots,|x_8\\rangle \\rangle_\\mathbb{C}\\subset\\mathbb{C}^{4\\times 4}$\n",
    "\n",
    "$$ |x_{1}\\rangle=|00\\rangle+|11\\rangle+|22\\rangle+|33\\rangle,|x_{2}\\rangle=|00\\rangle-|11\\rangle+|22\\rangle-|33\\rangle $$\n",
    "\n",
    "$$ |x_{3}\\rangle=|01\\rangle+|12\\rangle+|23\\rangle,|x_{4}\\rangle=|10\\rangle+|21\\rangle+|32\\rangle $$\n",
    "\n",
    "$$ |x_{5}\\rangle=|01\\rangle+2|12\\rangle+3|23\\rangle,|x_{6}\\rangle=|10\\rangle+2|21\\rangle+3|32\\rangle $$\n",
    "\n",
    "$$ |x_{7}\\rangle=|01\\rangle+|13\\rangle,|x_{8}\\rangle=|20\\rangle+|31\\rangle $$\n",
    "\n",
    "where we use the bra-ket notation $|ij\\rangle$ to represent the matrix with 1 at $(i,j)$ and 0 elsewhere. The matrix subspace $\\mathcal{S}$ has no rank-$1$ element, which can be verified by the following code."
   ]
  },
  {
   "cell_type": "code",
   "execution_count": null,
   "metadata": {},
   "outputs": [],
   "source": [
    "matrix_subspace,field = numqi.matrix_space.get_matrix_subspace_example(key='hierarchy-ex1')\n",
    "\n",
    "print(f'field: {field}')\n",
    "print(f'shape: {matrix_subspace.shape}')\n",
    "print(f'matrix[0]:\\n{matrix_subspace[0]}')\n",
    "print(f'matrix[1]:\\n{matrix_subspace[1]}')\n",
    "print(f'matrix[2]:\\n{matrix_subspace[2]}')\n"
   ]
  },
  {
   "cell_type": "code",
   "execution_count": null,
   "metadata": {},
   "outputs": [],
   "source": [
    "tag_atleast_rank2 = numqi.matrix_space.has_rank_hierarchical_method(matrix_subspace, rank=2, hierarchy_k=1)\n",
    "print(f'at least rank 2: {tag_atleast_rank2}')\n"
   ]
  },
  {
   "cell_type": "markdown",
   "metadata": {},
   "source": [
    "Above, the algorithm `numqi.matrix_space.has_rank_hierarchical_method` return a boolean object `tag_asleast_rank2`, if it's `True`, then the algorithm can certify that the matris subspace has no rank-$1$ element (nonzero matrix). And for this example, it's indead `True`. \n",
    "\n",
    "Let's dive into the details of the algorithm. The algorithm is based on the following theorem in the paper:\n",
    "\n",
    "**Theorem**: Let $S\\subseteq \\mathcal{H}_A\\otimes \\mathcal{H}_B$ be a matrix subspace with basis $\\left\\{ \\left|x_{1}\\right\\rangle ,\\left|x_{2}\\right\\rangle ,\\cdots,\\left|x_{d_{S}}\\right\\rangle \\right\\}$. Then all nonzero elements in $S$ has at least rank $r+1$, iff there exists an integer $1\\leq k\\leq (max\\{r,2\\}+1)^{d_Ad_B}-r$ such that the set\n",
    "$$ \\{ \\Phi_{r}^{k}(|x_{j_{1}}\\rangle \\otimes|x_{j_{2}}\\rangle \\otimes\\cdots\\otimes|x_{j_{r+k}}\\rangle ):1\\leq j_{1}\\leq\\cdots\\leq j_{r+k}\\leq d_{S}\\} $$\n",
    "$$ \\Phi_{r}^{k}\\equiv\\left(P_{A,r+1}^{\\wedge}\\otimes P_{B,r+1}^{\\wedge}\\otimes I_{AB,k-1}\\right)P_{AB,r+k}^{\\vee} $$\n",
    "is linearly independent.\n",
    "\n",
    "Don't get panic by the theorem. The key part is that build some vectors in higher dimensional space and then inspect the linear dependency of these vectors. The tensor operation $|x_{j_1}\\rangle\\otimes |x_{j_2}\\rangle$ is to project into high dimensional space and then $\\Psi_r^k$ is a linear map (think of it as a large matrix) doing some linear transformation in high dimensional space with symmetrization $P^\\vee$ and anti-symmetrization $P^\\wedge$ operator. After all these operations, the criterion is to check whether the set of vectors is linearly independent, numerically, `numqi.matrix_space` will check the minimum eigenvalue $\\lambda_0$ of the associated matrix $VV^\\dagger$,\n",
    "\n",
    "| if | then |\n",
    "| :-: | :-: |\n",
    "| $\\lambda_0\\geq \\delta$, independent | $r(\\mathcal{S})>r$ |\n",
    "| $\\lambda_0<\\delta$, dependent at $k<k_{\\mathrm{max}}$ | nothing |\n",
    "| $\\lambda_0<\\delta$, dependent at $k=k_{\\mathrm{max}}$ | $r(\\mathcal{S})\\leq r$ |\n",
    "\n",
    "where $k_{\\max}=(\\max\\{r,2\\}+1)^{d_Ad_B}-r$. So this algorithm is able to certify \"any\" Schimdt rank of matrix subspace. Let's do a numerical test for rank-$3$ matrix subspace (Example 5 in the paper)."
   ]
  },
  {
   "cell_type": "code",
   "execution_count": null,
   "metadata": {},
   "outputs": [],
   "source": [
    "matrix_subspace,field = numqi.matrix_space.get_matrix_subspace_example(key='hierarchy-ex5')\n",
    "\n",
    "print(f'field: {field}')\n",
    "print(f'shape: {matrix_subspace.shape}')\n",
    "print(f'matrix[0]:\\n{matrix_subspace[0]}')\n",
    "print(f'matrix[1]:\\n{matrix_subspace[1]}')\n",
    "print(f'matrix[2]:\\n{matrix_subspace[2]}')\n",
    "\n",
    "tag_atleast_rank3 = numqi.matrix_space.has_rank_hierarchical_method(matrix_subspace, rank=3, hierarchy_k=1)\n",
    "print(f'at least rank 3: {tag_atleast_rank3}')\n"
   ]
  },
  {
   "cell_type": "markdown",
   "metadata": {},
   "source": [
    "As expected, the algorithm can certify that the matrix subspace has no rank-$1$ and rank-$2$ element. There are examples that require the hierarchy $k$ to be larger than 1. For example, the following matrix subspace (Example 3 in the paper)"
   ]
  },
  {
   "cell_type": "code",
   "execution_count": null,
   "metadata": {},
   "outputs": [],
   "source": [
    "matrix_subspace,field = numqi.matrix_space.get_matrix_subspace_example(key='hierarchy-ex3')\n",
    "\n",
    "print(f'field: {field}')\n",
    "print(f'shape: {matrix_subspace.shape}')\n",
    "\n",
    "tag_atleast_rank2_k1 = numqi.matrix_space.has_rank_hierarchical_method(matrix_subspace, rank=2, hierarchy_k=1)\n",
    "tag_atleast_rank2_k2 = numqi.matrix_space.has_rank_hierarchical_method(matrix_subspace, rank=2, hierarchy_k=2)\n",
    "tag_atleast_rank2_k3 = numqi.matrix_space.has_rank_hierarchical_method(matrix_subspace, rank=2, hierarchy_k=3)\n",
    "print(f'at least rank 2 (k=1): {tag_atleast_rank2_k1}')\n",
    "print(f'at least rank 2 (k=2): {tag_atleast_rank2_k2}')\n",
    "print(f'at least rank 2 (k=3): {tag_atleast_rank2_k3}')\n"
   ]
  },
  {
   "cell_type": "markdown",
   "metadata": {},
   "source": [
    "As results show, this matrix subspace requires the algorithm to certify at least $k=3$. Before ending this part, let's point out some shortage of this algorithm:\n",
    "\n",
    "1. This algorithm cannot certify the matrix subspace has rank-$r$ element in practice (unless the $k=k_{\\mathrm{max}}$)\n",
    "2. complex field $\\mathbb{C}$ is required, not applied to real field $\\mathbb{R}$"
   ]
  },
  {
   "cell_type": "markdown",
   "metadata": {},
   "source": [
    "## Multipartite subspace\n",
    "\n",
    "The algorithm can be extended to multipartite subspace to certify the so-called completely entangled subspace (CES). For example, the following matrix subspace (Example 6 in the paper) can be certified at $k=2$."
   ]
  },
  {
   "cell_type": "code",
   "execution_count": null,
   "metadata": {},
   "outputs": [],
   "source": [
    "dimA = 2\n",
    "dimB = 2\n",
    "dimC = 2\n",
    "np_list = numqi.matrix_space.get_completed_entangled_subspace((dimA, dimB, dimC), kind='quant-ph/0409032')[0]\n",
    "tag_k1 = numqi.matrix_space.is_ABC_completely_entangled_subspace(np_list, hierarchy_k=1)\n",
    "tag_k2 = numqi.matrix_space.is_ABC_completely_entangled_subspace(np_list, hierarchy_k=2)\n",
    "print(f'completely entangled (k=1): {tag_k1}')\n",
    "print(f'completely entangled (k=2): {tag_k2}')\n"
   ]
  },
  {
   "cell_type": "markdown",
   "metadata": {},
   "source": [
    "In the `numqi.matrix_space` implementation, we do some optimization to make it more efficient making use of tensor contraction, the timing is shown below.\n",
    "\n",
    "| $(d_A,d_B,d_C)$ | $k$ | paper | `numqi` |\n",
    "| :-: | :-: | :-: | :-: |\n",
    "| $(2,2,2)$ | 2 | 0.12s | 0.01s |\n",
    "| $(2,2,3)$ | 2 | 0.30s | 0.22s |\n",
    "| $(2,2,4)$ | 2 | 0.67s | 0.52s |\n",
    "| $(2,2,5)$ | 2 | 1.21s | 0.55s |\n",
    "| $(2,2,6)$ | 2 | 3.47s | 0.69s |\n",
    "| $(2,2,7)$ | 2 | 6.05s | 0.96s |\n",
    "| $(2,2,8)$ | 2 | 18.90s | 1.40s |\n",
    "| $(2,2,9)$ | 2 | 38.40s | 2.18s |\n",
    "| $(2,3,3)$ | 3 | 19.58s | 1.30s |\n",
    "| $(2,3,4)$ | 3 | 8.24m | 8.59s |\n",
    "| $(2,3,5)$ | 3 | 2.50h | 328s |\n",
    "\n",
    "where the column \"paper\" is from Table III in the paper and the column `numqi` is the timing of `numqi.matrix_space.is_ABC_completely_entangled_subspace` on a mac-studio `Apple M1 Ultra` with 20 cores."
   ]
  }
 ],
 "metadata": {
  "kernelspec": {
   "display_name": "Python 3",
   "language": "python",
   "name": "python3"
  },
  "language_info": {
   "codemirror_mode": {
    "name": "ipython",
    "version": 3
   },
   "file_extension": ".py",
   "mimetype": "text/x-python",
   "name": "python",
   "nbconvert_exporter": "python",
   "pygments_lexer": "ipython3",
   "version": "3.11.6"
  }
 },
 "nbformat": 4,
 "nbformat_minor": 2
}
