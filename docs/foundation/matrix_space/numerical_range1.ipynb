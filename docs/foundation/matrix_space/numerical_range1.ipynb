{
 "cells": [
  {
   "cell_type": "markdown",
   "metadata": {},
   "source": [
    "# How to solve numerical range\n",
    "\n",
    "<a target=\"_blank\" href=\"https://colab.research.google.com/github/numqi/numqi/blob/main/docs/foundation/matrix_space/numerical_range1.ipynb\">\n",
    "  <img src=\"https://colab.research.google.com/assets/colab-badge.svg\" alt=\"Open In Colab\"/>\n",
    "</a>\n",
    "\n",
    "In previous tutorial, we have defined the numerical range of a matrix $A$ as the set of all possible values of $x^*Ax$ for all unit vectors $x$. In this tutorial, we will focus on different methods to solve the numerical range of a matrix."
   ]
  },
  {
   "cell_type": "code",
   "execution_count": null,
   "metadata": {},
   "outputs": [],
   "source": [
    "import numpy as np\n",
    "import matplotlib.pyplot as plt\n",
    "\n",
    "try:\n",
    "    import numqi\n",
    "except ImportError:\n",
    "    %pip install numqi\n",
    "    import numqi\n",
    "\n",
    "np_rng = np.random.default_rng()\n"
   ]
  },
  {
   "cell_type": "markdown",
   "metadata": {},
   "source": [
    "## Root finding method\n",
    "\n",
    "In paper \"Bounding Real Tensor Optimizations via the Numerical Range\" [arxiv-link](https://arxiv.org/abs/2212.12811) appendix A. For a given angle $\\theta$, the boundary can be find by solving the root of a scalar function. (TODO add more details)"
   ]
  },
  {
   "cell_type": "code",
   "execution_count": null,
   "metadata": {},
   "outputs": [],
   "source": [
    "N0 = 5\n",
    "matA = np_rng.normal(size=(N0,N0)) + 1j*np_rng.normal(size=(N0,N0))\n",
    "alpha_list = np_rng.uniform(0, 2*np.pi, size=5)\n",
    "\n",
    "boundary = numqi.matrix_space.get_matrix_numerical_range(matA, num_point=200)\n",
    "max_list = []\n",
    "min_list = []\n",
    "for alpha_i in alpha_list:\n",
    "    min_list.append(numqi.matrix_space.get_matrix_numerical_range_along_direction(matA, alpha_i, kind='min')[0])\n",
    "    max_list.append(numqi.matrix_space.get_matrix_numerical_range_along_direction(matA, alpha_i, kind='max')[0])\n",
    "min_list = np.array(min_list)\n",
    "max_list = np.array(max_list)\n",
    "\n",
    "fig,ax = plt.subplots()\n",
    "ax.plot(boundary.real, boundary.imag)\n",
    "xlim = ax.get_xlim()\n",
    "ylim = ax.get_ylim()\n",
    "for ind0,alpha_i in enumerate(alpha_list):\n",
    "    tmp0 = np.sqrt(max(abs(xlim[0]), abs(xlim[1]))**2 + max(abs(ylim[0]), abs(ylim[1]))**2)\n",
    "    ax.plot([0,tmp0*np.cos(alpha_i)], [0, tmp0*np.sin(alpha_i)], 'k')\n",
    "    ax.plot([0,tmp0*np.cos(alpha_i+np.pi)], [0, tmp0*np.sin(alpha_i+np.pi)], 'k:')\n",
    "tmp0 = max_list*np.exp(1j*alpha_list)\n",
    "ax.plot(tmp0.real, tmp0.imag, 'rx', markersize=10)\n",
    "tmp0 = min_list*np.exp(1j*alpha_list)\n",
    "ax.plot(tmp0.real, tmp0.imag, 'r+', markersize=10)\n",
    "ax.set_xlim(*xlim)\n",
    "ax.set_ylim(*ylim)\n",
    "fig.tight_layout()\n"
   ]
  },
  {
   "cell_type": "markdown",
   "metadata": {},
   "source": [
    "Above, the blue boundary points are obtained by performing calculating for all angle (see [tutorial/numerical-range](../numerical_range) for more details). The black lines are some desired angle at which to calculate the boundary points. The red points are the boundary points obtained by solving the root of a scalar function. One can see that this method also gives the correct boundary points. And if the number of desired angle is not too much, one can anticipate that this method will be more efficient."
   ]
  }
 ],
 "metadata": {
  "kernelspec": {
   "display_name": "Python 3",
   "language": "python",
   "name": "python3"
  },
  "language_info": {
   "codemirror_mode": {
    "name": "ipython",
    "version": 3
   },
   "file_extension": ".py",
   "mimetype": "text/x-python",
   "name": "python",
   "nbconvert_exporter": "python",
   "pygments_lexer": "ipython3",
   "version": "3.11.6"
  }
 },
 "nbformat": 4,
 "nbformat_minor": 2
}
