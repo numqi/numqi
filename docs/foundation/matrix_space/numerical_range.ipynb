{
 "cells": [
  {
   "cell_type": "markdown",
   "metadata": {},
   "source": [
    "# Numerical range\n",
    "\n",
    "<a target=\"_blank\" href=\"https://colab.research.google.com/github/numqi/numqi/blob/main/docs/foundation/matrix_space/numerical_range.ipynb\">\n",
    "  <img src=\"https://colab.research.google.com/assets/colab-badge.svg\" alt=\"Open In Colab\"/>\n",
    "</a>\n",
    "\n",
    "[wiki/Numerical-range](https://en.wikipedia.org/wiki/Numerical_range)\n",
    "\n",
    "Given a complex matrix $A\\in\\mathbb{C}^{d\\times d}$, its numerical range $W(A)\\subset \\mathbb{C}$ is defined as the set\n",
    "\n",
    "$$ W(A)=\\left\\{ x^{\\dagger}Ax:x\\in\\mathbb{C}^{d},\\lVert x\\rVert_{2}=1\\right\\} $$\n",
    "\n",
    "and Hausdorff–Toeplitz theorem proved that the numerical range is convex and compact.\n",
    "\n",
    "Some properties of the numerical range are listed below\n",
    "\n",
    "1. $\\forall \\alpha,\\beta\\in\\mathbb{C}, W(\\alpha I + \\beta F)=\\alpha+\\beta W(F)$\n",
    "2. $\\forall UU^\\dagger=U^\\dagger U=I, W(F)=W(U^\\dagger F U)$\n",
    "3. $W(F^*)=\\{\\lambda^*:\\lambda \\in W(F)\\}$\n",
    "\n",
    "Check \"Numerical Ranges and Applications in Quantum Information\" [link](https://hdl.handle.net/10214/26225) for a detailed introduction."
   ]
  },
  {
   "cell_type": "code",
   "execution_count": null,
   "metadata": {},
   "outputs": [],
   "source": [
    "import numpy as np\n",
    "import matplotlib.pyplot as plt\n",
    "\n",
    "try:\n",
    "    import numqi\n",
    "except ImportError:\n",
    "    %pip install numqi\n",
    "    import numqi\n",
    "\n",
    "np_rng = np.random.default_rng()\n",
    "hf_randc = lambda *x: np_rng.normal(size=x) + 1j*np_rng.normal(size=x)\n"
   ]
  },
  {
   "cell_type": "markdown",
   "metadata": {},
   "source": [
    "## Numerical range of normal matrix\n",
    "\n",
    "We said a matrix $A$ is normal iff $AA^{\\dagger}=A^{\\dagger}A$. And normal matrix is diagonalizable by unitary matrix\n",
    "\n",
    "$$ A=U\\Sigma U^\\dagger $$\n",
    "\n",
    "where $U$ is some unitary matrix and $\\Sigma$ is a diagonal matrix. Two typical kinds of normal matrices are Hermitian matrix and unitary matrix. For the Hermitian matrix, its eigenvalues are real and for the unitary matrix, its eigenvalues are complex with unit modulus.\n",
    "\n",
    "A good property for normal matrix is that its numerical range is the convex hull of its eigenvalues. Below we show this numerically for a random normal matrix."
   ]
  },
  {
   "cell_type": "code",
   "execution_count": null,
   "metadata": {},
   "outputs": [],
   "source": [
    "N0 = 4\n",
    "matU = numqi.random.rand_special_orthogonal_matrix(N0, tag_complex=True)\n",
    "EVL = hf_randc(N0)\n",
    "matA = (matU * EVL) @ matU.T.conj()\n",
    "boundary = numqi.matrix_space.get_matrix_numerical_range(matA, num_point=200)\n",
    "fig,ax = plt.subplots()\n",
    "ax.plot(boundary.real, boundary.imag)\n",
    "ind0 = slice(None,None,5)\n",
    "ax.plot(boundary.real[ind0], boundary.imag[ind0], '.', color='r', markersize=10)\n",
    "ax.plot(EVL.real, EVL.imag, '+')\n",
    "for ind0,x in enumerate(EVL):\n",
    "    ax.text(x.real, x.imag, str(ind0))\n"
   ]
  },
  {
   "cell_type": "markdown",
   "metadata": {},
   "source": [
    "The numerical range denotes the area enclosed by the blue curve and the eigenvalues are the red dots labeled by $0,1,2,3$. One can see that boundary of the numerical range are segments of lines connecting the eigenvalues.\n",
    "\n",
    "Task: think about how should the numerical range of a Hermitian (unitary) matrix look like."
   ]
  },
  {
   "cell_type": "markdown",
   "metadata": {},
   "source": [
    "## Numerical range of abnormal matrix\n",
    "\n",
    "For an abnormal matrix ($AA^\\dagger\\ne A^\\dagger A$), its numerical range can be quite complicated, but still we can compute it numerically.\n",
    "\n",
    "algorithms: for $\\theta\\in[0,2\\pi]$, compute the minimum (maximum) eigenvalue of\n",
    "\n",
    "$$ e^{i\\theta}A+e^{-i\\theta}A^\\dagger $$\n",
    "\n",
    "and the associated eigenvector $v$. Then $v^\\dagger Av$ gives one point on the boundary and the numerical range is the convex hull of these points.\n",
    "\n",
    "Below, we show the numerical range of a random matrix $A$ which is the direct sum of a normal part and abnormal part."
   ]
  },
  {
   "cell_type": "code",
   "execution_count": null,
   "metadata": {},
   "outputs": [],
   "source": [
    "seed = np_rng.integers(0, 2**32-1)\n",
    "np_rng = np.random.default_rng(seed=seed) #1457230309\n",
    "hf_randc = lambda *x: np_rng.normal(size=x) + 1j*np_rng.normal(size=x)\n",
    "N0 = 5\n",
    "N1 = 2\n",
    "matU = numqi.random.rand_special_orthogonal_matrix(N0, tag_complex=True, seed=np_rng)\n",
    "EVL = hf_randc(N1)\n",
    "matIN = hf_randc(N0-N1, N0-N1) #abnormal matrix\n",
    "tmp0 = (matU[:,:N1]*EVL) @ matU[:,:N1].T.conj()\n",
    "tmp1 = matU[:,N1:] @ matIN @ matU[:,N1:].T.conj()\n",
    "matA0 = tmp0*0 + tmp1\n",
    "matA1 = tmp0 + tmp1\n",
    "boundary0 = numqi.matrix_space.get_matrix_numerical_range(matA0, num_point=200)\n",
    "boundary1 = numqi.matrix_space.get_matrix_numerical_range(matA1, num_point=200)\n",
    "\n",
    "fig,ax = plt.subplots()\n",
    "ax.plot(boundary0.real, boundary0.imag, label='NR(abnormal-part of $A$)')\n",
    "ax.plot(boundary1.real, boundary1.imag, label='NR($A$)')\n",
    "ind0 = slice(None,None)\n",
    "ax.plot(boundary1.real[ind0], boundary1.imag[ind0], '.', markersize=10)\n",
    "ax.plot(EVL.real, EVL.imag, '+', label='eigenvalue($A$)')\n",
    "for ind0,x in enumerate(EVL):\n",
    "    ax.text(x.real, x.imag, str(ind0))\n",
    "ax.legend()\n"
   ]
  },
  {
   "cell_type": "markdown",
   "metadata": {},
   "source": [
    "One could still see some pattern of the numerical range of the normal part.\n",
    "\n",
    "*Task*: run the code above again (every time you run it, the matrix $A$ is different) and observe various numerical range.\n",
    "\n",
    "A typical example is the following $2\\times 2$ abnormal matrix from thesis (page-10) \"Numerical Ranges and Applications in Quantum Information\" [link](https://hdl.handle.net/10214/26225)\n",
    "\n",
    "$$ A=\\begin{bmatrix} i&1\\\\0&-i \\end{bmatrix} $$\n",
    "\n",
    "*Task*: can you find out which unit vector (see definition of numerical range) gives the maximum imaginary value of $v^\\dagger Av$?"
   ]
  },
  {
   "cell_type": "code",
   "execution_count": null,
   "metadata": {},
   "outputs": [],
   "source": [
    "matA = np.array([[1j,1], [0,-1j]])\n",
    "# matA = np.array([[0,2], [0,0]])\n",
    "boundary = numqi.matrix_space.get_matrix_numerical_range(matA, num_point=50)\n",
    "fig,ax = plt.subplots()\n",
    "ax.plot(boundary.real, boundary.imag)\n",
    "ind0 = slice(None,None)\n",
    "ax.plot(boundary.real[ind0], boundary.imag[ind0], '.', color='r', markersize=10)\n",
    "ax.set_aspect('equal')\n"
   ]
  },
  {
   "cell_type": "markdown",
   "metadata": {},
   "source": [
    "## Joint algebraic numerical range\n",
    "\n",
    "For a series of matrices $A_1,A_2,\\cdots,A_m\\in\\mathbb{C}^{d\\times d}$, their joint numerical range $W(A_1,\\cdots,A_m)$ is defined as\n",
    "\n",
    "$$ W(A_{1},A_{2},\\cdots,A_{r})=\\left\\{ a\\in\\mathbb{C}^{m}:x\\in\\mathbb{C}^{d},\\lVert x\\rVert_{2}=1,a_{i}=x^{\\dagger}A_{i}x\\right\\} $$\n",
    "\n",
    "and their joint algebraic numerical range (JANR) $L(A_1,\\cdots,A_m)$ is defined as\n",
    "\n",
    "$$ L(A_{1},A_{2},\\cdots,A_{r})=\\left\\{ a\\in\\mathbb{C}^{r}:\\rho\\in\\mathbb{C}^{d\\times d},\\rho\\succeq0,\\mathrm{Tr}[\\rho]=1,a_{i}=\\mathrm{Tr}[A_{i}\\rho]\\right\\} $$\n",
    "\n",
    "Joint numerical range is usually non-convex and is star-shaped when $d$ is large enough. While joint algebraic numerical range is convex and compact.\n",
    "\n",
    "One may notice that $x$ in above equations is simply pure state and $\\rho$ is a density matrix. When the operator $A_i$ all are hermitian, one can interpret $W(A_1,\\cdots,A_m)$ as the set of all possible expectation values for pure state and $L(A_1,\\cdots,A_m)$ as the set of all possible expectation values for mixed state (density matrix).\n",
    "\n",
    "One can solve the boundary of the joint algebraic numerical range by semidefinite programming\n",
    "\n",
    "$$ \\max\\;\\beta $$\n",
    "\n",
    "$$ s.t.\\;\\begin{cases}\n",
    "\\rho\\succeq0\\\\\n",
    "\\mathrm{Tr}[\\rho]=1\\\\\n",
    "\\mathrm{Tr}[\\rho A_{i}]=\\beta\\hat{n}_{i} & i=1,\\cdots,m\n",
    "\\end{cases} $$\n",
    "\n",
    "where $\\beta$ is the distance to the boundary from the origin.\n",
    "\n",
    "A special case is that for two Hermitian operators $m=2$, the joint numerical range coincide with the joint algebraic numerical range, and also with the numerical range of the operator $A_1+iA_2$.\n",
    "\n",
    "Below we are going to reproduce results of the paper \"Discontinuity of maximum entropy inference and quantum phase transitions\" [doi-link](http://dx.doi.org/10.1088/1367-2630/17/8/083019)"
   ]
  },
  {
   "cell_type": "code",
   "execution_count": null,
   "metadata": {},
   "outputs": [],
   "source": [
    "theta_list = np.linspace(0, 2*np.pi, 200)\n",
    "direction = np.stack([np.cos(theta_list), np.sin(theta_list)], axis=1)\n",
    "op0 = np.diag([1,1,-1])\n",
    "op1_list = [\n",
    "    np.array([[1,0,1], [0,1,1], [1,1,-1]]),\n",
    "    np.array([[1,0,1], [0,0,1], [1,1,-1]]),\n",
    "    np.diag([1,0,-1]),\n",
    "]\n",
    "\n",
    "fig,ax_list = plt.subplots(1, 3, figsize=(9,4))\n",
    "for ax,op1 in zip(ax_list,op1_list):\n",
    "    beta_list,op_nr_list,dual_value_list = numqi.matrix_space.get_joint_algebraic_numerical_range([op0,op1], direction, return_info=True)\n",
    "    tmp0 = slice(None, None, 3)\n",
    "    tmp1 = np.angle(dual_value_list[:,0] + 1j*dual_value_list[:,1])\n",
    "    numqi.matrix_space.draw_line_list(ax, op_nr_list[tmp0], tmp1[tmp0], kind='tangent', color='#CCCCCC', radius=1)\n",
    "    ax.plot(op_nr_list[:,0], op_nr_list[:,1])\n",
    "    ax.set_aspect('equal')\n"
   ]
  },
  {
   "cell_type": "markdown",
   "metadata": {},
   "source": [
    "We also plot the supporting plane which is obtained from the dual variable in the semidefinite programming."
   ]
  },
  {
   "cell_type": "code",
   "execution_count": null,
   "metadata": {},
   "outputs": [],
   "source": [
    "fig,ax_list = plt.subplots(1, 3, figsize=(9,4))\n",
    "for ax,op1 in zip(ax_list,op1_list):\n",
    "    boundary0 = numqi.matrix_space.get_matrix_numerical_range(op0+1j*op1, num_point=200)\n",
    "    ax.plot(boundary0.real, boundary0.imag)\n",
    "    ax.set_aspect('equal')\n"
   ]
  },
  {
   "cell_type": "markdown",
   "metadata": {},
   "source": [
    "Obviously, we can get the same boundary from the numerical range of $A_1+iA_2$.\n",
    "\n",
    "Furthermore, we will use this technique to do the entanglement detection."
   ]
  }
 ],
 "metadata": {
  "kernelspec": {
   "display_name": "Python 3",
   "language": "python",
   "name": "python3"
  },
  "language_info": {
   "codemirror_mode": {
    "name": "ipython",
    "version": 3
   },
   "file_extension": ".py",
   "mimetype": "text/x-python",
   "name": "python",
   "nbconvert_exporter": "python",
   "pygments_lexer": "ipython3",
   "version": "3.11.4"
  },
  "orig_nbformat": 4
 },
 "nbformat": 4,
 "nbformat_minor": 2
}
