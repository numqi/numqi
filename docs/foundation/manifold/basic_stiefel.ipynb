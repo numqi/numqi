{
 "cells": [
  {
   "cell_type": "markdown",
   "metadata": {},
   "source": [
    "# Stiefel manifold\n",
    "\n",
    "<a target=\"_blank\" href=\"https://colab.research.google.com/github/numqi/numqi/blob/main/docs/foundation/manifold/basic_stiefel.ipynb\">\n",
    "  <img src=\"https://colab.research.google.com/assets/colab-badge.svg\" alt=\"Open In Colab\"/>\n",
    "</a>\n",
    "\n",
    "This notebook is to reproduce the results of the paper: Riemannian geometry and automatic differentiation for optimization problems of quantum physics and quantum technologies [doi-link](https://doi.org/10.1088/1367-2630/ac0b02)\n",
    "\n",
    "also see paper \"A Global Cayley Parametrization of Stiefel Manifold for Direct Utilization of Optimization Mechanisms Over Vector Spaces\" [doi-link](https://doi.org/10.1109/ICASSP39728.2021.9414157)"
   ]
  },
  {
   "cell_type": "code",
   "execution_count": null,
   "metadata": {},
   "outputs": [],
   "source": [
    "import time\n",
    "import torch\n",
    "import numpy as np\n",
    "import matplotlib.pyplot as plt\n",
    "\n",
    "try:\n",
    "    import numqi\n",
    "except ImportError:\n",
    "    %pip install numqi\n",
    "    import numqi\n",
    "\n",
    "np_rng = np.random.default_rng(234) #fix seed for documentation\n"
   ]
  },
  {
   "cell_type": "code",
   "execution_count": null,
   "metadata": {},
   "outputs": [],
   "source": [
    "class LowEnergySpectrum(torch.nn.Module):\n",
    "    def __init__(self, dim:int, rank:int, method:str='cholesky'):\n",
    "        super().__init__()\n",
    "        self.manifold = numqi.manifold.Stiefel(dim, rank, dtype=torch.complex128, method=method)\n",
    "        self.matH = None\n",
    "\n",
    "    def set_matH(self, matH):\n",
    "        self.matH = torch.tensor(matH, dtype=torch.complex128)\n",
    "\n",
    "    def forward(self):\n",
    "        EVC = self.manifold()\n",
    "        loss = torch.trace(EVC.T.conj() @ self.matH @ EVC).real\n",
    "        return loss\n"
   ]
  },
  {
   "cell_type": "code",
   "execution_count": null,
   "metadata": {},
   "outputs": [],
   "source": [
    "dim = 128\n",
    "rank = 32\n",
    "tmp0 = np_rng.normal(size=(dim,dim)) + 1j*np_rng.normal(size=(dim,dim))\n",
    "matU = np.linalg.eigh(tmp0@tmp0.T.conj())[1]\n",
    "tmp0 = np_rng.uniform(-4, 0, size=dim)\n",
    "EVL = np.exp(tmp0) - np.exp(tmp0.max())\n",
    "matH = (matU * EVL) @ matU.T.conj()\n",
    "\n",
    "method_list = ['so-exp', 'so-cayley', 'qr', 'polar', 'choleskyL']\n",
    "kwargs = dict(maxiter=600, theta0=('uniform',-0.1,0.1), num_repeat=1, tol=1e-16, seed=np_rng)\n",
    "result_dict = dict()\n",
    "for method in method_list:\n",
    "    print(method)\n",
    "    model = LowEnergySpectrum(dim, rank, method=method)\n",
    "    model.set_matH(matH)\n",
    "    callback = numqi.optimize.MinimizeCallback(print_freq=1, tag_print=False)\n",
    "    tmp0 = time.time()\n",
    "    theta_optim = numqi.optimize.minimize(model, callback=callback, **kwargs)\n",
    "    result_dict[method] = np.array(callback.state['fval']), time.time()-tmp0\n",
    "ret_ = np.linalg.eigvalsh(matH)[:rank].sum()\n"
   ]
  },
  {
   "cell_type": "code",
   "execution_count": null,
   "metadata": {},
   "outputs": [],
   "source": [
    "fig,ax = plt.subplots()\n",
    "for method in method_list:\n",
    "    x0,x1 = result_dict[method]\n",
    "    ax.plot(x0-ret_, label=f'{method} ({x1:.2f}s)')\n",
    "ax.set_yscale('log')\n",
    "ax.set_xlabel('iteration')\n",
    "ax.set_ylabel('loss')\n",
    "ax.set_title(f'St({dim},{rank}) manifold')\n",
    "ax.grid()\n",
    "ax.legend()\n",
    "fig.tight_layout()\n"
   ]
  }
 ],
 "metadata": {
  "kernelspec": {
   "display_name": "Python 3",
   "language": "python",
   "name": "python3"
  },
  "language_info": {
   "codemirror_mode": {
    "name": "ipython",
    "version": 3
   },
   "file_extension": ".py",
   "mimetype": "text/x-python",
   "name": "python",
   "nbconvert_exporter": "python",
   "pygments_lexer": "ipython3",
   "version": "3.11.4"
  }
 },
 "nbformat": 4,
 "nbformat_minor": 2
}
