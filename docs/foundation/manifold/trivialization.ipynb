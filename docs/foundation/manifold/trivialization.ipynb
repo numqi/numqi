{
 "cells": [
  {
   "cell_type": "markdown",
   "metadata": {},
   "source": [
    "# Trivialization\n",
    "\n",
    "<a target=\"_blank\" href=\"https://colab.research.google.com/github/numqi/numqi/blob/main/docs/foundation/manifold/trivialization.ipynb\">\n",
    "  <img src=\"https://colab.research.google.com/assets/colab-badge.svg\" alt=\"Open In Colab\"/>\n",
    "</a>\n",
    "\n",
    "[arxiv-link](https://arxiv.org/abs/1909.09501) Trivializations for Gradient-Based Optimization on Manifolds\n",
    "\n",
    "[arxiv-link](https://arxiv.org/abs/2203.04794) Geometric Optimisation on Manifolds with Applications to Deep Learning\n",
    "\n",
    "**Trivialization**: given a manifold $\\mathcal{M}$, trivialization is defined as a surjective map from the Euclidean space onto the manifold:\n",
    "\n",
    "$$ \\phi:\\mathbb{R}^n\\to \\mathcal{M} $$\n",
    "\n",
    "A constrained optimization problem over some manifold $\\mathcal{M}$\n",
    "\n",
    "$$ \\min_{x\\in\\mathcal{M}} f(x) $$\n",
    "\n",
    "can be converted to an unconstrained optimization problem via a trivialization:\n",
    "\n",
    "$$ \\min_{\\theta\\in\\mathbb{R}^n} f(\\phi(\\theta)) $$\n",
    "\n",
    "In this notebook, we will list some common manifolds and their trivializations."
   ]
  },
  {
   "cell_type": "markdown",
   "metadata": {},
   "source": [
    "## Math notation\n",
    "\n",
    "1. $\\mathbb{R}$: real number\n",
    "2. $\\mathbb{R}_+$: real positive number\n",
    "3. $\\mathbb{R}^d$: $d$-dimensional real vector\n",
    "4. $x\\in\\mathbb{R}^d,x> 0$: $x$ is a $d$-dimensional real vector and all elements are positive\n",
    "5. $x\\in\\mathbb{R}^{d},x\\succeq 0$: $x$ is a $d$-dimensional real vector and all elements are non-negative\n",
    "6. $\\mathbb{R}^{m\\times n}$: $m\\times n$ real matrix\n",
    "7. $\\mathbb{R}^{m\\times m},x\\succ 0$: $m\\times m$ real definite positive matrix (all eigenvalues are positive)\n",
    "8. $\\mathbb{R}^{m\\times m},x\\succeq 0$: $m\\times m$ real semi-definite positive matrix (all eigenvalues are non-negative)"
   ]
  },
  {
   "cell_type": "code",
   "execution_count": null,
   "metadata": {},
   "outputs": [],
   "source": [
    "import numpy as np\n",
    "import torch\n",
    "\n",
    "try:\n",
    "    import numqi\n",
    "except ImportError:\n",
    "    %pip install numqi\n",
    "    import numqi\n"
   ]
  },
  {
   "cell_type": "markdown",
   "metadata": {},
   "source": [
    "## Positive real number\n",
    "\n",
    "$$ \\mathbb{R}_+ = \\{x\\in\\mathbb{R}:x>0\\} $$\n",
    "\n",
    "One trivialization is the SoftPlus function:\n",
    "\n",
    "$$ \\phi(\\theta) = \\log(1+\\exp(\\theta)):\\mathbb{R}\\to\\mathbb{R}_+ $$\n",
    "\n",
    "Another trivialization is the Exponential function:\n",
    "\n",
    "$$ \\phi(\\theta) = \\exp(\\theta):\\mathbb{R}\\to\\mathbb{R}_+ $$"
   ]
  },
  {
   "cell_type": "code",
   "execution_count": null,
   "metadata": {},
   "outputs": [],
   "source": [
    "manifold = numqi.manifold.PositiveReal(batch_size=5, method='softplus')\n",
    "point = manifold().detach().numpy() #random point\n",
    "print('softplus:', point)\n",
    "\n",
    "manifold = numqi.manifold.PositiveReal(batch_size=5, method='exp')\n",
    "point = manifold().detach().numpy() #random point\n",
    "print('exp:', point)"
   ]
  },
  {
   "cell_type": "markdown",
   "metadata": {},
   "source": [
    "## Discrete Probability Simplex\n",
    "\n",
    "$$ \\Delta^{n-1}_+ = \\{x\\in\\mathbb{R}^n:x_i>0,x_1+x_2+\\cdots +x_n = 1\\} $$\n",
    "\n",
    "\n",
    "Trivialization can be composed: Let $g$ be any trivialization map of $\\mathcal{R}_+$, then\n",
    "\n",
    "$$ \\phi(\\theta)=(x_1,x_2,\\cdots,x_n):\\mathrm{dom}(g)^n\\to\\Delta_+^{n-1} $$\n",
    "\n",
    "wth\n",
    "\n",
    "$$ x_i = \\frac{g(\\theta_i)}{\\sum_j g(\\theta_j)} $$\n",
    "\n",
    "gives a trivialization of $\\Delta_+^{n-1}$. Specifically, the SoftMax function corresponds to $g(\\theta) = \\exp(\\theta)$."
   ]
  },
  {
   "cell_type": "code",
   "execution_count": null,
   "metadata": {},
   "outputs": [],
   "source": [
    "manifold = numqi.manifold.DiscreteProbability(5)\n",
    "point = manifold().detach().numpy()\n",
    "print('point:', point)\n",
    "print('sum(point):', np.sum(point))"
   ]
  },
  {
   "cell_type": "markdown",
   "metadata": {},
   "source": [
    "## Sphere\n",
    "\n",
    "[wiki-link](https://en.wikipedia.org/wiki/N-sphere)\n",
    "\n",
    "The sphere $S^n$ is defined as\n",
    "\n",
    "$$ S^n = \\{x\\in\\mathbb{R}^{n+1}:\\lVert x\\rVert_2=1\\} $$\n",
    "\n",
    "The following quotient map is a trivialization of the sphere:\n",
    "\n",
    "$$\\phi(\\theta)=\\frac{\\theta}{\\lVert \\theta\\rVert}: \\mathbb{R}^{n+1}\\to S^n$$\n",
    "\n",
    "*PS*: the origin point is divergent in the trivialization, so we should be careful in initialization. We just hope the optimization will not jump to the origin, and if that happens, we should reinitialize the optimization. (such cases seem rare if random initialization is used)."
   ]
  },
  {
   "cell_type": "code",
   "execution_count": null,
   "metadata": {},
   "outputs": [],
   "source": [
    "dim = 5\n",
    "manifold = numqi.manifold.Sphere(dim, method='quotient')\n",
    "point = manifold().detach().numpy()\n",
    "print('point:', point)\n",
    "print('norm:', np.linalg.norm(point))"
   ]
  },
  {
   "cell_type": "markdown",
   "metadata": {},
   "source": [
    "## Stiefel Manifold\n",
    "\n",
    "[wiki-link](https://en.wikipedia.org/wiki/Stiefel_manifold)\n",
    "\n",
    "The Stiefel manifold $\\mathrm{St}(n,r)$ is defined as\n",
    "\n",
    "$$ \\mathrm{St}(n,r) = \\{X\\in\\mathbb{R}^{n\\times r}:X^TX=I_r\\} $$\n",
    "\n",
    "QR decomposition is a trivialization of the Stiefel manifold:\n",
    "\n",
    "$$ \\phi(\\theta)=Q: \\mathbb{R}^{n\\times r}\\to \\mathrm{St}(n,r) $$\n",
    "\n",
    "where $\\theta=QR$ is the QR decomposition of $X$, and $Q$ is an orthogonal matrix.\n",
    "\n",
    "PS: if the rank of matrix $X$ is smaller than $r$, then the QR decomposition will fail. Still, nothing we can do except hoping the optimization will not jump this singular point or reinitializing the optimization (such cases seem rare if random initialization is used).\n",
    "\n",
    "TODO [doi-link](https://doi.org/10.1109/ICASSP39728.2021.9414157) A Global Cayley Parametrization of Stiefel Manifold for Direct Utilization of Optimization Mechanisms Over Vector Spaces"
   ]
  },
  {
   "cell_type": "code",
   "execution_count": null,
   "metadata": {},
   "outputs": [],
   "source": [
    "manifold = numqi.manifold.Stiefel(dim=5, rank=3, method='qr')\n",
    "point = manifold().detach().numpy()\n",
    "print('point:', point, sep='\\n')\n",
    "print('\\nX^T X:', point.T @ point, sep='\\n')"
   ]
  },
  {
   "cell_type": "markdown",
   "metadata": {},
   "source": [
    "## Symmetric and Hermitian Matrices\n",
    "\n",
    "[wiki-link/symmetric-matrix](https://en.wikipedia.org/wiki/Symmetric_matrix)\n",
    "\n",
    "[wiki-link/Hermitian-matrix](https://en.wikipedia.org/wiki/Hermitian_matrix)\n",
    "\n",
    "The set of symmetric matrices $\\mathrm{Sym}^n$ is defined as\n",
    "\n",
    "$$ \\mathrm{Sym}^n = \\{X\\in\\mathbb{R}^{n\\times n}:X=X^T\\} $$\n",
    "\n",
    "The set of Hermitian matrices $\\mathrm{Herm}^n$ is defined as\n",
    "\n",
    "$$ \\mathrm{Herm}^n = \\{X\\in\\mathbb{C}^{n\\times n}:X=X^\\dagger\\} $$\n",
    "\n",
    "Both of them are vector spaces and we can find their basis $\\{E_i\\}$. E.g., For Hermitian matrix, the basis is Gell-Mann matrices (see [tutorial/gellmann](../../gellmann)) and the identity matrix. The trivialization is just the vectorization of the matrix:\n",
    "\n",
    "$$\\phi(\\theta)=\\sum_i\\theta_iE_i $$"
   ]
  },
  {
   "cell_type": "code",
   "execution_count": null,
   "metadata": {},
   "outputs": [],
   "source": [
    "manifold_sym = numqi.manifold.SymmetricMatrix(3)\n",
    "point = manifold_sym().detach().numpy()\n",
    "print('point:', point, sep='\\n')"
   ]
  },
  {
   "cell_type": "code",
   "execution_count": null,
   "metadata": {},
   "outputs": [],
   "source": [
    "manifold_herm = numqi.manifold.SymmetricMatrix(3, dtype=torch.complex128)\n",
    "point = manifold_herm().detach().numpy()\n",
    "print('point:', point, sep='\\n')"
   ]
  },
  {
   "cell_type": "markdown",
   "metadata": {},
   "source": [
    "## Rank-$r$ Positive Semi-Definite Matrices\n",
    "\n",
    "The set of real rank-$r$ positive semi-definite matrices $\\mathrm{PSD}^n_r$ is defined as\n",
    "\n",
    "$$ \\mathrm{Sym}^{(n,r)}_+ = \\{X\\in\\mathbb{R}^{n\\times n}:X\\succeq 0,\\mathrm{rank}(X)=r\\} $$\n",
    "\n",
    "To make it bounded, `numqi` adds a constraint that the trace of the matrix is 1. The trivialization is the reverse of Cholesky decomposition:\n",
    "\n",
    "$$ \\phi(\\theta)=g(\\theta)g(\\theta)^T: \\mathrm{dom}(g)\\to \\mathrm{Sym}^{(n,r)}_+ $$\n",
    "\n",
    "where $g$ is a trivialization map of the lower triangular matrix $\\mathrm{image}(g)=L^{(n,r)}_+$\n",
    "\n",
    "$$ L^{(n,r)}_+=\\{X\\in\\mathbb{R}^{n\\times r}: X_{ii}>0,X_{ij,j>i}=0\\}$$"
   ]
  },
  {
   "cell_type": "code",
   "execution_count": null,
   "metadata": {},
   "outputs": [],
   "source": [
    "manifold = numqi.manifold.Trace1PSD(dim=4, rank=2, method='cholesky')\n",
    "point = manifold().detach().numpy()\n",
    "print(point)\n",
    "print('eigenvalue:', np.linalg.eigvalsh(point)) #eigenvalues are positive (up to machine precision)\n",
    "print('trace(point):', np.trace(point))\n"
   ]
  },
  {
   "cell_type": "markdown",
   "metadata": {},
   "source": [
    "Similarly, we can define the set of trace-1 complex rank-$r$ positive semi-definite matrices $\\mathrm{PSD}^n_r$\n",
    "\n",
    "$$ \\mathrm{Herm}^{(n,r)}_+ = \\{X\\in\\mathbb{C}^{n\\times n}:X\\succeq 0,\\mathrm{rank}(X)=r,\\mathrm{trace}(X)=1\\} $$"
   ]
  },
  {
   "cell_type": "code",
   "execution_count": null,
   "metadata": {},
   "outputs": [],
   "source": [
    "manifold = numqi.manifold.Trace1PSD(dim=3, rank=2, method='cholesky', dtype=torch.complex128)\n",
    "point = manifold().detach().numpy()\n",
    "print(point)\n",
    "print('eigenvalue:', np.linalg.eigvalsh(point))\n",
    "print('trace(point):', np.trace(point))"
   ]
  },
  {
   "cell_type": "markdown",
   "metadata": {},
   "source": [
    "## Special Orthogonal Group\n",
    "\n",
    "[wiki/orthogonal-group](https://en.wikipedia.org/wiki/Orthogonal_group)\n",
    "\n",
    "The special orthogonal group $\\mathrm{SO}(n)$ is defined as\n",
    "\n",
    "$$ \\mathrm{SO}(n) = \\{X\\in\\mathbb{R}^{n\\times n}:X^TX=I_n,\\det(X)=1\\} $$\n",
    "\n",
    "The trivialization can be Cayley transform [wiki-link](https://en.wikipedia.org/wiki/Cayley_transform) or [matrix exponential](https://en.wikipedia.org/wiki/Matrix_exponential).\n",
    "\n",
    "Similarly, for special unitary group $\\mathrm{SU}(n)$\n",
    "\n",
    "$$ \\mathrm{SU}(n) = \\{X\\in\\mathbb{C}^{n\\times n}:X^\\dagger X=I_n,\\det(X)=1\\} $$"
   ]
  },
  {
   "cell_type": "code",
   "execution_count": null,
   "metadata": {},
   "outputs": [],
   "source": [
    "manifold_so = numqi.manifold.SpecialOrthogonal(dim=4)\n",
    "point = manifold_so().detach().numpy()\n",
    "print('point:', point, sep='\\n')\n",
    "print('point.T @ point:', point.T @ point, sep='\\n')"
   ]
  },
  {
   "cell_type": "code",
   "execution_count": null,
   "metadata": {},
   "outputs": [],
   "source": [
    "manifold_su = numqi.manifold.SpecialOrthogonal(dim=3, dtype=torch.complex128)\n",
    "point = manifold_su().detach().numpy()\n",
    "print('point:', point, sep='\\n')\n",
    "print('point.H @ point:', point.T.conj() @ point, sep='\\n')"
   ]
  },
  {
   "cell_type": "markdown",
   "metadata": {},
   "source": [
    "## Connection with Quantum Information\n",
    "\n",
    "TODO\n",
    "\n",
    "1. pure quantum states\n",
    "2. Hamiltonian\n",
    "3. density matrix\n",
    "4. quantum gate\n",
    "5. quantum channel\n"
   ]
  },
  {
   "cell_type": "code",
   "execution_count": null,
   "metadata": {},
   "outputs": [],
   "source": [
    "fig,ax = numqi.manifold.plot_qobject_trivialization_map()"
   ]
  },
  {
   "cell_type": "code",
   "execution_count": null,
   "metadata": {},
   "outputs": [],
   "source": [
    "fig,ax = numqi.manifold.plot.plot_cha_trivialization_map()"
   ]
  },
  {
   "cell_type": "code",
   "execution_count": null,
   "metadata": {},
   "outputs": [],
   "source": [
    "fig,ax = numqi.manifold.plot.plot_tensor_rank_sigmar_trivialization_map()"
   ]
  },
  {
   "cell_type": "code",
   "execution_count": null,
   "metadata": {},
   "outputs": [],
   "source": [
    "fig,ax = numqi.manifold.plot.plot_pureb_trivialization_map()"
   ]
  },
  {
   "cell_type": "code",
   "execution_count": null,
   "metadata": {},
   "outputs": [],
   "source": [
    "fig,ax = numqi.manifold.plot.plot_uda_trivialization_map()"
   ]
  },
  {
   "cell_type": "code",
   "execution_count": null,
   "metadata": {},
   "outputs": [],
   "source": [
    "fig,ax = numqi.manifold.plot.plot_udp_trivialization_map()"
   ]
  }
 ],
 "metadata": {
  "kernelspec": {
   "display_name": "Python 3",
   "language": "python",
   "name": "python3"
  },
  "language_info": {
   "codemirror_mode": {
    "name": "ipython",
    "version": 3
   },
   "file_extension": ".py",
   "mimetype": "text/x-python",
   "name": "python",
   "nbconvert_exporter": "python",
   "pygments_lexer": "ipython3",
   "version": "3.11.4"
  }
 },
 "nbformat": 4,
 "nbformat_minor": 2
}
