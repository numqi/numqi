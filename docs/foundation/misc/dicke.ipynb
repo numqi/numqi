{
 "cells": [
  {
   "cell_type": "markdown",
   "metadata": {},
   "source": [
    "# Dicke basis\n",
    "\n",
    "<a target=\"_blank\" href=\"https://colab.research.google.com/github/numqi/numqi/blob/main/docs/foundation/misc/dicke.ipynb\">\n",
    "  <img src=\"https://colab.research.google.com/assets/colab-badge.svg\" alt=\"Open In Colab\"/>\n",
    "</a>\n",
    "\n",
    "See paper \"Deterministic Preparation of Dicke States\" [arxiv-link](http://arxiv.org/abs/1904.07358) for details.\n",
    "\n",
    "Dicke basis is a basis for symmetric subspace. A more well-known name is the basis for Bosons. They are useful in quantum entanglement detection and quantum many-body physics.\n",
    "\n",
    "TODO, the strucutre of this tutorial"
   ]
  },
  {
   "cell_type": "code",
   "execution_count": null,
   "metadata": {},
   "outputs": [],
   "source": [
    "import numpy as np\n",
    "\n",
    "try:\n",
    "    import numqi\n",
    "except ImportError:\n",
    "    %pip install numqi\n",
    "    import numqi\n"
   ]
  },
  {
   "cell_type": "markdown",
   "metadata": {},
   "source": [
    "## Qubit case\n",
    "\n",
    "For $2$ qubits, the Dicke basis are just three of the Bell states:\n",
    "\n",
    "$$ \\left\\{ |00\\rangle,|01\\rangle+|10\\rangle, |11\\rangle \\right\\} $$\n",
    "\n",
    "where we omit the normalization factor for simplicity. One should notice that exchanging two qubits will not change the basis, so it's call symmetrical basis. The only left Bell state $(|01\\rangle-|10\\rangle)$ is in the Fermionic subspace which is orthogonal to the Bosonic subspace (space spanned by Dicke basis). "
   ]
  },
  {
   "cell_type": "code",
   "execution_count": null,
   "metadata": {},
   "outputs": [],
   "source": [
    "basis_2_2 = numqi.dicke.get_dicke_basis(num_qudit=2, dim=2)\n",
    "print(f'Dicke-basis(2,2):\\n{basis_2_2}')\n",
    "\n",
    "# exchange 2 qubits\n",
    "basis_2_2_exchange = basis_2_2.reshape(-1, 2, 2).transpose(0,2,1).reshape(-1, 4)\n",
    "print(f'Dicke-basis(2,2) exchange q0 and q1:\\n{basis_2_2_exchange}')\n"
   ]
  },
  {
   "cell_type": "markdown",
   "metadata": {},
   "source": [
    "As printout, the basis remains the same after exchanging two qubits. In math, we can write it as:\n",
    "\n",
    "$$ P_{12} |\\psi\\rangle=|\\psi\\rangle $$\n",
    "\n",
    "where $P_{12}$ denotes the permutation operator exchanging the first and the seconds qubits, and $|\\psi\\rangle$ is any state in the Dicke basis.\n",
    "\n",
    "More generally, think about $n$ qubits, there are $n+1$ Dicke states which we can label them by the number of $1$ in the bitstring\n",
    "\n",
    "$$ \\left|D_{n,k_0k_1}\\right\\rangle =\\left(\\frac{n!}{k_{0}!k_{1}!}\\right)^{-1/2}\\sum_{wt_{i}\\left(x\\right)=k_{i}}\\left|x\\right\\rangle $$\n",
    "\n",
    "where $k_0$ is the number of the zero in the bitstring, and $k_1$ counts the number of $1$ in the bitstring. We use $wt_i(x)$ for the nubmer of the character $i$ in the bitstring $x$. For example, $wt_1(01010)=2$. In this notation, the Dicke basis for $2$ qubits can be re-written as:\n",
    "\n",
    "$$ \\left|D_{2,20}\\right\\rangle =\\left|00\\right\\rangle ,\\sqrt{2}\\left|D_{2,11}\\right\\rangle =\\left|01\\right\\rangle +\\left|10\\right\\rangle ,\\left|D_{2,02}\\right\\rangle =\\left|11\\right\\rangle $$\n",
    "\n",
    "Below, let's check the Dicke basis for $3$ qubits."
   ]
  },
  {
   "cell_type": "code",
   "execution_count": null,
   "metadata": {},
   "outputs": [],
   "source": [
    "basis_3_2 = numqi.dicke.get_dicke_basis(num_qudit=3, dim=2)\n",
    "print('Dicke-basis(3,2):')\n",
    "for x in basis_3_2:\n",
    "    print(x.tolist())\n"
   ]
  },
  {
   "cell_type": "markdown",
   "metadata": {},
   "source": [
    "## Qudit case\n",
    "\n",
    "For $n$ qudits with local dimension $d$, the Dicke basis are defined as:\n",
    "\n",
    "$$ \\left|D_{n,\\vec{k}}\\right\\rangle =\\left(\\frac{n!}{k_{0}!k_{1}!\\cdots k_{d-1}!}\\right)^{-1/2}\\sum_{wt_{i}\\left(x\\right)=k_{i}}\\left|x\\right\\rangle $$\n",
    "\n",
    "where we need a vector $\\vec{k}$ of length $d$ to count the number of characters $i$ in the bitstring $x$. For example, $\\vec{k}=(2,1,0)$ means the bitstring has two $0$, one $1$ and zero $2$. The number of Dicke states is given by $\\binom{n+d-1}{d-1}$. The dimensions for some specific values are listed below\n",
    "\n",
    "| $n$ | 8 | 16 | 32 | 64 | 128 |\n",
    "| :-: | :-: | :-: | :-: | :-: | :-: |\n",
    "| $d=3$ | 45 | 153 | 561 | 2145 | 8384 |\n",
    "| $d=4$ | 165 | 969 | 6545 | 47905 | 366145 |\n",
    "| $d=5$ | 495 | 4845 | 58904 | 814385 | 12082785 |\n",
    "\n",
    "Mathematically, one can say that the Dicke basis has permutation symmetry\n",
    "\n",
    "$$ P_{rs} \\psi=\\psi,\\forall r,s=1,2,\\cdots,n $$\n",
    "\n",
    "where $P_{rs}$ denotes the permutation operator exchanging the $r$-th and the $s$-th qudits, and $\\psi$ is any state in the Dicke basis. If take $\\psi$ as a high-dimensioanl array (tensor), it's equivalent to say\n",
    "\n",
    "$$ \\left[P_{rs}\\psi\\right]_{i_{1}\\cdots i_{r-1}i_{r}i_{r+1}\\cdots i_{s-1}i_{s}i_{s+1}\\cdots i_{n}}=\\psi_{i_{1}\\cdots i_{r-1}i_{s}i_{r+1}\\cdots i_{s-1}i_{r}i_{s+1}\\cdots i_{n}} $$\n",
    "\n",
    "The Dicke basis is orthogonal to each other and all real (no imaginary part).\n",
    "\n",
    "$$ \\left\\langle D_{n,\\vec{k}'}\\right.\\left|D_{n,\\vec{k}}\\right\\rangle =\\delta_{\\vec{k}\\vec{k}'} $$\n",
    "\n",
    "We can numerically verify its orthogonality by comparing the inner product of them with the the identity matrix."
   ]
  },
  {
   "cell_type": "code",
   "execution_count": null,
   "metadata": {},
   "outputs": [],
   "source": [
    "num_qudit = 5\n",
    "dim = 3\n",
    "\n",
    "basis = numqi.dicke.get_dicke_basis(num_qudit=num_qudit, dim=dim)\n",
    "print(f'Dicke-basis({num_qudit},{dim}) shape: {basis.shape}')\n",
    "\n",
    "## orthonormality\n",
    "print(np.abs(basis @ basis.T - np.eye(basis.shape[0])).max())\n"
   ]
  },
  {
   "cell_type": "markdown",
   "metadata": {},
   "source": [
    "## Partial trace\n",
    "\n",
    "When doing Bosonic extension in entaglement detection task, it's common to take partial trace of Dicke states. For example, given a pure state $|\\psi_{AB^n}\\rangle$ in (k+1) partite Hilbert space $A,B_0,B_1,B_2,\\cdots,B_{k-1}$ and it's symmetric in $B_i$s' subspace\n",
    "\n",
    "$$ P_{B_rB_s}|\\psi_{AB^n}\\rangle=|\\psi_{AB^n}\\rangle $$\n",
    "\n",
    "So we can write it in Dicke basis\n",
    "\n",
    "$$ |\\psi_{AB^{n}}\\rangle=\\sum_{i\\vec{k}}p_{i\\vec{k}}|i\\rangle\\otimes|D_{n,\\vec{k}}\\rangle $$\n",
    "\n",
    "with $|i\\rangle$ belongs to $A$'s Hilbert space. Then its reduced density matrix of $AB$ is\n",
    "\n",
    "$$ \\mathrm{Tr}_{B^{n-1}}\\left[|\\psi_{AB^{n}}\\rangle\\left\\langle \\psi_{AB^{n}}\\right|\\right]=\\sum_{ij\\vec{k}\\vec{k}'}p_{i\\vec{k}}p_{j\\vec{k}'}^{*}\\mathcal{B}_{rs\\vec{k}\\vec{k}'}|ir\\rangle\\left\\langle js\\right| $$\n",
    "\n",
    "with $|r \\rangle,|s\\rangle$ belongs to $B_i$'s Hilbert space. The $\\mathcal{B}_{rs\\vec{k}\\vec{k}'}$ can be calculated by\n",
    "\n",
    "$$ \\begin{aligned} \\mathcal{B}_{rs\\vec{k}\\vec{k}'}&=\\left\\langle r\\right|\\mathrm{Tr}_{B^{n-1}}\\left[\\left|D_{n,\\vec{k}}\\right\\rangle \\left\\langle D_{n,\\vec{k}'}\\right|\\right]\\left|s\\right\\rangle \\\\&=\\frac{1}{n}\\sqrt{k_{r}k_{s}^{\\prime}}\\delta_{k_{0}k_{0}^{\\prime}}\\cdots\\delta_{k_{r}-1,k_{r}^{\\prime}}\\cdots\\delta_{k_{s}+1,k_{s}^{\\prime}}\\cdots\\delta_{k_{d-1},k_{d-1}^{\\prime}} \\end{aligned} $$\n",
    "\n",
    "For $n$ qubits, the tensor $\\mathcal{B}$ can be explicitly written down.\n",
    "\n",
    "$$ |D_{n,0}\\rangle=|D_{n,0n}\\rangle=|1^{\\otimes n}\\rangle,|D_{n,n}\\rangle=|D_{n,n0}\\rangle=|0^{\\otimes n}\\rangle $$\n",
    "\n",
    "$$ n\\mathcal{B}_{00,\\alpha\\beta}=\\alpha\\delta_{\\alpha\\beta},n\\mathcal{B}_{11,\\alpha\\beta}=\\left(n-\\alpha\\right)\\delta_{\\alpha\\beta},n\\mathcal{B}_{01,\\alpha\\beta}=n\\mathcal{B}_{10,\\beta\\alpha}=\\sqrt{\\left(\\alpha+1\\right)\\left(n-\\alpha\\right)}\\delta_{\\alpha+1,\\beta} $$\n"
   ]
  },
  {
   "cell_type": "code",
   "execution_count": null,
   "metadata": {},
   "outputs": [],
   "source": [
    "num_qudit = 3\n",
    "dim = 2\n",
    "Brsab = numqi.dicke.get_partial_trace_ABk_to_AB_index(num_qudit, dim, return_tensor=True)\n",
    "print('B_{00 alpha beta}:')\n",
    "print(Brsab[0,0])\n",
    "print('B_{01 alpha beta}:')\n",
    "print(Brsab[0,1])\n",
    "print('B_{10 alpha beta}:')\n",
    "print(Brsab[1,0])\n",
    "print('B_{11 alpha beta}:')\n",
    "print(Brsab[1,1])\n"
   ]
  },
  {
   "cell_type": "code",
   "execution_count": null,
   "metadata": {},
   "outputs": [],
   "source": [
    "num_qudit = 8\n",
    "dim = 3\n",
    "Brsab = numqi.dicke.get_partial_trace_ABk_to_AB_index(num_qudit, dim, return_tensor=True)\n",
    "print('Brsab.shape:', Brsab.shape)\n"
   ]
  },
  {
   "cell_type": "markdown",
   "metadata": {},
   "source": [
    "## Quantum gates in qubit symmetric subspace\n",
    "\n",
    "This part can be used in variational quantum circuit. The following results are obtained numerically and it **seems** to be correct.\n",
    "\n",
    "### X-rotation gate\n",
    "\n",
    "$$ R_{x}\\left(\\theta\\right)=e^{-i\\sigma_{x}/2} $$\n",
    "\n",
    "$$ \\langle D_{n,\\alpha}|\\bigotimes_{i=0}^{n-1}R_{x}^{\\left(i\\right)}\\left(\\theta\\right)|D_{n,\\beta}\\rangle=\\left[\\mathrm{e}^{-iA^{\\left(n\\right)}\\theta/2}\\right]_{\\alpha\\beta} $$\n",
    "\n",
    "$$ A^{\\left(1\\right)}=\\sigma_{x} $$\n",
    "\n",
    "$$ A^{\\left(2\\right)}=\\sqrt{2}\\left[\\begin{matrix} & 1\\\\\n",
    "1 &  & 1\\\\\n",
    " & 1\n",
    "\\end{matrix}\\right] $$\n",
    "\n",
    "$$ A^{\\left(3\\right)}=\\left[\\begin{matrix} & \\sqrt{3}\\\\\n",
    "\\sqrt{3} &  & \\sqrt{4}\\\\\n",
    " & \\sqrt{4} &  & \\sqrt{3}\\\\\n",
    " &  & \\sqrt{3}\n",
    "\\end{matrix}\\right] $$\n",
    "\n",
    "$$ \\left[A^{\\left(n\\right)}\\right]_{ij}=\\delta_{i,j+1}\\sqrt{j\\left(n-j\\right)}+\\delta_{i+1,j}\\sqrt{i\\left(n-i\\right)} $$\n",
    "\n",
    "### Z-rotation gate\n",
    "\n",
    "$$ R_{z}\\left(\\theta\\right)=e^{-i\\sigma_{z}/2} $$\n",
    "\n",
    "$$ \\langle D_{n,\\alpha}|\\bigotimes_{i=0}^{n-1}R_{z}^{\\left(i\\right)}\\left(\\theta\\right)|D_{n,\\beta}\\rangle=\\left[\\mathrm{e}^{-iB^{\\left(n\\right)}\\theta/2}\\right]_{\\alpha\\beta} $$\n",
    "\n",
    "$$ B^{\\left(1\\right)}=\\sigma_{z}=\\mathrm{diag}\\left\\{ 1,-1\\right\\}  $$\n",
    "\n",
    "$$ B^{\\left(2\\right)}=\\mathrm{diag}\\left\\{ 2,0,-2\\right\\} $$\n",
    "\n",
    "$$ B^{\\left(3\\right)}=\\mathrm{diag}\\left\\{ 3,1,-1,3\\right\\} $$\n",
    "\n",
    "$$ \\left[B^{\\left(n\\right)}\\right]_{ij}=\\delta_{ij}\\left(n+2-2i\\right) $$\n",
    "\n",
    "### ZZ double qubit rotation gate\n",
    "\n",
    "$$ R_{zz}^{\\left(ij\\right)}\\left(\\theta\\right)=e^{-i\\sigma_{z}^{\\left(i\\right)}\\sigma_{z}^{\\left(j\\right)}/2} $$\n",
    "\n",
    "$$ \\bigotimes_{i=0}^{n-1}R_{zz}^{\\left(AB_{i}\\right)}\\left(\\theta\\right)\\in\\mathbb{C}^{2^{n+1}\\times2^{n+1}} $$\n",
    "\n",
    "$$ \\langle x,D_{n,\\alpha}|\\bigotimes_{i=0}^{n-1}R_{zz}^{\\left(AB_{i}\\right)}\\left(\\theta\\right)|y,D_{n,\\beta}\\rangle=\\left[\\mathrm{e}^{-iC^{\\left(n\\right)}\\theta/2}\\right]_{xk,\\alpha\\beta} $$\n",
    "\n",
    "$$ C^{\\left(n\\right)}=\\sigma_{z}\\otimes B^{\\left(n\\right)} $$"
   ]
  },
  {
   "cell_type": "markdown",
   "metadata": {},
   "source": []
  }
 ],
 "metadata": {
  "kernelspec": {
   "display_name": "Python 3",
   "language": "python",
   "name": "python3"
  },
  "language_info": {
   "codemirror_mode": {
    "name": "ipython",
    "version": 3
   },
   "file_extension": ".py",
   "mimetype": "text/x-python",
   "name": "python",
   "nbconvert_exporter": "python",
   "pygments_lexer": "ipython3",
   "version": "3.11.6"
  }
 },
 "nbformat": 4,
 "nbformat_minor": 2
}
