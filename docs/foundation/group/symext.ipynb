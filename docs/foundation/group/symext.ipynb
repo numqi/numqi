{
 "cells": [
  {
   "cell_type": "markdown",
   "metadata": {},
   "source": [
    "# k-Symmetric density matrix\n",
    "\n",
    "<a target=\"_blank\" href=\"https://colab.research.google.com/github/numqi/numqi/blob/main/docs/foundation/group/symext.ipynb\">\n",
    "  <img src=\"https://colab.research.google.com/assets/colab-badge.svg\" alt=\"Open In Colab\"/>\n",
    "</a>\n",
    "\n",
    "This notebooks demonstrate algorithm in the paper\n",
    "\n",
    "Tapping into Permutation Symmetry for Improved Detection of k-Symmetric Extensions [doi-link](https://doi.org/10.3390/e25101425)\n",
    "\n",
    "For systems $B_1,B_2,\\cdots,B_k$ each of dimension $d$, if the density matirx $\\rho\\in(\\mathcal{H}^d)^{\\otimes k}$ is symmetric with respect to the permutation group $S_k$, which means $\\rho$ is invariant under any permutation of the subsystems:\n",
    "\n",
    "$$ P_{B_iB_j} \\rho P_{B_iB_j}=\\rho $$\n",
    "\n",
    "above, $P_{B_iB_j}$ is the permutation operator that swaps the $i$-th and $j$-th subsystems.\n",
    "\n",
    "Then, the density matrix can be written as a direct sum of irreducible representations of the permutation group (TODO-formula):\n",
    "\n",
    "$$ \\rho = \\oplus_\\lambda \\rho_{\\lambda} $$\n",
    "\n",
    "In other words, the density matrix can be block-diagonalized by the permutation group.\n",
    "\n",
    "TODO\n",
    "\n",
    "1. how to write these basis\n",
    "2. how to find these irrep basis"
   ]
  },
  {
   "cell_type": "code",
   "execution_count": null,
   "metadata": {},
   "outputs": [],
   "source": [
    "import time\n",
    "import numpy as np\n",
    "import matplotlib.pyplot as plt\n",
    "\n",
    "try:\n",
    "    import numqi\n",
    "except ImportError:\n",
    "    %pip install numqi\n",
    "    import numqi\n"
   ]
  },
  {
   "cell_type": "markdown",
   "metadata": {},
   "source": [
    "## Example: 2 qutrits\n",
    "\n",
    "2 qutrits can be divided into Bosonic subspace (dimension of 6) and Fermionic subspace (dimension of 3). Below, we generate a random density matrix that is symmetric under the permutation group $S_2$."
   ]
  },
  {
   "cell_type": "code",
   "execution_count": null,
   "metadata": {},
   "outputs": [],
   "source": [
    "dim = 3\n",
    "rho = numqi.random.rand_ABk_density_matrix(dimA=1, dimB=dim, kext=2)\n",
    "print('density matrix shape:', rho.shape)"
   ]
  },
  {
   "cell_type": "markdown",
   "metadata": {},
   "source": [
    "Let's verify it's symmetric under permutation group $S_2$."
   ]
  },
  {
   "cell_type": "code",
   "execution_count": null,
   "metadata": {},
   "outputs": [],
   "source": [
    "rho_perm = rho.reshape(3, 3, 3, 3).transpose(1,0,3,2).reshape(9,9)\n",
    "print('error:', np.abs(rho-rho_perm).max())"
   ]
  },
  {
   "cell_type": "markdown",
   "metadata": {},
   "source": [
    "Then, let's put the density matrix into the irrep basis."
   ]
  },
  {
   "cell_type": "code",
   "execution_count": null,
   "metadata": {},
   "outputs": [],
   "source": [
    "basis_list = numqi.group.symext.get_sud_symmetric_irrep_basis(dim, kext=2)\n",
    "basis_list = [y for x in basis_list for y in x] #different young tableaux\n",
    "for ind0,basis in enumerate(basis_list):\n",
    "    print(f'irrep-basis({ind0}), shape={basis.shape}')\n",
    "\n",
    "# all irrep-basis make a complete basis (unitary matrix)\n",
    "unitary = np.concatenate(basis_list, axis=0)\n",
    "assert np.abs(unitary @ unitary.T.conj() - np.eye(9)).max() < 1e-10\n",
    "\n",
    "rho_irrep = unitary.conj() @ rho @ unitary.T\n",
    "rho_irrep[np.abs(rho_irrep)<1e-13] = 0 #remove items with abs value less than 1e-10\n",
    "fig,ax = plt.subplots()\n",
    "_ = ax.spy(np.abs(rho_irrep))"
   ]
  },
  {
   "cell_type": "markdown",
   "metadata": {},
   "source": [
    "Above, white area means 0 element in the matrix, and nonzero elements are in black. The matrix is block-diagonalized by the permutation group."
   ]
  },
  {
   "cell_type": "markdown",
   "metadata": {},
   "source": [
    "## Example: 3 qutrits\n",
    "\n",
    "3 qutrits can be divided into Bosonic subspace (dimension of 10), Fermionic basic (dimension of 1), and mixed subspace (dimension of 8) of multiplicity 2.\n",
    "\n",
    "$$ 27 = 3^3 = 1\\times 10 + 2\\times 8 + 1\\times 1 $$\n",
    "\n",
    "Let's repeat the same procedure for 3 qutrits."
   ]
  },
  {
   "cell_type": "code",
   "execution_count": null,
   "metadata": {},
   "outputs": [],
   "source": [
    "dim = 3\n",
    "rho = numqi.random.rand_ABk_density_matrix(dimA=1, dimB=dim, kext=3)\n",
    "\n",
    "basis_list = numqi.group.symext.get_sud_symmetric_irrep_basis(dim, kext=3)\n",
    "basis_list = [y for x in basis_list for y in x] #different young tableaux\n",
    "for ind0,basis in enumerate(basis_list):\n",
    "    print(f'irrep-basis({ind0}), shape={basis.shape}')\n",
    "\n",
    "unitary = np.concatenate(basis_list, axis=0)\n",
    "rho_irrep = unitary.conj() @ rho @ unitary.T\n",
    "rho_irrep[np.abs(rho_irrep)<1e-13] = 0 #remove items with abs value less than 1e-10\n",
    "fig,ax = plt.subplots()\n",
    "_ = ax.spy(np.abs(rho_irrep))"
   ]
  },
  {
   "cell_type": "markdown",
   "metadata": {},
   "source": [
    "As 2 qutrits example, in the symmetric basis, the density matrix is block-diagonalized by the permutation group $S_3$. What's new is that those two $8\\times 8$ blocks are exactly the same, corresoinding to the same Young diagram but different Young tableaux."
   ]
  },
  {
   "cell_type": "code",
   "execution_count": null,
   "metadata": {},
   "outputs": [],
   "source": [
    "block1 = rho_irrep[10:18,10:18]\n",
    "block2 = rho_irrep[18:26,18:26]\n",
    "diff = block1 - block2\n",
    "diff[np.abs(diff)<1e-13] = 0\n",
    "\n",
    "fig,(ax0,ax1,ax2) = plt.subplots(1,3,figsize=(9,4))\n",
    "ax0.spy(np.abs(block1))\n",
    "ax1.spy(np.abs(block2))\n",
    "ax2.spy(np.abs(diff))\n",
    "ax0.set_title('1st 8x8 block')\n",
    "ax1.set_title('2nd 8x8 block')\n",
    "_ = ax2.set_title('difference')"
   ]
  },
  {
   "cell_type": "markdown",
   "metadata": {},
   "source": [
    "As shown in the third figure, their difference has only zero elements which means these two $8\\times 8$ blocks are exactly the same."
   ]
  },
  {
   "cell_type": "markdown",
   "metadata": {},
   "source": [
    "## Symmetric extension with irrep\n",
    "\n",
    "When we considering the symmetric extension of the density matrix, we can use the irrep basis to simplify the problem. More importantly, we no need to store the irrep basis explicitly, instead, we only need the following 4-dimensional tensor:\n",
    "\n",
    "$$ B_{\\alpha\\beta,rs} = \\langle r | \\mathrm{Tr}_{B^{k-1}} [|\\alpha\\rangle\\langle \\beta|] |s\\rangle $$\n",
    "\n",
    "where $|\\alpha\\rangle,|\\beta\\rangle$ are the basis of the irrep, and $|r\\rangle,|s\\rangle$ are the basis of the subsystem $B$. Below, we show this tensor for 2 qutrits."
   ]
  },
  {
   "cell_type": "code",
   "execution_count": null,
   "metadata": {},
   "outputs": [],
   "source": [
    "coeff_list,multiplicity_list = numqi.group.symext.get_symmetric_extension_irrep_coeff(dim=3, kext=2)\n",
    "for ind0,coeff in enumerate(coeff_list):\n",
    "    tmp0 = len(np.nonzero(np.abs(coeff)>1e-10)[0])\n",
    "    print(f'irrep({ind0}), shape={coeff.shape}, #nonzero={tmp0}')\n",
    "    numqi.group.symext.print_symmetric_extension_irrep_coeff(coeff)\n",
    "    print()\n"
   ]
  },
  {
   "cell_type": "markdown",
   "metadata": {},
   "source": [
    "## Time benchmark\n",
    "\n",
    "Making use this tensor, we can reduce the problem to a semidefinite program (SDP) with a small number of variables. As an application, we can solve symmetric extension which is an important criteria to detect entanglement in quantum information theory (see `numqi.entangle` tutorials for more information). Below, we show the time benchmark for the Werner state.\n",
    "\n",
    "Werner state boundary $\\frac{k+d^2-d}{kd^2+d-1}$, the absolute error is within $10^{-8}$ using MOSEK solver ($10^{-4}$ if SCS solver is used)."
   ]
  },
  {
   "cell_type": "code",
   "execution_count": null,
   "metadata": {},
   "outputs": [],
   "source": [
    "# the solver used to build github-pages is SCS, not MOSEK (not free)\n",
    "case_dict = {\n",
    "    2: [6,8,10,16],\n",
    "    3: [2,3],\n",
    "}\n",
    "\n",
    "for dim,kext_list in case_dict.items():\n",
    "    dm_werner = numqi.state.Werner(dim, alpha=1)\n",
    "    dm_norm = numqi.gellmann.dm_to_gellmann_norm(dm_werner)\n",
    "    for kext in kext_list:\n",
    "        _ = numqi.group.symext.get_symmetric_extension_irrep_coeff(dim, kext) #build cache\n",
    "        t0 = time.time()\n",
    "        beta = numqi.entangle.symext.get_ABk_symmetric_extension_boundary(dm_werner, (dim,dim), kext, use_boson=False)\n",
    "        alpha_irrep = (beta/dm_norm)*dim/(beta/dm_norm+dim-1)\n",
    "        alpha_analytical = (kext+dim*dim-dim)/(kext*dim+dim-1)\n",
    "        tmp0 = time.time() - t0\n",
    "        print(f'[d={dim},kext={kext}][{tmp0:.3f}s] alpha={alpha_irrep:.6f}, abs(error)={abs(alpha_analytical-alpha_irrep):.5g}')\n"
   ]
  },
  {
   "cell_type": "markdown",
   "metadata": {},
   "source": [
    "| $(d,k)$| QETLAB time (s)| irrep time (s) | $\\alpha$ |\n",
    "| :-: | :-: | :-: | :-: |\n",
    "| $(2,6)$ | 0.14 | 0.10 | 0.615 |\n",
    "| $(2,8)$ | 0.19 | 0.16 | 0.588 |\n",
    "| $(2,10)$ | 12.60 | 0.16 | 0.571 |\n",
    "| $(2,16)$ | NA | 0.32 | 0.545 |\n",
    "| $(2,32)$ | NA | 3.18 | 0.523 |\n",
    "| $(2,64)$ | NA | 51.96 | 0.512 |\n",
    "| $(3,3)$ | 0.62 | 0.51 | 0.818 |\n",
    "| $(3,4)$ | 7.96 | 2.38 | 0.714 |\n",
    "| $(3,5)$ | NA | 11.56 | 0.647 |\n",
    "| $(3,6)$ | NA | 55.60 | 0.6 |\n",
    "\n",
    "1. computer spec\n",
    "   * AMD R7-5800H, 16 cpu (hyperthreaded), 16GB memory\n",
    "   * momery is the bottleneck, time may be slightly overestimated\n",
    "2. QETLAB time: kext SDP from QETLAB\n",
    "    * cvx solver for MATLAB\n",
    "    * the matlab script to record time is stored in `project/ws_irrep/demo_qetlab_time.m`\n",
    "3. irrep time: SDP with irreducible representation [doi-link](https://doi.org/10.3390/e25101425)\n",
    "    * python/cvxpy with MOSEK solver, should be comparable to cvx\n"
   ]
  },
  {
   "cell_type": "markdown",
   "metadata": {},
   "source": [
    "## Counting parameters"
   ]
  },
  {
   "cell_type": "code",
   "execution_count": null,
   "metadata": {},
   "outputs": [],
   "source": [
    "dim = 3\n",
    "kext_list = [3] #[3,4,5,6] #too time-consuming for github-pages\n",
    "for kext in kext_list:\n",
    "    coeff_list,multiplicity_list = numqi.group.symext.get_symmetric_extension_irrep_coeff(dim, kext) #build cache\n",
    "    dim_list = [x.shape[0] for x in coeff_list]\n",
    "    assert sum(x*y for x,y in zip(dim_list,multiplicity_list))==dim**kext\n",
    "    tmp0 = ' + '.join([f'{x}x{y}' for x,y in zip(dim_list,multiplicity_list)])\n",
    "    num_parameter = sum(x*x for x in dim_list)\n",
    "    print(f'{dim}^{kext} = {tmp0}, #parameter={num_parameter}/{dim**(2*kext)}')\n"
   ]
  },
  {
   "cell_type": "markdown",
   "metadata": {},
   "source": [
    "Many-body systems $(B_1B_2\\cdots B_k)$ each of dimension $d$ with Permutation symmetry. $m_i$ is the multiplicity of the irrep $\\lambda_i$. $s_i$ is the dimension of the irrep $\\lambda_i$. $d^k$ is the dimension of the total Hilbert space. In the following table, the second column is the Young tableau of the irrep, and the third column $\\sum_i s_i^2$ counts the total number of parameters in the irrep basis. The last column $d^{2k}$ counts the total number of parameters in the full Hilbert space.\n",
    "\n",
    "| $(d,k)$ | $$d^k=\\sum_i m_i\\times s_i$$ | $$\\sum_i s_i^2$$ | $$d^{2k}$$ |\n",
    "| :-: | :-: | :-: | :-: |\n",
    "| $(3,3)$ | $$3^3 = 10\\times 1 + 8\\times 2 + 1\\times 1$$ | $165$ | $729$ |\n",
    "| $(3,4)$ | $$3^4 = 15\\times 1 + 15\\times 3 + 6\\times 2 + 3\\times 3$$ | $495$ | $6561$ |\n",
    "| $(3,5)$ | $$3^5 = 21\\times 1 + 24\\times 4 + 15\\times 5 + 6\\times 6 + 3\\times 5$$ | $1287$ | $59049$ |\n",
    "| $(3,6)$ | $$3^6 = 28\\times 1 + 35\\times 5 + 27\\times 9 + 10\\times 5 + 10\\times 10 + 8\\times 16 + 1\\times 5$$ | $3003$ | $531441$ |\n",
    "| $(4,3)$ | $$4^3 = 20\\times 1 + 20\\times 2 + 4\\times 1$$ | $816$ | $4096$ |\n",
    "| $(4,4)$ | $$4^4 = 35\\times 1 + 45\\times 3 + 20\\times 2 + 15\\times 3 + 1\\times 1$$ | $3876$ | $65536$ |\n",
    "| $(4,5)$ | $$4^5 = 56\\times 1 + 84\\times 4 + 60\\times 5 + 36\\times 6 + 20\\times 5 + 4\\times 4$$ | $15504$ | $1048576$ |\n"
   ]
  }
 ],
 "metadata": {
  "kernelspec": {
   "display_name": "Python 3",
   "language": "python",
   "name": "python3"
  },
  "language_info": {
   "codemirror_mode": {
    "name": "ipython",
    "version": 3
   },
   "file_extension": ".py",
   "mimetype": "text/x-python",
   "name": "python",
   "nbconvert_exporter": "python",
   "pygments_lexer": "ipython3",
   "version": "3.11.4"
  }
 },
 "nbformat": 4,
 "nbformat_minor": 2
}
