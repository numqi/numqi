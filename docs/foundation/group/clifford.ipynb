{
 "cells": [
  {
   "cell_type": "markdown",
   "metadata": {},
   "source": [
    "# Clifford group\n",
    "\n",
    "<a target=\"_blank\" href=\"https://colab.research.google.com/github/numqi/numqi/blob/main/docs/foundation/group/clifford.ipynb\">\n",
    "  <img src=\"https://colab.research.google.com/assets/colab-badge.svg\" alt=\"Open In Colab\"/>\n",
    "</a>\n",
    "\n",
    "This note explain how Clifford circuit can be simulated efficiently on classical computers.\n",
    "\n",
    "1. link\n",
    "    * [wiki/symplectic-group](https://en.wikipedia.org/wiki/Symplectic_group)\n",
    "    * How to efficiently select an arbitrary clifford group element [doi-link](https://doi.org/10.1063%2F1.4903507)\n",
    "    * 2004 Improved simulation of stabilizer circuits [doi-link](https://doi.org/10.1103/PhysRevA.70.052328)\n",
    "    * Stabilizer Codes and Quantum Error Correction [arxiv-link](https://arxiv.org/abs/quant-ph/9705052)\n",
    "    * Quantum Error Correction via Codes over GF(4) [arxiv-link](https://arxiv.org/abs/quant-ph/9608006)\n",
    "    * Fast simulation of stabilizer circuits using a graph state representation [arxiv-link](https://arxiv.org/abs/quant-ph/0504117)\n",
    "    * python-quaec [documentation](http://www.cgranade.com/python-quaec/index.html) [github-link](https://github.com/cgranade/python-quaec)\n",
    "    * [github/hongyehu/pyclifford](https://github.com/hongyehu/PyClifford)\n",
    "    * [github/abp](https://github.com/peteshadbolt/abp) Fast simulation of Clifford circuits\n",
    "    * quantumclifford.jl [documentation](https://quantumsavory.github.io/QuantumClifford.jl/stable/) [github-link](https://github.com/QuantumSavory/QuantumClifford.jl)\n",
    "    * the canonical name of Clifford group: Involutions on the the Barnes-Wall lattices and their fixed point sublattices [arxiv-link](https://arxiv.org/abs/math/0511084)\n",
    "    * the canonical name of Pauli group: extra special group with $p=2$ [wiki-link](https://en.wikipedia.org/wiki/Extra_special_group) the Heisenberg group over a finite field [stackexchange-link](https://quantumcomputing.stackexchange.com/q/26351)\n",
    "    * 6-qubit optimal Clifford circuits [doi-link](https://doi.org/10.1038/s41534-022-00583-7)\n",
    "2. notation\n",
    "    * $\\mathbb{F}_n$: finite field\n",
    "    * $\\mathbb{R}$: real field\n",
    "    * $\\mathbb{C}$: complex field\n",
    "    * $U(n)=\\lbrace x\\in\\mathbb{C}^{n\\times n}:x^\\dagger x=I_n \\rbrace$: unitary group\n",
    "    * $\\Lambda_n=\\sigma_x\\otimes I_n$\n"
   ]
  },
  {
   "cell_type": "code",
   "execution_count": null,
   "metadata": {},
   "outputs": [],
   "source": [
    "import numpy as np\n",
    "\n",
    "try:\n",
    "    import numqi\n",
    "except ImportError:\n",
    "    %pip install numqi\n",
    "    import numqi\n"
   ]
  },
  {
   "cell_type": "markdown",
   "metadata": {},
   "source": [
    "## Clifford group\n",
    "\n",
    "Previous notebook (TODO-link) discuss the Pauli groups $P_n$ ($4^{n+1}$ Pauli strings). The Clifford group $C_n$ are those matrices mapping Pauli groups to Pauli groups, i.e. $x\\cdot P_n\\cdot x^\\dagger=P_n$ for $U\\in C_n$. In other words, the Clifford group is the normalizer of the Pauli group in the unitary group $U(2^n)$.\n",
    "\n",
    "$$C_{n}=\\lbrace x\\in U\\left(2^{n}\\right):xP_{n}x^{\\dagger}=P_{n}\\rbrace /U\\left(1\\right)$$\n",
    "\n",
    "We quotient by $U(1)$ because the global phase is not observable.\n",
    "\n",
    "Some quick facts about the Clifford group:\n",
    "\n",
    "1. $C_n$ is a finite group.\n",
    "2. $P_n\\in C_n$: the Pauli group is a subset of the Clifford group.\n",
    "3. CNOT,S gate is in the Clifford group.\n",
    "\n",
    "Below, Let's check CNOT gate."
   ]
  },
  {
   "cell_type": "code",
   "execution_count": null,
   "metadata": {},
   "outputs": [],
   "source": [
    "# remove the sign factor (1,-1,i,-i) of Pauli group for easy print\n",
    "pauli_group_str = numqi.gate.get_pauli_group(2, kind='str')\n",
    "print('2-qubit Pauli group:', ' '.join(pauli_group_str))\n",
    "\n",
    "clifford = numqi.gate.CNOT\n",
    "for pauli_str in pauli_group_str:\n",
    "    tmp0 = clifford @ numqi.gate.PauliOperator.from_str(pauli_str).full_matrix @ clifford.T.conj()\n",
    "    pauli_str_after = numqi.gate.PauliOperator.from_full_matrix(tmp0).str_\n",
    "    print(f'{pauli_str}->{pauli_str_after}')\n"
   ]
  },
  {
   "cell_type": "markdown",
   "metadata": {},
   "source": [
    "## Group isomorphism\n",
    "\n",
    "Matrix representation of Clifford is not most efficient. Instead, we can use the symplectic representation like Pauli group discussed previously. There is a group isomorphism\n",
    "\n",
    "$$C_{n}\\cong\\mathbb{F}_{2}^{2n}\\times Sp\\left(2n,\\mathbb{F}_{2}\\right)$$\n",
    "\n",
    "where $Sp(2n,\\mathbb{F}_{2})$ is the symplectic group over finite field $\\mathbb{F}_2$.\n",
    "\n",
    "$$ Sp\\left(2n,\\mathbb{F}_{2}\\right)=\\lbrace x\\in\\mathbb{F}_{2}^{2n\\times 2n}:x\\Lambda_{n}x^{T}=\\Lambda_{n}\\rbrace $$\n",
    "\n",
    "Some quick facts about the symplectic group:\n",
    "\n",
    "1. $x\\in Sp\\left(2n,\\mathbb{F}_{2}\\right)\\Rightarrow x^{T}\\in Sp\\left(2n,\\mathbb{F}_{2}\\right)$\n",
    "2. $x,y\\in Sp\\left(2n,\\mathbb{F}_{2}\\right)\\Rightarrow xy\\in Sp\\left(2n,\\mathbb{F}_{2}\\right)$\n",
    "3. $x\\in Sp\\left(2n,\\mathbb{F}_{2}\\right)\\Rightarrow x^{-1}=\\Lambda_{n}x^{T}\\Lambda_{n}$\n",
    "4. order of the group\n",
    "\n",
    "    $$ \\left|Sp\\left(2n,\\mathbb{F}_{2}\\right)\\right|=\\prod_{i=1}^{n}(4^{i}-1)2^{2n-1} $$\n",
    "\n",
    "About the group isomorphism, denotes $x\\in C_n \\;\\mapsto\\; (r^{(x)}, S^{(x)})\\in \\mathbb{F}_{2}^{2n}\\times Sp\\left(2n,\\mathbb{F}_{2}\\right)$\n",
    "\n",
    "1. identity $I_{2^n}\\in C_n$ is mapped to  $0^{2n}\\times I_{2n}$\n",
    "2. inverse *TODO*\n",
    "3. multiplication: for any $x,y\\in C_n$ with their images $(r^{(x)}, S^{(x)})$ and $(r^{(y)}, S^{(y)})$. Let $z=y\\circ x$, then $z$'s image $(r^{(z)}, S^{(z)})$ is given by\n",
    "\n",
    "    $$ S_{ij}^{(z)}=\\sum_{k=1}^{2n}S_{ik}^{(y)}S_{kj}^{(x)} $$\n",
    "\n",
    "    $$ \\Delta_{\\alpha}=\\sum_{k=1}^{n}S_{k\\alpha}^{(x)}S_{k+n,\\alpha}^{(x)}+\\sum_{i=1}^{n}\\sum_{j=1}^{2n}S_{j\\alpha}^{(x)}S_{ij}^{(y)}S_{i+n,j}^{(y)}-\\sum_{k=1}^{n}S_{k\\alpha}^{(z)}S_{k+n,\\alpha}^{(z)} $$\n",
    "\n",
    "    $$ r_{\\alpha}^{(z)}=r_{\\alpha}^{(x)}+\\sum_{i=1}^{2n}r_{i}^{(y)}S_{i\\alpha}^{(x)}+\\sum_{i=1}^{n}\\sum_{j=1}^{2n}\\sum_{k=j+1}^{2n}S_{j\\alpha}^{(x)}S_{k\\alpha}^{(x)}S_{i+n,j}^{(y)}S_{ik}^{(y)}+\\left\\lfloor \\frac{\\Delta\\%4}{2}\\right\\rfloor $$\n",
    "\n"
   ]
  },
  {
   "cell_type": "markdown",
   "metadata": {},
   "source": [
    "## Action of Clifford group on Pauli group\n",
    "\n",
    "Denote Clifford matrix $U\\in C_n$ with its symplectic form $(r,S)\\in \\mathbb{F}_{2}^{2n}\\times Sp\\left(2n,\\mathbb{F}_{2}\\right)$. For basis elements in the Pauli group (Pauli X and Pauli Z), the action of the Clifford group is given by\n",
    "\n",
    "$$ UX_{j}U^{\\dagger}=\\left(-1\\right)^{r_{j}}\\left(i\\right)^{\\sum_{k}S_{kj}S_{k+n,j}}\\prod_{k=1}^{n}X_{k}^{S_{kj}}Z_{k}^{S_{k+n,j}} $$\n",
    "\n",
    "$$ UZ_{j}U^{\\dagger}=\\left(-1\\right)^{r_{j+n}}\\left(i\\right)^{\\sum_{k}S_{k,j+n}S_{k+n,j+n}}\\prod_{k=1}^{n}X_{k}^{S_{k,j+n}}Z_{k}^{S_{k+n,j+n}} $$\n",
    "\n",
    "One should notice that the right side is the Symplectic form of the Pauli group. For a general element in Pauli group $x\\in P_n$,\n",
    "\n",
    "$$ x \\in P_{n},x=\\left(-1\\right)^{x_0}\\left(i\\right)^{x_{0}^{\\prime}}\\prod_{i=1}^{n}X_{i}^{x_{i}}Z_{i}^{x_{i+n}} $$\n",
    "\n",
    "the action of the Clifford group is given by\n",
    "\n",
    "$$ y=UxU^{\\dagger} =\\left(-1\\right)^{y_0}\\left(i\\right)^{y_{0}^{\\prime}}\\prod_{i=1}^{n}X_{i}^{y_{i}}Z_{i}^{y_{i+n}} $$\n",
    "\n",
    "where\n",
    "\n",
    "$$ \\Delta=x_{0}^{\\prime}+\\sum_{i=1}^{n}\\sum_{j=1}^{2n}x_{j}S_{ij}S_{i+n,j} $$\n",
    "\n",
    "$$ y_{0}=x_{0}+\\sum_{i=1}^{2n}x_{i}r_{i}+\\sum_{i=1}^{n}\\sum_{j=1}^{2n}\\sum_{k=j+1}^{2n}x_{j}x_{k}S_{i+n,j}S_{ik}+\\left\\lfloor \\frac{\\Delta\\%4}{2}\\right\\rfloor $$\n",
    "\n",
    "$$ y_{0}^{\\prime}=\\Delta\\%2 $$\n",
    "\n",
    "$$ y_{i}=\\sum_{j=1}^{2n}S_{ij}x_{j} $$\n",
    "\n",
    "Below are some examples\n",
    "\n",
    "$$ HXH=Z,HYH=-Y,HZH=X,H\\simeq 00\\times\\begin{bmatrix}0 & 1\\\\1 & 0\\end{bmatrix} $$\n",
    "\n",
    "$$ XXX=X,XYX=-Y,XZX=-Z,X\\simeq 01\\times\\begin{bmatrix}1 & 0\\\\0 & 1\\end{bmatrix} $$\n",
    "\n",
    "$$ YXY=-X,YYY=Y,YZY=-Z,Y\\simeq 11\\times\\begin{bmatrix}1 & 0\\\\0 & 1\\end{bmatrix} $$\n",
    "\n",
    "$$ ZXZ=-X,ZYZ=-Y,ZZZ=Z,Z\\simeq 01\\times\\begin{bmatrix}1 & 0\\\\0 & 1\\end{bmatrix} $$\n",
    "\n",
    "$$ SXS^\\dagger=Y,SYS^\\dagger=-X,SZS^\\dagger=Z,S\\simeq 00\\times\\begin{bmatrix}1 & 0\\\\1 & 1\\end{bmatrix} $$\n",
    "\n",
    "$$ \\mathrm{CNOT}\\simeq 0000\\times\\begin{bmatrix}1&0&0&0\\\\ 1&1&0&0\\\\0&0&1&1\\\\0&0&0&1\\end{bmatrix} $$\n",
    "\n",
    "`numqi.sim.Clifford` provides some utilities to convert between matrix representation and symplectic representation."
   ]
  },
  {
   "cell_type": "code",
   "execution_count": null,
   "metadata": {},
   "outputs": [],
   "source": [
    "gate_dict = {\n",
    "    'Hadamard': numqi.gate.H,\n",
    "    'PauliX': numqi.gate.X,\n",
    "    'S': numqi.gate.S,\n",
    "    'CNOT': numqi.gate.CNOT,\n",
    "}\n",
    "for name,matrix in gate_dict.items():\n",
    "    cli_r,cli_S = numqi.sim.clifford.clifford_array_to_F2(matrix)\n",
    "    print(name, cli_r, cli_S, sep='\\n')\n",
    "    print()\n"
   ]
  },
  {
   "cell_type": "markdown",
   "metadata": {},
   "source": [
    "And we can verify the action of the Clifford group on Pauli group in Symlectic representation."
   ]
  },
  {
   "cell_type": "code",
   "execution_count": null,
   "metadata": {},
   "outputs": [],
   "source": [
    "clifford = numqi.gate.CNOT\n",
    "tmp0 = numqi.gate.get_pauli_group(2, kind='str')\n",
    "pauli = np.random.default_rng().choice(tmp0, 1)[0] #randomly choose a Pauli operator\n",
    "print('pauli:', pauli)\n",
    "\n",
    "# calculation via matrix form\n",
    "result_matrix = clifford @ numqi.gate.PauliOperator.from_str(pauli).full_matrix @ clifford.T.conj()\n",
    "print('result_matrix:', result_matrix, sep='\\n')\n",
    "\n",
    "# calculation via symplectic form\n",
    "pauli_F2 = numqi.gate.PauliOperator.from_str(pauli).F2\n",
    "cli_r,cli_S = numqi.sim.clifford.clifford_array_to_F2(clifford)\n",
    "result_F2 = numqi.sim.clifford.apply_clifford_on_pauli(pauli_F2, cli_r, cli_S)\n",
    "print('result_F2:', result_F2)\n",
    "result_F2_matrix = numqi.gate.PauliOperator.from_F2(result_F2).full_matrix\n",
    "print('result_F2_matrix:', result_F2_matrix, sep='\\n')"
   ]
  },
  {
   "cell_type": "markdown",
   "metadata": {},
   "source": [
    "The advantages of Symplectic representation are that quantum circuits with hundreds of qubits can be simulated efficiently on classical computers (the cost is that: only those circuits with Clifford gates). The following operation can be finished in less than seconds (TODO Clifford circuit)"
   ]
  },
  {
   "cell_type": "code",
   "execution_count": null,
   "metadata": {},
   "outputs": [],
   "source": [
    "num_qubit = 100\n",
    "pauli_input = numqi.random.rand_pauli(num_qubit).F2\n",
    "print('input:', numqi.gate.PauliOperator.from_F2(pauli_input).str_)\n",
    "\n",
    "cli_r,cli_S = numqi.random.rand_Clifford_group(num_qubit)\n",
    "pauli_output = numqi.sim.clifford.apply_clifford_on_pauli(pauli_input, cli_r, cli_S)\n",
    "print('output:', numqi.gate.PauliOperator.from_F2(pauli_output).str_)\n"
   ]
  }
 ],
 "metadata": {
  "kernelspec": {
   "display_name": "Python 3",
   "language": "python",
   "name": "python3"
  },
  "language_info": {
   "codemirror_mode": {
    "name": "ipython",
    "version": 3
   },
   "file_extension": ".py",
   "mimetype": "text/x-python",
   "name": "python",
   "nbconvert_exporter": "python",
   "pygments_lexer": "ipython3",
   "version": "3.11.4"
  }
 },
 "nbformat": 4,
 "nbformat_minor": 2
}
