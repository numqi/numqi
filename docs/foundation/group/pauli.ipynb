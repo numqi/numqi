{
 "cells": [
  {
   "cell_type": "markdown",
   "metadata": {},
   "source": [
    "# Pauli group\n",
    "\n",
    "<a target=\"_blank\" href=\"https://colab.research.google.com/github/numqi/numqi/blob/main/docs/foundation/group/pauli.ipynb\">\n",
    "  <img src=\"https://colab.research.google.com/assets/colab-badge.svg\" alt=\"Open In Colab\"/>\n",
    "</a>\n",
    "\n",
    "The famous 1-qubit Pauli matrices are defined as\n",
    "\n",
    "$$ \\sigma_0=I=\\begin{bmatrix}1&0\\\\0&1\\end{bmatrix},\\quad\\sigma_1=\\sigma_x=X=\\begin{bmatrix}0&1\\\\1&0\\end{bmatrix},\\quad \\sigma_2=\\sigma_y=Y=\\begin{bmatrix}0&-i\\\\i&0\\end{bmatrix},\\quad \\sigma_3=\\sigma_z=Z=\\begin{bmatrix}1&0\\\\0&-1\\end{bmatrix} $$"
   ]
  },
  {
   "cell_type": "code",
   "execution_count": null,
   "metadata": {},
   "outputs": [],
   "source": [
    "import numpy as np\n",
    "try:\n",
    "    import numqi\n",
    "except ImportError:\n",
    "    %pip install numqi\n",
    "    import numqi\n",
    "\n",
    "np_rng = np.random.default_rng()\n"
   ]
  },
  {
   "cell_type": "markdown",
   "metadata": {},
   "source": [
    "Similarly, the $n$-qubit Pauli matrices are defined by tensor producting the 1-qubit Pauli matrices. Under the matrix multiplication, these matrices form a group, which is called Pauli group $P_n$.\n",
    "\n",
    "$$ P_{n}=\\lbrace e^{ij_{0}\\pi/2}\\sigma_{j_{1}}\\otimes\\cdots\\sigma_{j_{n}}:j_{k}\\in\\mathbb{F}_{4}\\rbrace =\\lbrace \\pm1,\\pm i\\rbrace \\otimes\\lbrace I,X,Y,Z\\rbrace ^{\\otimes n} $$\n",
    "\n",
    "Its canonical name is extra special group with $p=2$ [wiki-link](https://en.wikipedia.org/wiki/Extra_special_group) or the Heisenberg group over a finite field [stackexchange-link](https://quantumcomputing.stackexchange.com/q/26351). This group has $4^{n+1}$ elements.\n",
    "\n",
    "Group center $Z(P_n)=\\left\\{I,-I,iI,-iI\\right\\}$. $P/Z(P_n)$ is an Abelian group, no phase factor"
   ]
  },
  {
   "cell_type": "code",
   "execution_count": null,
   "metadata": {},
   "outputs": [],
   "source": [
    "num_qubit = 2\n",
    "\n",
    "pauli = numqi.random.rand_pauli(num_qubit)\n",
    "print(f'pauli_str: {pauli.str_}')\n",
    "print(f'pauli_sign: {pauli.sign}')\n",
    "print(f'pauli_np:\\n{pauli.full_matrix}')\n"
   ]
  },
  {
   "cell_type": "markdown",
   "metadata": {},
   "source": [
    "## group isomorphism\n",
    "\n",
    "There exists a one-to-one mapping $P_{n}\\cong \\mathbb{F}_{2}^{2n+2}$ (group isomorphism)\n",
    "\n",
    "$$ x \\in P_{n},x=\\left(-1\\right)^{x_0}\\left(i\\right)^{x_{0}^{\\prime}}\\prod_{i=1}^{n}X_{i}^{x_{i}}Z_{i}^{x_{i+n}}\\sim x_{\\mathbb{F}}=\\left(x_{0},x_{0}^{\\prime},x_{1},x_{2},x_{3},\\cdots,x_{2n}\\right) $$\n",
    "\n",
    "1. identity $I_n\\sim (0,0,\\cdots,0)\\in\\mathbb{F}^{2n+2}_2$\n",
    "2. commutation relation $x,y\\in P_{n}$\n",
    "\n",
    "    $$ xy=\\left(-1\\right)^{f\\left(x_{\\mathbb{F}},y_{\\mathbb{F}}\\right)}yx $$\n",
    "\n",
    "    $$ f\\left(x_{\\mathbb{F}},y_{\\mathbb{F}}\\right)=\\sum_{i=1}^{n}x_{i}y_{i+n}+x_{i+n}y_{i}\\simeq\\langle x_{\\mathbb{F}},y_{\\mathbb{F}}\\rangle $$\n",
    "\n",
    "3. inverse $x\\in P_{n},y=x^{-1}$\n",
    "\n",
    "    $$ y_{0}=x_{0}+x_{0}^{\\prime}+\\sum_{i=1}^{n}x_{i}x_{i+n},y_{0}^{\\prime}=x_{0}^{\\prime},y_{i}=x_{i} $$\n",
    "\n",
    "4. multiplication $x,y\\in P_n,z=xy$\n",
    "\n",
    "    $$ z_{0}=x_{0}+y_{0}+\\left\\lfloor \\frac{x_{0}^{\\prime}+y_{0}^{\\prime}}{2}\\right\\rfloor +\\sum_{i=1}^{n}x_{i}y_{i+n},z_{0}^{\\prime}=x_{0}^{\\prime}+y_{0}^{\\prime},z_{i}=x_{i}+y_{i} $$\n",
    "\n",
    "Example: $I=0000,X=0010,Y=0111,Z=0001$"
   ]
  },
  {
   "cell_type": "code",
   "execution_count": null,
   "metadata": {},
   "outputs": [],
   "source": [
    "for x in ['I', 'X', 'Y', 'Z']:\n",
    "    print(f'Pauli({x}):', numqi.gate.PauliOperator.from_str(x))\n",
    "\n",
    "print('random 3-qubit Pauli:', numqi.random.rand_pauli(3))\n"
   ]
  },
  {
   "cell_type": "markdown",
   "metadata": {},
   "source": [
    "Let's verify the matrix multiplication in $P_2$."
   ]
  },
  {
   "cell_type": "code",
   "execution_count": null,
   "metadata": {},
   "outputs": [],
   "source": [
    "pauli0 = numqi.random.rand_pauli(2)\n",
    "pauli1 = numqi.random.rand_pauli(2)\n",
    "pauli2 = pauli0 @ pauli1\n",
    "\n",
    "print(f'pauli0: {pauli0}\\n{pauli0.full_matrix}\\n')\n",
    "print(f'pauli1: {pauli1}\\n{pauli1.full_matrix}\\n')\n",
    "print(f'pauli2: {pauli2}\\n{pauli2.full_matrix}\\n')\n",
    "\n",
    "tmp0 = pauli0.full_matrix @ pauli1.full_matrix\n",
    "print(f'pauli0 @ pauli1:\\n{tmp0}\\n')\n"
   ]
  },
  {
   "cell_type": "markdown",
   "metadata": {},
   "source": [
    "Such a group isomorphism is useful when number of qubits is large. For example, the matrix representation of a $n$-qubit Pauli group element is $2^{n}\\times 2^{n}$, while the $\\mathbb{F}_2$ representation is only $2n+2$. So we can handle large number of qubits with the $\\mathbb{F}_2$ representation. Such advantage will be more obvious when we consider the Clifford circuit (see later tutorials)."
   ]
  },
  {
   "cell_type": "code",
   "execution_count": null,
   "metadata": {},
   "outputs": [],
   "source": [
    "num_qubit = 1000\n",
    "pauli0 = numqi.random.rand_pauli(num_qubit)\n",
    "pauli1 = numqi.random.rand_pauli(num_qubit)\n",
    "pauli2 = pauli0 @ pauli1\n",
    "print(pauli2.str_)\n"
   ]
  }
 ],
 "metadata": {
  "kernelspec": {
   "display_name": "Python 3",
   "language": "python",
   "name": "python3"
  },
  "language_info": {
   "codemirror_mode": {
    "name": "ipython",
    "version": 3
   },
   "file_extension": ".py",
   "mimetype": "text/x-python",
   "name": "python",
   "nbconvert_exporter": "python",
   "pygments_lexer": "ipython3",
   "version": "3.11.6"
  }
 },
 "nbformat": 4,
 "nbformat_minor": 2
}
